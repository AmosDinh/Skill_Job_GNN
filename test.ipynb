{
 "cells": [
  {
   "cell_type": "code",
   "execution_count": 2,
   "metadata": {},
   "outputs": [
    {
     "name": "stdout",
     "output_type": "stream",
     "text": [
      "final_jobs.csv\n",
      "Index(['TITLE', 'O*NET-SOC Code', 'ID'], dtype='object')\n",
      "final_people.csv\n",
      "Index(['EMP_TYP_ID', 'IS_ACTIVE_INFERRED', 'FULLTIME', 'DMN_ID', 'HIRE_DTE',\n",
      "       'STUD_ID'],\n",
      "      dtype='object')\n",
      "final_organizations.csv\n",
      "Index(['ORG_ID'], dtype='object')\n",
      "final_qualifications.csv\n",
      "Index(['NOTACTIVE', 'CREATE_DTE', 'QUAL_TYP_ID', 'DMN_ID', 'TITLE',\n",
      "       'TITLE_TRANSLATION_NEEDED', 'DESC_TRANSLATION_NEEDED', 'DESCRIPTION',\n",
      "       'REAL_ID', 'LEARNING_ITEM_ID', 'QUAL_ID'],\n",
      "      dtype='object')\n",
      "final_courses_and_programs.csv\n",
      "Index(['NOTACTIVE', 'REV_DTE', 'CREATE_DTE', 'TOTAL_RATING', 'AVG_RATING',\n",
      "       'CPNT_CLASSIFICATION', 'CPNT_TYP_ID', 'DMN_ID', 'CPNT_SRC_ID',\n",
      "       'CREDIT_HRS', 'THUMBNAIL_URI', 'TITLE', 'TITLE_TRANSLATION_NEEDED',\n",
      "       'DESC_TRANSLATION_NEEDED', 'DESCRIPTION', 'LEARNING_TYPE', 'REAL_ID',\n",
      "       'LEARNING_ITEM_ID'],\n",
      "      dtype='object')\n",
      "final_skills.csv\n",
      "Index(['SKILL'], dtype='object')\n"
     ]
    }
   ],
   "source": [
    "import pandas as pd\n",
    "\n",
    "dfs = [\n",
    "    'final_jobs.csv',\n",
    "    'final_people.csv',\n",
    "    'final_organizations.csv',\n",
    "    'final_qualifications.csv',\n",
    "    'final_courses_and_programs.csv',\n",
    "    'final_skills.csv'\n",
    "]\n",
    "parent_folder = ['final_dataset_courseprograms_joined']\n",
    "# print columns\n",
    "for df in dfs:\n",
    "    print(df)\n",
    "    df = pd.read_csv(parent_folder[0] + '/' + df)\n",
    "    print(df.columns)\n",
    "\n"
   ]
  },
  {
   "cell_type": "code",
   "execution_count": 36,
   "metadata": {},
   "outputs": [
    {
     "data": {
      "text/html": [
       "<div>\n",
       "<style scoped>\n",
       "    .dataframe tbody tr th:only-of-type {\n",
       "        vertical-align: middle;\n",
       "    }\n",
       "\n",
       "    .dataframe tbody tr th {\n",
       "        vertical-align: top;\n",
       "    }\n",
       "\n",
       "    .dataframe thead th {\n",
       "        text-align: right;\n",
       "    }\n",
       "</style>\n",
       "<table border=\"1\" class=\"dataframe\">\n",
       "  <thead>\n",
       "    <tr style=\"text-align: right;\">\n",
       "      <th></th>\n",
       "      <th>a</th>\n",
       "      <th>b</th>\n",
       "      <th>c</th>\n",
       "    </tr>\n",
       "  </thead>\n",
       "  <tbody>\n",
       "    <tr>\n",
       "      <th>0</th>\n",
       "      <td>[1, 2, 3]</td>\n",
       "      <td>12</td>\n",
       "      <td>13</td>\n",
       "    </tr>\n",
       "    <tr>\n",
       "      <th>1</th>\n",
       "      <td>[1, 2, 3]</td>\n",
       "      <td>14</td>\n",
       "      <td>15</td>\n",
       "    </tr>\n",
       "  </tbody>\n",
       "</table>\n",
       "</div>"
      ],
      "text/plain": [
       "           a   b   c\n",
       "0  [1, 2, 3]  12  13\n",
       "1  [1, 2, 3]  14  15"
      ]
     },
     "execution_count": 36,
     "metadata": {},
     "output_type": "execute_result"
    }
   ],
   "source": [
    "df = pd.DataFrame(data=[[[1,2,3],12,13], [[1,2,3],14,15]], columns = ['a','b','c'])\n",
    "df"
   ]
  },
  {
   "cell_type": "code",
   "execution_count": null,
   "metadata": {},
   "outputs": [],
   "source": [
    "# numpy remove dimensions\n",
    "import numpy as np\n",
    "a = np.array([[[1,2,3],[1,2,3]]])\n",
    "a.shape\n",
    "a = a.squeeze()\n"
   ]
  },
  {
   "cell_type": "code",
   "execution_count": 16,
   "metadata": {},
   "outputs": [
    {
     "ename": "TypeError",
     "evalue": "expected np.ndarray (got list)",
     "output_type": "error",
     "traceback": [
      "\u001b[0;31m---------------------------------------------------------------------------\u001b[0m",
      "\u001b[0;31mTypeError\u001b[0m                                 Traceback (most recent call last)",
      "\u001b[1;32m/home/amos/programming/create_graphds/test.ipynb Cell 4\u001b[0m line \u001b[0;36m2\n\u001b[1;32m      <a href='vscode-notebook-cell://wsl%2Bubuntu/home/amos/programming/create_graphds/test.ipynb#W2sdnNjb2RlLXJlbW90ZQ%3D%3D?line=0'>1</a>\u001b[0m \u001b[39mimport\u001b[39;00m \u001b[39mtorch\u001b[39;00m\n\u001b[0;32m----> <a href='vscode-notebook-cell://wsl%2Bubuntu/home/amos/programming/create_graphds/test.ipynb#W2sdnNjb2RlLXJlbW90ZQ%3D%3D?line=1'>2</a>\u001b[0m torch\u001b[39m.\u001b[39;49mfrom_numpy(df\u001b[39m.\u001b[39;49mto_numpy()\u001b[39m.\u001b[39;49mtolist())\n",
      "\u001b[0;31mTypeError\u001b[0m: expected np.ndarray (got list)"
     ]
    }
   ],
   "source": [
    "import torch\n",
    "torch.from_numpy(df.to_numpy().tolist())"
   ]
  },
  {
   "cell_type": "code",
   "execution_count": null,
   "metadata": {},
   "outputs": [],
   "source": []
  },
  {
   "cell_type": "code",
   "execution_count": 43,
   "metadata": {},
   "outputs": [
    {
     "name": "stdout",
     "output_type": "stream",
     "text": [
      "tensor([[12],\n",
      "        [14]]) a tensor([[1, 2, 3],\n",
      "        [1, 2, 3]])\n",
      "tensor([[13],\n",
      "        [15]]) a tensor([[ 1,  2,  3, 12],\n",
      "        [ 1,  2,  3, 14]])\n"
     ]
    },
    {
     "data": {
      "text/plain": [
       "tensor([[ 1,  2,  3, 12, 13],\n",
       "        [ 1,  2,  3, 14, 15]])"
      ]
     },
     "execution_count": 43,
     "metadata": {},
     "output_type": "execute_result"
    }
   ],
   "source": [
    "tensor_obj = None\n",
    "for col in df.columns:\n",
    "    if type(df[col].values[0]) == np.ndarray or type(df[col].values[0]) == list:\n",
    "        temp_obj = torch.tensor(df[col].to_numpy().tolist())\n",
    "    else:\n",
    "        temp_obj = torch.tensor(df[col].values).reshape(-1,1)\n",
    "        \n",
    "    if tensor_obj is None:\n",
    "        tensor_obj = temp_obj\n",
    "    else:\n",
    "        tensor_obj = torch.cat((tensor_obj, temp_obj), dim=1)\n",
    "\n",
    "tensor_obj"
   ]
  },
  {
   "cell_type": "code",
   "execution_count": 20,
   "metadata": {},
   "outputs": [
    {
     "ename": "ValueError",
     "evalue": "setting an array element with a sequence. The requested array has an inhomogeneous shape after 2 dimensions. The detected shape was (2, 3) + inhomogeneous part.",
     "output_type": "error",
     "traceback": [
      "\u001b[0;31m---------------------------------------------------------------------------\u001b[0m",
      "\u001b[0;31mValueError\u001b[0m                                Traceback (most recent call last)",
      "\u001b[1;32m/home/amos/programming/create_graphds/test.ipynb Cell 5\u001b[0m line \u001b[0;36m2\n\u001b[1;32m      <a href='vscode-notebook-cell://wsl%2Bubuntu/home/amos/programming/create_graphds/test.ipynb#W4sdnNjb2RlLXJlbW90ZQ%3D%3D?line=0'>1</a>\u001b[0m \u001b[39mimport\u001b[39;00m \u001b[39mnumpy\u001b[39;00m \u001b[39mas\u001b[39;00m \u001b[39mnp\u001b[39;00m \n\u001b[0;32m----> <a href='vscode-notebook-cell://wsl%2Bubuntu/home/amos/programming/create_graphds/test.ipynb#W4sdnNjb2RlLXJlbW90ZQ%3D%3D?line=1'>2</a>\u001b[0m np\u001b[39m.\u001b[39;49marray(df\u001b[39m.\u001b[39;49mto_numpy()\u001b[39m.\u001b[39;49mtolist())\n",
      "\u001b[0;31mValueError\u001b[0m: setting an array element with a sequence. The requested array has an inhomogeneous shape after 2 dimensions. The detected shape was (2, 3) + inhomogeneous part."
     ]
    }
   ],
   "source": [
    "import numpy as np \n",
    "np.array(df.to_numpy().tolist())"
   ]
  }
 ],
 "metadata": {
  "kernelspec": {
   "display_name": "pyg",
   "language": "python",
   "name": "python3"
  },
  "language_info": {
   "codemirror_mode": {
    "name": "ipython",
    "version": 3
   },
   "file_extension": ".py",
   "mimetype": "text/x-python",
   "name": "python",
   "nbconvert_exporter": "python",
   "pygments_lexer": "ipython3",
   "version": "3.10.12"
  }
 },
 "nbformat": 4,
 "nbformat_minor": 2
}
