{
 "cells": [
  {
   "cell_type": "code",
   "execution_count": 44,
   "metadata": {},
   "outputs": [],
   "source": [
    "from torch_geometric.utils import to_undirected\n",
    "from torch_sparse import SparseTensor\n",
    "\n",
    "def undirected_triangle_count(edge_index, max_num_nodes ):\n",
    "    ud = to_undirected(edge_index)\n",
    "    adj_matrix = SparseTensor(row=ud[0], col=ud[1], sparse_sizes=(max_num_nodes, max_num_nodes))\n",
    "    \n",
    "    adj_matrix.matmul(adj_matrix.matmul(adj_matrix))"
   ]
  },
  {
   "cell_type": "code",
   "execution_count": 2,
   "metadata": {},
   "outputs": [],
   "source": [
    "\n",
    "\n",
    "import torch\n",
    "\n",
    "# Example tensor E (replace this with your actual tensor)\n",
    "E = torch.tensor([[1, 0, 1],\n",
    "                  [0, 1, 0],\n",
    "                  [1, 0, 0]])\n",
    "\n",
    "# Example matrices A and B (replace these with your actual matrices)\n",
    "A = torch.tensor([[1, 2, 3],\n",
    "                  [4, 5, 6],\n",
    "                  [7, 8, 9]])\n",
    "\n",
    "B = torch.tensor([[10, 11, 12],\n",
    "                  [13, 14, 15],\n",
    "                  [16, 17, 18]])\n",
    "\n",
    "# Indices of non-zero elements of E\n",
    "indices_i, indices_j = E.nonzero().unbind(dim=1)\n",
    "\n",
    "# Select rows of A and columns of B using the indices from E\n",
    "A = A[indices_i]\n",
    "B = B[:, indices_j]\n",
    "\n",
    "# Calculate the values of C\n",
    "C = torch.sum(A * B.transpose(0, 1), dim=1)"
   ]
  },
  {
   "cell_type": "code",
   "execution_count": null,
   "metadata": {},
   "outputs": [],
   "source": []
  },
  {
   "cell_type": "code",
   "execution_count": 10,
   "metadata": {},
   "outputs": [
    {
     "data": {
      "text/plain": [
       "tensor([[0, 0],\n",
       "        [0, 2],\n",
       "        [1, 1],\n",
       "        [2, 0]])"
      ]
     },
     "execution_count": 10,
     "metadata": {},
     "output_type": "execute_result"
    }
   ],
   "source": [
    "E.nonzero()"
   ]
  },
  {
   "cell_type": "code",
   "execution_count": 6,
   "metadata": {},
   "outputs": [
    {
     "data": {
      "text/plain": [
       "tensor([0, 0, 1, 2])"
      ]
     },
     "execution_count": 6,
     "metadata": {},
     "output_type": "execute_result"
    }
   ],
   "source": [
    "indices_i"
   ]
  },
  {
   "cell_type": "code",
   "execution_count": 5,
   "metadata": {},
   "outputs": [
    {
     "data": {
      "text/plain": [
       "tensor([[10, 12, 11, 10],\n",
       "        [13, 15, 14, 13],\n",
       "        [16, 18, 17, 16]])"
      ]
     },
     "execution_count": 5,
     "metadata": {},
     "output_type": "execute_result"
    }
   ],
   "source": [
    "B"
   ]
  },
  {
   "cell_type": "code",
   "execution_count": 4,
   "metadata": {},
   "outputs": [
    {
     "data": {
      "text/plain": [
       "tensor([[10, 13, 16],\n",
       "        [12, 15, 18],\n",
       "        [11, 14, 17],\n",
       "        [10, 13, 16]])"
      ]
     },
     "execution_count": 4,
     "metadata": {},
     "output_type": "execute_result"
    }
   ],
   "source": [
    "B.transpose(0, 1)"
   ]
  },
  {
   "cell_type": "code",
   "execution_count": 3,
   "metadata": {},
   "outputs": [
    {
     "data": {
      "text/plain": [
       "tensor([ 84,  96, 216, 318])"
      ]
     },
     "execution_count": 3,
     "metadata": {},
     "output_type": "execute_result"
    }
   ],
   "source": [
    "C\n"
   ]
  },
  {
   "cell_type": "code",
   "execution_count": 107,
   "metadata": {},
   "outputs": [
    {
     "name": "stdout",
     "output_type": "stream",
     "text": [
      "tensor([[120785, 102679, 293561,  ..., 233174,  17795, 299874],\n",
      "        [204468, 254401, 169163,  ..., 244653,  92271, 189677]])\n"
     ]
    }
   ],
   "source": [
    "import torch\n",
    "\n",
    "# Define the range of numbers from 1 to X\n",
    "X = 303483  # Replace with your desired maximum value\n",
    "\n",
    "# Define the number of columns (N) in the 2xN tensor\n",
    "N = 1574932  # Replace with your desired number of columns\n",
    "\n",
    "# Create a random 2xN tensor with numbers from 1 to X\n",
    "random_tensor = torch.randint(0, X , (2, N))\n",
    "\n",
    "print(random_tensor)"
   ]
  },
  {
   "cell_type": "code",
   "execution_count": null,
   "metadata": {},
   "outputs": [],
   "source": [
    "\n"
   ]
  },
  {
   "cell_type": "code",
   "execution_count": 10,
   "metadata": {},
   "outputs": [],
   "source": [
    "undirected_triangle_count(random_tensor, X)"
   ]
  },
  {
   "cell_type": "code",
   "execution_count": null,
   "metadata": {},
   "outputs": [],
   "source": [
    "masked_select"
   ]
  },
  {
   "cell_type": "code",
   "execution_count": 49,
   "metadata": {},
   "outputs": [],
   "source": [
    "adj_matrix = SparseTensor(row=torch.tensor([0,1,2,3,4,5,6,7,8,9,10]), col=torch.tensor([0,1,2,3,4,5,6,7,8,9,10]), sparse_sizes=(11,11), value=torch.Tensor([1,2,3,4,5,6,7,8,9,10,11]))"
   ]
  },
  {
   "cell_type": "code",
   "execution_count": 50,
   "metadata": {},
   "outputs": [
    {
     "data": {
      "text/plain": [
       "tensor([[ 1.,  0.,  0.,  0.,  0.,  0.,  0.,  0.,  0.,  0.,  0.],\n",
       "        [ 0.,  2.,  0.,  0.,  0.,  0.,  0.,  0.,  0.,  0.,  0.],\n",
       "        [ 0.,  0.,  3.,  0.,  0.,  0.,  0.,  0.,  0.,  0.,  0.],\n",
       "        [ 0.,  0.,  0.,  4.,  0.,  0.,  0.,  0.,  0.,  0.,  0.],\n",
       "        [ 0.,  0.,  0.,  0.,  5.,  0.,  0.,  0.,  0.,  0.,  0.],\n",
       "        [ 0.,  0.,  0.,  0.,  0.,  6.,  0.,  0.,  0.,  0.,  0.],\n",
       "        [ 0.,  0.,  0.,  0.,  0.,  0.,  7.,  0.,  0.,  0.,  0.],\n",
       "        [ 0.,  0.,  0.,  0.,  0.,  0.,  0.,  8.,  0.,  0.,  0.],\n",
       "        [ 0.,  0.,  0.,  0.,  0.,  0.,  0.,  0.,  9.,  0.,  0.],\n",
       "        [ 0.,  0.,  0.,  0.,  0.,  0.,  0.,  0.,  0., 10.,  0.],\n",
       "        [ 0.,  0.,  0.,  0.,  0.,  0.,  0.,  0.,  0.,  0., 11.]])"
      ]
     },
     "execution_count": 50,
     "metadata": {},
     "output_type": "execute_result"
    }
   ],
   "source": [
    "adj_matrix.to_dense()"
   ]
  },
  {
   "cell_type": "code",
   "execution_count": 67,
   "metadata": {},
   "outputs": [
    {
     "ename": "AssertionError",
     "evalue": "",
     "output_type": "error",
     "traceback": [
      "\u001b[0;31m---------------------------------------------------------------------------\u001b[0m",
      "\u001b[0;31mAssertionError\u001b[0m                            Traceback (most recent call last)",
      "\u001b[1;32m/home/amos/programming/create_graphds/test_matrixmul.ipynb Cell 7\u001b[0m line \u001b[0;36m3\n\u001b[1;32m      <a href='vscode-notebook-cell://wsl%2Bubuntu/home/amos/programming/create_graphds/test_matrixmul.ipynb#X20sdnNjb2RlLXJlbW90ZQ%3D%3D?line=0'>1</a>\u001b[0m \u001b[39mfrom\u001b[39;00m \u001b[39mtorch_sparse\u001b[39;00m\u001b[39m.\u001b[39;00m\u001b[39mmasked_select\u001b[39;00m \u001b[39mimport\u001b[39;00m masked_select\n\u001b[0;32m----> <a href='vscode-notebook-cell://wsl%2Bubuntu/home/amos/programming/create_graphds/test_matrixmul.ipynb#X20sdnNjb2RlLXJlbW90ZQ%3D%3D?line=2'>3</a>\u001b[0m masked_select(adj_matrix, dim\u001b[39m=\u001b[39;49m\u001b[39m-\u001b[39;49m\u001b[39m1\u001b[39;49m, mask\u001b[39m=\u001b[39;49mtorch\u001b[39m.\u001b[39;49mtensor([[\u001b[39m1\u001b[39;49m],[\u001b[39m1\u001b[39;49m],[\u001b[39m1\u001b[39;49m],[\u001b[39m1\u001b[39;49m],[\u001b[39m1\u001b[39;49m],[\u001b[39m1\u001b[39;49m],[\u001b[39m1\u001b[39;49m],[\u001b[39m1\u001b[39;49m],[\u001b[39m1\u001b[39;49m],[\u001b[39m1\u001b[39;49m],[\u001b[39m0\u001b[39;49m]]))\u001b[39m.\u001b[39mto_dense()\n",
      "File \u001b[0;32m~/mambaforge/envs/pyg/lib/python3.11/site-packages/torch_sparse/masked_select.py:12\u001b[0m, in \u001b[0;36mmasked_select\u001b[0;34m(src, dim, mask)\u001b[0m\n\u001b[1;32m      8\u001b[0m \u001b[39mdef\u001b[39;00m \u001b[39mmasked_select\u001b[39m(src: SparseTensor, dim: \u001b[39mint\u001b[39m,\n\u001b[1;32m      9\u001b[0m                   mask: torch\u001b[39m.\u001b[39mTensor) \u001b[39m-\u001b[39m\u001b[39m>\u001b[39m SparseTensor:\n\u001b[1;32m     10\u001b[0m     dim \u001b[39m=\u001b[39m src\u001b[39m.\u001b[39mdim() \u001b[39m+\u001b[39m dim \u001b[39mif\u001b[39;00m dim \u001b[39m<\u001b[39m \u001b[39m0\u001b[39m \u001b[39melse\u001b[39;00m dim\n\u001b[0;32m---> 12\u001b[0m     \u001b[39massert\u001b[39;00m mask\u001b[39m.\u001b[39mdim() \u001b[39m==\u001b[39m \u001b[39m1\u001b[39m\n\u001b[1;32m     13\u001b[0m     storage \u001b[39m=\u001b[39m src\u001b[39m.\u001b[39mstorage\n\u001b[1;32m     15\u001b[0m     \u001b[39mif\u001b[39;00m dim \u001b[39m==\u001b[39m \u001b[39m0\u001b[39m:\n",
      "\u001b[0;31mAssertionError\u001b[0m: "
     ]
    }
   ],
   "source": [
    "from torch_sparse.masked_select import masked_select\n",
    "\n",
    "masked_select(adj_matrix, dim=-1, mask=torch.tensor([[1],[1],[1],[1],[1],[1],[1],[1],[1],[1],[0]])).to_dense()"
   ]
  },
  {
   "cell_type": "code",
   "execution_count": 108,
   "metadata": {},
   "outputs": [],
   "source": [
    "\n",
    "ud = to_undirected(random_tensor)\n",
    "adj_matrix = SparseTensor(row=ud[0], col=ud[1], sparse_sizes=(X, X))"
   ]
  },
  {
   "cell_type": "code",
   "execution_count": 80,
   "metadata": {},
   "outputs": [
    {
     "data": {
      "text/plain": [
       "torch.Size([4, 303483])"
      ]
     },
     "execution_count": 80,
     "metadata": {},
     "output_type": "execute_result"
    }
   ],
   "source": [
    "adj_matrix[:4].to_dense().shape"
   ]
  },
  {
   "cell_type": "code",
   "execution_count": 85,
   "metadata": {},
   "outputs": [
    {
     "data": {
      "text/plain": [
       "303483"
      ]
     },
     "execution_count": 85,
     "metadata": {},
     "output_type": "execute_result"
    }
   ],
   "source": []
  },
  {
   "cell_type": "code",
   "execution_count": 103,
   "metadata": {},
   "outputs": [
    {
     "data": {
      "text/plain": [
       "tensor([ 1.,  2.,  3.,  4.,  5.,  6.,  7.,  8.,  9., 10., 11.])"
      ]
     },
     "execution_count": 103,
     "metadata": {},
     "output_type": "execute_result"
    }
   ],
   "source": [
    "\n",
    "adj_matrix = SparseTensor(row=torch.tensor([0,1,2,3,4,5,6,7,8,9,10]), col=torch.tensor([0,1,2,3,4,5,6,7,8,9,10]), sparse_sizes=(11,11), value=torch.Tensor([1,2,3,4,5,6,7,8,9,10,11]))\n",
    "\n",
    "get_diag(adj_matrix)"
   ]
  },
  {
   "cell_type": "code",
   "execution_count": 115,
   "metadata": {},
   "outputs": [],
   "source": []
  },
  {
   "cell_type": "code",
   "execution_count": 133,
   "metadata": {},
   "outputs": [],
   "source": [
    "from torch_sparse import from_torch_sparse, to_torch_sparse"
   ]
  },
  {
   "cell_type": "code",
   "execution_count": null,
   "metadata": {},
   "outputs": [],
   "source": []
  },
  {
   "cell_type": "code",
   "execution_count": 143,
   "metadata": {},
   "outputs": [
    {
     "name": "stdout",
     "output_type": "stream",
     "text": [
      "SparseTensor(row=tensor([0, 0, 1, 1, 1, 2, 2, 2, 3, 3]),\n",
      "             col=tensor([1, 2, 0, 2, 3, 0, 1, 3, 1, 2]),\n",
      "             val=tensor([1., 1., 1., 1., 1., 1., 1., 1., 1., 1.]),\n",
      "             size=(4, 4), nnz=10, density=62.50%)\n"
     ]
    },
    {
     "name": "stderr",
     "output_type": "stream",
     "text": [
      "blockwise sparse matrix-multiplication: 100%|██████████| 1/1 [00:00<00:00, 974.29it/s]\n",
      "blockwise sparse matrix-multiplication: 100%|██████████| 1/1 [00:00<00:00, 1433.95it/s]\n",
      "get blockwise sparse matrix diagonal: 100%|██████████| 1/1 [00:00<00:00, 1662.43it/s]\n"
     ]
    },
    {
     "data": {
      "text/plain": [
       "tensor([2., 4., 4., 2.])"
      ]
     },
     "execution_count": 143,
     "metadata": {},
     "output_type": "execute_result"
    }
   ],
   "source": [
    "from torch_geometric.utils.sparse import dense_to_sparse, to_torch_sparse_tensor\n",
    "graph = torch.Tensor([[0, 1, 1, 0],\n",
    "         [1, 0, 1, 1],\n",
    "         [1, 1, 0, 1],\n",
    "         [0, 1, 1, 0]])\n",
    "\n",
    "s = SparseTensor.from_dense(graph)\n",
    "print(s)\n",
    "\n",
    "x = blockwise_sparse_square_mmul( s)\n",
    "x = blockwise_sparse_square_mmul( s, x)\n",
    "blockwise_sparse_get_diag(x)"
   ]
  },
  {
   "cell_type": "code",
   "execution_count": 142,
   "metadata": {},
   "outputs": [
    {
     "ename": "RuntimeError",
     "evalue": "\"sparse_matmul\" not implemented for 'Long'",
     "output_type": "error",
     "traceback": [
      "\u001b[0;31m---------------------------------------------------------------------------\u001b[0m",
      "\u001b[0;31mRuntimeError\u001b[0m                              Traceback (most recent call last)",
      "\u001b[1;32m/home/amos/programming/create_graphds/test_matrixmul.ipynb Cell 17\u001b[0m line \u001b[0;36m1\n\u001b[0;32m----> <a href='vscode-notebook-cell://wsl%2Bubuntu/home/amos/programming/create_graphds/test_matrixmul.ipynb#X40sdnNjb2RlLXJlbW90ZQ%3D%3D?line=0'>1</a>\u001b[0m SparseTensor\u001b[39m.\u001b[39;49mfrom_dense(graph)\u001b[39m.\u001b[39;49mspspmm(SparseTensor\u001b[39m.\u001b[39;49mfrom_dense(graph))\n",
      "File \u001b[0;32m~/mambaforge/envs/pyg/lib/python3.11/site-packages/torch_sparse/matmul.py:167\u001b[0m, in \u001b[0;36m<lambda>\u001b[0;34m(self, other, reduce)\u001b[0m\n\u001b[1;32m    163\u001b[0m     \u001b[39mraise\u001b[39;00m \u001b[39mValueError\u001b[39;00m\n\u001b[1;32m    166\u001b[0m SparseTensor\u001b[39m.\u001b[39mspmm \u001b[39m=\u001b[39m \u001b[39mlambda\u001b[39;00m \u001b[39mself\u001b[39m, other, reduce\u001b[39m=\u001b[39m\u001b[39m\"\u001b[39m\u001b[39msum\u001b[39m\u001b[39m\"\u001b[39m: spmm(\u001b[39mself\u001b[39m, other, reduce)\n\u001b[0;32m--> 167\u001b[0m SparseTensor\u001b[39m.\u001b[39mspspmm \u001b[39m=\u001b[39m \u001b[39mlambda\u001b[39;00m \u001b[39mself\u001b[39m, other, reduce\u001b[39m=\u001b[39m\u001b[39m\"\u001b[39m\u001b[39msum\u001b[39m\u001b[39m\"\u001b[39m: spspmm(\n\u001b[1;32m    168\u001b[0m     \u001b[39mself\u001b[39;49m, other, reduce)\n\u001b[1;32m    169\u001b[0m SparseTensor\u001b[39m.\u001b[39mmatmul \u001b[39m=\u001b[39m \u001b[39mlambda\u001b[39;00m \u001b[39mself\u001b[39m, other, reduce\u001b[39m=\u001b[39m\u001b[39m\"\u001b[39m\u001b[39msum\u001b[39m\u001b[39m\"\u001b[39m: matmul(\n\u001b[1;32m    170\u001b[0m     \u001b[39mself\u001b[39m, other, reduce)\n\u001b[1;32m    171\u001b[0m SparseTensor\u001b[39m.\u001b[39m\u001b[39m__matmul__\u001b[39m \u001b[39m=\u001b[39m \u001b[39mlambda\u001b[39;00m \u001b[39mself\u001b[39m, other: matmul(\u001b[39mself\u001b[39m, other, \u001b[39m'\u001b[39m\u001b[39msum\u001b[39m\u001b[39m'\u001b[39m)\n",
      "File \u001b[0;32m~/mambaforge/envs/pyg/lib/python3.11/site-packages/torch_sparse/matmul.py:122\u001b[0m, in \u001b[0;36mspspmm\u001b[0;34m(src, other, reduce)\u001b[0m\n\u001b[1;32m    118\u001b[0m \u001b[39mdef\u001b[39;00m \u001b[39mspspmm\u001b[39m(src: SparseTensor,\n\u001b[1;32m    119\u001b[0m            other: SparseTensor,\n\u001b[1;32m    120\u001b[0m            reduce: \u001b[39mstr\u001b[39m \u001b[39m=\u001b[39m \u001b[39m\"\u001b[39m\u001b[39msum\u001b[39m\u001b[39m\"\u001b[39m) \u001b[39m-\u001b[39m\u001b[39m>\u001b[39m SparseTensor:\n\u001b[1;32m    121\u001b[0m     \u001b[39mif\u001b[39;00m reduce \u001b[39m==\u001b[39m \u001b[39m'\u001b[39m\u001b[39msum\u001b[39m\u001b[39m'\u001b[39m \u001b[39mor\u001b[39;00m reduce \u001b[39m==\u001b[39m \u001b[39m'\u001b[39m\u001b[39madd\u001b[39m\u001b[39m'\u001b[39m:\n\u001b[0;32m--> 122\u001b[0m         \u001b[39mreturn\u001b[39;00m spspmm_sum(src, other)\n\u001b[1;32m    123\u001b[0m     \u001b[39melif\u001b[39;00m reduce \u001b[39m==\u001b[39m \u001b[39m'\u001b[39m\u001b[39mmean\u001b[39m\u001b[39m'\u001b[39m \u001b[39mor\u001b[39;00m reduce \u001b[39m==\u001b[39m \u001b[39m'\u001b[39m\u001b[39mmin\u001b[39m\u001b[39m'\u001b[39m \u001b[39mor\u001b[39;00m reduce \u001b[39m==\u001b[39m \u001b[39m'\u001b[39m\u001b[39mmax\u001b[39m\u001b[39m'\u001b[39m:\n\u001b[1;32m    124\u001b[0m         \u001b[39mraise\u001b[39;00m \u001b[39mNotImplementedError\u001b[39;00m\n",
      "File \u001b[0;32m~/mambaforge/envs/pyg/lib/python3.11/site-packages/torch_sparse/matmul.py:97\u001b[0m, in \u001b[0;36mspspmm_sum\u001b[0;34m(src, other)\u001b[0m\n\u001b[1;32m     95\u001b[0m A \u001b[39m=\u001b[39m src\u001b[39m.\u001b[39mto_torch_sparse_coo_tensor()\n\u001b[1;32m     96\u001b[0m B \u001b[39m=\u001b[39m other\u001b[39m.\u001b[39mto_torch_sparse_coo_tensor()\n\u001b[0;32m---> 97\u001b[0m C \u001b[39m=\u001b[39m torch\u001b[39m.\u001b[39;49msparse\u001b[39m.\u001b[39;49mmm(A, B)\n\u001b[1;32m     98\u001b[0m edge_index \u001b[39m=\u001b[39m C\u001b[39m.\u001b[39m_indices()\n\u001b[1;32m     99\u001b[0m row, col \u001b[39m=\u001b[39m edge_index[\u001b[39m0\u001b[39m], edge_index[\u001b[39m1\u001b[39m]\n",
      "\u001b[0;31mRuntimeError\u001b[0m: \"sparse_matmul\" not implemented for 'Long'"
     ]
    }
   ],
   "source": [
    "SparseTensor.from_dense(graph).spspmm(SparseTensor.from_dense(graph))"
   ]
  },
  {
   "cell_type": "code",
   "execution_count": 130,
   "metadata": {},
   "outputs": [
    {
     "ename": "SyntaxError",
     "evalue": "incomplete input (2370253991.py, line 1)",
     "output_type": "error",
     "traceback": [
      "\u001b[0;36m  Cell \u001b[0;32mIn[130], line 1\u001b[0;36m\u001b[0m\n\u001b[0;31m    SparseTensor(\u001b[0m\n\u001b[0m                 ^\u001b[0m\n\u001b[0;31mSyntaxError\u001b[0m\u001b[0;31m:\u001b[0m incomplete input\n"
     ]
    }
   ],
   "source": [
    "SparseTensor("
   ]
  },
  {
   "cell_type": "code",
   "execution_count": null,
   "metadata": {},
   "outputs": [],
   "source": []
  },
  {
   "cell_type": "code",
   "execution_count": 119,
   "metadata": {},
   "outputs": [
    {
     "name": "stderr",
     "output_type": "stream",
     "text": [
      "get blockwise sparse matrix diagonal: 100%|██████████| 31/31 [00:00<00:00, 400.65it/s]\n"
     ]
    },
    {
     "data": {
      "text/plain": [
       "tensor([1., 1., 1.,  ..., 0., 0., 0.])"
      ]
     },
     "execution_count": 119,
     "metadata": {},
     "output_type": "execute_result"
    }
   ],
   "source": [
    "blockwise_sparse_get_diag(a)"
   ]
  },
  {
   "cell_type": "code",
   "execution_count": 88,
   "metadata": {},
   "outputs": [
    {
     "data": {
      "text/plain": [
       "SparseTensor(row=tensor([     0,      0,      0,  ..., 303482, 303482, 303482]),\n",
       "             col=tensor([     0,   4506,   9851,  ..., 287480, 299152, 303482]),\n",
       "             size=(303483, 303483), nnz=32997613, density=0.04%)"
      ]
     },
     "execution_count": 88,
     "metadata": {},
     "output_type": "execute_result"
    }
   ],
   "source": [
    "result"
   ]
  },
  {
   "cell_type": "code",
   "execution_count": 13,
   "metadata": {},
   "outputs": [
    {
     "data": {
      "text/plain": [
       "torch_sparse.tensor.SparseTensor"
      ]
     },
     "execution_count": 13,
     "metadata": {},
     "output_type": "execute_result"
    }
   ],
   "source": [
    "type(adj_matrix)"
   ]
  },
  {
   "cell_type": "code",
   "execution_count": 17,
   "metadata": {},
   "outputs": [
    {
     "ename": "AttributeError",
     "evalue": "'SparseTensor' object has no attribute 'index'",
     "output_type": "error",
     "traceback": [
      "\u001b[0;31m---------------------------------------------------------------------------\u001b[0m",
      "\u001b[0;31mAttributeError\u001b[0m                            Traceback (most recent call last)",
      "\u001b[1;32m/home/amos/programming/create_graphds/test_matrixmul.ipynb Cell 6\u001b[0m line \u001b[0;36m1\n\u001b[0;32m----> <a href='vscode-notebook-cell://wsl%2Bubuntu/home/amos/programming/create_graphds/test_matrixmul.ipynb#X10sdnNjb2RlLXJlbW90ZQ%3D%3D?line=0'>1</a>\u001b[0m adj_matrix\u001b[39m.\u001b[39;49mindex\n",
      "\u001b[0;31mAttributeError\u001b[0m: 'SparseTensor' object has no attribute 'index'"
     ]
    }
   ],
   "source": [
    "adj_matrix"
   ]
  },
  {
   "cell_type": "code",
   "execution_count": 40,
   "metadata": {},
   "outputs": [
    {
     "name": "stdout",
     "output_type": "stream",
     "text": [
      "CPU times: user 3.63 s, sys: 63.6 ms, total: 3.69 s\n",
      "Wall time: 2.92 s\n"
     ]
    },
    {
     "data": {
      "text/plain": [
       "SparseTensor(row=tensor([     0,      0,      0,  ..., 999999, 999999, 999999]),\n",
       "             col=tensor([ 22733, 118365, 136800,  ..., 442477, 784702, 863399]),\n",
       "             size=(1000000, 1000000), nnz=10009131, density=0.00%)"
      ]
     },
     "execution_count": 40,
     "metadata": {},
     "output_type": "execute_result"
    }
   ],
   "source": [
    "%time adj_matrix.spspmm(adj_matrix.spspmm(adj_matrix))\n"
   ]
  },
  {
   "cell_type": "code",
   "execution_count": 41,
   "metadata": {},
   "outputs": [
    {
     "name": "stdout",
     "output_type": "stream",
     "text": [
      "CPU times: user 3.78 s, sys: 86.7 ms, total: 3.87 s\n",
      "Wall time: 3.04 s\n"
     ]
    },
    {
     "data": {
      "text/plain": [
       "SparseTensor(row=tensor([     0,      0,      0,  ..., 999999, 999999, 999999]),\n",
       "             col=tensor([ 22733, 118365, 136800,  ..., 442477, 784702, 863399]),\n",
       "             size=(1000000, 1000000), nnz=10009131, density=0.00%)"
      ]
     },
     "execution_count": 41,
     "metadata": {},
     "output_type": "execute_result"
    }
   ],
   "source": [
    "%time adj_matrix.matmul(adj_matrix.matmul(adj_matrix))"
   ]
  },
  {
   "cell_type": "code",
   "execution_count": null,
   "metadata": {},
   "outputs": [],
   "source": [
    "masked_select"
   ]
  },
  {
   "cell_type": "code",
   "execution_count": 18,
   "metadata": {},
   "outputs": [
    {
     "ename": "TypeError",
     "evalue": "spspmm() missing 5 required positional arguments: 'indexB', 'valueB', 'm', 'k', and 'n'",
     "output_type": "error",
     "traceback": [
      "\u001b[0;31m---------------------------------------------------------------------------\u001b[0m",
      "\u001b[0;31mTypeError\u001b[0m                                 Traceback (most recent call last)",
      "\u001b[1;32m/home/amos/programming/create_graphds/test_matrixmul.ipynb Cell 7\u001b[0m line \u001b[0;36m3\n\u001b[1;32m      <a href='vscode-notebook-cell://wsl%2Bubuntu/home/amos/programming/create_graphds/test_matrixmul.ipynb#W6sdnNjb2RlLXJlbW90ZQ%3D%3D?line=0'>1</a>\u001b[0m \u001b[39mfrom\u001b[39;00m \u001b[39mtorch_sparse\u001b[39;00m \u001b[39mimport\u001b[39;00m eye, masked_select, spspmm\n\u001b[0;32m----> <a href='vscode-notebook-cell://wsl%2Bubuntu/home/amos/programming/create_graphds/test_matrixmul.ipynb#W6sdnNjb2RlLXJlbW90ZQ%3D%3D?line=2'>3</a>\u001b[0m spspmm(adj_matrix,adj_matrix)\n",
      "\u001b[0;31mTypeError\u001b[0m: spspmm() missing 5 required positional arguments: 'indexB', 'valueB', 'm', 'k', and 'n'"
     ]
    }
   ],
   "source": [
    "from torch_sparse import eye, masked_select, spspmm\n",
    "\n",
    "spspmm(adj_matrix,adj_matrix)\n"
   ]
  }
 ],
 "metadata": {
  "kernelspec": {
   "display_name": "pyg",
   "language": "python",
   "name": "python3"
  },
  "language_info": {
   "codemirror_mode": {
    "name": "ipython",
    "version": 3
   },
   "file_extension": ".py",
   "mimetype": "text/x-python",
   "name": "python",
   "nbconvert_exporter": "python",
   "pygments_lexer": "ipython3",
   "version": "3.10.12"
  },
  "orig_nbformat": 4
 },
 "nbformat": 4,
 "nbformat_minor": 2
}
