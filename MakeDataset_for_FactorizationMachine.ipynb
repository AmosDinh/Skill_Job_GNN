{
 "cells": [
  {
   "cell_type": "code",
   "execution_count": 1,
   "metadata": {},
   "outputs": [
    {
     "name": "stderr",
     "output_type": "stream",
     "text": [
      "/home/amos/mambaforge/envs/pyg_torch21/lib/python3.10/site-packages/tqdm/auto.py:21: TqdmWarning: IProgress not found. Please update jupyter and ipywidgets. See https://ipywidgets.readthedocs.io/en/stable/user_install.html\n",
      "  from .autonotebook import tqdm as notebook_tqdm\n"
     ]
    }
   ],
   "source": [
    "# import pytroch geometric hetero data\n",
    "from torch_geometric.data import HeteroData\n",
    "import torch\n",
    "data = HeteroData.from_dict(torch.load('HeteroData_Learnings_normalized_triangles_withadditionaldata_v1.pt'))"
   ]
  },
  {
   "cell_type": "code",
   "execution_count": null,
   "metadata": {},
   "outputs": [],
   "source": []
  },
  {
   "cell_type": "code",
   "execution_count": 2,
   "metadata": {},
   "outputs": [
    {
     "data": {
      "text/plain": [
       "HeteroData(\n",
       "  courses_and_programs={\n",
       "    NOTACTIVE=[55796],\n",
       "    TITLE=[55796],\n",
       "    TITLE_TRANSLATION_NEEDED=[55796],\n",
       "    DESC_TRANSLATION_NEEDED=[55796],\n",
       "    DESCRIPTION=[55796],\n",
       "    x=[55796, 815],\n",
       "  },\n",
       "  qualifications={\n",
       "    NOTACTIVE=[1242],\n",
       "    TITLE=[1242],\n",
       "    TITLE_TRANSLATION_NEEDED=[1242],\n",
       "    DESC_TRANSLATION_NEEDED=[1242],\n",
       "    DESCRIPTION=[1242],\n",
       "    x=[1242, 786],\n",
       "  },\n",
       "  skills={\n",
       "    TITLE=[264052],\n",
       "    x=[264052, 775],\n",
       "  },\n",
       "  people={\n",
       "    IS_ACTIVE_INFERRED=[293444],\n",
       "    x=[293444, 25],\n",
       "  },\n",
       "  jobs={\n",
       "    TITLE=[55638],\n",
       "    x=[55638, 775],\n",
       "  },\n",
       "  organizations={\n",
       "    num_nodes=13613,\n",
       "    x=[13613, 3],\n",
       "  },\n",
       "  (skills, qualification_skill, qualifications)={ edge_index=[2, 1596] },\n",
       "  (skills, course_and_program_skill, courses_and_programs)={ edge_index=[2, 258099] },\n",
       "  (courses_and_programs, course_qualification, qualifications)={ edge_index=[2, 2099] },\n",
       "  (courses_and_programs, course_and_programs_student, people)={\n",
       "    edge_index=[2, 553454],\n",
       "    edge_attr=[553454, 3],\n",
       "  },\n",
       "  (jobs, job_student, people)={ edge_index=[2, 293444] },\n",
       "  (people, supervisor_supervisee, people)={ edge_index=[2, 217922] },\n",
       "  (people, organization_student, organizations)={ edge_index=[2, 292060] },\n",
       "  (jobs, job_job, jobs)={\n",
       "    edge_index=[2, 18384],\n",
       "    edge_attr=[18384, 1],\n",
       "  },\n",
       "  (skills, job_skill, jobs)={\n",
       "    edge_index=[2, 16289586],\n",
       "    edge_attr=[16289586, 1],\n",
       "  },\n",
       "  (jobs, broader_job_job, jobs)={ edge_index=[2, 54586] },\n",
       "  (skills, skill_skill, skills)={\n",
       "    edge_index=[2, 2259425],\n",
       "    edge_attr=[2259425, 1],\n",
       "  },\n",
       "  (qualifications, rev_qualification_skill, skills)={ edge_index=[2, 1596] },\n",
       "  (courses_and_programs, rev_course_and_program_skill, skills)={ edge_index=[2, 258099] },\n",
       "  (qualifications, rev_course_qualification, courses_and_programs)={ edge_index=[2, 2099] },\n",
       "  (people, rev_course_and_programs_student, courses_and_programs)={\n",
       "    edge_index=[2, 553454],\n",
       "    edge_attr=[553454, 3],\n",
       "  },\n",
       "  (people, rev_job_student, jobs)={ edge_index=[2, 293444] },\n",
       "  (people, rev_supervisor_supervisee, people)={ edge_index=[2, 217922] },\n",
       "  (organizations, rev_organization_student, people)={ edge_index=[2, 292060] },\n",
       "  (jobs, rev_job_job, jobs)={\n",
       "    edge_index=[2, 18384],\n",
       "    edge_attr=[18384, 1],\n",
       "  },\n",
       "  (jobs, rev_job_skill, skills)={\n",
       "    edge_index=[2, 16289586],\n",
       "    edge_attr=[16289586, 1],\n",
       "  },\n",
       "  (jobs, rev_broader_job_job, jobs)={ edge_index=[2, 54586] },\n",
       "  (skills, rev_skill_skill, skills)={\n",
       "    edge_index=[2, 2259425],\n",
       "    edge_attr=[2259425, 1],\n",
       "  }\n",
       ")"
      ]
     },
     "execution_count": 2,
     "metadata": {},
     "output_type": "execute_result"
    }
   ],
   "source": [
    "data"
   ]
  },
  {
   "cell_type": "code",
   "execution_count": null,
   "metadata": {},
   "outputs": [],
   "source": []
  }
 ],
 "metadata": {
  "kernelspec": {
   "display_name": "pyg_torch21",
   "language": "python",
   "name": "python3"
  },
  "language_info": {
   "codemirror_mode": {
    "name": "ipython",
    "version": 3
   },
   "file_extension": ".py",
   "mimetype": "text/x-python",
   "name": "python",
   "nbconvert_exporter": "python",
   "pygments_lexer": "ipython3",
   "version": "3.10.12"
  }
 },
 "nbformat": 4,
 "nbformat_minor": 2
}
