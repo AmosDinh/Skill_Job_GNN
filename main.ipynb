{
 "cells": [
  {
   "cell_type": "code",
   "execution_count": 252,
   "metadata": {},
   "outputs": [],
   "source": [
    "import pandas as pd\n",
    "from torch_geometric.data import HeteroData\n",
    "import torch\n",
    "import torch_geometric.transforms as T\n",
    "pd.set_option('display.max_rows', 50)"
   ]
  },
  {
   "cell_type": "code",
   "execution_count": 253,
   "metadata": {},
   "outputs": [],
   "source": [
    "# only use skill nodes which have normalized_name != NaN, this is some indication of quality skill (?)\n",
    "skill_nodes = pd.read_csv('fullgraphdata/neo4jgraph/skills.csv').dropna(subset=['normalized_name']).reset_index()\n",
    "job_nodes = pd.read_csv('fullgraphdata/neo4jgraph/onet_skills_unique.csv')\n",
    "\n",
    "# drop some skills \"or\"\n",
    "skill_nodes = skill_nodes.loc[~skill_nodes.skill.isin(['or','technology'])]"
   ]
  },
  {
   "cell_type": "code",
   "execution_count": 254,
   "metadata": {},
   "outputs": [
    {
     "data": {
      "text/plain": [
       "38692"
      ]
     },
     "execution_count": 254,
     "metadata": {},
     "output_type": "execute_result"
    }
   ],
   "source": [
    "# There are duplicate normalized names\n",
    "skill_nodes.shape[0]-skill_nodes.normalized_name.unique().shape[0]"
   ]
  },
  {
   "cell_type": "code",
   "execution_count": 255,
   "metadata": {},
   "outputs": [
    {
     "data": {
      "text/plain": [
       "2483"
      ]
     },
     "execution_count": 255,
     "metadata": {},
     "output_type": "execute_result"
    }
   ],
   "source": [
    "# There are not as many skill names which are duplicate\n",
    "skill_nodes.shape[0]-skill_nodes.skill.unique().shape[0]"
   ]
  },
  {
   "cell_type": "code",
   "execution_count": 256,
   "metadata": {},
   "outputs": [
    {
     "data": {
      "text/html": [
       "<div>\n",
       "<style scoped>\n",
       "    .dataframe tbody tr th:only-of-type {\n",
       "        vertical-align: middle;\n",
       "    }\n",
       "\n",
       "    .dataframe tbody tr th {\n",
       "        vertical-align: top;\n",
       "    }\n",
       "\n",
       "    .dataframe thead th {\n",
       "        text-align: right;\n",
       "    }\n",
       "</style>\n",
       "<table border=\"1\" class=\"dataframe\">\n",
       "  <thead>\n",
       "    <tr style=\"text-align: right;\">\n",
       "      <th></th>\n",
       "      <th>index</th>\n",
       "      <th>skill</th>\n",
       "      <th>category</th>\n",
       "      <th>normalized_name</th>\n",
       "    </tr>\n",
       "  </thead>\n",
       "  <tbody>\n",
       "    <tr>\n",
       "      <th>695</th>\n",
       "      <td>2229</td>\n",
       "      <td>communication</td>\n",
       "      <td>communication</td>\n",
       "      <td>Third-Party Provider Communication</td>\n",
       "    </tr>\n",
       "    <tr>\n",
       "      <th>1292</th>\n",
       "      <td>4059</td>\n",
       "      <td>communication</td>\n",
       "      <td>healthcare</td>\n",
       "      <td>Communication (Including SBAR)</td>\n",
       "    </tr>\n",
       "    <tr>\n",
       "      <th>4228</th>\n",
       "      <td>12919</td>\n",
       "      <td>communication</td>\n",
       "      <td>communication</td>\n",
       "      <td>Friendly Communication</td>\n",
       "    </tr>\n",
       "    <tr>\n",
       "      <th>5528</th>\n",
       "      <td>16927</td>\n",
       "      <td>communication</td>\n",
       "      <td>communication</td>\n",
       "      <td>radio/telephone communication</td>\n",
       "    </tr>\n",
       "    <tr>\n",
       "      <th>6311</th>\n",
       "      <td>19452</td>\n",
       "      <td>communication</td>\n",
       "      <td>communication</td>\n",
       "      <td>communication (phone and email)</td>\n",
       "    </tr>\n",
       "    <tr>\n",
       "      <th>...</th>\n",
       "      <td>...</td>\n",
       "      <td>...</td>\n",
       "      <td>...</td>\n",
       "      <td>...</td>\n",
       "    </tr>\n",
       "    <tr>\n",
       "      <th>223829</th>\n",
       "      <td>759817</td>\n",
       "      <td>communication</td>\n",
       "      <td>communication</td>\n",
       "      <td>Calling/Applying</td>\n",
       "    </tr>\n",
       "    <tr>\n",
       "      <th>224556</th>\n",
       "      <td>762531</td>\n",
       "      <td>communication</td>\n",
       "      <td>communication</td>\n",
       "      <td>Communication</td>\n",
       "    </tr>\n",
       "    <tr>\n",
       "      <th>238581</th>\n",
       "      <td>818822</td>\n",
       "      <td>communication</td>\n",
       "      <td>communication</td>\n",
       "      <td>Email/Phone Communication</td>\n",
       "    </tr>\n",
       "    <tr>\n",
       "      <th>245411</th>\n",
       "      <td>848577</td>\n",
       "      <td>communication</td>\n",
       "      <td>soft skills</td>\n",
       "      <td>Communication (Phone/Face-to-Face)</td>\n",
       "    </tr>\n",
       "    <tr>\n",
       "      <th>247267</th>\n",
       "      <td>857407</td>\n",
       "      <td>communication</td>\n",
       "      <td>healthcare</td>\n",
       "      <td>Communication (Speech and Hearing)</td>\n",
       "    </tr>\n",
       "  </tbody>\n",
       "</table>\n",
       "<p>76 rows × 4 columns</p>\n",
       "</div>"
      ],
      "text/plain": [
       "         index          skill       category  \\\n",
       "695       2229  communication  communication   \n",
       "1292      4059  communication     healthcare   \n",
       "4228     12919  communication  communication   \n",
       "5528     16927  communication  communication   \n",
       "6311     19452  communication  communication   \n",
       "...        ...            ...            ...   \n",
       "223829  759817  communication  communication   \n",
       "224556  762531  communication  communication   \n",
       "238581  818822  communication  communication   \n",
       "245411  848577  communication    soft skills   \n",
       "247267  857407  communication     healthcare   \n",
       "\n",
       "                           normalized_name  \n",
       "695     Third-Party Provider Communication  \n",
       "1292        Communication (Including SBAR)  \n",
       "4228                Friendly Communication  \n",
       "5528         radio/telephone communication  \n",
       "6311       communication (phone and email)  \n",
       "...                                    ...  \n",
       "223829                    Calling/Applying  \n",
       "224556                       Communication  \n",
       "238581           Email/Phone Communication  \n",
       "245411  Communication (Phone/Face-to-Face)  \n",
       "247267  Communication (Speech and Hearing)  \n",
       "\n",
       "[76 rows x 4 columns]"
      ]
     },
     "execution_count": 256,
     "metadata": {},
     "output_type": "execute_result"
    }
   ],
   "source": [
    "# we can not use normalized name instead of skill, because it is ambiguous, e.g. communication points to different normalized names\n",
    "skill_nodes.loc[skill_nodes.skill=='communication']"
   ]
  },
  {
   "cell_type": "code",
   "execution_count": 257,
   "metadata": {},
   "outputs": [],
   "source": [
    "skill_nodes.drop_duplicates(subset='skill', inplace=True)"
   ]
  },
  {
   "cell_type": "code",
   "execution_count": 258,
   "metadata": {},
   "outputs": [],
   "source": [
    "\n",
    "skill_job_edges = pd.read_csv('fullgraphdata/neo4jgraph/tfidf_skill_job_edge.csv')\n",
    "#skill_job_edges = skill_job_edges.loc[skill_job_edges.scaled_tfidf>8]\n",
    "# only use edges where we have the skill and job for from the other files\n",
    "skill_job_edges = skill_job_edges.loc[skill_job_edges['skill'].isin(skill_nodes['skill'])]\n",
    "skill_job_edges = skill_job_edges.loc[skill_job_edges['alt_title'].isin(job_nodes.index)]"
   ]
  },
  {
   "cell_type": "code",
   "execution_count": 259,
   "metadata": {},
   "outputs": [
    {
     "data": {
      "text/html": [
       "<div>\n",
       "<style scoped>\n",
       "    .dataframe tbody tr th:only-of-type {\n",
       "        vertical-align: middle;\n",
       "    }\n",
       "\n",
       "    .dataframe tbody tr th {\n",
       "        vertical-align: top;\n",
       "    }\n",
       "\n",
       "    .dataframe thead th {\n",
       "        text-align: right;\n",
       "    }\n",
       "</style>\n",
       "<table border=\"1\" class=\"dataframe\">\n",
       "  <thead>\n",
       "    <tr style=\"text-align: right;\">\n",
       "      <th></th>\n",
       "      <th>alt_title</th>\n",
       "      <th>skill</th>\n",
       "      <th>scaled_tfidf</th>\n",
       "      <th>n_jobdesc_used</th>\n",
       "    </tr>\n",
       "  </thead>\n",
       "  <tbody>\n",
       "    <tr>\n",
       "      <th>1</th>\n",
       "      <td>55010</td>\n",
       "      <td>design</td>\n",
       "      <td>9.887307</td>\n",
       "      <td>240</td>\n",
       "    </tr>\n",
       "    <tr>\n",
       "      <th>5</th>\n",
       "      <td>55010</td>\n",
       "      <td>cg</td>\n",
       "      <td>8.744163</td>\n",
       "      <td>240</td>\n",
       "    </tr>\n",
       "    <tr>\n",
       "      <th>10</th>\n",
       "      <td>55010</td>\n",
       "      <td>visual effects</td>\n",
       "      <td>6.299518</td>\n",
       "      <td>240</td>\n",
       "    </tr>\n",
       "    <tr>\n",
       "      <th>11</th>\n",
       "      <td>55010</td>\n",
       "      <td>software</td>\n",
       "      <td>5.288013</td>\n",
       "      <td>240</td>\n",
       "    </tr>\n",
       "    <tr>\n",
       "      <th>12</th>\n",
       "      <td>55010</td>\n",
       "      <td>unity</td>\n",
       "      <td>5.278638</td>\n",
       "      <td>240</td>\n",
       "    </tr>\n",
       "    <tr>\n",
       "      <th>...</th>\n",
       "      <td>...</td>\n",
       "      <td>...</td>\n",
       "      <td>...</td>\n",
       "      <td>...</td>\n",
       "    </tr>\n",
       "    <tr>\n",
       "      <th>7926039</th>\n",
       "      <td>15285</td>\n",
       "      <td>analysis</td>\n",
       "      <td>6.147100</td>\n",
       "      <td>1</td>\n",
       "    </tr>\n",
       "    <tr>\n",
       "      <th>7926040</th>\n",
       "      <td>15285</td>\n",
       "      <td>software</td>\n",
       "      <td>6.013723</td>\n",
       "      <td>1</td>\n",
       "    </tr>\n",
       "    <tr>\n",
       "      <th>7926041</th>\n",
       "      <td>15285</td>\n",
       "      <td>engineering</td>\n",
       "      <td>5.864380</td>\n",
       "      <td>1</td>\n",
       "    </tr>\n",
       "    <tr>\n",
       "      <th>7926050</th>\n",
       "      <td>15285</td>\n",
       "      <td>development</td>\n",
       "      <td>4.434249</td>\n",
       "      <td>1</td>\n",
       "    </tr>\n",
       "    <tr>\n",
       "      <th>7926055</th>\n",
       "      <td>15285</td>\n",
       "      <td>training</td>\n",
       "      <td>3.974054</td>\n",
       "      <td>1</td>\n",
       "    </tr>\n",
       "  </tbody>\n",
       "</table>\n",
       "<p>4069186 rows × 4 columns</p>\n",
       "</div>"
      ],
      "text/plain": [
       "         alt_title           skill  scaled_tfidf  n_jobdesc_used\n",
       "1            55010          design      9.887307             240\n",
       "5            55010              cg      8.744163             240\n",
       "10           55010  visual effects      6.299518             240\n",
       "11           55010        software      5.288013             240\n",
       "12           55010           unity      5.278638             240\n",
       "...            ...             ...           ...             ...\n",
       "7926039      15285        analysis      6.147100               1\n",
       "7926040      15285        software      6.013723               1\n",
       "7926041      15285     engineering      5.864380               1\n",
       "7926050      15285     development      4.434249               1\n",
       "7926055      15285        training      3.974054               1\n",
       "\n",
       "[4069186 rows x 4 columns]"
      ]
     },
     "execution_count": 259,
     "metadata": {},
     "output_type": "execute_result"
    }
   ],
   "source": [
    "skill_job_edges"
   ]
  },
  {
   "cell_type": "code",
   "execution_count": 260,
   "metadata": {},
   "outputs": [],
   "source": [
    "#for each alt title select the first 20 skill_job edges, ordered by tfidf\n",
    "skill_job_edges = skill_job_edges.groupby('alt_title').apply(lambda group: group.nlargest(20,'scaled_tfidf')).reset_index(drop=True)"
   ]
  },
  {
   "cell_type": "code",
   "execution_count": 261,
   "metadata": {},
   "outputs": [
    {
     "data": {
      "text/html": [
       "<div>\n",
       "<style scoped>\n",
       "    .dataframe tbody tr th:only-of-type {\n",
       "        vertical-align: middle;\n",
       "    }\n",
       "\n",
       "    .dataframe tbody tr th {\n",
       "        vertical-align: top;\n",
       "    }\n",
       "\n",
       "    .dataframe thead th {\n",
       "        text-align: right;\n",
       "    }\n",
       "</style>\n",
       "<table border=\"1\" class=\"dataframe\">\n",
       "  <thead>\n",
       "    <tr style=\"text-align: right;\">\n",
       "      <th></th>\n",
       "      <th>alt_title</th>\n",
       "      <th>skill</th>\n",
       "      <th>scaled_tfidf</th>\n",
       "      <th>n_jobdesc_used</th>\n",
       "    </tr>\n",
       "  </thead>\n",
       "  <tbody>\n",
       "    <tr>\n",
       "      <th>0</th>\n",
       "      <td>7</td>\n",
       "      <td>development</td>\n",
       "      <td>35.545516</td>\n",
       "      <td>1</td>\n",
       "    </tr>\n",
       "    <tr>\n",
       "      <th>1</th>\n",
       "      <td>7</td>\n",
       "      <td>physical work environment</td>\n",
       "      <td>14.444801</td>\n",
       "      <td>1</td>\n",
       "    </tr>\n",
       "    <tr>\n",
       "      <th>2</th>\n",
       "      <td>7</td>\n",
       "      <td>microsoft teams</td>\n",
       "      <td>13.682348</td>\n",
       "      <td>1</td>\n",
       "    </tr>\n",
       "    <tr>\n",
       "      <th>3</th>\n",
       "      <td>7</td>\n",
       "      <td>assessment process</td>\n",
       "      <td>11.763047</td>\n",
       "      <td>1</td>\n",
       "    </tr>\n",
       "    <tr>\n",
       "      <th>4</th>\n",
       "      <td>7</td>\n",
       "      <td>limited supervision</td>\n",
       "      <td>10.088181</td>\n",
       "      <td>1</td>\n",
       "    </tr>\n",
       "    <tr>\n",
       "      <th>...</th>\n",
       "      <td>...</td>\n",
       "      <td>...</td>\n",
       "      <td>...</td>\n",
       "      <td>...</td>\n",
       "    </tr>\n",
       "    <tr>\n",
       "      <th>282867</th>\n",
       "      <td>55652</td>\n",
       "      <td>communications</td>\n",
       "      <td>6.736089</td>\n",
       "      <td>7</td>\n",
       "    </tr>\n",
       "    <tr>\n",
       "      <th>282868</th>\n",
       "      <td>55652</td>\n",
       "      <td>systems</td>\n",
       "      <td>6.629133</td>\n",
       "      <td>7</td>\n",
       "    </tr>\n",
       "    <tr>\n",
       "      <th>282869</th>\n",
       "      <td>55652</td>\n",
       "      <td>driving</td>\n",
       "      <td>6.265465</td>\n",
       "      <td>7</td>\n",
       "    </tr>\n",
       "    <tr>\n",
       "      <th>282870</th>\n",
       "      <td>55652</td>\n",
       "      <td>highly specialized</td>\n",
       "      <td>5.501605</td>\n",
       "      <td>7</td>\n",
       "    </tr>\n",
       "    <tr>\n",
       "      <th>282871</th>\n",
       "      <td>55652</td>\n",
       "      <td>leadership</td>\n",
       "      <td>5.408052</td>\n",
       "      <td>7</td>\n",
       "    </tr>\n",
       "  </tbody>\n",
       "</table>\n",
       "<p>282872 rows × 4 columns</p>\n",
       "</div>"
      ],
      "text/plain": [
       "        alt_title                      skill  scaled_tfidf  n_jobdesc_used\n",
       "0               7                development     35.545516               1\n",
       "1               7  physical work environment     14.444801               1\n",
       "2               7            microsoft teams     13.682348               1\n",
       "3               7         assessment process     11.763047               1\n",
       "4               7        limited supervision     10.088181               1\n",
       "...           ...                        ...           ...             ...\n",
       "282867      55652             communications      6.736089               7\n",
       "282868      55652                    systems      6.629133               7\n",
       "282869      55652                    driving      6.265465               7\n",
       "282870      55652         highly specialized      5.501605               7\n",
       "282871      55652                 leadership      5.408052               7\n",
       "\n",
       "[282872 rows x 4 columns]"
      ]
     },
     "execution_count": 261,
     "metadata": {},
     "output_type": "execute_result"
    }
   ],
   "source": [
    "skill_job_edges"
   ]
  },
  {
   "cell_type": "code",
   "execution_count": 262,
   "metadata": {},
   "outputs": [],
   "source": [
    "skillmapping ={}\n",
    "for i,skill in enumerate(skill_job_edges.skill.unique()):\n",
    "    skillmapping[skill] =i\n",
    "    \n",
    "jobmapping ={}\n",
    "for i,title in enumerate(skill_job_edges.alt_title.unique()):\n",
    "    jobmapping[title] =i\n",
    "    \n",
    "inverted_skillmapping = {v:k for k,v in skillmapping.items()}\n",
    "inverted_jobmapping = {v:k for k,v in jobmapping.items()}"
   ]
  },
  {
   "cell_type": "code",
   "execution_count": 263,
   "metadata": {},
   "outputs": [],
   "source": [
    "skill_job_edges['skill_dst'] = skill_job_edges['skill'].apply(lambda x:skillmapping[x])\n",
    "skill_job_edges['job_src'] = skill_job_edges['alt_title'].apply(lambda x:jobmapping[x])"
   ]
  },
  {
   "cell_type": "code",
   "execution_count": 264,
   "metadata": {},
   "outputs": [],
   "source": [
    "onet_alttitles = pd.read_csv('fullgraphdata/neo4jgraph/onet_alt_titles_unique.csv')\n",
    "del onet_alttitles['Unnamed: 0']"
   ]
  },
  {
   "cell_type": "code",
   "execution_count": 265,
   "metadata": {},
   "outputs": [],
   "source": [
    "onet_alttitle_str_mapping = {}\n",
    "for i,row in onet_alttitles.iterrows():\n",
    "    onet_alttitle_str_mapping[row['index']] = row['Alternate Title']"
   ]
  },
  {
   "cell_type": "code",
   "execution_count": 266,
   "metadata": {},
   "outputs": [],
   "source": [
    "from sentence_transformers import SentenceTransformer, util\n",
    "embedder = SentenceTransformer('all-MiniLM-L6-v2')\n"
   ]
  },
  {
   "cell_type": "code",
   "execution_count": 267,
   "metadata": {},
   "outputs": [],
   "source": [
    "# create alttitle sbert embeddings\n",
    "\n",
    "temp = onet_alttitle_str_mapping.items()\n",
    "alttitle_sbert_embeddings = embedder.encode([v for k,v in temp], convert_to_tensor=False)\n",
    "alttitle_sbert_indices = [k for k,v in temp]\n",
    "#corpus_embeddings = util.normalize_embeddings(corpus_embeddings)"
   ]
  },
  {
   "cell_type": "code",
   "execution_count": 268,
   "metadata": {},
   "outputs": [
    {
     "data": {
      "text/plain": [
       "0.99999994"
      ]
     },
     "execution_count": 268,
     "metadata": {},
     "output_type": "execute_result"
    }
   ],
   "source": [
    "import numpy as np\n",
    "v = alttitle_sbert_embeddings[0]\n",
    "np.matmul(v.T,v)"
   ]
  },
  {
   "cell_type": "code",
   "execution_count": 269,
   "metadata": {},
   "outputs": [],
   "source": [
    "temp = skillmapping.items()\n",
    "skill_sbert_embeddings = embedder.encode([k for k,v in temp], convert_to_tensor=False)\n",
    "skill_sbert_indices = [v for k,v in temp]"
   ]
  },
  {
   "cell_type": "code",
   "execution_count": 270,
   "metadata": {},
   "outputs": [
    {
     "name": "stdout",
     "output_type": "stream",
     "text": [
      "Original: 384\n",
      "311  components retained 0.99  variance retained\n",
      "230  components retained 0.95  variance retained\n",
      "182  components retained 0.9  variance retained\n"
     ]
    },
    {
     "ename": "KeyboardInterrupt",
     "evalue": "",
     "output_type": "error",
     "traceback": [
      "\u001b[0;31m---------------------------------------------------------------------------\u001b[0m",
      "\u001b[0;31mKeyboardInterrupt\u001b[0m                         Traceback (most recent call last)",
      "\u001b[1;32m/home/amos/programming/create_graphds/main.ipynb Cell 19\u001b[0m line \u001b[0;36m7\n\u001b[1;32m      <a href='vscode-notebook-cell://wsl%2Bubuntu/home/amos/programming/create_graphds/main.ipynb#Y113sdnNjb2RlLXJlbW90ZQ%3D%3D?line=4'>5</a>\u001b[0m \u001b[39mfor\u001b[39;00m variance_retained \u001b[39min\u001b[39;00m [\u001b[39m0.99\u001b[39m,\u001b[39m0.95\u001b[39m,\u001b[39m0.9\u001b[39m,\u001b[39m0.8\u001b[39m,\u001b[39m0.75\u001b[39m,\u001b[39m0.7\u001b[39m]:\n\u001b[1;32m      <a href='vscode-notebook-cell://wsl%2Bubuntu/home/amos/programming/create_graphds/main.ipynb#Y113sdnNjb2RlLXJlbW90ZQ%3D%3D?line=5'>6</a>\u001b[0m     pca \u001b[39m=\u001b[39m PCA(n_components\u001b[39m=\u001b[39mvariance_retained)\n\u001b[0;32m----> <a href='vscode-notebook-cell://wsl%2Bubuntu/home/amos/programming/create_graphds/main.ipynb#Y113sdnNjb2RlLXJlbW90ZQ%3D%3D?line=6'>7</a>\u001b[0m     pca\u001b[39m.\u001b[39;49mfit(X)\n\u001b[1;32m      <a href='vscode-notebook-cell://wsl%2Bubuntu/home/amos/programming/create_graphds/main.ipynb#Y113sdnNjb2RlLXJlbW90ZQ%3D%3D?line=7'>8</a>\u001b[0m     n_components_retained \u001b[39m=\u001b[39m pca\u001b[39m.\u001b[39mn_components_\n\u001b[1;32m      <a href='vscode-notebook-cell://wsl%2Bubuntu/home/amos/programming/create_graphds/main.ipynb#Y113sdnNjb2RlLXJlbW90ZQ%3D%3D?line=8'>9</a>\u001b[0m     \u001b[39mprint\u001b[39m(n_components_retained,\u001b[39m'\u001b[39m\u001b[39m components retained\u001b[39m\u001b[39m'\u001b[39m, variance_retained, \u001b[39m'\u001b[39m\u001b[39m variance retained\u001b[39m\u001b[39m'\u001b[39m)\n",
      "File \u001b[0;32m~/mambaforge/envs/pyg/lib/python3.8/site-packages/sklearn/base.py:1151\u001b[0m, in \u001b[0;36m_fit_context.<locals>.decorator.<locals>.wrapper\u001b[0;34m(estimator, *args, **kwargs)\u001b[0m\n\u001b[1;32m   1144\u001b[0m     estimator\u001b[39m.\u001b[39m_validate_params()\n\u001b[1;32m   1146\u001b[0m \u001b[39mwith\u001b[39;00m config_context(\n\u001b[1;32m   1147\u001b[0m     skip_parameter_validation\u001b[39m=\u001b[39m(\n\u001b[1;32m   1148\u001b[0m         prefer_skip_nested_validation \u001b[39mor\u001b[39;00m global_skip_validation\n\u001b[1;32m   1149\u001b[0m     )\n\u001b[1;32m   1150\u001b[0m ):\n\u001b[0;32m-> 1151\u001b[0m     \u001b[39mreturn\u001b[39;00m fit_method(estimator, \u001b[39m*\u001b[39;49margs, \u001b[39m*\u001b[39;49m\u001b[39m*\u001b[39;49mkwargs)\n",
      "File \u001b[0;32m~/mambaforge/envs/pyg/lib/python3.8/site-packages/sklearn/decomposition/_pca.py:434\u001b[0m, in \u001b[0;36mPCA.fit\u001b[0;34m(self, X, y)\u001b[0m\n\u001b[1;32m    416\u001b[0m \u001b[39m@_fit_context\u001b[39m(prefer_skip_nested_validation\u001b[39m=\u001b[39m\u001b[39mTrue\u001b[39;00m)\n\u001b[1;32m    417\u001b[0m \u001b[39mdef\u001b[39;00m \u001b[39mfit\u001b[39m(\u001b[39mself\u001b[39m, X, y\u001b[39m=\u001b[39m\u001b[39mNone\u001b[39;00m):\n\u001b[1;32m    418\u001b[0m \u001b[39m    \u001b[39m\u001b[39m\"\"\"Fit the model with X.\u001b[39;00m\n\u001b[1;32m    419\u001b[0m \n\u001b[1;32m    420\u001b[0m \u001b[39m    Parameters\u001b[39;00m\n\u001b[0;32m   (...)\u001b[0m\n\u001b[1;32m    432\u001b[0m \u001b[39m        Returns the instance itself.\u001b[39;00m\n\u001b[1;32m    433\u001b[0m \u001b[39m    \"\"\"\u001b[39;00m\n\u001b[0;32m--> 434\u001b[0m     \u001b[39mself\u001b[39;49m\u001b[39m.\u001b[39;49m_fit(X)\n\u001b[1;32m    435\u001b[0m     \u001b[39mreturn\u001b[39;00m \u001b[39mself\u001b[39m\n",
      "File \u001b[0;32m~/mambaforge/envs/pyg/lib/python3.8/site-packages/sklearn/decomposition/_pca.py:510\u001b[0m, in \u001b[0;36mPCA._fit\u001b[0;34m(self, X)\u001b[0m\n\u001b[1;32m    508\u001b[0m \u001b[39m# Call different fits for either full or truncated SVD\u001b[39;00m\n\u001b[1;32m    509\u001b[0m \u001b[39mif\u001b[39;00m \u001b[39mself\u001b[39m\u001b[39m.\u001b[39m_fit_svd_solver \u001b[39m==\u001b[39m \u001b[39m\"\u001b[39m\u001b[39mfull\u001b[39m\u001b[39m\"\u001b[39m:\n\u001b[0;32m--> 510\u001b[0m     \u001b[39mreturn\u001b[39;00m \u001b[39mself\u001b[39;49m\u001b[39m.\u001b[39;49m_fit_full(X, n_components)\n\u001b[1;32m    511\u001b[0m \u001b[39melif\u001b[39;00m \u001b[39mself\u001b[39m\u001b[39m.\u001b[39m_fit_svd_solver \u001b[39min\u001b[39;00m [\u001b[39m\"\u001b[39m\u001b[39marpack\u001b[39m\u001b[39m\"\u001b[39m, \u001b[39m\"\u001b[39m\u001b[39mrandomized\u001b[39m\u001b[39m\"\u001b[39m]:\n\u001b[1;32m    512\u001b[0m     \u001b[39mreturn\u001b[39;00m \u001b[39mself\u001b[39m\u001b[39m.\u001b[39m_fit_truncated(X, n_components, \u001b[39mself\u001b[39m\u001b[39m.\u001b[39m_fit_svd_solver)\n",
      "File \u001b[0;32m~/mambaforge/envs/pyg/lib/python3.8/site-packages/sklearn/decomposition/_pca.py:534\u001b[0m, in \u001b[0;36mPCA._fit_full\u001b[0;34m(self, X, n_components)\u001b[0m\n\u001b[1;32m    531\u001b[0m \u001b[39mself\u001b[39m\u001b[39m.\u001b[39mmean_ \u001b[39m=\u001b[39m np\u001b[39m.\u001b[39mmean(X, axis\u001b[39m=\u001b[39m\u001b[39m0\u001b[39m)\n\u001b[1;32m    532\u001b[0m X \u001b[39m-\u001b[39m\u001b[39m=\u001b[39m \u001b[39mself\u001b[39m\u001b[39m.\u001b[39mmean_\n\u001b[0;32m--> 534\u001b[0m U, S, Vt \u001b[39m=\u001b[39m linalg\u001b[39m.\u001b[39;49msvd(X, full_matrices\u001b[39m=\u001b[39;49m\u001b[39mFalse\u001b[39;49;00m)\n\u001b[1;32m    535\u001b[0m \u001b[39m# flip eigenvectors' sign to enforce deterministic output\u001b[39;00m\n\u001b[1;32m    536\u001b[0m U, Vt \u001b[39m=\u001b[39m svd_flip(U, Vt)\n",
      "File \u001b[0;32m~/mambaforge/envs/pyg/lib/python3.8/site-packages/scipy/linalg/_decomp_svd.py:127\u001b[0m, in \u001b[0;36msvd\u001b[0;34m(a, full_matrices, compute_uv, overwrite_a, check_finite, lapack_driver)\u001b[0m\n\u001b[1;32m    123\u001b[0m lwork \u001b[39m=\u001b[39m _compute_lwork(gesXd_lwork, a1\u001b[39m.\u001b[39mshape[\u001b[39m0\u001b[39m], a1\u001b[39m.\u001b[39mshape[\u001b[39m1\u001b[39m],\n\u001b[1;32m    124\u001b[0m                        compute_uv\u001b[39m=\u001b[39mcompute_uv, full_matrices\u001b[39m=\u001b[39mfull_matrices)\n\u001b[1;32m    126\u001b[0m \u001b[39m# perform decomposition\u001b[39;00m\n\u001b[0;32m--> 127\u001b[0m u, s, v, info \u001b[39m=\u001b[39m gesXd(a1, compute_uv\u001b[39m=\u001b[39;49mcompute_uv, lwork\u001b[39m=\u001b[39;49mlwork,\n\u001b[1;32m    128\u001b[0m                       full_matrices\u001b[39m=\u001b[39;49mfull_matrices, overwrite_a\u001b[39m=\u001b[39;49moverwrite_a)\n\u001b[1;32m    130\u001b[0m \u001b[39mif\u001b[39;00m info \u001b[39m>\u001b[39m \u001b[39m0\u001b[39m:\n\u001b[1;32m    131\u001b[0m     \u001b[39mraise\u001b[39;00m LinAlgError(\u001b[39m\"\u001b[39m\u001b[39mSVD did not converge\u001b[39m\u001b[39m\"\u001b[39m)\n",
      "\u001b[0;31mKeyboardInterrupt\u001b[0m: "
     ]
    }
   ],
   "source": [
    "\n",
    "from sklearn.decomposition import PCA\n",
    "X = np.concatenate([alttitle_sbert_embeddings,skill_sbert_embeddings])\n",
    "\n",
    "print('Original:',X.shape[1])\n",
    "for variance_retained in [0.99,0.95,0.9,0.8,0.75,0.7]:\n",
    "    pca = PCA(n_components=variance_retained)\n",
    "    pca.fit(X)\n",
    "    n_components_retained = pca.n_components_\n",
    "    print(n_components_retained,' components retained', variance_retained, ' variance retained')"
   ]
  },
  {
   "cell_type": "code",
   "execution_count": null,
   "metadata": {},
   "outputs": [],
   "source": [
    "# choose 128\n",
    "pca = PCA(n_components=128)\n",
    "pca.fit(X)\n",
    "alttitle_sbert_embeddings_reduced = pca.transform(alttitle_sbert_embeddings)\n",
    "skill_sbert_embeddings_reduced = pca.transform(skill_sbert_embeddings)\n",
    "alttitle_sbert_reduced_mapping = {k:v for k,v in zip(alttitle_sbert_indices,alttitle_sbert_embeddings_reduced)}\n",
    "skill_sbert_reduced_mapping = {k:v for k,v in zip(skill_sbert_indices,skill_sbert_embeddings_reduced)}"
   ]
  },
  {
   "cell_type": "code",
   "execution_count": null,
   "metadata": {},
   "outputs": [
    {
     "data": {
      "text/plain": [
       "((55653, 128), (23025, 128))"
      ]
     },
     "execution_count": 175,
     "metadata": {},
     "output_type": "execute_result"
    }
   ],
   "source": [
    "alttitle_sbert_embeddings_reduced.shape, skill_sbert_embeddings_reduced.shape"
   ]
  },
  {
   "cell_type": "code",
   "execution_count": null,
   "metadata": {},
   "outputs": [],
   "source": []
  },
  {
   "cell_type": "code",
   "execution_count": null,
   "metadata": {},
   "outputs": [
    {
     "ename": "SyntaxError",
     "evalue": "invalid syntax (1433060194.py, line 2)",
     "output_type": "error",
     "traceback": [
      "\u001b[0;36m  Cell \u001b[0;32mIn[176], line 2\u001b[0;36m\u001b[0m\n\u001b[0;31m    data['skill'] =\u001b[0m\n\u001b[0m                   ^\u001b[0m\n\u001b[0;31mSyntaxError\u001b[0m\u001b[0;31m:\u001b[0m invalid syntax\n"
     ]
    }
   ],
   "source": [
    "data = HeteroData()\n",
    "data['skill'] ="
   ]
  },
  {
   "cell_type": "code",
   "execution_count": null,
   "metadata": {},
   "outputs": [
    {
     "data": {
      "text/html": [
       "<div>\n",
       "<style scoped>\n",
       "    .dataframe tbody tr th:only-of-type {\n",
       "        vertical-align: middle;\n",
       "    }\n",
       "\n",
       "    .dataframe tbody tr th {\n",
       "        vertical-align: top;\n",
       "    }\n",
       "\n",
       "    .dataframe thead th {\n",
       "        text-align: right;\n",
       "    }\n",
       "</style>\n",
       "<table border=\"1\" class=\"dataframe\">\n",
       "  <thead>\n",
       "    <tr style=\"text-align: right;\">\n",
       "      <th></th>\n",
       "      <th>index</th>\n",
       "      <th>O*NET-SOC Code</th>\n",
       "      <th>Title</th>\n",
       "      <th>Alternate Title</th>\n",
       "      <th>Short Title</th>\n",
       "      <th>Source(s)</th>\n",
       "    </tr>\n",
       "  </thead>\n",
       "  <tbody>\n",
       "    <tr>\n",
       "      <th>0</th>\n",
       "      <td>6</td>\n",
       "      <td>11-1011.00</td>\n",
       "      <td>Chief Executives</td>\n",
       "      <td>Business Development Executive (BD Executive)</td>\n",
       "      <td>BD Executive</td>\n",
       "      <td>9</td>\n",
       "    </tr>\n",
       "    <tr>\n",
       "      <th>1</th>\n",
       "      <td>7</td>\n",
       "      <td>11-1011.00</td>\n",
       "      <td>Chief Executives</td>\n",
       "      <td>Business Development Officer (BD Officer)</td>\n",
       "      <td>BD Officer</td>\n",
       "      <td>9</td>\n",
       "    </tr>\n",
       "    <tr>\n",
       "      <th>2</th>\n",
       "      <td>10</td>\n",
       "      <td>11-1011.00</td>\n",
       "      <td>Chief Executives</td>\n",
       "      <td>CEO (Chief Executive Officer)</td>\n",
       "      <td>CEO</td>\n",
       "      <td>02,04,08,10</td>\n",
       "    </tr>\n",
       "    <tr>\n",
       "      <th>3</th>\n",
       "      <td>11</td>\n",
       "      <td>11-1011.00</td>\n",
       "      <td>Chief Executives</td>\n",
       "      <td>Chief Administrative Officer (CAO)</td>\n",
       "      <td>CAO</td>\n",
       "      <td>9</td>\n",
       "    </tr>\n",
       "    <tr>\n",
       "      <th>4</th>\n",
       "      <td>12</td>\n",
       "      <td>11-1011.00</td>\n",
       "      <td>Chief Executives</td>\n",
       "      <td>Chief Diversity Officer (CDO)</td>\n",
       "      <td>CDO</td>\n",
       "      <td>2</td>\n",
       "    </tr>\n",
       "    <tr>\n",
       "      <th>...</th>\n",
       "      <td>...</td>\n",
       "      <td>...</td>\n",
       "      <td>...</td>\n",
       "      <td>...</td>\n",
       "      <td>...</td>\n",
       "      <td>...</td>\n",
       "    </tr>\n",
       "    <tr>\n",
       "      <th>2975</th>\n",
       "      <td>53556</td>\n",
       "      <td>53-7065.00</td>\n",
       "      <td>Stockers and Order Fillers</td>\n",
       "      <td>Quality Control Clerk (QC Clerk)</td>\n",
       "      <td>QC Clerk</td>\n",
       "      <td>8</td>\n",
       "    </tr>\n",
       "    <tr>\n",
       "      <th>2976</th>\n",
       "      <td>53651</td>\n",
       "      <td>53-7065.00</td>\n",
       "      <td>Stockers and Order Fillers</td>\n",
       "      <td>Warehouse Technician (Warehouse Tech)</td>\n",
       "      <td>Warehouse Tech</td>\n",
       "      <td>02,08</td>\n",
       "    </tr>\n",
       "    <tr>\n",
       "      <th>2977</th>\n",
       "      <td>53681</td>\n",
       "      <td>53-7071.00</td>\n",
       "      <td>Gas Compressor and Gas Pumping Station Operators</td>\n",
       "      <td>Liquefied Natural Gas Plant Operator (LNG Plan...</td>\n",
       "      <td>LNG Plant Operator</td>\n",
       "      <td>02,04</td>\n",
       "    </tr>\n",
       "    <tr>\n",
       "      <th>2978</th>\n",
       "      <td>53815</td>\n",
       "      <td>53-7121.00</td>\n",
       "      <td>Tank Car, Truck, and Ship Loaders</td>\n",
       "      <td>PVC Loader (Polyvinyl Chloride Loader)</td>\n",
       "      <td>PVC Loader</td>\n",
       "      <td>2</td>\n",
       "    </tr>\n",
       "    <tr>\n",
       "      <th>2979</th>\n",
       "      <td>53816</td>\n",
       "      <td>53-7121.00</td>\n",
       "      <td>Tank Car, Truck, and Ship Loaders</td>\n",
       "      <td>PVC Monitor (Polyvinyl Chloride Monitor)</td>\n",
       "      <td>PVC Monitor</td>\n",
       "      <td>10</td>\n",
       "    </tr>\n",
       "  </tbody>\n",
       "</table>\n",
       "<p>2980 rows × 6 columns</p>\n",
       "</div>"
      ],
      "text/plain": [
       "      index O*NET-SOC Code                                             Title  \\\n",
       "0         6     11-1011.00                                  Chief Executives   \n",
       "1         7     11-1011.00                                  Chief Executives   \n",
       "2        10     11-1011.00                                  Chief Executives   \n",
       "3        11     11-1011.00                                  Chief Executives   \n",
       "4        12     11-1011.00                                  Chief Executives   \n",
       "...     ...            ...                                               ...   \n",
       "2975  53556     53-7065.00                        Stockers and Order Fillers   \n",
       "2976  53651     53-7065.00                        Stockers and Order Fillers   \n",
       "2977  53681     53-7071.00  Gas Compressor and Gas Pumping Station Operators   \n",
       "2978  53815     53-7121.00                 Tank Car, Truck, and Ship Loaders   \n",
       "2979  53816     53-7121.00                 Tank Car, Truck, and Ship Loaders   \n",
       "\n",
       "                                        Alternate Title         Short Title  \\\n",
       "0         Business Development Executive (BD Executive)        BD Executive   \n",
       "1             Business Development Officer (BD Officer)          BD Officer   \n",
       "2                         CEO (Chief Executive Officer)                 CEO   \n",
       "3                    Chief Administrative Officer (CAO)                 CAO   \n",
       "4                         Chief Diversity Officer (CDO)                 CDO   \n",
       "...                                                 ...                 ...   \n",
       "2975                   Quality Control Clerk (QC Clerk)            QC Clerk   \n",
       "2976              Warehouse Technician (Warehouse Tech)      Warehouse Tech   \n",
       "2977  Liquefied Natural Gas Plant Operator (LNG Plan...  LNG Plant Operator   \n",
       "2978             PVC Loader (Polyvinyl Chloride Loader)          PVC Loader   \n",
       "2979           PVC Monitor (Polyvinyl Chloride Monitor)         PVC Monitor   \n",
       "\n",
       "        Source(s)  \n",
       "0               9  \n",
       "1               9  \n",
       "2     02,04,08,10  \n",
       "3               9  \n",
       "4               2  \n",
       "...           ...  \n",
       "2975            8  \n",
       "2976        02,08  \n",
       "2977        02,04  \n",
       "2978            2  \n",
       "2979           10  \n",
       "\n",
       "[2980 rows x 6 columns]"
      ]
     },
     "execution_count": 87,
     "metadata": {},
     "output_type": "execute_result"
    }
   ],
   "source": [
    "job_nodes\n"
   ]
  },
  {
   "cell_type": "code",
   "execution_count": null,
   "metadata": {},
   "outputs": [],
   "source": []
  }
 ],
 "metadata": {
  "kernelspec": {
   "display_name": "pyg",
   "language": "python",
   "name": "python3"
  },
  "language_info": {
   "codemirror_mode": {
    "name": "ipython",
    "version": 3
   },
   "file_extension": ".py",
   "mimetype": "text/x-python",
   "name": "python",
   "nbconvert_exporter": "python",
   "pygments_lexer": "ipython3",
   "version": "3.8.17"
  },
  "orig_nbformat": 4
 },
 "nbformat": 4,
 "nbformat_minor": 2
}
