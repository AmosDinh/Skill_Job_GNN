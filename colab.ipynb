{
  "cells": [
    {
      "cell_type": "code",
      "execution_count": 3,
      "metadata": {},
      "outputs": [
        {
          "name": "stdout",
          "output_type": "stream",
          "text": [
            "Requirement already satisfied: torch_geometric in /home/amos/mambaforge/envs/pyg/lib/python3.10/site-packages (2.4.0)\n",
            "Requirement already satisfied: tqdm in /home/amos/mambaforge/envs/pyg/lib/python3.10/site-packages (from torch_geometric) (4.66.1)\n",
            "Requirement already satisfied: numpy in /home/amos/.local/lib/python3.10/site-packages (from torch_geometric) (1.24.2)\n",
            "Requirement already satisfied: scipy in /home/amos/.local/lib/python3.10/site-packages (from torch_geometric) (1.10.1)\n",
            "Requirement already satisfied: jinja2 in /home/amos/mambaforge/envs/pyg/lib/python3.10/site-packages (from torch_geometric) (3.1.2)\n",
            "Requirement already satisfied: requests in /home/amos/mambaforge/envs/pyg/lib/python3.10/site-packages (from torch_geometric) (2.28.1)\n",
            "Requirement already satisfied: pyparsing in /home/amos/mambaforge/envs/pyg/lib/python3.10/site-packages (from torch_geometric) (3.1.1)\n",
            "Requirement already satisfied: scikit-learn in /home/amos/.local/lib/python3.10/site-packages (from torch_geometric) (1.2.1)\n",
            "Requirement already satisfied: psutil>=5.8.0 in /home/amos/.local/lib/python3.10/site-packages (from torch_geometric) (5.9.4)\n",
            "Requirement already satisfied: MarkupSafe>=2.0 in /home/amos/mambaforge/envs/pyg/lib/python3.10/site-packages (from jinja2->torch_geometric) (2.1.2)\n",
            "Requirement already satisfied: charset-normalizer<3,>=2 in /home/amos/mambaforge/envs/pyg/lib/python3.10/site-packages (from requests->torch_geometric) (2.1.1)\n",
            "Requirement already satisfied: idna<4,>=2.5 in /home/amos/.local/lib/python3.10/site-packages (from requests->torch_geometric) (3.4)\n",
            "Requirement already satisfied: urllib3<1.27,>=1.21.1 in /home/amos/.local/lib/python3.10/site-packages (from requests->torch_geometric) (1.26.14)\n",
            "Requirement already satisfied: certifi>=2017.4.17 in /home/amos/.local/lib/python3.10/site-packages (from requests->torch_geometric) (2022.12.7)\n",
            "Requirement already satisfied: joblib>=1.1.1 in /home/amos/.local/lib/python3.10/site-packages (from scikit-learn->torch_geometric) (1.2.0)\n",
            "Requirement already satisfied: threadpoolctl>=2.0.0 in /home/amos/.local/lib/python3.10/site-packages (from scikit-learn->torch_geometric) (3.1.0)\n"
          ]
        }
      ],
      "source": []
    },
    {
      "cell_type": "code",
      "execution_count": 1,
      "metadata": {},
      "outputs": [
        {
          "name": "stdout",
          "output_type": "stream",
          "text": [
            "Looking in indexes: https://download.pytorch.org/whl/cu118\n",
            "Collecting torch==2.0.0\n",
            "  Downloading https://download.pytorch.org/whl/cu118/torch-2.0.0%2Bcu118-cp310-cp310-linux_x86_64.whl (2267.3 MB)\n",
            "\u001b[2K     \u001b[90m━━━━━━━━━━━━━━━━━━━━━━━━━━━━━━━━━━━━━━━━\u001b[0m \u001b[32m2.3/2.3 GB\u001b[0m \u001b[31m2.7 MB/s\u001b[0m eta \u001b[36m0:00:00\u001b[0m:00:01\u001b[0m00:03\u001b[0m\n",
            "\u001b[?25hRequirement already satisfied: torchvision in /home/amos/mambaforge/envs/pyg/lib/python3.10/site-packages (0.16.0+cu118)\n",
            "Requirement already satisfied: torchaudio in /home/amos/mambaforge/envs/pyg/lib/python3.10/site-packages (2.1.0+cu118)\n",
            "Requirement already satisfied: filelock in /home/amos/.local/lib/python3.10/site-packages (from torch==2.0.0) (3.9.0)\n",
            "Requirement already satisfied: typing-extensions in /home/amos/.local/lib/python3.10/site-packages (from torch==2.0.0) (4.5.0)\n",
            "Requirement already satisfied: sympy in /home/amos/mambaforge/envs/pyg/lib/python3.10/site-packages (from torch==2.0.0) (1.12)\n",
            "Requirement already satisfied: networkx in /home/amos/.local/lib/python3.10/site-packages (from torch==2.0.0) (3.1)\n",
            "Requirement already satisfied: jinja2 in /home/amos/mambaforge/envs/pyg/lib/python3.10/site-packages (from torch==2.0.0) (3.1.2)\n",
            "Collecting triton==2.0.0 (from torch==2.0.0)\n",
            "  Downloading https://download.pytorch.org/whl/triton-2.0.0-1-cp310-cp310-manylinux2014_x86_64.manylinux_2_17_x86_64.whl (63.3 MB)\n",
            "\u001b[2K     \u001b[90m━━━━━━━━━━━━━━━━━━━━━━━━━━━━━━━━━━━━━━━━\u001b[0m \u001b[32m63.3/63.3 MB\u001b[0m \u001b[31m13.3 MB/s\u001b[0m eta \u001b[36m0:00:00\u001b[0m00:01\u001b[0m00:01\u001b[0m\n",
            "\u001b[?25hCollecting cmake (from triton==2.0.0->torch==2.0.0)\n",
            "  Using cached https://download.pytorch.org/whl/cmake-3.25.0-py2.py3-none-manylinux_2_17_x86_64.manylinux2014_x86_64.whl (23.7 MB)\n",
            "Collecting lit (from triton==2.0.0->torch==2.0.0)\n",
            "  Using cached https://download.pytorch.org/whl/lit-15.0.7.tar.gz (132 kB)\n",
            "  Preparing metadata (setup.py) ... \u001b[?25ldone\n",
            "\u001b[?25hRequirement already satisfied: numpy in /home/amos/.local/lib/python3.10/site-packages (from torchvision) (1.24.2)\n",
            "Requirement already satisfied: requests in /home/amos/mambaforge/envs/pyg/lib/python3.10/site-packages (from torchvision) (2.28.1)\n",
            "INFO: pip is looking at multiple versions of torchvision to determine which version is compatible with other requirements. This could take a while.\n",
            "Collecting torchvision\n",
            "  Downloading https://download.pytorch.org/whl/cu118/torchvision-0.15.2%2Bcu118-cp310-cp310-linux_x86_64.whl (6.1 MB)\n",
            "\u001b[2K     \u001b[90m━━━━━━━━━━━━━━━━━━━━━━━━━━━━━━━━━━━━━━━━\u001b[0m \u001b[32m6.1/6.1 MB\u001b[0m \u001b[31m28.7 MB/s\u001b[0m eta \u001b[36m0:00:00\u001b[0m00:01\u001b[0m00:01\u001b[0m\n",
            "\u001b[?25h  Downloading https://download.pytorch.org/whl/cu118/torchvision-0.15.1%2Bcu118-cp310-cp310-linux_x86_64.whl (6.1 MB)\n",
            "\u001b[2K     \u001b[90m━━━━━━━━━━━━━━━━━━━━━━━━━━━━━━━━━━━━━━━━\u001b[0m \u001b[32m6.1/6.1 MB\u001b[0m \u001b[31m29.1 MB/s\u001b[0m eta \u001b[36m0:00:00\u001b[0m00:01\u001b[0m00:01\u001b[0m\n",
            "\u001b[?25hRequirement already satisfied: pillow!=8.3.*,>=5.3.0 in /home/amos/.local/lib/python3.10/site-packages (from torchvision) (9.4.0)\n",
            "INFO: pip is looking at multiple versions of torchaudio to determine which version is compatible with other requirements. This could take a while.\n",
            "Collecting torchaudio\n",
            "  Downloading https://download.pytorch.org/whl/cu118/torchaudio-2.0.2%2Bcu118-cp310-cp310-linux_x86_64.whl (4.4 MB)\n",
            "\u001b[2K     \u001b[90m━━━━━━━━━━━━━━━━━━━━━━━━━━━━━━━━━━━━━━━━\u001b[0m \u001b[32m4.4/4.4 MB\u001b[0m \u001b[31m35.1 MB/s\u001b[0m eta \u001b[36m0:00:00\u001b[0ma \u001b[36m0:00:01\u001b[0m\n",
            "\u001b[?25h  Downloading https://download.pytorch.org/whl/cu118/torchaudio-2.0.1%2Bcu118-cp310-cp310-linux_x86_64.whl (4.4 MB)\n",
            "\u001b[2K     \u001b[90m━━━━━━━━━━━━━━━━━━━━━━━━━━━━━━━━━━━━━━━━\u001b[0m \u001b[32m4.4/4.4 MB\u001b[0m \u001b[31m36.4 MB/s\u001b[0m eta \u001b[36m0:00:00\u001b[0ma \u001b[36m0:00:01\u001b[0m\n",
            "\u001b[?25hRequirement already satisfied: MarkupSafe>=2.0 in /home/amos/mambaforge/envs/pyg/lib/python3.10/site-packages (from jinja2->torch==2.0.0) (2.1.2)\n",
            "Requirement already satisfied: charset-normalizer<3,>=2 in /home/amos/mambaforge/envs/pyg/lib/python3.10/site-packages (from requests->torchvision) (2.1.1)\n",
            "Requirement already satisfied: idna<4,>=2.5 in /home/amos/.local/lib/python3.10/site-packages (from requests->torchvision) (3.4)\n",
            "Requirement already satisfied: urllib3<1.27,>=1.21.1 in /home/amos/.local/lib/python3.10/site-packages (from requests->torchvision) (1.26.14)\n",
            "Requirement already satisfied: certifi>=2017.4.17 in /home/amos/.local/lib/python3.10/site-packages (from requests->torchvision) (2022.12.7)\n",
            "Requirement already satisfied: mpmath>=0.19 in /home/amos/mambaforge/envs/pyg/lib/python3.10/site-packages (from sympy->torch==2.0.0) (1.3.0)\n",
            "Building wheels for collected packages: lit\n",
            "  Building wheel for lit (setup.py) ... \u001b[?25ldone\n",
            "\u001b[?25h  Created wheel for lit: filename=lit-15.0.7-py3-none-any.whl size=90005 sha256=c039a77e69d29537b49f2eab00b451f4d618f646b0d1f7fc7dc162e09e10bbf8\n",
            "  Stored in directory: /home/amos/.cache/pip/wheels/bf/62/0d/01218f13f6a8051e982a7ce31d12b7bfd725dc69bd227ae104\n",
            "Successfully built lit\n",
            "Installing collected packages: lit, cmake, triton, torch, torchvision, torchaudio\n",
            "  Attempting uninstall: triton\n",
            "    Found existing installation: triton 2.1.0\n",
            "    Uninstalling triton-2.1.0:\n",
            "      Successfully uninstalled triton-2.1.0\n",
            "  Attempting uninstall: torchvision\n",
            "    Found existing installation: torchvision 0.16.0+cu118\n",
            "    Uninstalling torchvision-0.16.0+cu118:\n",
            "      Successfully uninstalled torchvision-0.16.0+cu118\n",
            "  Attempting uninstall: torchaudio\n",
            "    Found existing installation: torchaudio 2.1.0+cu118\n",
            "    Uninstalling torchaudio-2.1.0+cu118:\n",
            "      Successfully uninstalled torchaudio-2.1.0+cu118\n",
            "Successfully installed cmake-3.25.0 lit-15.0.7 torch-2.0.0+cu118 torchaudio-2.0.1+cu118 torchvision-0.15.1+cu118 triton-2.0.0\n",
            "2.0.0+cu118\n",
            "Looking in links: https://data.pyg.org/whl/torch-.0.0+cu118.html\n",
            "Requirement already satisfied: torch-scatter in /home/amos/mambaforge/envs/pyg/lib/python3.10/site-packages (2.1.1)\n",
            "Looking in links: https://data.pyg.org/whl/torch-.0.0+cu118.html\n",
            "Requirement already satisfied: torch-sparse in /home/amos/mambaforge/envs/pyg/lib/python3.10/site-packages (0.6.17)\n",
            "Requirement already satisfied: scipy in /home/amos/.local/lib/python3.10/site-packages (from torch-sparse) (1.10.1)\n",
            "Requirement already satisfied: numpy<1.27.0,>=1.19.5 in /home/amos/.local/lib/python3.10/site-packages (from scipy->torch-sparse) (1.24.2)\n",
            "Collecting git+https://github.com/pyg-team/pytorch_geometric.git\n",
            "  Cloning https://github.com/pyg-team/pytorch_geometric.git to /tmp/pip-req-build-zkc68deq\n",
            "  Running command git clone --filter=blob:none --quiet https://github.com/pyg-team/pytorch_geometric.git /tmp/pip-req-build-zkc68deq\n",
            "  Resolved https://github.com/pyg-team/pytorch_geometric.git to commit c5dca4bbd5ab3ca985e4373f063aef47cfc1316a\n",
            "  Installing build dependencies ... \u001b[?25ldone\n",
            "\u001b[?25h  Getting requirements to build wheel ... \u001b[?25ldone\n",
            "\u001b[?25h  Preparing metadata (pyproject.toml) ... \u001b[?25ldone\n",
            "\u001b[?25hRequirement already satisfied: tqdm in /home/amos/mambaforge/envs/pyg/lib/python3.10/site-packages (from torch_geometric==2.4.0) (4.66.1)\n",
            "Requirement already satisfied: numpy in /home/amos/.local/lib/python3.10/site-packages (from torch_geometric==2.4.0) (1.24.2)\n",
            "Requirement already satisfied: scipy in /home/amos/.local/lib/python3.10/site-packages (from torch_geometric==2.4.0) (1.10.1)\n",
            "Requirement already satisfied: jinja2 in /home/amos/mambaforge/envs/pyg/lib/python3.10/site-packages (from torch_geometric==2.4.0) (3.1.2)\n",
            "Requirement already satisfied: requests in /home/amos/mambaforge/envs/pyg/lib/python3.10/site-packages (from torch_geometric==2.4.0) (2.28.1)\n",
            "Requirement already satisfied: pyparsing in /home/amos/mambaforge/envs/pyg/lib/python3.10/site-packages (from torch_geometric==2.4.0) (3.1.1)\n",
            "Requirement already satisfied: scikit-learn in /home/amos/.local/lib/python3.10/site-packages (from torch_geometric==2.4.0) (1.2.1)\n",
            "Requirement already satisfied: psutil>=5.8.0 in /home/amos/.local/lib/python3.10/site-packages (from torch_geometric==2.4.0) (5.9.4)\n",
            "Requirement already satisfied: MarkupSafe>=2.0 in /home/amos/mambaforge/envs/pyg/lib/python3.10/site-packages (from jinja2->torch_geometric==2.4.0) (2.1.2)\n",
            "Requirement already satisfied: charset-normalizer<3,>=2 in /home/amos/mambaforge/envs/pyg/lib/python3.10/site-packages (from requests->torch_geometric==2.4.0) (2.1.1)\n",
            "Requirement already satisfied: idna<4,>=2.5 in /home/amos/.local/lib/python3.10/site-packages (from requests->torch_geometric==2.4.0) (3.4)\n",
            "Requirement already satisfied: urllib3<1.27,>=1.21.1 in /home/amos/.local/lib/python3.10/site-packages (from requests->torch_geometric==2.4.0) (1.26.14)\n",
            "Requirement already satisfied: certifi>=2017.4.17 in /home/amos/.local/lib/python3.10/site-packages (from requests->torch_geometric==2.4.0) (2022.12.7)\n",
            "Requirement already satisfied: joblib>=1.1.1 in /home/amos/.local/lib/python3.10/site-packages (from scikit-learn->torch_geometric==2.4.0) (1.2.0)\n",
            "Requirement already satisfied: threadpoolctl>=2.0.0 in /home/amos/.local/lib/python3.10/site-packages (from scikit-learn->torch_geometric==2.4.0) (3.1.0)\n",
            "Requirement already satisfied: sentence-transformers in /home/amos/mambaforge/envs/pyg/lib/python3.10/site-packages (2.2.2)\n",
            "Requirement already satisfied: transformers<5.0.0,>=4.6.0 in /home/amos/mambaforge/envs/pyg/lib/python3.10/site-packages (from sentence-transformers) (4.34.0)\n",
            "Requirement already satisfied: tqdm in /home/amos/mambaforge/envs/pyg/lib/python3.10/site-packages (from sentence-transformers) (4.66.1)\n",
            "Requirement already satisfied: torch>=1.6.0 in /home/amos/mambaforge/envs/pyg/lib/python3.10/site-packages (from sentence-transformers) (2.0.0+cu118)\n",
            "Requirement already satisfied: torchvision in /home/amos/mambaforge/envs/pyg/lib/python3.10/site-packages (from sentence-transformers) (0.15.1+cu118)\n",
            "Requirement already satisfied: numpy in /home/amos/.local/lib/python3.10/site-packages (from sentence-transformers) (1.24.2)\n",
            "Requirement already satisfied: scikit-learn in /home/amos/.local/lib/python3.10/site-packages (from sentence-transformers) (1.2.1)\n",
            "Requirement already satisfied: scipy in /home/amos/.local/lib/python3.10/site-packages (from sentence-transformers) (1.10.1)\n",
            "Requirement already satisfied: nltk in /home/amos/mambaforge/envs/pyg/lib/python3.10/site-packages (from sentence-transformers) (3.8.1)\n",
            "Requirement already satisfied: sentencepiece in /home/amos/mambaforge/envs/pyg/lib/python3.10/site-packages (from sentence-transformers) (0.1.99)\n",
            "Requirement already satisfied: huggingface-hub>=0.4.0 in /home/amos/mambaforge/envs/pyg/lib/python3.10/site-packages (from sentence-transformers) (0.16.4)\n",
            "Requirement already satisfied: filelock in /home/amos/.local/lib/python3.10/site-packages (from huggingface-hub>=0.4.0->sentence-transformers) (3.9.0)\n",
            "Requirement already satisfied: fsspec in /home/amos/mambaforge/envs/pyg/lib/python3.10/site-packages (from huggingface-hub>=0.4.0->sentence-transformers) (2023.4.0)\n",
            "Requirement already satisfied: requests in /home/amos/mambaforge/envs/pyg/lib/python3.10/site-packages (from huggingface-hub>=0.4.0->sentence-transformers) (2.28.1)\n",
            "Requirement already satisfied: pyyaml>=5.1 in /home/amos/mambaforge/envs/pyg/lib/python3.10/site-packages (from huggingface-hub>=0.4.0->sentence-transformers) (6.0.1)\n",
            "Requirement already satisfied: typing-extensions>=3.7.4.3 in /home/amos/.local/lib/python3.10/site-packages (from huggingface-hub>=0.4.0->sentence-transformers) (4.5.0)\n",
            "Requirement already satisfied: packaging>=20.9 in /home/amos/.local/lib/python3.10/site-packages (from huggingface-hub>=0.4.0->sentence-transformers) (23.0)\n",
            "Requirement already satisfied: sympy in /home/amos/mambaforge/envs/pyg/lib/python3.10/site-packages (from torch>=1.6.0->sentence-transformers) (1.12)\n",
            "Requirement already satisfied: networkx in /home/amos/.local/lib/python3.10/site-packages (from torch>=1.6.0->sentence-transformers) (3.1)\n",
            "Requirement already satisfied: jinja2 in /home/amos/mambaforge/envs/pyg/lib/python3.10/site-packages (from torch>=1.6.0->sentence-transformers) (3.1.2)\n",
            "Requirement already satisfied: triton==2.0.0 in /home/amos/mambaforge/envs/pyg/lib/python3.10/site-packages (from torch>=1.6.0->sentence-transformers) (2.0.0)\n",
            "Requirement already satisfied: cmake in /home/amos/mambaforge/envs/pyg/lib/python3.10/site-packages (from triton==2.0.0->torch>=1.6.0->sentence-transformers) (3.25.0)\n",
            "Requirement already satisfied: lit in /home/amos/mambaforge/envs/pyg/lib/python3.10/site-packages (from triton==2.0.0->torch>=1.6.0->sentence-transformers) (15.0.7)\n",
            "Requirement already satisfied: regex!=2019.12.17 in /home/amos/mambaforge/envs/pyg/lib/python3.10/site-packages (from transformers<5.0.0,>=4.6.0->sentence-transformers) (2023.10.3)\n",
            "Requirement already satisfied: tokenizers<0.15,>=0.14 in /home/amos/mambaforge/envs/pyg/lib/python3.10/site-packages (from transformers<5.0.0,>=4.6.0->sentence-transformers) (0.14.0)\n",
            "Requirement already satisfied: safetensors>=0.3.1 in /home/amos/mambaforge/envs/pyg/lib/python3.10/site-packages (from transformers<5.0.0,>=4.6.0->sentence-transformers) (0.3.3)\n",
            "Requirement already satisfied: click in /home/amos/.local/lib/python3.10/site-packages (from nltk->sentence-transformers) (8.1.3)\n",
            "Requirement already satisfied: joblib in /home/amos/.local/lib/python3.10/site-packages (from nltk->sentence-transformers) (1.2.0)\n",
            "Requirement already satisfied: threadpoolctl>=2.0.0 in /home/amos/.local/lib/python3.10/site-packages (from scikit-learn->sentence-transformers) (3.1.0)\n",
            "Requirement already satisfied: pillow!=8.3.*,>=5.3.0 in /home/amos/.local/lib/python3.10/site-packages (from torchvision->sentence-transformers) (9.4.0)\n",
            "Requirement already satisfied: MarkupSafe>=2.0 in /home/amos/mambaforge/envs/pyg/lib/python3.10/site-packages (from jinja2->torch>=1.6.0->sentence-transformers) (2.1.2)\n",
            "Requirement already satisfied: charset-normalizer<3,>=2 in /home/amos/mambaforge/envs/pyg/lib/python3.10/site-packages (from requests->huggingface-hub>=0.4.0->sentence-transformers) (2.1.1)\n",
            "Requirement already satisfied: idna<4,>=2.5 in /home/amos/.local/lib/python3.10/site-packages (from requests->huggingface-hub>=0.4.0->sentence-transformers) (3.4)\n",
            "Requirement already satisfied: urllib3<1.27,>=1.21.1 in /home/amos/.local/lib/python3.10/site-packages (from requests->huggingface-hub>=0.4.0->sentence-transformers) (1.26.14)\n",
            "Requirement already satisfied: certifi>=2017.4.17 in /home/amos/.local/lib/python3.10/site-packages (from requests->huggingface-hub>=0.4.0->sentence-transformers) (2022.12.7)\n",
            "Requirement already satisfied: mpmath>=0.19 in /home/amos/mambaforge/envs/pyg/lib/python3.10/site-packages (from sympy->torch>=1.6.0->sentence-transformers) (1.3.0)\n",
            "Requirement already satisfied: torcheval in /home/amos/mambaforge/envs/pyg/lib/python3.10/site-packages (0.0.7)\n",
            "Requirement already satisfied: typing-extensions in /home/amos/.local/lib/python3.10/site-packages (from torcheval) (4.5.0)\n",
            "Requirement already satisfied: matplotlib in /home/amos/mambaforge/envs/pyg/lib/python3.10/site-packages (3.8.0)\n",
            "Requirement already satisfied: contourpy>=1.0.1 in /home/amos/mambaforge/envs/pyg/lib/python3.10/site-packages (from matplotlib) (1.1.1)\n",
            "Requirement already satisfied: cycler>=0.10 in /home/amos/mambaforge/envs/pyg/lib/python3.10/site-packages (from matplotlib) (0.12.0)\n",
            "Requirement already satisfied: fonttools>=4.22.0 in /home/amos/mambaforge/envs/pyg/lib/python3.10/site-packages (from matplotlib) (4.43.0)\n",
            "Requirement already satisfied: kiwisolver>=1.0.1 in /home/amos/mambaforge/envs/pyg/lib/python3.10/site-packages (from matplotlib) (1.4.5)\n",
            "Requirement already satisfied: numpy<2,>=1.21 in /home/amos/.local/lib/python3.10/site-packages (from matplotlib) (1.24.2)\n",
            "Requirement already satisfied: packaging>=20.0 in /home/amos/.local/lib/python3.10/site-packages (from matplotlib) (23.0)\n",
            "Requirement already satisfied: pillow>=6.2.0 in /home/amos/.local/lib/python3.10/site-packages (from matplotlib) (9.4.0)\n",
            "Requirement already satisfied: pyparsing>=2.3.1 in /home/amos/mambaforge/envs/pyg/lib/python3.10/site-packages (from matplotlib) (3.1.1)\n",
            "Requirement already satisfied: python-dateutil>=2.7 in /home/amos/.local/lib/python3.10/site-packages (from matplotlib) (2.8.2)\n",
            "Requirement already satisfied: six>=1.5 in /home/amos/mambaforge/envs/pyg/lib/python3.10/site-packages (from python-dateutil>=2.7->matplotlib) (1.16.0)\n",
            "Requirement already satisfied: pandas in /home/amos/.local/lib/python3.10/site-packages (1.5.3)\n",
            "Requirement already satisfied: python-dateutil>=2.8.1 in /home/amos/.local/lib/python3.10/site-packages (from pandas) (2.8.2)\n",
            "Requirement already satisfied: pytz>=2020.1 in /home/amos/.local/lib/python3.10/site-packages (from pandas) (2022.7.1)\n",
            "Requirement already satisfied: numpy>=1.21.0 in /home/amos/.local/lib/python3.10/site-packages (from pandas) (1.24.2)\n",
            "Requirement already satisfied: six>=1.5 in /home/amos/mambaforge/envs/pyg/lib/python3.10/site-packages (from python-dateutil>=2.8.1->pandas) (1.16.0)\n",
            "Requirement already satisfied: tensorboard in /home/amos/mambaforge/envs/pyg/lib/python3.10/site-packages (2.14.1)\n",
            "Requirement already satisfied: absl-py>=0.4 in /home/amos/mambaforge/envs/pyg/lib/python3.10/site-packages (from tensorboard) (2.0.0)\n",
            "Requirement already satisfied: grpcio>=1.48.2 in /home/amos/mambaforge/envs/pyg/lib/python3.10/site-packages (from tensorboard) (1.59.0)\n",
            "Requirement already satisfied: google-auth<3,>=1.6.3 in /home/amos/.local/lib/python3.10/site-packages (from tensorboard) (2.16.2)\n",
            "Requirement already satisfied: google-auth-oauthlib<1.1,>=0.5 in /home/amos/mambaforge/envs/pyg/lib/python3.10/site-packages (from tensorboard) (1.0.0)\n",
            "Requirement already satisfied: markdown>=2.6.8 in /home/amos/mambaforge/envs/pyg/lib/python3.10/site-packages (from tensorboard) (3.4.4)\n",
            "Requirement already satisfied: numpy>=1.12.0 in /home/amos/.local/lib/python3.10/site-packages (from tensorboard) (1.24.2)\n",
            "Requirement already satisfied: protobuf>=3.19.6 in /home/amos/mambaforge/envs/pyg/lib/python3.10/site-packages (from tensorboard) (4.24.4)\n",
            "Requirement already satisfied: requests<3,>=2.21.0 in /home/amos/mambaforge/envs/pyg/lib/python3.10/site-packages (from tensorboard) (2.28.1)\n",
            "Requirement already satisfied: setuptools>=41.0.0 in /home/amos/.local/lib/python3.10/site-packages (from tensorboard) (58.3.0)\n",
            "Requirement already satisfied: six>1.9 in /home/amos/mambaforge/envs/pyg/lib/python3.10/site-packages (from tensorboard) (1.16.0)\n",
            "Requirement already satisfied: tensorboard-data-server<0.8.0,>=0.7.0 in /home/amos/mambaforge/envs/pyg/lib/python3.10/site-packages (from tensorboard) (0.7.1)\n",
            "Requirement already satisfied: werkzeug>=1.0.1 in /home/amos/mambaforge/envs/pyg/lib/python3.10/site-packages (from tensorboard) (3.0.0)\n",
            "Requirement already satisfied: cachetools<6.0,>=2.0.0 in /home/amos/.local/lib/python3.10/site-packages (from google-auth<3,>=1.6.3->tensorboard) (5.3.0)\n",
            "Requirement already satisfied: pyasn1-modules>=0.2.1 in /home/amos/.local/lib/python3.10/site-packages (from google-auth<3,>=1.6.3->tensorboard) (0.2.8)\n",
            "Requirement already satisfied: rsa<5,>=3.1.4 in /home/amos/.local/lib/python3.10/site-packages (from google-auth<3,>=1.6.3->tensorboard) (4.9)\n",
            "Requirement already satisfied: requests-oauthlib>=0.7.0 in /home/amos/.local/lib/python3.10/site-packages (from google-auth-oauthlib<1.1,>=0.5->tensorboard) (1.3.1)\n",
            "Requirement already satisfied: charset-normalizer<3,>=2 in /home/amos/mambaforge/envs/pyg/lib/python3.10/site-packages (from requests<3,>=2.21.0->tensorboard) (2.1.1)\n",
            "Requirement already satisfied: idna<4,>=2.5 in /home/amos/.local/lib/python3.10/site-packages (from requests<3,>=2.21.0->tensorboard) (3.4)\n",
            "Requirement already satisfied: urllib3<1.27,>=1.21.1 in /home/amos/.local/lib/python3.10/site-packages (from requests<3,>=2.21.0->tensorboard) (1.26.14)\n",
            "Requirement already satisfied: certifi>=2017.4.17 in /home/amos/.local/lib/python3.10/site-packages (from requests<3,>=2.21.0->tensorboard) (2022.12.7)\n",
            "Requirement already satisfied: MarkupSafe>=2.1.1 in /home/amos/mambaforge/envs/pyg/lib/python3.10/site-packages (from werkzeug>=1.0.1->tensorboard) (2.1.2)\n",
            "Requirement already satisfied: pyasn1<0.5.0,>=0.4.6 in /home/amos/.local/lib/python3.10/site-packages (from pyasn1-modules>=0.2.1->google-auth<3,>=1.6.3->tensorboard) (0.4.8)\n",
            "Requirement already satisfied: oauthlib>=3.0.0 in /home/amos/mambaforge/envs/pyg/lib/python3.10/site-packages (from requests-oauthlib>=0.7.0->google-auth-oauthlib<1.1,>=0.5->tensorboard) (3.2.2)\n"
          ]
        }
      ],
      "source": [
        "\n",
        "import os\n",
        "!pip install torch==2.0.0 torchvision torchaudio --index-url https://download.pytorch.org/whl/cu118\n",
        "import torch\n",
        "os.environ['TORCH'] = torch.__version__\n",
        "print(torch.__version__)\n",
        "#torch_version = '2.0.0+cu118'\n",
        "#!pip install torch-scatter -f https://data.pyg.org/whl/torch-${torch.__version__}.html\n",
        "#!pip install torch-cluster -f https://data.pyg.org/whl/torch-${torch.__version__}.html\n",
        "#!pip install torch-sparse -f https://data.pyg.org/whl/torch-${torch.__version__}.html\n",
        "!pip install torch-sparse -f https://data.pyg.org/whl/torch-2.0.0+cu118.html\n",
        "!pip install torch-scatter -f https://data.pyg.org/whl/torch-2.0.0+cu118.html\n",
        "!pip install git+https://github.com/pyg-team/pytorch_geometric.git\n",
        "!pip install sentence-transformers\n",
        "!pip install torcheval\n",
        "!pip install matplotlib\n",
        "!pip install pandas\n",
        "!pip install tensorboard"
      ]
    },
    {
      "cell_type": "code",
      "execution_count": 2,
      "metadata": {
        "colab": {
          "base_uri": "https://localhost:8080/"
        },
        "id": "bCh0sDNr-I8D",
        "outputId": "c78900b5-79c1-412b-8f99-b991c20e376a"
      },
      "outputs": [
        {
          "name": "stdout",
          "output_type": "stream",
          "text": [
            "Looking in indexes: https://download.pytorch.org/whl/cu118\n",
            "Collecting torch\n",
            "  Downloading https://download.pytorch.org/whl/cu118/torch-2.1.0%2Bcu118-cp311-cp311-linux_x86_64.whl (2325.9 MB)\n",
            "\u001b[2K     \u001b[90m━━━━━━━━━━━━━━━━━━━━━━━━━━━━━━━━━━━━━━━━\u001b[0m \u001b[32m2.3/2.3 GB\u001b[0m \u001b[31m1.6 MB/s\u001b[0m eta \u001b[36m0:00:00\u001b[0m:00:01\u001b[0m00:03\u001b[0m\n",
            "\u001b[?25hCollecting torchvision\n",
            "  Downloading https://download.pytorch.org/whl/cu118/torchvision-0.16.0%2Bcu118-cp311-cp311-linux_x86_64.whl (6.2 MB)\n",
            "\u001b[2K     \u001b[90m━━━━━━━━━━━━━━━━━━━━━━━━━━━━━━━━━━━━━━━━\u001b[0m \u001b[32m6.2/6.2 MB\u001b[0m \u001b[31m30.0 MB/s\u001b[0m eta \u001b[36m0:00:00\u001b[0ma \u001b[36m0:00:01\u001b[0m\n",
            "\u001b[?25hCollecting torchaudio\n",
            "  Downloading https://download.pytorch.org/whl/cu118/torchaudio-2.1.0%2Bcu118-cp311-cp311-linux_x86_64.whl (3.2 MB)\n",
            "\u001b[2K     \u001b[90m━━━━━━━━━━━━━━━━━━━━━━━━━━━━━━━━━━━━━━━━\u001b[0m \u001b[32m3.2/3.2 MB\u001b[0m \u001b[31m34.3 MB/s\u001b[0m eta \u001b[36m0:00:00\u001b[0ma \u001b[36m0:00:01\u001b[0m\n",
            "\u001b[?25hCollecting filelock (from torch)\n",
            "  Using cached https://download.pytorch.org/whl/filelock-3.9.0-py3-none-any.whl (9.7 kB)\n",
            "Requirement already satisfied: typing-extensions in /home/amos/mambaforge/envs/test/lib/python3.11/site-packages (from torch) (4.8.0)\n",
            "Collecting sympy (from torch)\n",
            "  Using cached https://download.pytorch.org/whl/sympy-1.12-py3-none-any.whl (5.7 MB)\n",
            "Collecting networkx (from torch)\n",
            "  Using cached https://download.pytorch.org/whl/networkx-3.0-py3-none-any.whl (2.0 MB)\n",
            "Collecting jinja2 (from torch)\n",
            "  Using cached https://download.pytorch.org/whl/Jinja2-3.1.2-py3-none-any.whl (133 kB)\n",
            "Collecting fsspec (from torch)\n",
            "  Using cached https://download.pytorch.org/whl/fsspec-2023.4.0-py3-none-any.whl (153 kB)\n",
            "Collecting triton==2.1.0 (from torch)\n",
            "  Downloading https://download.pytorch.org/whl/triton-2.1.0-0-cp311-cp311-manylinux2014_x86_64.manylinux_2_17_x86_64.whl (89.2 MB)\n",
            "\u001b[2K     \u001b[90m━━━━━━━━━━━━━━━━━━━━━━━━━━━━━━━━━━━━━━━━\u001b[0m \u001b[32m89.2/89.2 MB\u001b[0m \u001b[31m25.1 MB/s\u001b[0m eta \u001b[36m0:00:00\u001b[0m00:01\u001b[0m00:01\u001b[0m\n",
            "\u001b[?25hCollecting numpy (from torchvision)\n",
            "  Using cached https://download.pytorch.org/whl/numpy-1.24.1-cp311-cp311-manylinux_2_17_x86_64.manylinux2014_x86_64.whl (17.3 MB)\n",
            "Collecting requests (from torchvision)\n",
            "  Using cached https://download.pytorch.org/whl/requests-2.28.1-py3-none-any.whl (62 kB)\n",
            "Collecting pillow!=8.3.*,>=5.3.0 (from torchvision)\n",
            "  Using cached https://download.pytorch.org/whl/Pillow-9.3.0-cp311-cp311-manylinux_2_17_x86_64.manylinux2014_x86_64.whl (3.2 MB)\n",
            "Collecting MarkupSafe>=2.0 (from jinja2->torch)\n",
            "  Using cached https://download.pytorch.org/whl/MarkupSafe-2.1.2-cp311-cp311-manylinux_2_17_x86_64.manylinux2014_x86_64.whl (27 kB)\n",
            "Collecting charset-normalizer<3,>=2 (from requests->torchvision)\n",
            "  Using cached https://download.pytorch.org/whl/charset_normalizer-2.1.1-py3-none-any.whl (39 kB)\n",
            "Collecting idna<4,>=2.5 (from requests->torchvision)\n",
            "  Using cached https://download.pytorch.org/whl/idna-3.4-py3-none-any.whl (61 kB)\n",
            "Collecting urllib3<1.27,>=1.21.1 (from requests->torchvision)\n",
            "  Using cached https://download.pytorch.org/whl/urllib3-1.26.13-py2.py3-none-any.whl (140 kB)\n",
            "Collecting certifi>=2017.4.17 (from requests->torchvision)\n",
            "  Using cached https://download.pytorch.org/whl/certifi-2022.12.7-py3-none-any.whl (155 kB)\n",
            "Collecting mpmath>=0.19 (from sympy->torch)\n",
            "  Using cached https://download.pytorch.org/whl/mpmath-1.3.0-py3-none-any.whl (536 kB)\n",
            "Installing collected packages: mpmath, urllib3, sympy, pillow, numpy, networkx, MarkupSafe, idna, fsspec, filelock, charset-normalizer, certifi, triton, requests, jinja2, torch, torchvision, torchaudio\n",
            "Successfully installed MarkupSafe-2.1.2 certifi-2022.12.7 charset-normalizer-2.1.1 filelock-3.9.0 fsspec-2023.4.0 idna-3.4 jinja2-3.1.2 mpmath-1.3.0 networkx-3.0 numpy-1.24.1 pillow-9.3.0 requests-2.28.1 sympy-1.12 torch-2.1.0+cu118 torchaudio-2.1.0+cu118 torchvision-0.16.0+cu118 triton-2.1.0 urllib3-1.26.13\n",
            "Collecting torch_geometric\n",
            "  Using cached torch_geometric-2.3.1-py3-none-any.whl\n",
            "Collecting tqdm (from torch_geometric)\n",
            "  Obtaining dependency information for tqdm from https://files.pythonhosted.org/packages/00/e5/f12a80907d0884e6dff9c16d0c0114d81b8cd07dc3ae54c5e962cc83037e/tqdm-4.66.1-py3-none-any.whl.metadata\n",
            "  Using cached tqdm-4.66.1-py3-none-any.whl.metadata (57 kB)\n",
            "Requirement already satisfied: numpy in /home/amos/mambaforge/envs/test/lib/python3.11/site-packages (from torch_geometric) (1.24.1)\n",
            "Collecting scipy (from torch_geometric)\n",
            "  Obtaining dependency information for scipy from https://files.pythonhosted.org/packages/ef/1b/7538792254aec6850657d5b940fd05fe60582af829ffe40d6c054f065f34/scipy-1.11.3-cp311-cp311-manylinux_2_17_x86_64.manylinux2014_x86_64.whl.metadata\n",
            "  Using cached scipy-1.11.3-cp311-cp311-manylinux_2_17_x86_64.manylinux2014_x86_64.whl.metadata (60 kB)\n",
            "Requirement already satisfied: jinja2 in /home/amos/mambaforge/envs/test/lib/python3.11/site-packages (from torch_geometric) (3.1.2)\n",
            "Requirement already satisfied: requests in /home/amos/mambaforge/envs/test/lib/python3.11/site-packages (from torch_geometric) (2.28.1)\n",
            "Collecting pyparsing (from torch_geometric)\n",
            "  Obtaining dependency information for pyparsing from https://files.pythonhosted.org/packages/39/92/8486ede85fcc088f1b3dba4ce92dd29d126fd96b0008ea213167940a2475/pyparsing-3.1.1-py3-none-any.whl.metadata\n",
            "  Using cached pyparsing-3.1.1-py3-none-any.whl.metadata (5.1 kB)\n",
            "Collecting scikit-learn (from torch_geometric)\n",
            "  Obtaining dependency information for scikit-learn from https://files.pythonhosted.org/packages/8f/87/5969092159207f583481ad80a03f09e2d4af1ebd197f4530ca4e906c947e/scikit_learn-1.3.1-cp311-cp311-manylinux_2_17_x86_64.manylinux2014_x86_64.whl.metadata\n",
            "  Using cached scikit_learn-1.3.1-cp311-cp311-manylinux_2_17_x86_64.manylinux2014_x86_64.whl.metadata (11 kB)\n",
            "Requirement already satisfied: psutil>=5.8.0 in /home/amos/mambaforge/envs/test/lib/python3.11/site-packages (from torch_geometric) (5.9.5)\n",
            "Requirement already satisfied: MarkupSafe>=2.0 in /home/amos/mambaforge/envs/test/lib/python3.11/site-packages (from jinja2->torch_geometric) (2.1.2)\n",
            "Requirement already satisfied: charset-normalizer<3,>=2 in /home/amos/mambaforge/envs/test/lib/python3.11/site-packages (from requests->torch_geometric) (2.1.1)\n",
            "Requirement already satisfied: idna<4,>=2.5 in /home/amos/mambaforge/envs/test/lib/python3.11/site-packages (from requests->torch_geometric) (3.4)\n",
            "Requirement already satisfied: urllib3<1.27,>=1.21.1 in /home/amos/mambaforge/envs/test/lib/python3.11/site-packages (from requests->torch_geometric) (1.26.13)\n",
            "Requirement already satisfied: certifi>=2017.4.17 in /home/amos/mambaforge/envs/test/lib/python3.11/site-packages (from requests->torch_geometric) (2022.12.7)\n",
            "Collecting joblib>=1.1.1 (from scikit-learn->torch_geometric)\n",
            "  Obtaining dependency information for joblib>=1.1.1 from https://files.pythonhosted.org/packages/10/40/d551139c85db202f1f384ba8bcf96aca2f329440a844f924c8a0040b6d02/joblib-1.3.2-py3-none-any.whl.metadata\n",
            "  Using cached joblib-1.3.2-py3-none-any.whl.metadata (5.4 kB)\n",
            "Collecting threadpoolctl>=2.0.0 (from scikit-learn->torch_geometric)\n",
            "  Obtaining dependency information for threadpoolctl>=2.0.0 from https://files.pythonhosted.org/packages/81/12/fd4dea011af9d69e1cad05c75f3f7202cdcbeac9b712eea58ca779a72865/threadpoolctl-3.2.0-py3-none-any.whl.metadata\n",
            "  Using cached threadpoolctl-3.2.0-py3-none-any.whl.metadata (10.0 kB)\n",
            "Using cached pyparsing-3.1.1-py3-none-any.whl (103 kB)\n",
            "Using cached scikit_learn-1.3.1-cp311-cp311-manylinux_2_17_x86_64.manylinux2014_x86_64.whl (10.9 MB)\n",
            "Using cached scipy-1.11.3-cp311-cp311-manylinux_2_17_x86_64.manylinux2014_x86_64.whl (36.4 MB)\n",
            "Using cached tqdm-4.66.1-py3-none-any.whl (78 kB)\n",
            "Using cached joblib-1.3.2-py3-none-any.whl (302 kB)\n",
            "Using cached threadpoolctl-3.2.0-py3-none-any.whl (15 kB)\n",
            "Installing collected packages: tqdm, threadpoolctl, scipy, pyparsing, joblib, scikit-learn, torch_geometric\n",
            "Successfully installed joblib-1.3.2 pyparsing-3.1.1 scikit-learn-1.3.1 scipy-1.11.3 threadpoolctl-3.2.0 torch_geometric-2.3.1 tqdm-4.66.1\n",
            "Looking in links: https://data.pyg.org/whl/torch-2.0.0+cu118.html\n",
            "Collecting pyg_lib\n",
            "  Using cached https://data.pyg.org/whl/torch-2.0.0%2Bcu118/pyg_lib-0.2.0%2Bpt20cu118-cp311-cp311-linux_x86_64.whl (1.8 MB)\n",
            "Collecting torch_scatter\n",
            "  Using cached https://data.pyg.org/whl/torch-2.0.0%2Bcu118/torch_scatter-2.1.1%2Bpt20cu118-cp311-cp311-linux_x86_64.whl (10.2 MB)\n",
            "Collecting torch_sparse\n",
            "  Using cached https://data.pyg.org/whl/torch-2.0.0%2Bcu118/torch_sparse-0.6.17%2Bpt20cu118-cp311-cp311-linux_x86_64.whl (4.8 MB)\n",
            "Collecting torch_cluster\n",
            "  Using cached https://data.pyg.org/whl/torch-2.0.0%2Bcu118/torch_cluster-1.6.1%2Bpt20cu118-cp311-cp311-linux_x86_64.whl (3.3 MB)\n",
            "Collecting torch_spline_conv\n",
            "  Using cached https://data.pyg.org/whl/torch-2.0.0%2Bcu118/torch_spline_conv-1.2.2%2Bpt20cu118-cp311-cp311-linux_x86_64.whl (884 kB)\n",
            "Requirement already satisfied: scipy in /home/amos/mambaforge/envs/test/lib/python3.11/site-packages (from torch_sparse) (1.11.3)\n",
            "Requirement already satisfied: numpy<1.28.0,>=1.21.6 in /home/amos/mambaforge/envs/test/lib/python3.11/site-packages (from scipy->torch_sparse) (1.24.1)\n",
            "Installing collected packages: torch_spline_conv, torch_scatter, pyg_lib, torch_sparse, torch_cluster\n",
            "Successfully installed pyg_lib-0.2.0+pt20cu118 torch_cluster-1.6.1+pt20cu118 torch_scatter-2.1.1+pt20cu118 torch_sparse-0.6.17+pt20cu118 torch_spline_conv-1.2.2+pt20cu118\n",
            "Collecting sentence-transformers\n",
            "  Using cached sentence_transformers-2.2.2-py3-none-any.whl\n",
            "Collecting transformers<5.0.0,>=4.6.0 (from sentence-transformers)\n",
            "  Obtaining dependency information for transformers<5.0.0,>=4.6.0 from https://files.pythonhosted.org/packages/1a/d1/3bba59606141ae808017f6fde91453882f931957f125009417b87a281067/transformers-4.34.0-py3-none-any.whl.metadata\n",
            "  Using cached transformers-4.34.0-py3-none-any.whl.metadata (121 kB)\n",
            "Requirement already satisfied: tqdm in /home/amos/mambaforge/envs/test/lib/python3.11/site-packages (from sentence-transformers) (4.66.1)\n",
            "Requirement already satisfied: torch>=1.6.0 in /home/amos/mambaforge/envs/test/lib/python3.11/site-packages (from sentence-transformers) (2.1.0+cu118)\n",
            "Requirement already satisfied: torchvision in /home/amos/mambaforge/envs/test/lib/python3.11/site-packages (from sentence-transformers) (0.16.0+cu118)\n",
            "Requirement already satisfied: numpy in /home/amos/mambaforge/envs/test/lib/python3.11/site-packages (from sentence-transformers) (1.24.1)\n",
            "Requirement already satisfied: scikit-learn in /home/amos/mambaforge/envs/test/lib/python3.11/site-packages (from sentence-transformers) (1.3.1)\n",
            "Requirement already satisfied: scipy in /home/amos/mambaforge/envs/test/lib/python3.11/site-packages (from sentence-transformers) (1.11.3)\n",
            "Collecting nltk (from sentence-transformers)\n",
            "  Using cached nltk-3.8.1-py3-none-any.whl (1.5 MB)\n",
            "Collecting sentencepiece (from sentence-transformers)\n",
            "  Using cached sentencepiece-0.1.99-cp311-cp311-manylinux_2_17_x86_64.manylinux2014_x86_64.whl (1.3 MB)\n",
            "Collecting huggingface-hub>=0.4.0 (from sentence-transformers)\n",
            "  Obtaining dependency information for huggingface-hub>=0.4.0 from https://files.pythonhosted.org/packages/aa/f3/3fc97336a0e90516901befd4f500f08d691034d387406fdbde85bea827cc/huggingface_hub-0.17.3-py3-none-any.whl.metadata\n",
            "  Using cached huggingface_hub-0.17.3-py3-none-any.whl.metadata (13 kB)\n",
            "Requirement already satisfied: filelock in /home/amos/mambaforge/envs/test/lib/python3.11/site-packages (from huggingface-hub>=0.4.0->sentence-transformers) (3.9.0)\n",
            "Requirement already satisfied: fsspec in /home/amos/mambaforge/envs/test/lib/python3.11/site-packages (from huggingface-hub>=0.4.0->sentence-transformers) (2023.4.0)\n",
            "Requirement already satisfied: requests in /home/amos/mambaforge/envs/test/lib/python3.11/site-packages (from huggingface-hub>=0.4.0->sentence-transformers) (2.28.1)\n",
            "Collecting pyyaml>=5.1 (from huggingface-hub>=0.4.0->sentence-transformers)\n",
            "  Obtaining dependency information for pyyaml>=5.1 from https://files.pythonhosted.org/packages/7b/5e/efd033ab7199a0b2044dab3b9f7a4f6670e6a52c089de572e928d2873b06/PyYAML-6.0.1-cp311-cp311-manylinux_2_17_x86_64.manylinux2014_x86_64.whl.metadata\n",
            "  Using cached PyYAML-6.0.1-cp311-cp311-manylinux_2_17_x86_64.manylinux2014_x86_64.whl.metadata (2.1 kB)\n",
            "Requirement already satisfied: typing-extensions>=3.7.4.3 in /home/amos/mambaforge/envs/test/lib/python3.11/site-packages (from huggingface-hub>=0.4.0->sentence-transformers) (4.8.0)\n",
            "Requirement already satisfied: packaging>=20.9 in /home/amos/mambaforge/envs/test/lib/python3.11/site-packages (from huggingface-hub>=0.4.0->sentence-transformers) (23.2)\n",
            "Requirement already satisfied: sympy in /home/amos/mambaforge/envs/test/lib/python3.11/site-packages (from torch>=1.6.0->sentence-transformers) (1.12)\n",
            "Requirement already satisfied: networkx in /home/amos/mambaforge/envs/test/lib/python3.11/site-packages (from torch>=1.6.0->sentence-transformers) (3.0)\n",
            "Requirement already satisfied: jinja2 in /home/amos/mambaforge/envs/test/lib/python3.11/site-packages (from torch>=1.6.0->sentence-transformers) (3.1.2)\n",
            "Requirement already satisfied: triton==2.1.0 in /home/amos/mambaforge/envs/test/lib/python3.11/site-packages (from torch>=1.6.0->sentence-transformers) (2.1.0)\n",
            "Collecting regex!=2019.12.17 (from transformers<5.0.0,>=4.6.0->sentence-transformers)\n",
            "  Obtaining dependency information for regex!=2019.12.17 from https://files.pythonhosted.org/packages/f2/b8/b1ec82fce93064a73ba67f2bb158ec9cac4a0e8f0b6942268ec963947329/regex-2023.10.3-cp311-cp311-manylinux_2_17_x86_64.manylinux2014_x86_64.whl.metadata\n",
            "  Downloading regex-2023.10.3-cp311-cp311-manylinux_2_17_x86_64.manylinux2014_x86_64.whl.metadata (40 kB)\n",
            "\u001b[2K     \u001b[90m━━━━━━━━━━━━━━━━━━━━━━━━━━━━━━━━━━━━━━━━\u001b[0m \u001b[32m40.9/40.9 kB\u001b[0m \u001b[31m1.3 MB/s\u001b[0m eta \u001b[36m0:00:00\u001b[0m\n",
            "\u001b[?25hCollecting tokenizers<0.15,>=0.14 (from transformers<5.0.0,>=4.6.0->sentence-transformers)\n",
            "  Obtaining dependency information for tokenizers<0.15,>=0.14 from https://files.pythonhosted.org/packages/45/19/bfdbe9504896938cce00cab78b2847d2c1fbda5201704d7bf691699b70b9/tokenizers-0.14.0-cp311-cp311-manylinux_2_17_x86_64.manylinux2014_x86_64.whl.metadata\n",
            "  Downloading tokenizers-0.14.0-cp311-cp311-manylinux_2_17_x86_64.manylinux2014_x86_64.whl.metadata (6.7 kB)\n",
            "Collecting safetensors>=0.3.1 (from transformers<5.0.0,>=4.6.0->sentence-transformers)\n",
            "  Obtaining dependency information for safetensors>=0.3.1 from https://files.pythonhosted.org/packages/9c/ee/de72fa290bef49b22aacdf112e70f40d3b1beb526dd65e94e0f540d192f0/safetensors-0.3.3-cp311-cp311-manylinux_2_17_x86_64.manylinux2014_x86_64.whl.metadata\n",
            "  Using cached safetensors-0.3.3-cp311-cp311-manylinux_2_17_x86_64.manylinux2014_x86_64.whl.metadata (4.7 kB)\n",
            "Collecting click (from nltk->sentence-transformers)\n",
            "  Obtaining dependency information for click from https://files.pythonhosted.org/packages/00/2e/d53fa4befbf2cfa713304affc7ca780ce4fc1fd8710527771b58311a3229/click-8.1.7-py3-none-any.whl.metadata\n",
            "  Using cached click-8.1.7-py3-none-any.whl.metadata (3.0 kB)\n",
            "Requirement already satisfied: joblib in /home/amos/mambaforge/envs/test/lib/python3.11/site-packages (from nltk->sentence-transformers) (1.3.2)\n",
            "Requirement already satisfied: threadpoolctl>=2.0.0 in /home/amos/mambaforge/envs/test/lib/python3.11/site-packages (from scikit-learn->sentence-transformers) (3.2.0)\n",
            "Requirement already satisfied: pillow!=8.3.*,>=5.3.0 in /home/amos/mambaforge/envs/test/lib/python3.11/site-packages (from torchvision->sentence-transformers) (9.3.0)\n",
            "Collecting huggingface-hub>=0.4.0 (from sentence-transformers)\n",
            "  Obtaining dependency information for huggingface-hub>=0.4.0 from https://files.pythonhosted.org/packages/7f/c4/adcbe9a696c135578cabcbdd7331332daad4d49b7c43688bc2d36b3a47d2/huggingface_hub-0.16.4-py3-none-any.whl.metadata\n",
            "  Using cached huggingface_hub-0.16.4-py3-none-any.whl.metadata (12 kB)\n",
            "Requirement already satisfied: MarkupSafe>=2.0 in /home/amos/mambaforge/envs/test/lib/python3.11/site-packages (from jinja2->torch>=1.6.0->sentence-transformers) (2.1.2)\n",
            "Requirement already satisfied: charset-normalizer<3,>=2 in /home/amos/mambaforge/envs/test/lib/python3.11/site-packages (from requests->huggingface-hub>=0.4.0->sentence-transformers) (2.1.1)\n",
            "Requirement already satisfied: idna<4,>=2.5 in /home/amos/mambaforge/envs/test/lib/python3.11/site-packages (from requests->huggingface-hub>=0.4.0->sentence-transformers) (3.4)\n",
            "Requirement already satisfied: urllib3<1.27,>=1.21.1 in /home/amos/mambaforge/envs/test/lib/python3.11/site-packages (from requests->huggingface-hub>=0.4.0->sentence-transformers) (1.26.13)\n",
            "Requirement already satisfied: certifi>=2017.4.17 in /home/amos/mambaforge/envs/test/lib/python3.11/site-packages (from requests->huggingface-hub>=0.4.0->sentence-transformers) (2022.12.7)\n",
            "Requirement already satisfied: mpmath>=0.19 in /home/amos/mambaforge/envs/test/lib/python3.11/site-packages (from sympy->torch>=1.6.0->sentence-transformers) (1.3.0)\n",
            "Using cached transformers-4.34.0-py3-none-any.whl (7.7 MB)\n",
            "Using cached PyYAML-6.0.1-cp311-cp311-manylinux_2_17_x86_64.manylinux2014_x86_64.whl (757 kB)\n",
            "Downloading regex-2023.10.3-cp311-cp311-manylinux_2_17_x86_64.manylinux2014_x86_64.whl (785 kB)\n",
            "\u001b[2K   \u001b[90m━━━━━━━━━━━━━━━━━━━━━━━━━━━━━━━━━━━━━━━━\u001b[0m \u001b[32m785.1/785.1 kB\u001b[0m \u001b[31m7.7 MB/s\u001b[0m eta \u001b[36m0:00:00\u001b[0ma \u001b[36m0:00:01\u001b[0m\n",
            "\u001b[?25hUsing cached safetensors-0.3.3-cp311-cp311-manylinux_2_17_x86_64.manylinux2014_x86_64.whl (1.3 MB)\n",
            "Downloading tokenizers-0.14.0-cp311-cp311-manylinux_2_17_x86_64.manylinux2014_x86_64.whl (3.8 MB)\n",
            "\u001b[2K   \u001b[90m━━━━━━━━━━━━━━━━━━━━━━━━━━━━━━━━━━━━━━━━\u001b[0m \u001b[32m3.8/3.8 MB\u001b[0m \u001b[31m18.0 MB/s\u001b[0m eta \u001b[36m0:00:00\u001b[0m00:01\u001b[0m00:01\u001b[0m\n",
            "\u001b[?25hUsing cached huggingface_hub-0.16.4-py3-none-any.whl (268 kB)\n",
            "Using cached click-8.1.7-py3-none-any.whl (97 kB)\n",
            "Installing collected packages: sentencepiece, safetensors, regex, pyyaml, click, nltk, huggingface-hub, tokenizers, transformers, sentence-transformers\n",
            "Successfully installed click-8.1.7 huggingface-hub-0.16.4 nltk-3.8.1 pyyaml-6.0.1 regex-2023.10.3 safetensors-0.3.3 sentence-transformers-2.2.2 sentencepiece-0.1.99 tokenizers-0.14.0 transformers-4.34.0\n",
            "Collecting torcheval\n",
            "  Obtaining dependency information for torcheval from https://files.pythonhosted.org/packages/e4/de/e7abc784b00de9d05999657d29187f1f7a3406ed10ecaf164de06482608f/torcheval-0.0.7-py3-none-any.whl.metadata\n",
            "  Using cached torcheval-0.0.7-py3-none-any.whl.metadata (8.6 kB)\n",
            "Requirement already satisfied: typing-extensions in /home/amos/mambaforge/envs/test/lib/python3.11/site-packages (from torcheval) (4.8.0)\n",
            "Using cached torcheval-0.0.7-py3-none-any.whl (179 kB)\n",
            "Installing collected packages: torcheval\n",
            "Successfully installed torcheval-0.0.7\n",
            "Collecting matplotlib\n",
            "  Obtaining dependency information for matplotlib from https://files.pythonhosted.org/packages/65/5b/3b8fd7d66043f0638a35fa650570cbe69efd42fe169e5024f9307598b47e/matplotlib-3.8.0-cp311-cp311-manylinux_2_17_x86_64.manylinux2014_x86_64.whl.metadata\n",
            "  Using cached matplotlib-3.8.0-cp311-cp311-manylinux_2_17_x86_64.manylinux2014_x86_64.whl.metadata (5.8 kB)\n",
            "Collecting contourpy>=1.0.1 (from matplotlib)\n",
            "  Obtaining dependency information for contourpy>=1.0.1 from https://files.pythonhosted.org/packages/b7/f6/78f60fa0b6ae64971178e2542e8b3ad3ba5f4f379b918ab7b18038a3f897/contourpy-1.1.1-cp311-cp311-manylinux_2_17_x86_64.manylinux2014_x86_64.whl.metadata\n",
            "  Using cached contourpy-1.1.1-cp311-cp311-manylinux_2_17_x86_64.manylinux2014_x86_64.whl.metadata (5.9 kB)\n",
            "Collecting cycler>=0.10 (from matplotlib)\n",
            "  Obtaining dependency information for cycler>=0.10 from https://files.pythonhosted.org/packages/2b/b3/70c33027c4918c10ccf176014b38f8b91cb18ac018a78854543a4fc72609/cycler-0.12.0-py3-none-any.whl.metadata\n",
            "  Using cached cycler-0.12.0-py3-none-any.whl.metadata (3.8 kB)\n",
            "Collecting fonttools>=4.22.0 (from matplotlib)\n",
            "  Obtaining dependency information for fonttools>=4.22.0 from https://files.pythonhosted.org/packages/ca/3b/9554bcd5005f994ab65e8238c713e62ddfd30e1d003a0b8e77193a0c2356/fonttools-4.43.0-cp311-cp311-manylinux_2_17_x86_64.manylinux2014_x86_64.whl.metadata\n",
            "  Using cached fonttools-4.43.0-cp311-cp311-manylinux_2_17_x86_64.manylinux2014_x86_64.whl.metadata (151 kB)\n",
            "Collecting kiwisolver>=1.0.1 (from matplotlib)\n",
            "  Obtaining dependency information for kiwisolver>=1.0.1 from https://files.pythonhosted.org/packages/17/ba/17a706b232308e65f57deeccae503c268292e6a091313f6ce833a23093ea/kiwisolver-1.4.5-cp311-cp311-manylinux_2_17_x86_64.manylinux2014_x86_64.whl.metadata\n",
            "  Using cached kiwisolver-1.4.5-cp311-cp311-manylinux_2_17_x86_64.manylinux2014_x86_64.whl.metadata (6.4 kB)\n",
            "Requirement already satisfied: numpy<2,>=1.21 in /home/amos/mambaforge/envs/test/lib/python3.11/site-packages (from matplotlib) (1.24.1)\n",
            "Requirement already satisfied: packaging>=20.0 in /home/amos/mambaforge/envs/test/lib/python3.11/site-packages (from matplotlib) (23.2)\n",
            "Requirement already satisfied: pillow>=6.2.0 in /home/amos/mambaforge/envs/test/lib/python3.11/site-packages (from matplotlib) (9.3.0)\n",
            "Requirement already satisfied: pyparsing>=2.3.1 in /home/amos/mambaforge/envs/test/lib/python3.11/site-packages (from matplotlib) (3.1.1)\n",
            "Requirement already satisfied: python-dateutil>=2.7 in /home/amos/mambaforge/envs/test/lib/python3.11/site-packages (from matplotlib) (2.8.2)\n",
            "Requirement already satisfied: six>=1.5 in /home/amos/mambaforge/envs/test/lib/python3.11/site-packages (from python-dateutil>=2.7->matplotlib) (1.16.0)\n",
            "Using cached matplotlib-3.8.0-cp311-cp311-manylinux_2_17_x86_64.manylinux2014_x86_64.whl (11.6 MB)\n",
            "Using cached contourpy-1.1.1-cp311-cp311-manylinux_2_17_x86_64.manylinux2014_x86_64.whl (302 kB)\n",
            "Using cached cycler-0.12.0-py3-none-any.whl (8.2 kB)\n",
            "Using cached fonttools-4.43.0-cp311-cp311-manylinux_2_17_x86_64.manylinux2014_x86_64.whl (4.9 MB)\n",
            "Using cached kiwisolver-1.4.5-cp311-cp311-manylinux_2_17_x86_64.manylinux2014_x86_64.whl (1.4 MB)\n",
            "Installing collected packages: kiwisolver, fonttools, cycler, contourpy, matplotlib\n",
            "Successfully installed contourpy-1.1.1 cycler-0.12.0 fonttools-4.43.0 kiwisolver-1.4.5 matplotlib-3.8.0\n",
            "Collecting pandas\n",
            "  Obtaining dependency information for pandas from https://files.pythonhosted.org/packages/de/ce/b5d9c7ce1aaf9023b823c81932a50cd5e8f407198a696b0d1c6025a40b03/pandas-2.1.1-cp311-cp311-manylinux_2_17_x86_64.manylinux2014_x86_64.whl.metadata\n",
            "  Using cached pandas-2.1.1-cp311-cp311-manylinux_2_17_x86_64.manylinux2014_x86_64.whl.metadata (18 kB)\n",
            "Requirement already satisfied: numpy>=1.23.2 in /home/amos/mambaforge/envs/test/lib/python3.11/site-packages (from pandas) (1.24.1)\n",
            "Requirement already satisfied: python-dateutil>=2.8.2 in /home/amos/mambaforge/envs/test/lib/python3.11/site-packages (from pandas) (2.8.2)\n",
            "Collecting pytz>=2020.1 (from pandas)\n",
            "  Obtaining dependency information for pytz>=2020.1 from https://files.pythonhosted.org/packages/32/4d/aaf7eff5deb402fd9a24a1449a8119f00d74ae9c2efa79f8ef9994261fc2/pytz-2023.3.post1-py2.py3-none-any.whl.metadata\n",
            "  Using cached pytz-2023.3.post1-py2.py3-none-any.whl.metadata (22 kB)\n",
            "Collecting tzdata>=2022.1 (from pandas)\n",
            "  Using cached tzdata-2023.3-py2.py3-none-any.whl (341 kB)\n",
            "Requirement already satisfied: six>=1.5 in /home/amos/mambaforge/envs/test/lib/python3.11/site-packages (from python-dateutil>=2.8.2->pandas) (1.16.0)\n",
            "Using cached pandas-2.1.1-cp311-cp311-manylinux_2_17_x86_64.manylinux2014_x86_64.whl (12.2 MB)\n",
            "Using cached pytz-2023.3.post1-py2.py3-none-any.whl (502 kB)\n",
            "Installing collected packages: pytz, tzdata, pandas\n",
            "Successfully installed pandas-2.1.1 pytz-2023.3.post1 tzdata-2023.3\n",
            "Collecting tensorboard\n",
            "  Obtaining dependency information for tensorboard from https://files.pythonhosted.org/packages/73/a2/66ed644f6ed1562e0285fcd959af17670ea313c8f331c46f79ee77187eb9/tensorboard-2.14.1-py3-none-any.whl.metadata\n",
            "  Using cached tensorboard-2.14.1-py3-none-any.whl.metadata (1.7 kB)\n",
            "Collecting absl-py>=0.4 (from tensorboard)\n",
            "  Obtaining dependency information for absl-py>=0.4 from https://files.pythonhosted.org/packages/01/e4/dc0a1dcc4e74e08d7abedab278c795eef54a224363bb18f5692f416d834f/absl_py-2.0.0-py3-none-any.whl.metadata\n",
            "  Using cached absl_py-2.0.0-py3-none-any.whl.metadata (2.3 kB)\n",
            "Collecting grpcio>=1.48.2 (from tensorboard)\n",
            "  Obtaining dependency information for grpcio>=1.48.2 from https://files.pythonhosted.org/packages/e7/f9/33e17bb938d4b2afc7373120190e857f951d26f899992a9e717121170e2a/grpcio-1.59.0-cp311-cp311-manylinux_2_17_x86_64.manylinux2014_x86_64.whl.metadata\n",
            "  Using cached grpcio-1.59.0-cp311-cp311-manylinux_2_17_x86_64.manylinux2014_x86_64.whl.metadata (4.0 kB)\n",
            "Collecting google-auth<3,>=1.6.3 (from tensorboard)\n",
            "  Obtaining dependency information for google-auth<3,>=1.6.3 from https://files.pythonhosted.org/packages/d7/88/1826b0c047c48763b36ed854a984127b430a16b70003155d7b19975f1d59/google_auth-2.23.2-py2.py3-none-any.whl.metadata\n",
            "  Using cached google_auth-2.23.2-py2.py3-none-any.whl.metadata (4.2 kB)\n",
            "Collecting google-auth-oauthlib<1.1,>=0.5 (from tensorboard)\n",
            "  Using cached google_auth_oauthlib-1.0.0-py2.py3-none-any.whl (18 kB)\n",
            "Collecting markdown>=2.6.8 (from tensorboard)\n",
            "  Obtaining dependency information for markdown>=2.6.8 from https://files.pythonhosted.org/packages/1a/b5/228c1cdcfe138f1a8e01ab1b54284c8b83735476cb22b6ba251656ed13ad/Markdown-3.4.4-py3-none-any.whl.metadata\n",
            "  Using cached Markdown-3.4.4-py3-none-any.whl.metadata (6.9 kB)\n",
            "Requirement already satisfied: numpy>=1.12.0 in /home/amos/mambaforge/envs/test/lib/python3.11/site-packages (from tensorboard) (1.24.1)\n",
            "Collecting protobuf>=3.19.6 (from tensorboard)\n",
            "  Obtaining dependency information for protobuf>=3.19.6 from https://files.pythonhosted.org/packages/c8/2c/03046cac73f46bfe98fc846ef629cf4f84c2f59258216aa2cc0d22bfca8f/protobuf-4.24.4-cp37-abi3-manylinux2014_x86_64.whl.metadata\n",
            "  Using cached protobuf-4.24.4-cp37-abi3-manylinux2014_x86_64.whl.metadata (540 bytes)\n",
            "Requirement already satisfied: requests<3,>=2.21.0 in /home/amos/mambaforge/envs/test/lib/python3.11/site-packages (from tensorboard) (2.28.1)\n",
            "Requirement already satisfied: setuptools>=41.0.0 in /home/amos/mambaforge/envs/test/lib/python3.11/site-packages (from tensorboard) (68.2.2)\n",
            "Requirement already satisfied: six>1.9 in /home/amos/mambaforge/envs/test/lib/python3.11/site-packages (from tensorboard) (1.16.0)\n",
            "Collecting tensorboard-data-server<0.8.0,>=0.7.0 (from tensorboard)\n",
            "  Obtaining dependency information for tensorboard-data-server<0.8.0,>=0.7.0 from https://files.pythonhosted.org/packages/02/52/fb9e51fba47951aabd7a6b25e41d73eae94208ccf62d886168096941a781/tensorboard_data_server-0.7.1-py3-none-manylinux2014_x86_64.whl.metadata\n",
            "  Using cached tensorboard_data_server-0.7.1-py3-none-manylinux2014_x86_64.whl.metadata (1.1 kB)\n",
            "Collecting werkzeug>=1.0.1 (from tensorboard)\n",
            "  Obtaining dependency information for werkzeug>=1.0.1 from https://files.pythonhosted.org/packages/b6/a5/54b01f663d60d5334f6c9c87c26274e94617a4fd463d812463626423b10d/werkzeug-3.0.0-py3-none-any.whl.metadata\n",
            "  Using cached werkzeug-3.0.0-py3-none-any.whl.metadata (4.1 kB)\n",
            "Collecting cachetools<6.0,>=2.0.0 (from google-auth<3,>=1.6.3->tensorboard)\n",
            "  Obtaining dependency information for cachetools<6.0,>=2.0.0 from https://files.pythonhosted.org/packages/a9/c9/c8a7710f2cedcb1db9224fdd4d8307c9e48cbddc46c18b515fefc0f1abbe/cachetools-5.3.1-py3-none-any.whl.metadata\n",
            "  Using cached cachetools-5.3.1-py3-none-any.whl.metadata (5.2 kB)\n",
            "Collecting pyasn1-modules>=0.2.1 (from google-auth<3,>=1.6.3->tensorboard)\n",
            "  Using cached pyasn1_modules-0.3.0-py2.py3-none-any.whl (181 kB)\n",
            "Collecting rsa<5,>=3.1.4 (from google-auth<3,>=1.6.3->tensorboard)\n",
            "  Using cached rsa-4.9-py3-none-any.whl (34 kB)\n",
            "Collecting requests-oauthlib>=0.7.0 (from google-auth-oauthlib<1.1,>=0.5->tensorboard)\n",
            "  Using cached requests_oauthlib-1.3.1-py2.py3-none-any.whl (23 kB)\n",
            "Requirement already satisfied: charset-normalizer<3,>=2 in /home/amos/mambaforge/envs/test/lib/python3.11/site-packages (from requests<3,>=2.21.0->tensorboard) (2.1.1)\n",
            "Requirement already satisfied: idna<4,>=2.5 in /home/amos/mambaforge/envs/test/lib/python3.11/site-packages (from requests<3,>=2.21.0->tensorboard) (3.4)\n",
            "Requirement already satisfied: urllib3<1.27,>=1.21.1 in /home/amos/mambaforge/envs/test/lib/python3.11/site-packages (from requests<3,>=2.21.0->tensorboard) (1.26.13)\n",
            "Requirement already satisfied: certifi>=2017.4.17 in /home/amos/mambaforge/envs/test/lib/python3.11/site-packages (from requests<3,>=2.21.0->tensorboard) (2022.12.7)\n",
            "Requirement already satisfied: MarkupSafe>=2.1.1 in /home/amos/mambaforge/envs/test/lib/python3.11/site-packages (from werkzeug>=1.0.1->tensorboard) (2.1.2)\n",
            "Collecting pyasn1<0.6.0,>=0.4.6 (from pyasn1-modules>=0.2.1->google-auth<3,>=1.6.3->tensorboard)\n",
            "  Using cached pyasn1-0.5.0-py2.py3-none-any.whl (83 kB)\n",
            "Collecting oauthlib>=3.0.0 (from requests-oauthlib>=0.7.0->google-auth-oauthlib<1.1,>=0.5->tensorboard)\n",
            "  Using cached oauthlib-3.2.2-py3-none-any.whl (151 kB)\n",
            "Using cached tensorboard-2.14.1-py3-none-any.whl (5.5 MB)\n",
            "Using cached absl_py-2.0.0-py3-none-any.whl (130 kB)\n",
            "Using cached google_auth-2.23.2-py2.py3-none-any.whl (181 kB)\n",
            "Using cached grpcio-1.59.0-cp311-cp311-manylinux_2_17_x86_64.manylinux2014_x86_64.whl (5.3 MB)\n",
            "Using cached Markdown-3.4.4-py3-none-any.whl (94 kB)\n",
            "Using cached protobuf-4.24.4-cp37-abi3-manylinux2014_x86_64.whl (311 kB)\n",
            "Using cached tensorboard_data_server-0.7.1-py3-none-manylinux2014_x86_64.whl (6.6 MB)\n",
            "Using cached werkzeug-3.0.0-py3-none-any.whl (226 kB)\n",
            "Using cached cachetools-5.3.1-py3-none-any.whl (9.3 kB)\n",
            "Installing collected packages: werkzeug, tensorboard-data-server, pyasn1, protobuf, oauthlib, markdown, grpcio, cachetools, absl-py, rsa, requests-oauthlib, pyasn1-modules, google-auth, google-auth-oauthlib, tensorboard\n",
            "Successfully installed absl-py-2.0.0 cachetools-5.3.1 google-auth-2.23.2 google-auth-oauthlib-1.0.0 grpcio-1.59.0 markdown-3.4.4 oauthlib-3.2.2 protobuf-4.24.4 pyasn1-0.5.0 pyasn1-modules-0.3.0 requests-oauthlib-1.3.1 rsa-4.9 tensorboard-2.14.1 tensorboard-data-server-0.7.1 werkzeug-3.0.0\n",
            "unzip:  cannot find or open /content/drive/MyDrive/DataExplorationProject/Skill_Ontology_GNN/neo4jgraph.zip, /content/drive/MyDrive/DataExplorationProject/Skill_Ontology_GNN/neo4jgraph.zip.zip or /content/drive/MyDrive/DataExplorationProject/Skill_Ontology_GNN/neo4jgraph.zip.ZIP.\n"
          ]
        }
      ],
      "source": [
        "# if colab:\n",
        "    # Install required packages.\n",
        "    # !pip install torch-scatter -f https://data.pyg.org/whl/torch-{torch.__version__}.html\n",
        "    # !pip install torch-sparse -f https://data.pyg.org/whl/torch-{torch.__version__}.html\n",
        "    # !pip install torch-cluster -f https://data.pyg.org/whl/torch-{torch.__version__}.html\n",
        "    # !pip install git+https://github.com/pyg-team/pytorch_geometric.git\n",
        "# !pip install torch torchvision torchaudio --index-url https://download.pytorch.org/whl/cu118\n",
        "# !pip install torch_geometric\n",
        "# !pip install pyg_lib torch_scatter torch_sparse torch_cluster torch_spline_conv -f https://data.pyg.org/whl/torch-2.0.0+cu118.html\n",
        "# !pip install sentence-transformers\n",
        "# !pip install torcheval\n",
        "# !pip install matplotlib\n",
        "# !pip install pandas\n",
        "# !pip install tensorboard\n",
        "\n",
        "    # unpack datasets\n",
        "    # if not 'unzipped' in globals():\n",
        "    #     !unzip /content/drive/MyDrive/DataExplorationProject/Skill_Ontology_GNN/neo4jgraph.zip\n",
        "    #     unzipped =True"
      ]
    },
    {
      "cell_type": "code",
      "execution_count": 5,
      "metadata": {
        "colab": {
          "base_uri": "https://localhost:8080/",
          "height": 143
        },
        "id": "p1oM_TnG9udQ",
        "outputId": "094d85e4-269c-4906-ee4b-396d85fec6d1"
      },
      "outputs": [],
      "source": [
        "import pandas as pd\n",
        "from torch_geometric.data import HeteroData\n",
        "import torch_geometric.transforms as T"
      ]
    },
    {
      "cell_type": "code",
      "execution_count": 30,
      "metadata": {
        "id": "hb6bIOsz9udU"
      },
      "outputs": [],
      "source": [
        "# only use skill nodes which have normalized_name != NaN, this is some indication of quality skill (?)\n",
        "skill_nodes = pd.read_csv('neo4jgraph/skills.csv').dropna(subset=['normalized_name']).reset_index()\n",
        "job_nodes = pd.read_csv('neo4jgraph/onet_skills_unique.csv')\n",
        "\n",
        "# drop some skills \"or\"\n",
        "skill_nodes = skill_nodes.loc[~skill_nodes.skill.isin(['or','technology'])]"
      ]
    },
    {
      "cell_type": "code",
      "execution_count": 31,
      "metadata": {
        "id": "1Jj8pvb49udV"
      },
      "outputs": [
        {
          "data": {
            "text/plain": [
              "38830"
            ]
          },
          "execution_count": 31,
          "metadata": {},
          "output_type": "execute_result"
        }
      ],
      "source": [
        "# There are duplicate normalized names\n",
        "skill_nodes.shape[0]-skill_nodes.normalized_name.unique().shape[0]"
      ]
    },
    {
      "cell_type": "code",
      "execution_count": 32,
      "metadata": {
        "id": "dTuAjvSa9udV"
      },
      "outputs": [
        {
          "data": {
            "text/plain": [
              "2488"
            ]
          },
          "execution_count": 32,
          "metadata": {},
          "output_type": "execute_result"
        }
      ],
      "source": [
        "# There are not as many skill names which are duplicate\n",
        "skill_nodes.shape[0]-skill_nodes.skill.unique().shape[0]"
      ]
    },
    {
      "cell_type": "code",
      "execution_count": 33,
      "metadata": {
        "id": "LwaRmpWL9udW"
      },
      "outputs": [
        {
          "data": {
            "text/html": [
              "<div>\n",
              "<style scoped>\n",
              "    .dataframe tbody tr th:only-of-type {\n",
              "        vertical-align: middle;\n",
              "    }\n",
              "\n",
              "    .dataframe tbody tr th {\n",
              "        vertical-align: top;\n",
              "    }\n",
              "\n",
              "    .dataframe thead th {\n",
              "        text-align: right;\n",
              "    }\n",
              "</style>\n",
              "<table border=\"1\" class=\"dataframe\">\n",
              "  <thead>\n",
              "    <tr style=\"text-align: right;\">\n",
              "      <th></th>\n",
              "      <th>index</th>\n",
              "      <th>skill</th>\n",
              "      <th>category</th>\n",
              "      <th>normalized_name</th>\n",
              "    </tr>\n",
              "  </thead>\n",
              "  <tbody>\n",
              "    <tr>\n",
              "      <th>695</th>\n",
              "      <td>2229</td>\n",
              "      <td>communication</td>\n",
              "      <td>communication</td>\n",
              "      <td>Third-Party Provider Communication</td>\n",
              "    </tr>\n",
              "    <tr>\n",
              "      <th>1294</th>\n",
              "      <td>4059</td>\n",
              "      <td>communication</td>\n",
              "      <td>healthcare</td>\n",
              "      <td>Communication (Including SBAR)</td>\n",
              "    </tr>\n",
              "    <tr>\n",
              "      <th>4231</th>\n",
              "      <td>12919</td>\n",
              "      <td>communication</td>\n",
              "      <td>communication</td>\n",
              "      <td>Friendly Communication</td>\n",
              "    </tr>\n",
              "    <tr>\n",
              "      <th>5532</th>\n",
              "      <td>16927</td>\n",
              "      <td>communication</td>\n",
              "      <td>communication</td>\n",
              "      <td>radio/telephone communication</td>\n",
              "    </tr>\n",
              "    <tr>\n",
              "      <th>6315</th>\n",
              "      <td>19452</td>\n",
              "      <td>communication</td>\n",
              "      <td>communication</td>\n",
              "      <td>communication (phone and email)</td>\n",
              "    </tr>\n",
              "    <tr>\n",
              "      <th>...</th>\n",
              "      <td>...</td>\n",
              "      <td>...</td>\n",
              "      <td>...</td>\n",
              "      <td>...</td>\n",
              "    </tr>\n",
              "    <tr>\n",
              "      <th>223945</th>\n",
              "      <td>759817</td>\n",
              "      <td>communication</td>\n",
              "      <td>communication</td>\n",
              "      <td>Calling/Applying</td>\n",
              "    </tr>\n",
              "    <tr>\n",
              "      <th>224672</th>\n",
              "      <td>762531</td>\n",
              "      <td>communication</td>\n",
              "      <td>communication</td>\n",
              "      <td>Communication</td>\n",
              "    </tr>\n",
              "    <tr>\n",
              "      <th>238708</th>\n",
              "      <td>818822</td>\n",
              "      <td>communication</td>\n",
              "      <td>communication</td>\n",
              "      <td>Email/Phone Communication</td>\n",
              "    </tr>\n",
              "    <tr>\n",
              "      <th>245547</th>\n",
              "      <td>848577</td>\n",
              "      <td>communication</td>\n",
              "      <td>soft skills</td>\n",
              "      <td>Communication (Phone/Face-to-Face)</td>\n",
              "    </tr>\n",
              "    <tr>\n",
              "      <th>247403</th>\n",
              "      <td>857407</td>\n",
              "      <td>communication</td>\n",
              "      <td>healthcare</td>\n",
              "      <td>Communication (Speech and Hearing)</td>\n",
              "    </tr>\n",
              "  </tbody>\n",
              "</table>\n",
              "<p>76 rows × 4 columns</p>\n",
              "</div>"
            ],
            "text/plain": [
              "         index          skill       category  \\\n",
              "695       2229  communication  communication   \n",
              "1294      4059  communication     healthcare   \n",
              "4231     12919  communication  communication   \n",
              "5532     16927  communication  communication   \n",
              "6315     19452  communication  communication   \n",
              "...        ...            ...            ...   \n",
              "223945  759817  communication  communication   \n",
              "224672  762531  communication  communication   \n",
              "238708  818822  communication  communication   \n",
              "245547  848577  communication    soft skills   \n",
              "247403  857407  communication     healthcare   \n",
              "\n",
              "                           normalized_name  \n",
              "695     Third-Party Provider Communication  \n",
              "1294        Communication (Including SBAR)  \n",
              "4231                Friendly Communication  \n",
              "5532         radio/telephone communication  \n",
              "6315       communication (phone and email)  \n",
              "...                                    ...  \n",
              "223945                    Calling/Applying  \n",
              "224672                       Communication  \n",
              "238708           Email/Phone Communication  \n",
              "245547  Communication (Phone/Face-to-Face)  \n",
              "247403  Communication (Speech and Hearing)  \n",
              "\n",
              "[76 rows x 4 columns]"
            ]
          },
          "execution_count": 33,
          "metadata": {},
          "output_type": "execute_result"
        }
      ],
      "source": [
        "# we can not use normalized name instead of skill, because it is ambiguous, e.g. communication points to different normalized names\n",
        "skill_nodes.loc[skill_nodes.skill=='communication']"
      ]
    },
    {
      "cell_type": "code",
      "execution_count": 34,
      "metadata": {
        "id": "GIlL1tPh9udW"
      },
      "outputs": [],
      "source": [
        "skill_nodes.drop_duplicates(subset='skill', inplace=True)"
      ]
    },
    {
      "cell_type": "code",
      "execution_count": 35,
      "metadata": {
        "id": "zPzgTNR79udW"
      },
      "outputs": [],
      "source": [
        "\n",
        "skill_job_edges = pd.read_csv('neo4jgraph/tfidf_skill_job_edge.csv')\n",
        "#skill_job_edges = skill_job_edges.loc[skill_job_edges.scaled_tfidf>8]\n",
        "# only use edges where we have the skill and job for from the other files\n",
        "skill_job_edges = skill_job_edges.loc[skill_job_edges['skill'].isin(skill_nodes['skill'])]\n",
        "skill_job_edges = skill_job_edges.loc[skill_job_edges['alt_title'].isin(job_nodes.index)]"
      ]
    },
    {
      "cell_type": "code",
      "execution_count": 25,
      "metadata": {
        "id": "mVB9kvu49udX"
      },
      "outputs": [
        {
          "data": {
            "text/html": [
              "<div>\n",
              "<style scoped>\n",
              "    .dataframe tbody tr th:only-of-type {\n",
              "        vertical-align: middle;\n",
              "    }\n",
              "\n",
              "    .dataframe tbody tr th {\n",
              "        vertical-align: top;\n",
              "    }\n",
              "\n",
              "    .dataframe thead th {\n",
              "        text-align: right;\n",
              "    }\n",
              "</style>\n",
              "<table border=\"1\" class=\"dataframe\">\n",
              "  <thead>\n",
              "    <tr style=\"text-align: right;\">\n",
              "      <th></th>\n",
              "      <th>alt_title</th>\n",
              "      <th>skill</th>\n",
              "      <th>scaled_tfidf</th>\n",
              "      <th>n_jobdesc_used</th>\n",
              "    </tr>\n",
              "  </thead>\n",
              "  <tbody>\n",
              "    <tr>\n",
              "      <th>1</th>\n",
              "      <td>55010</td>\n",
              "      <td>design</td>\n",
              "      <td>9.887307</td>\n",
              "      <td>240</td>\n",
              "    </tr>\n",
              "    <tr>\n",
              "      <th>5</th>\n",
              "      <td>55010</td>\n",
              "      <td>cg</td>\n",
              "      <td>8.744163</td>\n",
              "      <td>240</td>\n",
              "    </tr>\n",
              "    <tr>\n",
              "      <th>10</th>\n",
              "      <td>55010</td>\n",
              "      <td>visual effects</td>\n",
              "      <td>6.299518</td>\n",
              "      <td>240</td>\n",
              "    </tr>\n",
              "    <tr>\n",
              "      <th>11</th>\n",
              "      <td>55010</td>\n",
              "      <td>software</td>\n",
              "      <td>5.288013</td>\n",
              "      <td>240</td>\n",
              "    </tr>\n",
              "    <tr>\n",
              "      <th>12</th>\n",
              "      <td>55010</td>\n",
              "      <td>unity</td>\n",
              "      <td>5.278638</td>\n",
              "      <td>240</td>\n",
              "    </tr>\n",
              "    <tr>\n",
              "      <th>...</th>\n",
              "      <td>...</td>\n",
              "      <td>...</td>\n",
              "      <td>...</td>\n",
              "      <td>...</td>\n",
              "    </tr>\n",
              "    <tr>\n",
              "      <th>7926039</th>\n",
              "      <td>15285</td>\n",
              "      <td>analysis</td>\n",
              "      <td>6.147100</td>\n",
              "      <td>1</td>\n",
              "    </tr>\n",
              "    <tr>\n",
              "      <th>7926040</th>\n",
              "      <td>15285</td>\n",
              "      <td>software</td>\n",
              "      <td>6.013723</td>\n",
              "      <td>1</td>\n",
              "    </tr>\n",
              "    <tr>\n",
              "      <th>7926041</th>\n",
              "      <td>15285</td>\n",
              "      <td>engineering</td>\n",
              "      <td>5.864380</td>\n",
              "      <td>1</td>\n",
              "    </tr>\n",
              "    <tr>\n",
              "      <th>7926050</th>\n",
              "      <td>15285</td>\n",
              "      <td>development</td>\n",
              "      <td>4.434249</td>\n",
              "      <td>1</td>\n",
              "    </tr>\n",
              "    <tr>\n",
              "      <th>7926055</th>\n",
              "      <td>15285</td>\n",
              "      <td>training</td>\n",
              "      <td>3.974054</td>\n",
              "      <td>1</td>\n",
              "    </tr>\n",
              "  </tbody>\n",
              "</table>\n",
              "<p>4071550 rows × 4 columns</p>\n",
              "</div>"
            ],
            "text/plain": [
              "         alt_title           skill  scaled_tfidf  n_jobdesc_used\n",
              "1            55010          design      9.887307             240\n",
              "5            55010              cg      8.744163             240\n",
              "10           55010  visual effects      6.299518             240\n",
              "11           55010        software      5.288013             240\n",
              "12           55010           unity      5.278638             240\n",
              "...            ...             ...           ...             ...\n",
              "7926039      15285        analysis      6.147100               1\n",
              "7926040      15285        software      6.013723               1\n",
              "7926041      15285     engineering      5.864380               1\n",
              "7926050      15285     development      4.434249               1\n",
              "7926055      15285        training      3.974054               1\n",
              "\n",
              "[4071550 rows x 4 columns]"
            ]
          },
          "execution_count": 25,
          "metadata": {},
          "output_type": "execute_result"
        }
      ],
      "source": [
        "skill_job_edges"
      ]
    },
    {
      "cell_type": "code",
      "execution_count": 36,
      "metadata": {
        "id": "pCzFw-fn9udY"
      },
      "outputs": [],
      "source": [
        "# map 3,6,7,3,3,... to 1,2,3,1,1 ...\n",
        "skillmapping ={}\n",
        "for i,skill in enumerate(skill_nodes.skill.unique()):\n",
        "    skillmapping[skill] =i\n",
        "\n",
        "jobmapping ={}\n",
        "for i,index in enumerate(job_nodes['index'].unique()):\n",
        "    jobmapping[index] =i\n",
        "\n",
        "inverted_skillmapping = {v:k for k,v in skillmapping.items()}\n",
        "inverted_jobmapping = {v:k for k,v in jobmapping.items()}"
      ]
    },
    {
      "cell_type": "code",
      "execution_count": 37,
      "metadata": {
        "id": "BHirmQzn9udY"
      },
      "outputs": [],
      "source": [
        "skill_job_edges['skill_dst'] = skill_job_edges['skill'].apply(lambda x:skillmapping[x])\n",
        "skill_job_edges['job_src'] = skill_job_edges['alt_title'].apply(lambda x:jobmapping[x])"
      ]
    },
    {
      "cell_type": "code",
      "execution_count": 38,
      "metadata": {},
      "outputs": [
        {
          "name": "stderr",
          "output_type": "stream",
          "text": [
            "/tmp/ipykernel_25141/76064434.py:6: FutureWarning: The default value of numeric_only in DataFrameGroupBy.sum is deprecated. In a future version, numeric_only will default to False. Either specify numeric_only or select only columns which should be valid for the function.\n",
            "  summed_tfidf_per_job = skill_job_edges.groupby('job_src').sum()\n"
          ]
        }
      ],
      "source": [
        "# normalization and removal of job-skill edges\n",
        "# first group by jobs and limit the skills for each job to 175\n",
        "# then normalize those tfidf edgeweights\n",
        "# then group by skill and limit edges to 125 for skills (ordered by normalized tf-idf)\n",
        "skill_job_edges = skill_job_edges.groupby('job_src').apply(lambda group: group.nlargest(175,'scaled_tfidf')).reset_index(drop=True)\n",
        "summed_tfidf_per_job = skill_job_edges.groupby('job_src').sum()\n",
        "skill_job_edges['sum'] = skill_job_edges['job_src'].apply(lambda x: summed_tfidf_per_job.loc[x]['scaled_tfidf'])\n",
        "skill_job_edges['normalized_tfidf'] =  skill_job_edges['scaled_tfidf']/skill_job_edges['sum']\n",
        "skill_job_edges = skill_job_edges.groupby('skill_dst').apply(lambda group: group.nlargest(125,'normalized_tfidf')).reset_index(drop=True)\n",
        "# we dont do the second round of normalization"
      ]
    },
    {
      "cell_type": "code",
      "execution_count": null,
      "metadata": {},
      "outputs": [],
      "source": [
        "# normalization and removing of skill-skill edges\n"
      ]
    },
    {
      "cell_type": "code",
      "execution_count": null,
      "metadata": {},
      "outputs": [],
      "source": [
        "\n",
        "\n",
        "#for each alt title select the first 125 skill_job edges, ordered by tfidf\n",
        "# skill_job_edges = skill_job_edges.groupby('job_src')\n",
        "# skill_job_edges = skill_job_edges.groupby('job_src').apply(lambda group: group.nlargest(125,'scaled_tfidf')).reset_index(drop=True)\n",
        "\n",
        "# for each skill only use the 125 edges with the highest tf-idf score\n",
        "#skill_job_edges = skill_job_edges.groupby('skill').apply(lambda group: group.nlargest(125,'scaled_tfidf')).reset_index(drop=True)"
      ]
    },
    {
      "cell_type": "code",
      "execution_count": 39,
      "metadata": {},
      "outputs": [
        {
          "data": {
            "text/html": [
              "<div>\n",
              "<style scoped>\n",
              "    .dataframe tbody tr th:only-of-type {\n",
              "        vertical-align: middle;\n",
              "    }\n",
              "\n",
              "    .dataframe tbody tr th {\n",
              "        vertical-align: top;\n",
              "    }\n",
              "\n",
              "    .dataframe thead th {\n",
              "        text-align: right;\n",
              "    }\n",
              "</style>\n",
              "<table border=\"1\" class=\"dataframe\">\n",
              "  <thead>\n",
              "    <tr style=\"text-align: right;\">\n",
              "      <th></th>\n",
              "      <th>alt_title</th>\n",
              "      <th>skill</th>\n",
              "      <th>scaled_tfidf</th>\n",
              "      <th>n_jobdesc_used</th>\n",
              "      <th>skill_dst</th>\n",
              "      <th>job_src</th>\n",
              "      <th>sum</th>\n",
              "      <th>normalized_tfidf</th>\n",
              "    </tr>\n",
              "  </thead>\n",
              "  <tbody>\n",
              "    <tr>\n",
              "      <th>0</th>\n",
              "      <td>24372</td>\n",
              "      <td>working in shift</td>\n",
              "      <td>0.935676</td>\n",
              "      <td>25</td>\n",
              "      <td>3</td>\n",
              "      <td>24370</td>\n",
              "      <td>156.904865</td>\n",
              "      <td>0.005963</td>\n",
              "    </tr>\n",
              "    <tr>\n",
              "      <th>1</th>\n",
              "      <td>4357</td>\n",
              "      <td>working in shift</td>\n",
              "      <td>0.583803</td>\n",
              "      <td>103</td>\n",
              "      <td>3</td>\n",
              "      <td>4357</td>\n",
              "      <td>228.591855</td>\n",
              "      <td>0.002554</td>\n",
              "    </tr>\n",
              "    <tr>\n",
              "      <th>2</th>\n",
              "      <td>2930</td>\n",
              "      <td>digital creators</td>\n",
              "      <td>1.990591</td>\n",
              "      <td>103</td>\n",
              "      <td>6</td>\n",
              "      <td>2930</td>\n",
              "      <td>243.952632</td>\n",
              "      <td>0.008160</td>\n",
              "    </tr>\n",
              "    <tr>\n",
              "      <th>3</th>\n",
              "      <td>3119</td>\n",
              "      <td>digital creators</td>\n",
              "      <td>0.642614</td>\n",
              "      <td>47</td>\n",
              "      <td>6</td>\n",
              "      <td>3119</td>\n",
              "      <td>214.441921</td>\n",
              "      <td>0.002997</td>\n",
              "    </tr>\n",
              "    <tr>\n",
              "      <th>4</th>\n",
              "      <td>6300</td>\n",
              "      <td>integrated solutions</td>\n",
              "      <td>0.899847</td>\n",
              "      <td>13</td>\n",
              "      <td>11</td>\n",
              "      <td>6300</td>\n",
              "      <td>363.114154</td>\n",
              "      <td>0.002478</td>\n",
              "    </tr>\n",
              "    <tr>\n",
              "      <th>...</th>\n",
              "      <td>...</td>\n",
              "      <td>...</td>\n",
              "      <td>...</td>\n",
              "      <td>...</td>\n",
              "      <td>...</td>\n",
              "      <td>...</td>\n",
              "      <td>...</td>\n",
              "      <td>...</td>\n",
              "    </tr>\n",
              "    <tr>\n",
              "      <th>630681</th>\n",
              "      <td>158</td>\n",
              "      <td>company manuals</td>\n",
              "      <td>1.418798</td>\n",
              "      <td>10</td>\n",
              "      <td>247956</td>\n",
              "      <td>158</td>\n",
              "      <td>168.881625</td>\n",
              "      <td>0.008401</td>\n",
              "    </tr>\n",
              "    <tr>\n",
              "      <th>630682</th>\n",
              "      <td>30095</td>\n",
              "      <td>company manuals</td>\n",
              "      <td>0.486556</td>\n",
              "      <td>42</td>\n",
              "      <td>247956</td>\n",
              "      <td>30093</td>\n",
              "      <td>156.559067</td>\n",
              "      <td>0.003108</td>\n",
              "    </tr>\n",
              "    <tr>\n",
              "      <th>630683</th>\n",
              "      <td>6068</td>\n",
              "      <td>environmental inspection</td>\n",
              "      <td>1.265448</td>\n",
              "      <td>16</td>\n",
              "      <td>247957</td>\n",
              "      <td>6068</td>\n",
              "      <td>258.142721</td>\n",
              "      <td>0.004902</td>\n",
              "    </tr>\n",
              "    <tr>\n",
              "      <th>630684</th>\n",
              "      <td>14942</td>\n",
              "      <td>oilfield terminology</td>\n",
              "      <td>2.831527</td>\n",
              "      <td>6</td>\n",
              "      <td>247960</td>\n",
              "      <td>14940</td>\n",
              "      <td>311.253610</td>\n",
              "      <td>0.009097</td>\n",
              "    </tr>\n",
              "    <tr>\n",
              "      <th>630685</th>\n",
              "      <td>3280</td>\n",
              "      <td>oilfield terminology</td>\n",
              "      <td>0.311428</td>\n",
              "      <td>252</td>\n",
              "      <td>247960</td>\n",
              "      <td>3280</td>\n",
              "      <td>133.858609</td>\n",
              "      <td>0.002327</td>\n",
              "    </tr>\n",
              "  </tbody>\n",
              "</table>\n",
              "<p>630686 rows × 8 columns</p>\n",
              "</div>"
            ],
            "text/plain": [
              "        alt_title                     skill  scaled_tfidf  n_jobdesc_used  \\\n",
              "0           24372          working in shift      0.935676              25   \n",
              "1            4357          working in shift      0.583803             103   \n",
              "2            2930          digital creators      1.990591             103   \n",
              "3            3119          digital creators      0.642614              47   \n",
              "4            6300      integrated solutions      0.899847              13   \n",
              "...           ...                       ...           ...             ...   \n",
              "630681        158           company manuals      1.418798              10   \n",
              "630682      30095           company manuals      0.486556              42   \n",
              "630683       6068  environmental inspection      1.265448              16   \n",
              "630684      14942      oilfield terminology      2.831527               6   \n",
              "630685       3280      oilfield terminology      0.311428             252   \n",
              "\n",
              "        skill_dst  job_src         sum  normalized_tfidf  \n",
              "0               3    24370  156.904865          0.005963  \n",
              "1               3     4357  228.591855          0.002554  \n",
              "2               6     2930  243.952632          0.008160  \n",
              "3               6     3119  214.441921          0.002997  \n",
              "4              11     6300  363.114154          0.002478  \n",
              "...           ...      ...         ...               ...  \n",
              "630681     247956      158  168.881625          0.008401  \n",
              "630682     247956    30093  156.559067          0.003108  \n",
              "630683     247957     6068  258.142721          0.004902  \n",
              "630684     247960    14940  311.253610          0.009097  \n",
              "630685     247960     3280  133.858609          0.002327  \n",
              "\n",
              "[630686 rows x 8 columns]"
            ]
          },
          "execution_count": 39,
          "metadata": {},
          "output_type": "execute_result"
        }
      ],
      "source": [
        "skill_job_edges"
      ]
    },
    {
      "cell_type": "code",
      "execution_count": 40,
      "metadata": {
        "id": "8Yfi1fRd9udY"
      },
      "outputs": [],
      "source": [
        "onet_alttitles = pd.read_csv('neo4jgraph/onet_alt_titles_unique.csv')\n",
        "del onet_alttitles['Unnamed: 0']"
      ]
    },
    {
      "cell_type": "code",
      "execution_count": 41,
      "metadata": {
        "id": "8FgE8nyo9udY"
      },
      "outputs": [],
      "source": [
        "onet_alttitle_str_mapping = {}\n",
        "for i,row in onet_alttitles.iterrows():\n",
        "    onet_alttitle_str_mapping[row['index']] = row['Alternate Title']"
      ]
    },
    {
      "cell_type": "code",
      "execution_count": 42,
      "metadata": {
        "id": "E1_J7gV59udY"
      },
      "outputs": [],
      "source": [
        "from sentence_transformers import SentenceTransformer, util\n",
        "embedder = SentenceTransformer('all-MiniLM-L6-v2')\n"
      ]
    },
    {
      "cell_type": "code",
      "execution_count": 43,
      "metadata": {
        "id": "1yTzdBoU9udZ"
      },
      "outputs": [],
      "source": [
        "# create alttitle sbert embeddings to get pca dim\n",
        "\n",
        "alttitle_sbert_embeddings = embedder.encode(list(onet_alttitle_str_mapping.values()), convert_to_tensor=False, device='cuda')\n",
        "#alttitle_sbert_indices = [k for k,v in temp]\n",
        "#corpus_embeddings = util.normalize_embeddings(corpus_embeddings)"
      ]
    },
    {
      "cell_type": "code",
      "execution_count": 44,
      "metadata": {
        "id": "de19o3FI9udZ"
      },
      "outputs": [
        {
          "data": {
            "text/plain": [
              "0.99999994"
            ]
          },
          "execution_count": 44,
          "metadata": {},
          "output_type": "execute_result"
        }
      ],
      "source": [
        "import numpy as np\n",
        "v = alttitle_sbert_embeddings[0]\n",
        "np.matmul(v.T,v)"
      ]
    },
    {
      "cell_type": "code",
      "execution_count": 45,
      "metadata": {
        "id": "kQsE8smF9udZ"
      },
      "outputs": [],
      "source": [
        "# get skill embeddings\n",
        "skill_sbert_embeddings = embedder.encode(list(skillmapping.keys()), convert_to_tensor=False, device='cuda')"
      ]
    },
    {
      "cell_type": "code",
      "execution_count": 46,
      "metadata": {
        "id": "yAT18fhw9udZ"
      },
      "outputs": [],
      "source": [
        "\n",
        "from sklearn.decomposition import PCA\n",
        "# concatenate skill and title embeddings for finding best pca\n",
        "X = np.concatenate([alttitle_sbert_embeddings,skill_sbert_embeddings])\n",
        "\n",
        "# print('Original:',X.shape[1])\n",
        "# for variance_retained in [0.99,0.95,0.9,0.8,0.75,0.7]:\n",
        "#     pca = PCA(n_components=variance_retained)\n",
        "#     pca.fit(X)\n",
        "#     n_components_retained = pca.n_components_\n",
        "#     print(n_components_retained,' components retained', variance_retained, ' variance retained')"
      ]
    },
    {
      "cell_type": "code",
      "execution_count": 47,
      "metadata": {
        "id": "vK1p6Rf-9udZ"
      },
      "outputs": [],
      "source": [
        "# choose 128\n",
        "pca = PCA(n_components=128)\n",
        "pca.fit(X)\n",
        "\n",
        "skill_sbert_embeddings = pca.transform(embedder.encode(skill_nodes['skill'].tolist(), convert_to_numpy=True, device='cuda'))\n",
        "job_sbert_embeddings = pca.transform(embedder.encode(job_nodes['Alternate Title'].tolist(), convert_to_numpy=True, device='cuda'))"
      ]
    },
    {
      "cell_type": "code",
      "execution_count": 48,
      "metadata": {
        "id": "_vD1fRkf9udZ"
      },
      "outputs": [],
      "source": [
        "# add job-job edges, dataset see https://www.onetcenter.org/dictionary/26.3/excel/related_occupations.html\n",
        "job_job_edges = pd.read_csv('neo4jgraph/onet_related_occupations.csv')"
      ]
    },
    {
      "cell_type": "code",
      "execution_count": 49,
      "metadata": {
        "id": "hMsTH1Sx9udZ"
      },
      "outputs": [
        {
          "data": {
            "text/html": [
              "<div>\n",
              "<style scoped>\n",
              "    .dataframe tbody tr th:only-of-type {\n",
              "        vertical-align: middle;\n",
              "    }\n",
              "\n",
              "    .dataframe tbody tr th {\n",
              "        vertical-align: top;\n",
              "    }\n",
              "\n",
              "    .dataframe thead th {\n",
              "        text-align: right;\n",
              "    }\n",
              "</style>\n",
              "<table border=\"1\" class=\"dataframe\">\n",
              "  <thead>\n",
              "    <tr style=\"text-align: right;\">\n",
              "      <th></th>\n",
              "      <th>O*NET-SOC Code</th>\n",
              "      <th>Title</th>\n",
              "      <th>Related O*NET-SOC Code</th>\n",
              "      <th>Related Title</th>\n",
              "      <th>Relatedness Tier</th>\n",
              "      <th>index_x</th>\n",
              "      <th>index_y</th>\n",
              "    </tr>\n",
              "  </thead>\n",
              "  <tbody>\n",
              "    <tr>\n",
              "      <th>0</th>\n",
              "      <td>11-1011.00</td>\n",
              "      <td>Chief Executives</td>\n",
              "      <td>11-1021.00</td>\n",
              "      <td>General and Operations Managers</td>\n",
              "      <td>Primary-Short</td>\n",
              "      <td>54641</td>\n",
              "      <td>54643</td>\n",
              "    </tr>\n",
              "    <tr>\n",
              "      <th>1</th>\n",
              "      <td>11-1031.00</td>\n",
              "      <td>Legislators</td>\n",
              "      <td>11-1021.00</td>\n",
              "      <td>General and Operations Managers</td>\n",
              "      <td>Supplemental</td>\n",
              "      <td>54644</td>\n",
              "      <td>54643</td>\n",
              "    </tr>\n",
              "    <tr>\n",
              "      <th>2</th>\n",
              "      <td>11-2021.00</td>\n",
              "      <td>Marketing Managers</td>\n",
              "      <td>11-1021.00</td>\n",
              "      <td>General and Operations Managers</td>\n",
              "      <td>Supplemental</td>\n",
              "      <td>54646</td>\n",
              "      <td>54643</td>\n",
              "    </tr>\n",
              "    <tr>\n",
              "      <th>3</th>\n",
              "      <td>11-2022.00</td>\n",
              "      <td>Sales Managers</td>\n",
              "      <td>11-1021.00</td>\n",
              "      <td>General and Operations Managers</td>\n",
              "      <td>Primary-Long</td>\n",
              "      <td>54647</td>\n",
              "      <td>54643</td>\n",
              "    </tr>\n",
              "    <tr>\n",
              "      <th>4</th>\n",
              "      <td>11-2032.00</td>\n",
              "      <td>Public Relations Managers</td>\n",
              "      <td>11-1021.00</td>\n",
              "      <td>General and Operations Managers</td>\n",
              "      <td>Primary-Long</td>\n",
              "      <td>54648</td>\n",
              "      <td>54643</td>\n",
              "    </tr>\n",
              "    <tr>\n",
              "      <th>...</th>\n",
              "      <td>...</td>\n",
              "      <td>...</td>\n",
              "      <td>...</td>\n",
              "      <td>...</td>\n",
              "      <td>...</td>\n",
              "      <td>...</td>\n",
              "      <td>...</td>\n",
              "    </tr>\n",
              "    <tr>\n",
              "      <th>18379</th>\n",
              "      <td>53-2022.00</td>\n",
              "      <td>Airfield Operations Specialists</td>\n",
              "      <td>53-2011.00</td>\n",
              "      <td>Airline Pilots, Copilots, and Flight Engineers</td>\n",
              "      <td>Primary-Short</td>\n",
              "      <td>55590</td>\n",
              "      <td>55587</td>\n",
              "    </tr>\n",
              "    <tr>\n",
              "      <th>18380</th>\n",
              "      <td>53-2031.00</td>\n",
              "      <td>Flight Attendants</td>\n",
              "      <td>53-2011.00</td>\n",
              "      <td>Airline Pilots, Copilots, and Flight Engineers</td>\n",
              "      <td>Supplemental</td>\n",
              "      <td>55591</td>\n",
              "      <td>55587</td>\n",
              "    </tr>\n",
              "    <tr>\n",
              "      <th>18381</th>\n",
              "      <td>53-5021.00</td>\n",
              "      <td>Captains, Mates, and Pilots of Water Vessels</td>\n",
              "      <td>53-2011.00</td>\n",
              "      <td>Airline Pilots, Copilots, and Flight Engineers</td>\n",
              "      <td>Primary-Short</td>\n",
              "      <td>55608</td>\n",
              "      <td>55587</td>\n",
              "    </tr>\n",
              "    <tr>\n",
              "      <th>18382</th>\n",
              "      <td>53-5022.00</td>\n",
              "      <td>Motorboat Operators</td>\n",
              "      <td>53-2011.00</td>\n",
              "      <td>Airline Pilots, Copilots, and Flight Engineers</td>\n",
              "      <td>Supplemental</td>\n",
              "      <td>55609</td>\n",
              "      <td>55587</td>\n",
              "    </tr>\n",
              "    <tr>\n",
              "      <th>18383</th>\n",
              "      <td>53-6032.00</td>\n",
              "      <td>Aircraft Service Attendants</td>\n",
              "      <td>53-2011.00</td>\n",
              "      <td>Airline Pilots, Copilots, and Flight Engineers</td>\n",
              "      <td>Supplemental</td>\n",
              "      <td>55614</td>\n",
              "      <td>55587</td>\n",
              "    </tr>\n",
              "  </tbody>\n",
              "</table>\n",
              "<p>18384 rows × 7 columns</p>\n",
              "</div>"
            ],
            "text/plain": [
              "      O*NET-SOC Code                                         Title  \\\n",
              "0         11-1011.00                              Chief Executives   \n",
              "1         11-1031.00                                   Legislators   \n",
              "2         11-2021.00                            Marketing Managers   \n",
              "3         11-2022.00                                Sales Managers   \n",
              "4         11-2032.00                     Public Relations Managers   \n",
              "...              ...                                           ...   \n",
              "18379     53-2022.00               Airfield Operations Specialists   \n",
              "18380     53-2031.00                             Flight Attendants   \n",
              "18381     53-5021.00  Captains, Mates, and Pilots of Water Vessels   \n",
              "18382     53-5022.00                           Motorboat Operators   \n",
              "18383     53-6032.00                   Aircraft Service Attendants   \n",
              "\n",
              "      Related O*NET-SOC Code                                   Related Title  \\\n",
              "0                 11-1021.00                 General and Operations Managers   \n",
              "1                 11-1021.00                 General and Operations Managers   \n",
              "2                 11-1021.00                 General and Operations Managers   \n",
              "3                 11-1021.00                 General and Operations Managers   \n",
              "4                 11-1021.00                 General and Operations Managers   \n",
              "...                      ...                                             ...   \n",
              "18379             53-2011.00  Airline Pilots, Copilots, and Flight Engineers   \n",
              "18380             53-2011.00  Airline Pilots, Copilots, and Flight Engineers   \n",
              "18381             53-2011.00  Airline Pilots, Copilots, and Flight Engineers   \n",
              "18382             53-2011.00  Airline Pilots, Copilots, and Flight Engineers   \n",
              "18383             53-2011.00  Airline Pilots, Copilots, and Flight Engineers   \n",
              "\n",
              "      Relatedness Tier  index_x  index_y  \n",
              "0        Primary-Short    54641    54643  \n",
              "1         Supplemental    54644    54643  \n",
              "2         Supplemental    54646    54643  \n",
              "3         Primary-Long    54647    54643  \n",
              "4         Primary-Long    54648    54643  \n",
              "...                ...      ...      ...  \n",
              "18379    Primary-Short    55590    55587  \n",
              "18380     Supplemental    55591    55587  \n",
              "18381    Primary-Short    55608    55587  \n",
              "18382     Supplemental    55609    55587  \n",
              "18383     Supplemental    55614    55587  \n",
              "\n",
              "[18384 rows x 7 columns]"
            ]
          },
          "execution_count": 49,
          "metadata": {},
          "output_type": "execute_result"
        }
      ],
      "source": [
        "job_job_edges"
      ]
    },
    {
      "cell_type": "code",
      "execution_count": 68,
      "metadata": {
        "id": "p1lR651a9uda"
      },
      "outputs": [],
      "source": [
        "job_job_edges['job_src'] = job_job_edges['index_x'].apply(lambda x: jobmapping[x])\n",
        "job_job_edges['job_dst'] = job_job_edges['index_y'].apply(lambda x: jobmapping[x])\n",
        "relatedness_weight = {\n",
        "    'Supplemental':0.5,\n",
        "    'Primary-Long':0.7,\n",
        "    'Primary-Short':1\n",
        "}\n",
        "job_job_edges['relatedness_weight'] = job_job_edges['Relatedness Tier'].apply(lambda x: relatedness_weight[x])"
      ]
    },
    {
      "cell_type": "code",
      "execution_count": 51,
      "metadata": {
        "id": "T1Wc7CIL9uda"
      },
      "outputs": [],
      "source": [
        "skill_skill_edges = pd.read_csv('neo4jgraph/skill_skill_edges.csv')\n"
      ]
    },
    {
      "cell_type": "code",
      "execution_count": 52,
      "metadata": {
        "id": "8qOHTGfL9uda"
      },
      "outputs": [],
      "source": [
        "#filter out potentially bad skills (which are not in our original skillmapping)\n",
        "skill_skill_edges = skill_skill_edges.loc[(skill_skill_edges.skill.isin(list(skillmapping.keys()))) & (skill_skill_edges.related_skill.isin(list(skillmapping.keys())))]"
      ]
    },
    {
      "cell_type": "code",
      "execution_count": 53,
      "metadata": {
        "id": "jQhTLGTV9uda"
      },
      "outputs": [],
      "source": [
        "skill_skill_edges['skill_src'] = skill_skill_edges['skill'].apply(lambda x: skillmapping[x])\n",
        "skill_skill_edges['skill_dst'] = skill_skill_edges['related_skill'].apply(lambda x: skillmapping[x])"
      ]
    },
    {
      "cell_type": "code",
      "execution_count": 54,
      "metadata": {},
      "outputs": [],
      "source": [
        "# only take largest 125 \"both directions\" (not ideal)\n",
        "skill_skill_edges =  skill_skill_edges.groupby('skill_src').apply(lambda group: group.nlargest(125,'cosine_sim_score')).reset_index(drop=True)\n",
        "skill_skill_edges =  skill_skill_edges.groupby('skill_dst').apply(lambda group: group.nlargest(125,'cosine_sim_score')).reset_index(drop=True)"
      ]
    },
    {
      "cell_type": "code",
      "execution_count": 70,
      "metadata": {
        "id": "La85Q2M59uda"
      },
      "outputs": [],
      "source": [
        "from torch_geometric.data import HeteroData\n",
        "import torch\n",
        "\n",
        "data = HeteroData()\n",
        "data['Skill'].x = torch.tensor(skill_sbert_embeddings)\n",
        "data['Job'].x = torch.tensor(job_sbert_embeddings)\n",
        "\n",
        "data['Job','REQUIRES','Skill'].edge_index = torch.tensor(skill_job_edges[['job_src','skill_dst']].to_numpy().T)\n",
        "data['Skill','IS_SIMILAR_SKILL','Skill'].edge_index = torch.tensor(skill_skill_edges[['skill_src','skill_dst']].to_numpy().T)\n",
        "data['Job','IS_SIMILAR_JOB','Job'].edge_index = torch.tensor(job_job_edges[['job_src','job_dst']].to_numpy().T)\n",
        "\n",
        "\n",
        "data['Job','REQUIRES','Skill'].edge_weight = torch.tensor(skill_job_edges['normalized_tfidf'].to_numpy()).to(torch.float)\n",
        "data['Skill','IS_SIMILAR_SKILL','Skill'].edge_weight = torch.tensor(skill_skill_edges['cosine_sim_score'].to_numpy()).to(torch.float)\n",
        "data['Job','IS_SIMILAR_JOB','Job'].edge_weight = torch.tensor(job_job_edges['relatedness_weight'].to_numpy()).to(torch.float)"
      ]
    },
    {
      "cell_type": "code",
      "execution_count": 62,
      "metadata": {},
      "outputs": [
        {
          "data": {
            "text/plain": [
              "7.460347924957176e-06"
            ]
          },
          "execution_count": 62,
          "metadata": {},
          "output_type": "execute_result"
        }
      ],
      "source": [
        "skill_job_edges['normalized_tfidf'].min()"
      ]
    },
    {
      "cell_type": "code",
      "execution_count": 63,
      "metadata": {},
      "outputs": [
        {
          "data": {
            "text/plain": [
              "0.5"
            ]
          },
          "execution_count": 63,
          "metadata": {},
          "output_type": "execute_result"
        }
      ],
      "source": [
        "skill_skill_edges['cosine_sim_score'].min()"
      ]
    },
    {
      "cell_type": "code",
      "execution_count": 64,
      "metadata": {},
      "outputs": [
        {
          "data": {
            "text/plain": [
              "1"
            ]
          },
          "execution_count": 64,
          "metadata": {},
          "output_type": "execute_result"
        }
      ],
      "source": [
        "job_job_edges['relatedness_weight'].min()"
      ]
    },
    {
      "cell_type": "code",
      "execution_count": 86,
      "metadata": {},
      "outputs": [
        {
          "data": {
            "text/plain": [
              "torch.Size([55653, 128])"
            ]
          },
          "execution_count": 86,
          "metadata": {},
          "output_type": "execute_result"
        }
      ],
      "source": [
        "data['Job'].x.shape"
      ]
    },
    {
      "cell_type": "code",
      "execution_count": 184,
      "metadata": {},
      "outputs": [],
      "source": [
        "skill_skill_edges_temp = skill_skill_edges"
      ]
    },
    {
      "cell_type": "code",
      "execution_count": 185,
      "metadata": {},
      "outputs": [
        {
          "data": {
            "text/plain": [
              "(1273676, 7)"
            ]
          },
          "execution_count": 185,
          "metadata": {},
          "output_type": "execute_result"
        }
      ],
      "source": [
        "skill_skill_edges_temp.shape"
      ]
    },
    {
      "cell_type": "code",
      "execution_count": null,
      "metadata": {},
      "outputs": [],
      "source": []
    },
    {
      "cell_type": "code",
      "execution_count": 79,
      "metadata": {},
      "outputs": [
        {
          "name": "stdout",
          "output_type": "stream",
          "text": [
            "Jobs: 55653, actual Jobs used (in at least one edge): 16269\n",
            "Skills: 247964, actual Skills used (in at least one edge): 120415\n",
            "\n",
            "Following metrics only include Skills and Jobs with at least one edge:\n",
            "\n",
            "JRS edges: 630686\n",
            "Average JRS Job degree: 38.76612091064453, Skill: 5.237603187561035\n",
            "Median JRS Job degree: 25.0, Skill: 4.0\n",
            "Max JRS Job degree: 136.0, Skill: 125.0\n",
            "\n",
            "S_SIM_S edges: 1039725\n",
            "Average S_SIM_S degree: 17.269027709960938\n",
            "Median S_SIM_S degree: 5.0\n",
            "Max S_SIM_S degree: 250.0\n",
            "J_SIM_J edges: 18384\n",
            "Average J_SIM_J degree: 2.2600038051605225\n",
            "Median J_SIM_J degree: 37.0\n",
            "Max J_SIM_J degree: 126.0\n",
            "\n",
            "Average total degree: Job: 41.026123046875\n",
            "Average total degree: Skill: 22.50663185119629\n"
          ]
        },
        {
          "data": {
            "image/png": "[encoded data removed]",
            "text/plain": [
              "<Figure size 640x480 with 1 Axes>"
            ]
          },
          "metadata": {},
          "output_type": "display_data"
        },
        {
          "data": {
            "image/png": "[encoded data removed]",
            "text/plain": [
              "<Figure size 640x480 with 1 Axes>"
            ]
          },
          "metadata": {},
          "output_type": "display_data"
        },
        {
          "data": {
            "image/png": "[encoded data removed]",
            "text/plain": [
              "<Figure size 640x480 with 1 Axes>"
            ]
          },
          "metadata": {},
          "output_type": "display_data"
        },
        {
          "data": {
            "image/png": "[encoded data removed]",
            "text/plain": [
              "<Figure size 640x480 with 1 Axes>"
            ]
          },
          "metadata": {},
          "output_type": "display_data"
        },
        {
          "data": {
            "text/plain": [
              "<Figure size 640x480 with 0 Axes>"
            ]
          },
          "metadata": {},
          "output_type": "display_data"
        }
      ],
      "source": [
        "# Look at node degree statistics\n",
        "\n",
        "from torch_geometric.utils import to_dense_adj, degree\n",
        "\n",
        "\n",
        "\n",
        "job_n = data['Job'].x.shape[0]\n",
        "skill_n = data['Skill'].x.shape[0]\n",
        "\n",
        "JRS_J = degree(data['Job','REQUIRES','Skill'].edge_index[0], num_nodes=job_n)\n",
        "JRS_S = degree(data['Job','REQUIRES','Skill'].edge_index[1], num_nodes=skill_n)\n",
        "S_SIM_S = degree(data['Skill','IS_SIMILAR_SKILL','Skill'].edge_index.flatten(), num_nodes=skill_n)\n",
        "J_SIM_J = degree(data['Job','IS_SIMILAR_JOB','Job'].edge_index.flatten(), num_nodes=job_n)\n",
        "\n",
        "actual_skill_n = torch.nonzero(JRS_S+S_SIM_S).shape[0] # only skills which have any edge at all\n",
        "actual_job_n = torch.nonzero(JRS_J+J_SIM_J).shape[0] # only job which have any edge at all\n",
        "print(f'Jobs: {job_n}, actual Jobs used (in at least one edge): {actual_job_n}')\n",
        "print(f'Skills: {skill_n}, actual Skills used (in at least one edge): {actual_skill_n}')\n",
        "\n",
        "print('\\nFollowing metrics only include Skills and Jobs with at least one edge:\\n')\n",
        "\n",
        "print(f\"JRS edges: {data['Job','REQUIRES','Skill'].edge_index.shape[1]}\")\n",
        "print(f'Average JRS Job degree: {torch.sum(JRS_J)/actual_job_n}, Skill: {torch.sum(JRS_S)/actual_skill_n}')\n",
        "print(f'Median JRS Job degree: {torch.median(JRS_J[JRS_J!=0])}, Skill: {torch.median(JRS_S[JRS_S!=0])}')\n",
        "print(f'Max JRS Job degree: {torch.max(JRS_J)}, Skill: {torch.max(JRS_S)}\\n')\n",
        "\n",
        "print(f\"S_SIM_S edges: {data['Skill','IS_SIMILAR_SKILL','Skill'].edge_index.shape[1]}\")\n",
        "print(f'Average S_SIM_S degree: {torch.sum(S_SIM_S)/actual_skill_n}')\n",
        "print(f'Median S_SIM_S degree: {torch.median(S_SIM_S[S_SIM_S!=0])}')\n",
        "print(f'Max S_SIM_S degree: {torch.max(S_SIM_S)}')\n",
        "\n",
        "print(f'J_SIM_J edges: {data[\"Job\", \"IS_SIMILAR_JOB\", \"Job\"].edge_index.shape[1]}')\n",
        "print(f'Average J_SIM_J degree: {torch.sum(J_SIM_J)/actual_job_n}')\n",
        "print(f'Median J_SIM_J degree: {torch.median(J_SIM_J[J_SIM_J!=0])}')\n",
        "print(f'Max J_SIM_J degree: {torch.max(J_SIM_J)}\\n')\n",
        "\n",
        "print(f'Average total degree: Job: {(torch.sum(JRS_J)+torch.sum(J_SIM_J))/actual_job_n}')\n",
        "print(f'Average total degree: Skill: {(torch.sum(JRS_S)+torch.sum(S_SIM_S))/actual_skill_n}')\n",
        "\n",
        "import matplotlib.pyplot as plt\n",
        "import os \n",
        "\n",
        "os.makedirs(\"plot_images/\", exist_ok=True)\n",
        "\n",
        "# Plot and save the first plot\n",
        "plt.title('J-R-S Job degree-distribution')\n",
        "plt.hist(JRS_J[JRS_J != 0], bins=25)\n",
        "plt.xlabel('Degree')\n",
        "plt.ylabel('Frequency')\n",
        "plt.savefig('plot_images/JRS_J_degree_distribution.svg', format='svg')\n",
        "plt.show()\n",
        "plt.clf()  # Clear the current figure\n",
        "\n",
        "# Plot and save the second plot\n",
        "plt.title('J-R-S Skill degree-distribution')\n",
        "plt.hist(JRS_S[JRS_S != 0], bins=25)\n",
        "plt.xlabel('Degree')\n",
        "plt.ylabel('Frequency')\n",
        "plt.savefig('plot_images/JRS_S_degree_distribution.svg', format='svg')\n",
        "plt.show()\n",
        "plt.clf()  # Clear the current figure\n",
        "\n",
        "# Plot and save the third plot\n",
        "plt.title('S-R-S Skill degree')\n",
        "plt.hist(S_SIM_S[S_SIM_S != 0], bins=25)\n",
        "plt.xlabel('Degree')\n",
        "plt.ylabel('Frequency')\n",
        "plt.savefig('plot_images/S_SIM_S_skill_degree.svg', format='svg')\n",
        "plt.show()\n",
        "plt.clf()  # Clear the current figure\n",
        "\n",
        "# Plot and save the fourth plot\n",
        "plt.title('J-R-J Job degree')\n",
        "plt.hist(J_SIM_J[J_SIM_J != 0], bins=25)\n",
        "plt.xlabel('Degree')\n",
        "plt.ylabel('Frequency')\n",
        "plt.savefig('plot_images/J_SIM_J_job_degree.svg', format='svg')\n",
        "plt.show()\n",
        "plt.clf()  # Clear the current figure"
      ]
    },
    {
      "cell_type": "code",
      "execution_count": 80,
      "metadata": {},
      "outputs": [],
      "source": [
        "# Add features:\n",
        "# - node degree\n",
        "# - normalize edge weights by node degree\n",
        "# - (triangle count)\n",
        "\n",
        "\n",
        "# add node degree statistics:\n",
        "\n",
        "job_degrees = torch.cat((JRS_J.reshape(-1,1) / 125, J_SIM_J.reshape(-1,1)/ 125), dim=1) # divide by approx. max degrees\n",
        "skill_degrees = torch.cat((JRS_S.reshape(-1,1) / 125, S_SIM_S.reshape(-1,1)/ 125), dim=1) # divide by approx. max degrees\n",
        "\n",
        "data['Job'].x = torch.cat((data['Job'].x, job_degrees), dim=1)\n",
        "data['Skill'].x = torch.cat((data['Skill'].x, skill_degrees), dim=1)\n",
        "\n",
        "# normalize edge weights by node degree"
      ]
    },
    {
      "cell_type": "code",
      "execution_count": 89,
      "metadata": {},
      "outputs": [],
      "source": [
        "from torch_sparse import SparseTensor\n",
        "from tqdm.auto import tqdm\n",
        "# adj_matmul\n",
        "# row1 to rowS * full_matrix\n",
        "# rowS+1 to rowT * full_matrix\n",
        "# ....\n",
        "\n",
        "# def blockwise_sparse_square_mmul(adj_matrix, blocks=None):\n",
        "#     row_blocks = []\n",
        "    \n",
        "#     if blocks is None:\n",
        "#         row_block_size = 10000\n",
        "#         rows = adj_matrix.size(0)\n",
        "#         for block in tqdm(range(0,rows, row_block_size), desc='blockwise sparse matrix-multiplication'):\n",
        "#             start = block\n",
        "#             end = min(block+row_block_size, rows)\n",
        "#             row_blocks.append(adj_matrix[start:end].spspmm(adj_matrix))\n",
        "#     else:\n",
        "#         for block in tqdm(blocks, desc='blockwise sparse matrix-multiplication'):\n",
        "#             row_blocks.append(block.spspmm(adj_matrix))\n",
        "\n",
        "#     return row_blocks\n",
        "\n",
        "\n",
        "# def blockwise_sparse_get_diag(blocks):\n",
        "#     diags = []\n",
        "#     for block in tqdm(blocks, desc='get blockwise sparse matrix diagonal'):\n",
        "#         diags.append(get_diag(block))\n",
        "    \n",
        "#     return torch.cat(diags, dim=0)\n",
        "\n",
        "def triangle_count(adj_matrix:SparseTensor):\n",
        "    # adj_matmul, blockwise, so kernel does not crash\n",
        "    # diag1((row1 to rowS) * full_matrix * full_matrix)\n",
        "    # diag2((rowS+1 to rowR) * full_matrix * full_matrix)\n",
        "    # ....\n",
        "    diags = []\n",
        "    \n",
        "    row_block_size = 10000\n",
        "    rows = adj_matrix.size(0)\n",
        "    with torch.no_grad():\n",
        "        for block in tqdm(range(0,rows, row_block_size), desc='blockwise sparse matrix-multiplication'):\n",
        "            start = block\n",
        "            end = min(block+row_block_size, rows)\n",
        "            adj_pow_3_block = adj_matrix[start:end].spspmm(adj_matrix).spspmm(adj_matrix)\n",
        "            diag_block = get_diag(adj_pow_3_block[:,start:])\n",
        "            diags.append(diag_block)\n",
        "            # diag = torch.eye(end)\n",
        "            # indices_i, indices_j = diag.nonzero().unbind(dim=1)\n",
        "            \n",
        "            # A = adj_pow_2_block[indices_i]\n",
        "            # B = adj_matrix[:, indices_j]\n",
        "            # print(A, t(B))\n",
        "            # print(type(B), type(A))\n",
        "            # print(A.size(0), A.size(1), B.size(0), B.size(1))\n",
        "            #C = A * t(B)\n",
        "            #C = reduction(C, dim=1)\n",
        "            \n",
        "           \n",
        "            #print(C)\n",
        "            \n",
        "            \n",
        "            \n",
        "    \n",
        "    return 1/2 * torch.cat(diags, dim=0)\n",
        "        \n",
        "from torch_geometric.utils import to_undirected\n",
        "from torch_sparse import SparseTensor\n",
        "from torch_sparse.diag import get_diag\n",
        "\n",
        "def undirected_triangle_counts(edge_index, max_num_nodes): \n",
        "    \"\"\"Get triangles **per node**, to get count for whole graph, divide by 3\"\"\"\n",
        "    ud = to_undirected(edge_index)\n",
        "    \n",
        "    adj_matrix = SparseTensor(row=ud[0], col=ud[1], value=torch.ones(ud[1].shape[0]), sparse_sizes=(max_num_nodes, max_num_nodes))\n",
        "    #adj_matrix = torch.sparse_coo_tensor(edge_index, torch.ones(edge_index.shape[1]), (max_num_nodes, max_num_nodes))\n",
        "    #adj_matrix = torch.sparse_csr_tensor(ud[0], ud[1], values=torch.ones(ud[1].shape[0]), dtype=torch.float32).to_sparse_coo()\n",
        "    triangles = triangle_count(adj_matrix) \n",
        "    return triangles"
      ]
    },
    {
      "cell_type": "code",
      "execution_count": 90,
      "metadata": {},
      "outputs": [
        {
          "name": "stderr",
          "output_type": "stream",
          "text": [
            "blockwise sparse matrix-multiplication: 100%|██████████| 2/2 [00:00<00:00, 387.16it/s]"
          ]
        },
        {
          "name": "stdout",
          "output_type": "stream",
          "text": [
            "tensor([[8., 8., 8., 8., 8.],\n",
            "        [8., 4., 8., 4., 8.],\n",
            "        [8., 8., 4., 8., 4.]])\n",
            "tensor([[8., 4., 8., 4., 8.],\n",
            "        [8., 8., 4., 8., 4.]])\n"
          ]
        },
        {
          "name": "stderr",
          "output_type": "stream",
          "text": [
            "\n"
          ]
        },
        {
          "data": {
            "text/plain": [
              "tensor([4., 2., 2., 2., 2.])"
            ]
          },
          "execution_count": 90,
          "metadata": {},
          "output_type": "execute_result"
        }
      ],
      "source": [
        "# from torch_sparse import SparseTensor\n",
        "# adj = torch.tensor(\n",
        "#     [\n",
        "#         [0,1,1,1,1],\n",
        "#         [1,0,1,0,1],\n",
        "#         [1,1,0,1,0],\n",
        "#         [1,0,1,0,1],\n",
        "#         [1,1,0,1,0]\n",
        "#     ]\n",
        "# ).to(torch.float)\n",
        "# X = SparseTensor.from_dense(adj)\n",
        "# triangles = triangle_count(X)\n",
        "# triangles\n",
        "#adj_matrix = SparseTensor(row=ud[0], col=ud[1], value=torch.ones(ud[1].shape[0]), sparse_sizes=(max_num_nodes, max_num_nodes))"
      ]
    },
    {
      "cell_type": "code",
      "execution_count": 90,
      "metadata": {},
      "outputs": [
        {
          "name": "stderr",
          "output_type": "stream",
          "text": [
            "blockwise sparse matrix-multiplication:   0%|          | 0/31 [00:00<?, ?it/s]/home/amos/mambaforge/envs/pyg/lib/python3.10/site-packages/torch_sparse/matmul.py:97: UserWarning: Sparse CSR tensor support is in beta state. If you miss a functionality in the sparse tensor support, please submit a feature request to https://github.com/pytorch/pytorch/issues. (Triggered internally at ../aten/src/ATen/SparseCsrTensorImpl.cpp:54.)\n",
            "  C = torch.sparse.mm(A, B)\n",
            "blockwise sparse matrix-multiplication: 100%|██████████| 31/31 [08:04<00:00, 15.63s/it]\n"
          ]
        }
      ],
      "source": [
        "homogeneous_data = data.to_homogeneous()\n",
        "homogenous_triangles = undirected_triangle_counts(homogeneous_data.edge_index, homogeneous_data.x.shape[0])\n",
        "# max triangles: 9000\n"
      ]
    },
    {
      "cell_type": "code",
      "execution_count": 91,
      "metadata": {},
      "outputs": [],
      "source": [
        "Job_homogeneous_triangles = homogenous_triangles[homogeneous_data.node_type == 1]\n",
        "Skill_homogeneous_triangles = homogenous_triangles[homogeneous_data.node_type != 1]"
      ]
    },
    {
      "cell_type": "code",
      "execution_count": 92,
      "metadata": {},
      "outputs": [
        {
          "name": "stdout",
          "output_type": "stream",
          "text": [
            "Median triangles of skill nodes: 3.0, mean: 119.5722427368164, max: 9327.0, min: 0.0\n",
            "Median triangles of job nodes: 6.0, mean: 35.92372131347656, max: 1316.0, min: 0.0\n"
          ]
        }
      ],
      "source": [
        "actual_s_triangles = Skill_homogeneous_triangles[(JRS_S+S_SIM_S)!=0] \n",
        "actual_j_triangles = Job_homogeneous_triangles[(JRS_J+J_SIM_J)!=0] \n",
        "\n",
        "print(f'Median triangles of skill nodes: {actual_s_triangles.median()}, mean: {actual_s_triangles.mean()}, max: {actual_s_triangles.max()}, min: {actual_s_triangles.min()}')\n",
        "print(f'Median triangles of job nodes: {actual_j_triangles.median()}, mean: {actual_j_triangles.mean()}, max: {actual_j_triangles.max()}, min: {actual_s_triangles.min()}')"
      ]
    },
    {
      "cell_type": "code",
      "execution_count": 93,
      "metadata": {},
      "outputs": [
        {
          "data": {
            "image/png": "[encoded data removed]",
            "text/plain": [
              "<Figure size 640x480 with 1 Axes>"
            ]
          },
          "metadata": {},
          "output_type": "display_data"
        },
        {
          "data": {
            "image/png": "[encoded data removed]",
            "text/plain": [
              "<Figure size 640x480 with 1 Axes>"
            ]
          },
          "metadata": {},
          "output_type": "display_data"
        }
      ],
      "source": [
        "plt.title('Skill triangles')\n",
        "plt.hist(actual_s_triangles.numpy(), bins=40)\n",
        "plt.show()\n",
        "plt.title('Job triangles')\n",
        "plt.hist(actual_j_triangles.numpy(), bins=40)\n",
        "plt.show()"
      ]
    },
    {
      "cell_type": "code",
      "execution_count": 94,
      "metadata": {},
      "outputs": [
        {
          "name": "stderr",
          "output_type": "stream",
          "text": [
            "blockwise sparse matrix-multiplication: 100%|██████████| 6/6 [00:00<00:00, 39.83it/s]\n",
            "blockwise sparse matrix-multiplication: 100%|██████████| 25/25 [02:27<00:00,  5.91s/it]\n"
          ]
        }
      ],
      "source": [
        "J_SIM_J_triangles = undirected_triangle_counts(data['Job','IS_SIMILAR_JOB', 'Job'].edge_index, data['Job'].x.shape[0])\n",
        "S_SIM_S_triangles = undirected_triangle_counts(data['Skill','IS_SIMILAR_SKILL', 'Skill'].edge_index, data['Skill'].x.shape[0])"
      ]
    },
    {
      "cell_type": "code",
      "execution_count": 95,
      "metadata": {},
      "outputs": [
        {
          "name": "stdout",
          "output_type": "stream",
          "text": [
            "Median triangles of skill nodes for skill-skill edges: 2.0, mean: 113.15873718261719, max: 7185.0, min: 0.0\n",
            "Median triangles of job nodes for job-job edges: 0.0, mean: 9.882168769836426, max: 1284.0, min: 0.0\n"
          ]
        }
      ],
      "source": [
        "actual_s_triangles = S_SIM_S_triangles[(JRS_S+S_SIM_S)!=0] \n",
        "actual_j_triangles = J_SIM_J_triangles[(JRS_J+J_SIM_J)!=0] \n",
        "\n",
        "print(f'Median triangles of skill nodes for skill-skill edges: {actual_s_triangles.median()}, mean: {actual_s_triangles.mean()}, max: {actual_s_triangles.max()}, min: {actual_s_triangles.min()}')\n",
        "print(f'Median triangles of job nodes for job-job edges: {actual_j_triangles.median()}, mean: {actual_j_triangles.mean()}, max: {actual_j_triangles.max()}, min: {actual_s_triangles.min()}')"
      ]
    },
    {
      "cell_type": "code",
      "execution_count": 107,
      "metadata": {},
      "outputs": [],
      "source": [
        "data['Skill'].x = torch.cat((data['Skill'].x, Skill_homogeneous_triangles.reshape(-1,1)/9285), dim=1) # normalize by max 9285.0\n",
        "data['Job'].x = torch.cat((data['Job'].x, Job_homogeneous_triangles.reshape(-1,1)/1320), dim=1) # normalize by max 1320\n",
        "\n",
        "data['Skill'].x = torch.cat((data['Skill'].x, S_SIM_S_triangles.reshape(-1,1)/9285), dim=1) # normalize by max 9285.0\n",
        "data['Job'].x = torch.cat((data['Job'].x, J_SIM_J_triangles.reshape(-1,1)/1320), dim=1) # normalize by max 1320"
      ]
    },
    {
      "cell_type": "code",
      "execution_count": 108,
      "metadata": {
        "id": "GZAF_riX9uda"
      },
      "outputs": [
        {
          "data": {
            "text/plain": [
              "(True, False)"
            ]
          },
          "execution_count": 108,
          "metadata": {},
          "output_type": "execute_result"
        }
      ],
      "source": [
        "data.has_isolated_nodes(), data.has_self_loops()"
      ]
    },
    {
      "cell_type": "code",
      "execution_count": null,
      "metadata": {
        "id": "u5MjvjO09uda"
      },
      "outputs": [],
      "source": [
        "#data = data.to(device)"
      ]
    },
    {
      "cell_type": "code",
      "execution_count": 109,
      "metadata": {
        "id": "aMAfCM0u9uda"
      },
      "outputs": [],
      "source": [
        "import torch_geometric.transforms as T\n",
        "\n",
        "transform = T.Compose([\n",
        "       T.RemoveIsolatedNodes(),\n",
        "       T.RemoveDuplicatedEdges(),\n",
        "       T.ToUndirected(merge=False) # don't merge reversed edges into the original edge type\n",
        "])\n",
        "\n",
        "data = transform(data)\n"
      ]
    },
    {
      "cell_type": "code",
      "execution_count": null,
      "metadata": {},
      "outputs": [],
      "source": [
        "# torch.save(data.to_dict(), path)\n",
        "# data = Data.from_dict(torch.load(path))"
      ]
    },
    {
      "cell_type": "code",
      "execution_count": 125,
      "metadata": {},
      "outputs": [
        {
          "name": "stdout",
          "output_type": "stream",
          "text": [
            "loading saved heterodata object\n"
          ]
        }
      ],
      "source": [
        "import os\n",
        "import torch\n",
        "from torch_geometric.data import HeteroData\n",
        "\n",
        "\n",
        "filename = 'Job_Skill_HeteroData_v3.pt'\n",
        "if os.path.exists('./'+filename):\n",
        "    data = HeteroData.from_dict(torch.load('./'+filename))\n",
        "    print('loading saved heterodata object')\n",
        "else:\n",
        "    torch.save(data.to_dict(), './'+filename)"
      ]
    },
    {
      "cell_type": "code",
      "execution_count": 126,
      "metadata": {
        "id": "Yk4D68v69udb"
      },
      "outputs": [],
      "source": [
        "from torch_geometric import seed_everything\n",
        "import torch_geometric.transforms as T\n",
        "\n",
        "\n",
        "transform = T.RandomLinkSplit(\n",
        "    is_undirected=True,\n",
        "    edge_types=[\n",
        "        ('Job', 'REQUIRES', 'Skill'),\n",
        "        ('Skill', 'IS_SIMILAR_SKILL', 'Skill'),\n",
        "        ('Job', 'IS_SIMILAR_JOB', 'Job')\n",
        "        ],\n",
        "    rev_edge_types=[\n",
        "        ('Skill', 'rev_REQUIRES', 'Job'),\n",
        "        ('Skill', 'rev_IS_SIMILAR_SKILL', 'Skill'),\n",
        "        ('Job', 'rev_IS_SIMILAR_JOB', 'Job')\n",
        "    ],\n",
        "    num_val=0.005,\n",
        "    num_test=0.01,\n",
        "    add_negative_train_samples=False, # only adds neg samples for val and test, neg train are added by LinkNeighborLoader. This means for each train batch, negs. are different, for val and train they stay the same\n",
        "    neg_sampling_ratio=1.0,\n",
        "    disjoint_train_ratio=0, #  training edges are shared for message passing and supervision\n",
        "    \n",
        "\n",
        "    )\n",
        "\n",
        "seed_everything(4)\n",
        "train_data, val_data, test_data = transform(data)"
      ]
    },
    {
      "cell_type": "code",
      "execution_count": 4,
      "metadata": {
        "id": "zG7w63019udb"
      },
      "outputs": [],
      "source": [
        "# from torch_geometric.loader import NeighborLoader\n",
        "\n",
        "# train_loader = NeighborLoader(\n",
        "#     train_data,\n",
        "#     # Sample 15 neighbors for each node and each edge type for 2 iterations:\n",
        "#     num_neighbors={\n",
        "#          ('Job', 'REQUIRES', 'Skill'):[1000,10], # [add x neighbors, add y neighbors for every x neighbor]\n",
        "#          ('Skill', 'rev_REQUIRES', 'Job'):[10,0],\n",
        "#         ('Skill', 'IS_SIMILAR_SKILL', 'Skill'):[10,10],\n",
        "#         ('Skill', 'rev_IS_SIMILAR_SKILL', 'Skill'):[0,0],\n",
        "#         ('Job', 'IS_SIMILAR_JOB', 'Job'):[0,20], # can't sample job-job in first iteration\n",
        "#         ('Job', 'rev_IS_SIMILAR_JOB', 'Job'):[0,20],\n",
        "#          },\n",
        "#     # num_neighbors = [10,10],\n",
        "#     # Use a batch size of 128 for sampling training nodes of type \"paper\":\n",
        "#     batch_size=200,\n",
        "#     input_nodes='Job', #if not set, we consider all nodes\n",
        "#     shuffle=True,\n",
        "#     drop_last=True,\n",
        "#     num_workers=4,\n",
        "#     directed=True,  # contains only edges which are followed randomly, False: contains full node induced subgraph\n",
        "# )\n"
      ]
    },
    {
      "cell_type": "code",
      "execution_count": 127,
      "metadata": {
        "id": "1n7iu1YK9udb"
      },
      "outputs": [
        {
          "name": "stdout",
          "output_type": "stream",
          "text": [
            "Using 0 workers in the dataloader for edgetype ('Job', 'REQUIRES', 'Skill')\n",
            "Using 0 workers in the dataloader for edgetype ('Job', 'IS_SIMILAR_JOB', 'Job')\n",
            "Using 0 workers in the dataloader for edgetype ('Skill', 'IS_SIMILAR_SKILL', 'Skill')\n",
            "Using 0 workers in the dataloader for edgetype ('Job', 'REQUIRES', 'Skill')\n",
            "Using 0 workers in the dataloader for edgetype ('Job', 'IS_SIMILAR_JOB', 'Job')\n",
            "Using 0 workers in the dataloader for edgetype ('Skill', 'IS_SIMILAR_SKILL', 'Skill')\n",
            "Using 0 workers in the dataloader for edgetype ('Job', 'REQUIRES', 'Skill')\n",
            "Using 0 workers in the dataloader for edgetype ('Job', 'IS_SIMILAR_JOB', 'Job')\n",
            "Using 0 workers in the dataloader for edgetype ('Skill', 'IS_SIMILAR_SKILL', 'Skill')\n"
          ]
        }
      ],
      "source": [
        "from typing import Tuple, List\n",
        "from torch_geometric.loader import LinkNeighborLoader\n",
        "from torch_geometric.sampler import NegativeSampling\n",
        "from torch_geometric.data import HeteroData\n",
        "import gc\n",
        "import multiprocessing as mp\n",
        "\n",
        "\n",
        "def create_loader(data:HeteroData, edge_type:Tuple[str,str,str], num_neighbors:List[int], negative_sampling_amount:int, batch_size:int, is_training:bool)->LinkNeighborLoader:\n",
        "\n",
        "    #print('create mini-batches for', edge)\n",
        "\n",
        "    negative_sampling = NegativeSampling(\n",
        "        mode='binary',\n",
        "        amount=negative_sampling_amount  # ratio, like Graphsage\n",
        "        #weight=  # \"Probabilities\" of nodes to be sampled: Node degree follows power law distribution\n",
        "        )\n",
        "    num_workers = 0\n",
        "    \n",
        "    loader = LinkNeighborLoader(\n",
        "        data,\n",
        "        num_neighbors=num_neighbors,\n",
        "        # {\n",
        "        #     ('Job', 'REQUIRES', 'Skill'):num_neighbors,\n",
        "        #     ('Skill', 'rev_REQUIRES', 'Job'):num_neighbors,\n",
        "        #     ('Skill', 'IS_SIMILAR_SKILL', 'Skill'):num_neighbors, # In this example, index 0 will never be used, since neighboring edge to a job node can't be a skill-skill edge\n",
        "        #     ('Skill', 'rev_IS_SIMILAR_SKILL', 'Skill'):num_neighbors,\n",
        "        #     ('Job', 'IS_SIMILAR_JOB', 'Job'):num_neighbors,\n",
        "        #     ('Job', 'rev_IS_SIMILAR_JOB', 'Job'):num_neighbors,\n",
        "        # },\n",
        "        edge_label_index=(edge_type, data[edge_type].edge_label_index), # if (edge, None), None means all edges are considered\n",
        "        #  =train_data[edge].edge_label,\n",
        "        neg_sampling=negative_sampling, # adds negative samples\n",
        "        batch_size=batch_size,\n",
        "        shuffle=is_training,\n",
        "        #drop_last=True,\n",
        "        num_workers=num_workers,\n",
        "        directed=True,  # contains only edges which are followed, False: contains full node induced subgraph\n",
        "        #disjoint=True # sampled seed node creates its own, disjoint from the rest, subgraph, will add \"batch vector\" to loader output\n",
        "        pin_memory=True, # faster data transfer to gpu\n",
        "        #num_workers=2,\n",
        "        #prefetch_factor=2\n",
        "    )\n",
        "    print(f'Using {num_workers} workers in the dataloader for edgetype {edge_type}')\n",
        "\n",
        "    return loader\n",
        "\n",
        "\n",
        "batch_size=64\n",
        "num_neighbors = [5,4]\n",
        "\n",
        "def create_iterator(data, is_training:bool):\n",
        "    loaders = []\n",
        "    supervision_edge_types = []\n",
        "    for edge_type in [('Job', 'REQUIRES', 'Skill'),('Job', 'IS_SIMILAR_JOB', 'Job'), ('Skill', 'IS_SIMILAR_SKILL', 'Skill')]:\n",
        "        # if 'rev_' in edge_type[1]:\n",
        "        #     continue    \n",
        "        # we dont need rev_ target edges, since they are the same\n",
        "        # rev edges are only needed in the later step for the gnn traversal\n",
        "        # create mini-batches for each edge type, because LinkNeighborLoader only allows one target edge type\n",
        "     \n",
        "        loader = create_loader(\n",
        "            data=data,\n",
        "            edge_type=edge_type,\n",
        "            num_neighbors=num_neighbors,\n",
        "            batch_size=batch_size,\n",
        "            is_training=is_training,\n",
        "            negative_sampling_amount=(20 if is_training else 1)\n",
        "        )\n",
        "        loaders.append(loader)\n",
        "        supervision_edge_types.append(edge_type)\n",
        "    \n",
        "    \n",
        "    # creates an iterator which has as many elements as the longest iterable\n",
        "    # other iterables will be repeated until the longest is done\n",
        "    length = 0\n",
        "    index = 0\n",
        "    for i, iterable in enumerate(loaders):\n",
        "        l = len(iterable)\n",
        "        if l>length:\n",
        "            length = l\n",
        "            index = i\n",
        "            \n",
        " \n",
        "    # for loader in loaders:\n",
        "    #     minibatch = next(iter(loader))\n",
        "        \n",
        "\n",
        "    longest_loader = loaders.pop(index)\n",
        "    longest_loader_edge_type = supervision_edge_types.pop(index)\n",
        "    \n",
        "   \n",
        "    # create a list of iterators\n",
        "    iterators = [iter(loader) for loader in loaders]\n",
        "    \n",
        "    def iterator():\n",
        "        for batch in longest_loader:\n",
        "            batches = [(longest_loader_edge_type,batch)]\n",
        "            for i in range(len(iterators)):\n",
        "                try:\n",
        "                    batches.append((supervision_edge_types[i],next(iterators[i])))\n",
        "                   \n",
        "                except StopIteration:\n",
        "                    iterators[i] = iter(loaders[i]) # will \"reinit\" iterator\n",
        "                    batches.append((supervision_edge_types[i],next(iterators[i])))\n",
        "                    \n",
        "                    \n",
        "            yield tuple(batches)\n",
        "\n",
        "    return iterator, len(longest_loader)\n",
        "    \n",
        "    \n",
        "\n",
        "# watch -n 1 df -h /dev/shm\n",
        "gc.collect()\n",
        "train_iterator, train_batch_len = create_iterator(train_data, is_training=True)\n",
        "val_iterator, val_batch_len = create_iterator(val_data, is_training=False)\n",
        "test_iterator, test_batch_len = create_iterator(test_data, is_training=False)"
      ]
    },
    {
      "cell_type": "code",
      "execution_count": 4,
      "metadata": {
        "id": "jnWJyyeC9udb"
      },
      "outputs": [],
      "source": [
        "# helpful article\n",
        "# https://medium.com/stanford-cs224w/a-tour-of-pygs-data-loaders-9f2384e48f8f\n",
        "\n",
        "# some info\n",
        "\n",
        "# HeteroData(\n",
        "#   Job={\n",
        "#     x=[9222, 128], # node features\n",
        "#     n_id=[9222] # the ids of the nodes in the original train_data set\n",
        "#   },\n",
        "#   (Job, REQUIRES, Skill)={\n",
        "#     edge_index=[2, 14498], # sampled edges\n",
        "#     edge_attr=[14498, 1],  # edge attributes of sampled edges\n",
        "#     edge_label=[509170], # 1 if it is a true edge, 0 if it is a false\n",
        "#     edge_label_index=[2, 509170], # all edges?\n",
        "#     e_id=[14498] # edge ids of edges in the original train_data set\n",
        "\n",
        "\n",
        "\n",
        "# if batchsize is 16 for the edge and we have neg_sampling=binary, we will have\n",
        "# this many jobs:\n",
        "#  Job={\n",
        "#     x=[64, 128],\n",
        "#     n_id=[64]\n",
        "#   },\n",
        "# since we sample a negative and a positive edge each, and each edge has 2 Job nodes (if our target is the job nodes)\n",
        "\n",
        "# LinkNeighborloader will sample negative edges for the target edges only, as we expect it\n",
        "# so for the \"neighbor\"-edges we get only positive ones"
      ]
    },
    {
      "cell_type": "code",
      "execution_count": 69,
      "metadata": {
        "id": "dI4AQ3kq9udc"
      },
      "outputs": [],
      "source": [
        "# from typing import Tuple, Union\n",
        "# from torch import Tensor\n",
        "# import torch_geometric\n",
        "# from torch_geometric.nn import to_hetero, HeteroDictLinear, Linear\n",
        "# from torch_geometric.nn.conv import GraphConv, SAGEConv, SimpleConv, HeteroConv\n",
        "# import torch.nn.functional as F\n",
        "# from torch_geometric.typing import Adj, OptPairTensor, OptTensor, Size\n",
        "# from torch_geometric import seed_everything\n",
        "# from torch_geometric.utils import trim_to_layer\n",
        "\n",
        "# # PyG does not implement the exact max pooling aggregation as in the GraphSage paper\n",
        "# # with GraphConvWithPool we manually extend it by adding a linear layer on x before .propagate\n",
        "# # as our activation function is monotonically increasing, this modification corresponds to the max pooling aggregation\n",
        "\n",
        "# class GraphConvWithPool(GraphConv):\n",
        "#     def __init__(self, in_channels, out_channels: int, aggr: str = 'add', bias: bool = True, **kwargs):\n",
        "#         super().__init__(in_channels, out_channels, aggr, bias, **kwargs)\n",
        "#         self.linear = torch.nn.Linear(in_channels, in_channels, bias=False)\n",
        "\n",
        "#     def forward(self, x: Union[Tensor, OptPairTensor], edge_index: Adj,\n",
        "#                 edge_weight: OptTensor = None, size: Size = None) -> Tensor:\n",
        "\n",
        "#         if isinstance(x, Tensor):\n",
        "#             x: OptPairTensor = (x, x)\n",
        "\n",
        "#         x = self.linear(x) # added this\n",
        "\n",
        "#         out = self.propagate(edge_index, x=x, edge_weight=edge_weight,\n",
        "#                              size=size)\n",
        "#         out = self.lin_rel(out)\n",
        "\n",
        "#         x_r = x[1]\n",
        "#         if x_r is not None:\n",
        "#             out = out + self.lin_root(x_r)\n",
        "\n",
        "#         return out\n",
        "\n",
        "\n",
        "\n",
        "# class WeightedSkillSage(torch.nn.Module):\n",
        "#     def __init__(self, hidden_channels, out_channels):\n",
        "#         super().__init__()\n",
        "        \n",
        "#         self.lin_in = torch.nn.ModuleDict({\n",
        "#             'Skill': Linear(132,hidden_channels),\n",
        "#             'Job': Linear(132,hidden_channels)\n",
        "#         })\n",
        "        \n",
        "#         self.skill_skill = GraphConv((-1, -1), hidden_channels)  # use same for rev_skill as well\n",
        "#         self.job_job = GraphConv((-1, -1), hidden_channels)  # use same for rev_job... as well\n",
        "        \n",
        "#         self.hetero_convs = torch.nn.ModuleList()\n",
        "#         for _ in range(2):\n",
        "#             conv = HeteroConv(\n",
        "#                 {\n",
        "#                     ('Job', 'REQUIRES', 'Skill'): GraphConv((-1, -1), hidden_channels),\n",
        "#                     ('Skill', 'rev_REQUIRES', 'Job'): GraphConv((-1, -1), hidden_channels),\n",
        "#                     ('Skill', 'IS_SIMILAR_SKILL', 'Skill'):self.skill_skill,\n",
        "#                     ('Skill', 'rev_IS_SIMILAR_SKILL', 'Skill'):self.skill_skill,\n",
        "#                     ('Job', 'IS_SIMILAR_JOB', 'Job'):self.job_job,\n",
        "#                     ('Job', 'rev_IS_SIMILAR_JOB', 'Job'):self.job_job,\n",
        "#                 }, aggr='sum')\n",
        "#             self.hetero_convs.append(conv)\n",
        "            \n",
        "#         self.lin_out = torch.nn.ModuleDict({\n",
        "#             'Skill': Linear(hidden_channels, out_channels),\n",
        "#             'Job': Linear(hidden_channels, out_channels)\n",
        "#         })\n",
        "\n",
        "#     def forward(self, x_dict, edge_index_dict, edge_weight_dict, num_sampled_edges_dict, num_sampled_nodes_dict):\n",
        "#         x_dict = {key: F.relu(self.lin_in[key](x)) for key, x in x_dict.items()}\n",
        "       \n",
        "        \n",
        "#         # speedup: only compute necessary node representations in each pass through https://pytorch-geometric.readthedocs.io/en/latest/advanced/hgam.html\n",
        "#         for i, conv in enumerate(self.hetero_convs):\n",
        "#             x_dict, edge_index_dict, edge_weight_dict = trim_to_layer(\n",
        "#                 layer=i,\n",
        "#                 num_sampled_nodes_per_hop=num_sampled_nodes_dict, \n",
        "#                 num_sampled_edges_per_hop=num_sampled_edges_dict, # gives the num sampled edges per edge type, e.g. ('Job', 'REQUIRES', 'Skill'): [3083, 14514] -> 3000 in first step, 14000 in second\n",
        "#                 x=x_dict,\n",
        "#                 edge_index=edge_index_dict,\n",
        "#                 edge_attr=edge_weight_dict\n",
        "#             )\n",
        "#             if len(x_dict.keys())<2:\n",
        "#                 print('test')\n",
        "#             x_dict = conv(x_dict, edge_index_dict, edge_weight_dict) # edge_weight_dict\n",
        "#             x_dict = {key: F.relu(x) for key, x in x_dict.items()}\n",
        "            \n",
        "        \n",
        "#         x_dict = {key: F.relu(self.lin_out[key](x)) for key, x in x_dict.items()}\n",
        "#         return x_dict\n",
        "\n",
        "# seed_everything(14)\n",
        "# model = WeightedSkillSage(hidden_channels=512, out_channels=512)\n",
        "# #model = to_hetero(model, train_data.metadata(), aggr='sum')\n",
        "# #model =  torch_geometric.compile(model)"
      ]
    },
    {
      "cell_type": "code",
      "execution_count": 120,
      "metadata": {},
      "outputs": [],
      "source": [
        "from typing import Tuple, Union\n",
        "from torch import Tensor\n",
        "import torch_geometric\n",
        "from torch_geometric.nn import to_hetero, HeteroDictLinear, Linear\n",
        "from torch_geometric.nn.conv import GraphConv, SAGEConv, SimpleConv, HeteroConv\n",
        "import torch.nn.functional as F\n",
        "from torch_geometric.typing import Adj, OptPairTensor, OptTensor, Size\n",
        "from torch_geometric import seed_everything\n",
        "from torch_geometric.utils import trim_to_layer\n",
        "\n",
        "# PyG does not implement the exact max pooling aggregation as in the GraphSage paper\n",
        "# with GraphConvWithPool we manually extend it by adding a linear layer on x before .propagate\n",
        "# as our activation function is monotonically increasing, this modification corresponds to the max pooling aggregation\n",
        "\n",
        "class GraphConvWithPool(GraphConv):\n",
        "    def __init__(self, in_channels, out_channels: int, aggr: str = 'add', bias: bool = True, **kwargs):\n",
        "        super().__init__(in_channels, out_channels, aggr, bias, **kwargs)\n",
        "        self.linear = torch.nn.Linear(in_channels, in_channels, bias=False)\n",
        "\n",
        "    def forward(self, x: Union[Tensor, OptPairTensor], edge_index: Adj,\n",
        "                edge_weight: OptTensor = None, size: Size = None) -> Tensor:\n",
        "\n",
        "        if isinstance(x, Tensor):\n",
        "            x: OptPairTensor = (x, x)\n",
        "\n",
        "        x = self.linear(x) # added this\n",
        "\n",
        "        out = self.propagate(edge_index, x=x, edge_weight=edge_weight,\n",
        "                             size=size)\n",
        "        out = self.lin_rel(out)\n",
        "\n",
        "        x_r = x[1]\n",
        "        if x_r is not None:\n",
        "            out = out + self.lin_root(x_r)\n",
        "\n",
        "        return out\n",
        "\n",
        "\n",
        "\n",
        "class WeightedSkillSage(torch.nn.Module):\n",
        "    def __init__(self, hidden_channels, out_channels):\n",
        "        super().__init__()\n",
        "        \n",
        "        self.lin_in = torch.nn.ModuleDict({\n",
        "            'Skill': Linear(132,hidden_channels),\n",
        "            'Job': Linear(132,hidden_channels)\n",
        "        })\n",
        "        \n",
        "        self.skill_skill = GraphConv((-1, -1), hidden_channels)  # use same for rev_skill as well\n",
        "        self.job_job = GraphConv((-1, -1), hidden_channels)  # use same for rev_job... as well\n",
        "        \n",
        "        self.hetero_convs = torch.nn.ModuleList()\n",
        "        for _ in range(2):\n",
        "            conv = HeteroConv(\n",
        "                {\n",
        "                    ('Job', 'REQUIRES', 'Skill'): GraphConv((-1, -1), hidden_channels),\n",
        "                    ('Skill', 'rev_REQUIRES', 'Job'): GraphConv((-1, -1), hidden_channels),\n",
        "                    ('Skill', 'IS_SIMILAR_SKILL', 'Skill'):self.skill_skill,\n",
        "                    ('Skill', 'rev_IS_SIMILAR_SKILL', 'Skill'):self.skill_skill,\n",
        "                    ('Job', 'IS_SIMILAR_JOB', 'Job'):self.job_job,\n",
        "                    ('Job', 'rev_IS_SIMILAR_JOB', 'Job'):self.job_job,\n",
        "                }, aggr='sum')\n",
        "            self.hetero_convs.append(conv)\n",
        "            \n",
        "        self.lin_out = torch.nn.ModuleDict({\n",
        "            'Skill': Linear(hidden_channels, out_channels),\n",
        "            'Job': Linear(hidden_channels, out_channels)\n",
        "        })\n",
        "\n",
        "    def forward(self, x_dict, edge_index_dict, edge_weight_dict, num_sampled_edges_dict, num_sampled_nodes_dict):\n",
        "        x_dict = {key: F.relu(self.lin_in[key](x)) for key, x in x_dict.items()}\n",
        "        \n",
        "        # speedup: only compute necessary node representations in each pass through https://pytorch-geometric.readthedocs.io/en/latest/advanced/hgam.html\n",
        "        for i, conv in enumerate(self.hetero_convs):\n",
        "            x_dict, edge_index_dict, edge_weight_dict = trim_to_layer(\n",
        "                layer=i,\n",
        "                num_sampled_nodes_per_hop=num_sampled_nodes_dict, \n",
        "                num_sampled_edges_per_hop=num_sampled_edges_dict, # gives the num sampled edges per edge type, e.g. ('Job', 'REQUIRES', 'Skill'): [3083, 14514] -> 3000 in first step, 14000 in second\n",
        "                x=x_dict,\n",
        "                edge_index=edge_index_dict,\n",
        "                edge_attr=edge_weight_dict\n",
        "            )\n",
        "        \n",
        "            x_dict = conv(x_dict, edge_index_dict, edge_weight_dict) # edge_weight_dict\n",
        "            x_dict = {key: F.relu(x) for key, x in x_dict.items()}\n",
        "            \n",
        "        \n",
        "        x_dict = {key: F.relu(self.lin_out[key](x)) for key, x in x_dict.items()}\n",
        "        return x_dict\n",
        "\n",
        "seed_everything(14)\n",
        "model = WeightedSkillSage(hidden_channels=64, out_channels=64)\n",
        "#model = to_hetero(model, train_data.metadata(), aggr='sum')\n",
        "#model =  torch_geometric.compile(model)"
      ]
    },
    {
      "cell_type": "code",
      "execution_count": 123,
      "metadata": {
        "id": "TQbpUFGwF-Zx"
      },
      "outputs": [],
      "source": [
        "from torcheval.metrics import BinaryAccuracy, BinaryPrecision, BinaryRecall, BinaryF1Score, BinaryAUPRC, BinaryAUROC\n",
        "from tqdm.auto import tqdm\n",
        "import gc\n",
        "from torch.utils.tensorboard import SummaryWriter\n",
        "import os\n",
        "from pathlib import Path\n",
        "from datetime import datetime\n",
        "import torch\n",
        "import numpy as np\n",
        "from sklearn.metrics import f1_score\n",
        "\n",
        "\n",
        "class GNNTrainer():\n",
        "    def __init__(self, model, criterion, optimizer, device, log_folder):\n",
        "        #super().__init__(model, criterion, optimizer, device, ) # metrics=['f1','accuracy','precision','recall', 'aucpr']\n",
        "        self.model = model\n",
        "        self.criterion = criterion\n",
        "        self.optimizer = optimizer\n",
        "        self.device = device\n",
        "        self.train_batch_size = 0  # for tqdm, for logging\n",
        "        self.train_n_mini_in_batch = 0  # for tqdm\n",
        "        self.val_n_mini_in_batch = 0  # for tqdm\n",
        "        self.log_folder = log_folder\n",
        "    \n",
        "    def free_memory(self):\n",
        "        \"\"\"Clears the GPU cache and triggers garbage collection, to reduce OOMs.\"\"\"\n",
        "        torch.cuda.empty_cache()\n",
        "        gc.collect()\n",
        "        \n",
        "    \n",
        "            \n",
        "    \n",
        "        \n",
        "    def write_calc_metrics(self, split_name:str, y_hat, y, y_per_edgetype, y_hat_per_edgetype, epoch:int, is_epoch:bool, minibatch:int=0, loss:int=0, loss_per_edgetype=None, print_=True):\n",
        "        assert epoch>=1, 'Epoch must be >= 1'\n",
        "        assert minibatch >= 1, \"minibatch must be >=1\"\n",
        "        \n",
        "        if split_name=='train':\n",
        "            assert self.train_batch_size != 0\n",
        "            assert self.train_n_mini_in_batch != 0\n",
        "            assert loss != 0, \"loss can't be 0\"\n",
        "            if is_epoch:\n",
        "                loss_per_edge_type = {}\n",
        "                y_per_edgetype = {}\n",
        "                y_hat_per_edgetype = {}\n",
        "            assert loss_per_edgetype is not None\n",
        "            \n",
        "        else:\n",
        "            assert loss_per_edgetype is None\n",
        "            \n",
        "        if is_epoch:\n",
        "            split_name = 'epoch_'+split_name\n",
        "            index = epoch\n",
        "        else:\n",
        "            split_name = 'samples_'+split_name\n",
        "            no_minibatches = (epoch-1)*self.train_n_mini_in_batch + minibatch\n",
        "            approx_no_samples = no_minibatches*self.train_batch_size\n",
        "            index = approx_no_samples\n",
        "        \n",
        "        y_per_edgetype[('','all','')]= y\n",
        "        y_hat_per_edgetype[('','all','')]= y_hat\n",
        "        if 'train' in split_name:\n",
        "            loss_per_edgetype[('','all','')] = loss\n",
        "        \n",
        "        \n",
        "        for edgetype in y_per_edgetype.keys():\n",
        "            y = y_per_edgetype[edgetype].to(torch.int).detach().cpu()\n",
        "            y_hat = y_hat_per_edgetype[edgetype].detach().cpu()\n",
        "            edge_name = '-'.join(list(edgetype)).strip('-')\n",
        "        \n",
        "            \n",
        "            def calculate_f1(y_hat, y, thresholds):\n",
        "                return np.array([f1_score(y_hat>threshold, y, average='binary') for threshold in thresholds])\n",
        "            \n",
        "            # get best f1 threshold\n",
        "            thresholds = np.arange(0.001, 1, 0.001)\n",
        "            a, b = y_hat.numpy(), y.numpy()\n",
        "            f1s = calculate_f1(a,b , thresholds)\n",
        "            optimal_threshold = thresholds[np.argmax(f1s)]\n",
        "            f1=max(f1s)\n",
        "    \n",
        "            acc, prec, rec = BinaryAccuracy(threshold=optimal_threshold).update(y_hat, y).compute().item(), BinaryPrecision(threshold=optimal_threshold).update(y_hat, y).compute().item(), BinaryRecall(threshold=optimal_threshold).update(y_hat, y).compute().item()\n",
        "            self.writer.add_scalar(f'{split_name}_f1threshold_{edge_name}', optimal_threshold, index)\n",
        "            self.writer.add_scalar(f'{split_name}_accuracy_{edge_name}', acc, index)\n",
        "            self.writer.add_scalar(f'{split_name}_precision_{edge_name}', prec, index)\n",
        "            self.writer.add_scalar(f'{split_name}_recall_{edge_name}', rec, index)\n",
        "            self.writer.add_scalar(f'{split_name}_f1_{edge_name}', f1, index)\n",
        "            \n",
        "        \n",
        "            auprc = BinaryAUPRC().update(y_hat, y).compute().item()\n",
        "            auroc = BinaryAUROC().update(y_hat, y).compute().item()\n",
        "            \n",
        "            self.writer.add_scalar(f'{split_name}_auprc_{edge_name}', auprc, index)\n",
        "            self.writer.add_scalar(f'{split_name}_auroc_{edge_name}', auroc, index)\n",
        "            if 'train' in split_name:\n",
        "                loss = loss_per_edgetype[edgetype]\n",
        "                self.writer.add_scalar(f'{split_name}_loss_{edge_name}', loss, index)\n",
        "            self.writer.flush()\n",
        "            \n",
        "            if print_ and edgetype==('','all',''):\n",
        "                out_of = f'/{self.train_n_mini_in_batch:06d}' if 'train' in split_name else ''\n",
        "                no_samples = f'|samples:{index}' if 'train' in split_name else ''\n",
        "                loss_to_show = f'loss:{loss:.4f},' if 'train' in split_name else ''\n",
        "                print(f'{split_name}|{int(minibatch):04d}{out_of}|{epoch:04d}{no_samples}|{loss_to_show} F1: {f1:.6f}, AUC-PR: {auprc:.6f}, (auroc: {auroc:.6f}, acc: {acc:.6f}, prec: {prec:.6f}, rec: {rec:.6f})')\n",
        "\n",
        "    def create_logfolders(self, run_folder=None):\n",
        "        if run_folder is None:\n",
        "            run_folder = datetime.now().strftime('run_%d%m%Y_%H%M%S')\n",
        "            \n",
        "        self.writer = SummaryWriter(log_dir=Path(self.log_folder)/(run_folder+'_tensorboard'))\n",
        "        self.checkpoint_folder = Path(self.log_folder)/(run_folder+'_checkpoints')\n",
        "        if not os.path.exists(self.checkpoint_folder):\n",
        "            os.makedirs(self.checkpoint_folder)\n",
        "        \n",
        "        if not os.path.exists(Path(self.log_folder)/(run_folder+'_tensorboard')):\n",
        "            os.makedirs(Path(self.log_folder)/(run_folder+'_tensorboard'))\n",
        "            \n",
        "        print(f'run folder is {run_folder}')\n",
        "        \n",
        "    \n",
        "    def train(self, train_iterator, val_iterator, start_epoch, n_epochs, run_folder=None, save_metrics_after_n_batches=100):\n",
        "        self.free_memory()\n",
        "        self.create_logfolders(run_folder)\n",
        "\n",
        "        self.model.train()\n",
        "        assert start_epoch >= 1, \"Epoch must be >= 1\"\n",
        "        \n",
        "        for epoch in range(start_epoch, start_epoch+n_epochs):\n",
        "            \n",
        "            epoch_loss = 0\n",
        "            for batch_idx, edge_batches in tqdm(enumerate(train_iterator()), total=self.train_n_mini_in_batch, desc='train epoch'):\n",
        "                batch_idx+=1  # start from 1\n",
        "                self.optimizer.zero_grad()  # empty gradients\n",
        "                minibatch_loss = 0\n",
        "                loss_per_edgetype = {}\n",
        "                y_hat, y = [], []\n",
        "                y_hat_per_edgetype, y_per_edgetype = {}, {}\n",
        "                for supervision_edge_type, batch in edge_batches:  # each \"batch\" here is one edge type, since we want to learn for all edge types\n",
        "                    batch = batch.to(self.device)\n",
        "                    hetero_out = model(batch.x_dict, batch.edge_index_dict, batch.edge_weight_dict, batch.num_sampled_edges_dict, batch.num_sampled_nodes_dict)  # get model output\n",
        "\n",
        "                    # evaluate, calculate cosine sim and compute cross-entropy loss\n",
        "                    src_type, dst_type = supervision_edge_type[0], supervision_edge_type[2]\n",
        "                    edge_label = batch[supervision_edge_type].edge_label\n",
        "                    edge_label_index = batch[supervision_edge_type].edge_label_index\n",
        "                    src_node_embeddings = hetero_out[src_type][edge_label_index[0]]\n",
        "                    dst_node_embeddings = hetero_out[dst_type][edge_label_index[1]]\n",
        "                    \n",
        "                    loss, y_pred = self.criterion(src_node_embeddings, dst_node_embeddings, edge_label)\n",
        "                    \n",
        "                    minibatch_loss += loss\n",
        "                    \n",
        "                    # collect data for metrics\n",
        "                    loss_per_edgetype[supervision_edge_type] = loss.detach().item()\n",
        "                    y_hat_per_edgetype[supervision_edge_type] = y_pred.detach().cpu()\n",
        "                    y_per_edgetype[supervision_edge_type] = edge_label.to(torch.int).detach().cpu()\n",
        "                    y_hat.append(y_hat_per_edgetype[supervision_edge_type])\n",
        "                    y.append(y_per_edgetype[supervision_edge_type])\n",
        "                    \n",
        "                minibatch_loss.backward()\n",
        "                self.optimizer.step()\n",
        "                minibatch_loss = minibatch_loss.detach().item()\n",
        "                epoch_loss += minibatch_loss\n",
        "             \n",
        "                y_hat = torch.cat(y_hat)\n",
        "                y = torch.cat(y)\n",
        "                # create metrics and write to tensorboard writer\n",
        "                if batch_idx%save_metrics_after_n_batches==1:\n",
        "                    self.write_calc_metrics('train', y_hat, y, y_per_edgetype, y_hat_per_edgetype,  epoch=epoch, minibatch=batch_idx, loss=minibatch_loss, loss_per_edgetype=loss_per_edgetype, is_epoch=False, print_=False)\n",
        "                    self.validate(val_iterator, epoch, batch_idx, is_epoch=False)\n",
        "                    self.model.train()  # back to training, just in case\n",
        "           \n",
        "            self.save_checkpoint(epoch, batch_idx)\n",
        "            self.write_calc_metrics('train', y_hat, y, y_per_edgetype={}, y_hat_per_edgetype={}, loss_per_edgetype={}, epoch=epoch, minibatch=batch_idx, loss=epoch_loss, is_epoch=True, print_=True)\n",
        "            self.validate(val_iterator, epoch, batch_idx, is_epoch=True)\n",
        "            self.model.train()  # back to training, just in case\n",
        "            \n",
        "    def validate(self, val_iterator, epoch, batch_idx, is_epoch):\n",
        "        self.model.eval()\n",
        "        with torch.no_grad():\n",
        "            y_hat, y = [], []\n",
        "            y_hat_per_edgetype, y_per_edgetype = {}, {}\n",
        "            for edge_batches in val_iterator():\n",
        "                for supervision_edge_type, batch in edge_batches:  # each \"batch\" here is one edge type, since we want to learn for all edge types\n",
        "                    batch = batch.to(self.device)\n",
        "                    hetero_out = model(batch.x_dict, batch.edge_index_dict, batch.edge_weight_dict, batch.num_sampled_edges_dict, batch.num_sampled_nodes_dict)\n",
        "\n",
        "                    # evaluate, calculate cosine sim and compute cross-entropy loss\n",
        "                    src_type, dst_type = supervision_edge_type[0], supervision_edge_type[2]\n",
        "                    edge_label = batch[supervision_edge_type].edge_label\n",
        "                    edge_label_index = batch[supervision_edge_type].edge_label_index\n",
        "                    if src_type not in  hetero_out.keys() or dst_type not in hetero_out.keys():\n",
        "                        print('eval failed on one minibatch part, skipping')\n",
        "                        print('Supervision edge type:',supervision_edge_type)\n",
        "                        print('one type is missing in model output',src_type, dst_type)\n",
        "                        print(batch.x_dict)\n",
        "                        print(hetero_out.keys())\n",
        "                        print(batch)\n",
        "                        continue\n",
        "                        \n",
        "                    src_node_embeddings = hetero_out[src_type][edge_label_index[0]]\n",
        "                    dst_node_embeddings = hetero_out[dst_type][edge_label_index[1]]\n",
        "                    \n",
        "                    #logits = F.cosine_similarity(src_node_embeddings, dst_node_embeddings, dim=-1)\n",
        "                    \n",
        "                    _, y_pred = self.criterion(src_node_embeddings, dst_node_embeddings, edge_label)\n",
        "                    # y_hat.append(y_pred.detach())\n",
        "                    # y.append(edge_label.to(torch.int).detach())\n",
        "\n",
        "                    # collect data for metrics\n",
        "                    if supervision_edge_type not in y_hat_per_edgetype.keys():\n",
        "                        y_hat_per_edgetype[supervision_edge_type] = []\n",
        "                        y_per_edgetype[supervision_edge_type] = []\n",
        "                        \n",
        "                    y_hat_per_edgetype[supervision_edge_type].append(y_pred.detach().cpu())\n",
        "                    y_per_edgetype[supervision_edge_type].append(edge_label.to(torch.int).detach().cpu())\n",
        "                   \n",
        "                    \n",
        "            # save metrics\n",
        "            for key in y_hat_per_edgetype:\n",
        "                y_hat_per_edgetype[key] = torch.cat(y_hat_per_edgetype[supervision_edge_type])\n",
        "                y_per_edgetype[key] = torch.cat(y_per_edgetype[supervision_edge_type])\n",
        "                y_hat.append(y_hat_per_edgetype[key])\n",
        "                y.append(y_per_edgetype[key])\n",
        "                \n",
        "            y_hat = torch.cat(y_hat)\n",
        "            y = torch.cat(y)\n",
        "            self.write_calc_metrics('val', y_hat, y, y_per_edgetype, y_hat_per_edgetype, epoch=epoch, is_epoch=is_epoch, print_=True, minibatch=batch_idx)\n",
        "    \n",
        "    def save_checkpoint(self, epoch, batch_idx):\n",
        "        print(f'save checkpoint {self.checkpoint_folder}/checkpoint_ep{epoch}_{batch_idx}.pt')\n",
        "        torch.save({\n",
        "            'model_state_dict': self.model.state_dict(),\n",
        "            'optimizer_state_dict': self.optimizer.state_dict(),\n",
        "           # 'metrics_history': self.story,\n",
        "        }, f'{self.checkpoint_folder}/checkpoint_ep{epoch}.pt')\n",
        "\n",
        "    def load_checkpoint(self, load_path):\n",
        "        checkpoint = torch.load(load_path)\n",
        "        self.model.load_state_dict(checkpoint['model_state_dict'])\n",
        "        self.optimizer.load_state_dict(checkpoint['optimizer_state_dict'])"
      ]
    },
    {
      "cell_type": "code",
      "execution_count": 124,
      "metadata": {
        "id": "hsOdxQu-FgBD"
      },
      "outputs": [
        {
          "name": "stdout",
          "output_type": "stream",
          "text": [
            "run folder is graphconv_v0_lr_2emin7_1lin_1lin_64dim_noedgeweight\n"
          ]
        },
        {
          "name": "stderr",
          "output_type": "stream",
          "text": [
            "train epoch:   0%|          | 0/16003 [01:02<?, ?it/s]\n"
          ]
        },
        {
          "ename": "KeyboardInterrupt",
          "evalue": "",
          "output_type": "error",
          "traceback": [
            "\u001b[0;31m---------------------------------------------------------------------------\u001b[0m",
            "\u001b[0;31mKeyboardInterrupt\u001b[0m                         Traceback (most recent call last)",
            "\u001b[1;32m/home/amos/programming/create_graphds/colab.ipynb Cell 65\u001b[0m line \u001b[0;36m3\n\u001b[1;32m     <a href='vscode-notebook-cell://wsl%2Bubuntu/home/amos/programming/create_graphds/colab.ipynb#Y115sdnNjb2RlLXJlbW90ZQ%3D%3D?line=27'>28</a>\u001b[0m trainer\u001b[39m.\u001b[39mtrain_n_mini_in_batch \u001b[39m=\u001b[39m train_batch_len\n\u001b[1;32m     <a href='vscode-notebook-cell://wsl%2Bubuntu/home/amos/programming/create_graphds/colab.ipynb#Y115sdnNjb2RlLXJlbW90ZQ%3D%3D?line=28'>29</a>\u001b[0m trainer\u001b[39m.\u001b[39mval_n_mini_in_batch \u001b[39m=\u001b[39m val_batch_len\n\u001b[0;32m---> <a href='vscode-notebook-cell://wsl%2Bubuntu/home/amos/programming/create_graphds/colab.ipynb#Y115sdnNjb2RlLXJlbW90ZQ%3D%3D?line=30'>31</a>\u001b[0m trainer\u001b[39m.\u001b[39;49mtrain(\n\u001b[1;32m     <a href='vscode-notebook-cell://wsl%2Bubuntu/home/amos/programming/create_graphds/colab.ipynb#Y115sdnNjb2RlLXJlbW90ZQ%3D%3D?line=31'>32</a>\u001b[0m     train_iterator, \n\u001b[1;32m     <a href='vscode-notebook-cell://wsl%2Bubuntu/home/amos/programming/create_graphds/colab.ipynb#Y115sdnNjb2RlLXJlbW90ZQ%3D%3D?line=32'>33</a>\u001b[0m     val_iterator, \n\u001b[1;32m     <a href='vscode-notebook-cell://wsl%2Bubuntu/home/amos/programming/create_graphds/colab.ipynb#Y115sdnNjb2RlLXJlbW90ZQ%3D%3D?line=33'>34</a>\u001b[0m     start_epoch\u001b[39m=\u001b[39;49m\u001b[39m2\u001b[39;49m, \n\u001b[1;32m     <a href='vscode-notebook-cell://wsl%2Bubuntu/home/amos/programming/create_graphds/colab.ipynb#Y115sdnNjb2RlLXJlbW90ZQ%3D%3D?line=34'>35</a>\u001b[0m     n_epochs\u001b[39m=\u001b[39;49m\u001b[39m200\u001b[39;49m, \n\u001b[1;32m     <a href='vscode-notebook-cell://wsl%2Bubuntu/home/amos/programming/create_graphds/colab.ipynb#Y115sdnNjb2RlLXJlbW90ZQ%3D%3D?line=35'>36</a>\u001b[0m     run_folder\u001b[39m=\u001b[39;49m\u001b[39mf\u001b[39;49m\u001b[39m'\u001b[39;49m\u001b[39mgraphconv_v0_lr_2emin7_1lin_1lin_64dim_noedgeweight\u001b[39;49m\u001b[39m'\u001b[39;49m,\n\u001b[1;32m     <a href='vscode-notebook-cell://wsl%2Bubuntu/home/amos/programming/create_graphds/colab.ipynb#Y115sdnNjb2RlLXJlbW90ZQ%3D%3D?line=36'>37</a>\u001b[0m     save_metrics_after_n_batches\u001b[39m=\u001b[39;49m\u001b[39m1000\u001b[39;49m) \u001b[39m# graphconv_v0_lr_2emin6_2lin_1lin_256dim\u001b[39;00m\n\u001b[1;32m     <a href='vscode-notebook-cell://wsl%2Bubuntu/home/amos/programming/create_graphds/colab.ipynb#Y115sdnNjb2RlLXJlbW90ZQ%3D%3D?line=37'>38</a>\u001b[0m \u001b[39m# trainer.validate(val_dataloader)\u001b[39;00m\n\u001b[1;32m     <a href='vscode-notebook-cell://wsl%2Bubuntu/home/amos/programming/create_graphds/colab.ipynb#Y115sdnNjb2RlLXJlbW90ZQ%3D%3D?line=38'>39</a>\u001b[0m \u001b[39m# trainer.plot_losses()\u001b[39;00m\n\u001b[1;32m     <a href='vscode-notebook-cell://wsl%2Bubuntu/home/amos/programming/create_graphds/colab.ipynb#Y115sdnNjb2RlLXJlbW90ZQ%3D%3D?line=39'>40</a>\u001b[0m \u001b[39m# trainer.load_checkpoint('./checkpoints/checkpoint_100.pt')\u001b[39;00m\n\u001b[1;32m     <a href='vscode-notebook-cell://wsl%2Bubuntu/home/amos/programming/create_graphds/colab.ipynb#Y115sdnNjb2RlLXJlbW90ZQ%3D%3D?line=40'>41</a>\u001b[0m \u001b[39m# trainer.validate(val_iterator,1)\u001b[39;00m\n",
            "\u001b[1;32m/home/amos/programming/create_graphds/colab.ipynb Cell 65\u001b[0m line \u001b[0;36m1\n\u001b[1;32m    <a href='vscode-notebook-cell://wsl%2Bubuntu/home/amos/programming/create_graphds/colab.ipynb#Y115sdnNjb2RlLXJlbW90ZQ%3D%3D?line=167'>168</a>\u001b[0m     \u001b[39mif\u001b[39;00m batch_idx\u001b[39m%\u001b[39msave_metrics_after_n_batches\u001b[39m==\u001b[39m\u001b[39m1\u001b[39m:\n\u001b[1;32m    <a href='vscode-notebook-cell://wsl%2Bubuntu/home/amos/programming/create_graphds/colab.ipynb#Y115sdnNjb2RlLXJlbW90ZQ%3D%3D?line=168'>169</a>\u001b[0m         \u001b[39mself\u001b[39m\u001b[39m.\u001b[39mwrite_calc_metrics(\u001b[39m'\u001b[39m\u001b[39mtrain\u001b[39m\u001b[39m'\u001b[39m, y_hat, y, y_per_edgetype, y_hat_per_edgetype,  epoch\u001b[39m=\u001b[39mepoch, minibatch\u001b[39m=\u001b[39mbatch_idx, loss\u001b[39m=\u001b[39mminibatch_loss, loss_per_edgetype\u001b[39m=\u001b[39mloss_per_edgetype, is_epoch\u001b[39m=\u001b[39m\u001b[39mFalse\u001b[39;00m, print_\u001b[39m=\u001b[39m\u001b[39mFalse\u001b[39;00m)\n\u001b[0;32m--> <a href='vscode-notebook-cell://wsl%2Bubuntu/home/amos/programming/create_graphds/colab.ipynb#Y115sdnNjb2RlLXJlbW90ZQ%3D%3D?line=169'>170</a>\u001b[0m         \u001b[39mself\u001b[39;49m\u001b[39m.\u001b[39;49mvalidate(val_iterator, epoch, batch_idx, is_epoch\u001b[39m=\u001b[39;49m\u001b[39mFalse\u001b[39;49;00m)\n\u001b[1;32m    <a href='vscode-notebook-cell://wsl%2Bubuntu/home/amos/programming/create_graphds/colab.ipynb#Y115sdnNjb2RlLXJlbW90ZQ%3D%3D?line=170'>171</a>\u001b[0m         \u001b[39mself\u001b[39m\u001b[39m.\u001b[39mmodel\u001b[39m.\u001b[39mtrain()  \u001b[39m# back to training, just in case\u001b[39;00m\n\u001b[1;32m    <a href='vscode-notebook-cell://wsl%2Bubuntu/home/amos/programming/create_graphds/colab.ipynb#Y115sdnNjb2RlLXJlbW90ZQ%3D%3D?line=172'>173</a>\u001b[0m \u001b[39mself\u001b[39m\u001b[39m.\u001b[39msave_checkpoint(epoch, batch_idx)\n",
            "\u001b[1;32m/home/amos/programming/create_graphds/colab.ipynb Cell 65\u001b[0m line \u001b[0;36m2\n\u001b[1;32m    <a href='vscode-notebook-cell://wsl%2Bubuntu/home/amos/programming/create_graphds/colab.ipynb#Y115sdnNjb2RlLXJlbW90ZQ%3D%3D?line=225'>226</a>\u001b[0m y_hat \u001b[39m=\u001b[39m torch\u001b[39m.\u001b[39mcat(y_hat)\n\u001b[1;32m    <a href='vscode-notebook-cell://wsl%2Bubuntu/home/amos/programming/create_graphds/colab.ipynb#Y115sdnNjb2RlLXJlbW90ZQ%3D%3D?line=226'>227</a>\u001b[0m y \u001b[39m=\u001b[39m torch\u001b[39m.\u001b[39mcat(y)\n\u001b[0;32m--> <a href='vscode-notebook-cell://wsl%2Bubuntu/home/amos/programming/create_graphds/colab.ipynb#Y115sdnNjb2RlLXJlbW90ZQ%3D%3D?line=227'>228</a>\u001b[0m \u001b[39mself\u001b[39;49m\u001b[39m.\u001b[39;49mwrite_calc_metrics(\u001b[39m'\u001b[39;49m\u001b[39mval\u001b[39;49m\u001b[39m'\u001b[39;49m, y_hat, y, y_per_edgetype, y_hat_per_edgetype, epoch\u001b[39m=\u001b[39;49mepoch, is_epoch\u001b[39m=\u001b[39;49mis_epoch, print_\u001b[39m=\u001b[39;49m\u001b[39mTrue\u001b[39;49;00m, minibatch\u001b[39m=\u001b[39;49mbatch_idx)\n",
            "\u001b[1;32m/home/amos/programming/create_graphds/colab.ipynb Cell 65\u001b[0m line \u001b[0;36m7\n\u001b[1;32m     <a href='vscode-notebook-cell://wsl%2Bubuntu/home/amos/programming/create_graphds/colab.ipynb#Y115sdnNjb2RlLXJlbW90ZQ%3D%3D?line=75'>76</a>\u001b[0m thresholds \u001b[39m=\u001b[39m np\u001b[39m.\u001b[39marange(\u001b[39m0.001\u001b[39m, \u001b[39m1\u001b[39m, \u001b[39m0.001\u001b[39m)\n\u001b[1;32m     <a href='vscode-notebook-cell://wsl%2Bubuntu/home/amos/programming/create_graphds/colab.ipynb#Y115sdnNjb2RlLXJlbW90ZQ%3D%3D?line=76'>77</a>\u001b[0m a, b \u001b[39m=\u001b[39m y_hat\u001b[39m.\u001b[39mnumpy(), y\u001b[39m.\u001b[39mnumpy()\n\u001b[0;32m---> <a href='vscode-notebook-cell://wsl%2Bubuntu/home/amos/programming/create_graphds/colab.ipynb#Y115sdnNjb2RlLXJlbW90ZQ%3D%3D?line=77'>78</a>\u001b[0m f1s \u001b[39m=\u001b[39m calculate_f1(a,b , thresholds)\n\u001b[1;32m     <a href='vscode-notebook-cell://wsl%2Bubuntu/home/amos/programming/create_graphds/colab.ipynb#Y115sdnNjb2RlLXJlbW90ZQ%3D%3D?line=78'>79</a>\u001b[0m optimal_threshold \u001b[39m=\u001b[39m thresholds[np\u001b[39m.\u001b[39margmax(f1s)]\n\u001b[1;32m     <a href='vscode-notebook-cell://wsl%2Bubuntu/home/amos/programming/create_graphds/colab.ipynb#Y115sdnNjb2RlLXJlbW90ZQ%3D%3D?line=79'>80</a>\u001b[0m f1\u001b[39m=\u001b[39m\u001b[39mmax\u001b[39m(f1s)\n",
            "\u001b[1;32m/home/amos/programming/create_graphds/colab.ipynb Cell 65\u001b[0m line \u001b[0;36m7\n\u001b[1;32m     <a href='vscode-notebook-cell://wsl%2Bubuntu/home/amos/programming/create_graphds/colab.ipynb#Y115sdnNjb2RlLXJlbW90ZQ%3D%3D?line=71'>72</a>\u001b[0m \u001b[39mdef\u001b[39;00m \u001b[39mcalculate_f1\u001b[39m(y_hat, y, thresholds):\n\u001b[0;32m---> <a href='vscode-notebook-cell://wsl%2Bubuntu/home/amos/programming/create_graphds/colab.ipynb#Y115sdnNjb2RlLXJlbW90ZQ%3D%3D?line=72'>73</a>\u001b[0m     \u001b[39mreturn\u001b[39;00m np\u001b[39m.\u001b[39marray([f1_score(y_hat\u001b[39m>\u001b[39mthreshold, y, average\u001b[39m=\u001b[39m\u001b[39m'\u001b[39m\u001b[39mbinary\u001b[39m\u001b[39m'\u001b[39m) \u001b[39mfor\u001b[39;00m threshold \u001b[39min\u001b[39;00m thresholds])\n",
            "\u001b[1;32m/home/amos/programming/create_graphds/colab.ipynb Cell 65\u001b[0m line \u001b[0;36m7\n\u001b[1;32m     <a href='vscode-notebook-cell://wsl%2Bubuntu/home/amos/programming/create_graphds/colab.ipynb#Y115sdnNjb2RlLXJlbW90ZQ%3D%3D?line=71'>72</a>\u001b[0m \u001b[39mdef\u001b[39;00m \u001b[39mcalculate_f1\u001b[39m(y_hat, y, thresholds):\n\u001b[0;32m---> <a href='vscode-notebook-cell://wsl%2Bubuntu/home/amos/programming/create_graphds/colab.ipynb#Y115sdnNjb2RlLXJlbW90ZQ%3D%3D?line=72'>73</a>\u001b[0m     \u001b[39mreturn\u001b[39;00m np\u001b[39m.\u001b[39marray([f1_score(y_hat\u001b[39m>\u001b[39;49mthreshold, y, average\u001b[39m=\u001b[39;49m\u001b[39m'\u001b[39;49m\u001b[39mbinary\u001b[39;49m\u001b[39m'\u001b[39;49m) \u001b[39mfor\u001b[39;00m threshold \u001b[39min\u001b[39;00m thresholds])\n",
            "File \u001b[0;32m~/.local/lib/python3.10/site-packages/sklearn/metrics/_classification.py:1146\u001b[0m, in \u001b[0;36mf1_score\u001b[0;34m(y_true, y_pred, labels, pos_label, average, sample_weight, zero_division)\u001b[0m\n\u001b[1;32m   1011\u001b[0m \u001b[39mdef\u001b[39;00m \u001b[39mf1_score\u001b[39m(\n\u001b[1;32m   1012\u001b[0m     y_true,\n\u001b[1;32m   1013\u001b[0m     y_pred,\n\u001b[0;32m   (...)\u001b[0m\n\u001b[1;32m   1019\u001b[0m     zero_division\u001b[39m=\u001b[39m\u001b[39m\"\u001b[39m\u001b[39mwarn\u001b[39m\u001b[39m\"\u001b[39m,\n\u001b[1;32m   1020\u001b[0m ):\n\u001b[1;32m   1021\u001b[0m \u001b[39m    \u001b[39m\u001b[39m\"\"\"Compute the F1 score, also known as balanced F-score or F-measure.\u001b[39;00m\n\u001b[1;32m   1022\u001b[0m \n\u001b[1;32m   1023\u001b[0m \u001b[39m    The F1 score can be interpreted as a harmonic mean of the precision and\u001b[39;00m\n\u001b[0;32m   (...)\u001b[0m\n\u001b[1;32m   1144\u001b[0m \u001b[39m    array([0.66666667, 1.        , 0.66666667])\u001b[39;00m\n\u001b[1;32m   1145\u001b[0m \u001b[39m    \"\"\"\u001b[39;00m\n\u001b[0;32m-> 1146\u001b[0m     \u001b[39mreturn\u001b[39;00m fbeta_score(\n\u001b[1;32m   1147\u001b[0m         y_true,\n\u001b[1;32m   1148\u001b[0m         y_pred,\n\u001b[1;32m   1149\u001b[0m         beta\u001b[39m=\u001b[39;49m\u001b[39m1\u001b[39;49m,\n\u001b[1;32m   1150\u001b[0m         labels\u001b[39m=\u001b[39;49mlabels,\n\u001b[1;32m   1151\u001b[0m         pos_label\u001b[39m=\u001b[39;49mpos_label,\n\u001b[1;32m   1152\u001b[0m         average\u001b[39m=\u001b[39;49maverage,\n\u001b[1;32m   1153\u001b[0m         sample_weight\u001b[39m=\u001b[39;49msample_weight,\n\u001b[1;32m   1154\u001b[0m         zero_division\u001b[39m=\u001b[39;49mzero_division,\n\u001b[1;32m   1155\u001b[0m     )\n",
            "File \u001b[0;32m~/.local/lib/python3.10/site-packages/sklearn/metrics/_classification.py:1287\u001b[0m, in \u001b[0;36mfbeta_score\u001b[0;34m(y_true, y_pred, beta, labels, pos_label, average, sample_weight, zero_division)\u001b[0m\n\u001b[1;32m   1158\u001b[0m \u001b[39mdef\u001b[39;00m \u001b[39mfbeta_score\u001b[39m(\n\u001b[1;32m   1159\u001b[0m     y_true,\n\u001b[1;32m   1160\u001b[0m     y_pred,\n\u001b[0;32m   (...)\u001b[0m\n\u001b[1;32m   1167\u001b[0m     zero_division\u001b[39m=\u001b[39m\u001b[39m\"\u001b[39m\u001b[39mwarn\u001b[39m\u001b[39m\"\u001b[39m,\n\u001b[1;32m   1168\u001b[0m ):\n\u001b[1;32m   1169\u001b[0m \u001b[39m    \u001b[39m\u001b[39m\"\"\"Compute the F-beta score.\u001b[39;00m\n\u001b[1;32m   1170\u001b[0m \n\u001b[1;32m   1171\u001b[0m \u001b[39m    The F-beta score is the weighted harmonic mean of precision and recall,\u001b[39;00m\n\u001b[0;32m   (...)\u001b[0m\n\u001b[1;32m   1284\u001b[0m \u001b[39m    array([0.71..., 0.        , 0.        ])\u001b[39;00m\n\u001b[1;32m   1285\u001b[0m \u001b[39m    \"\"\"\u001b[39;00m\n\u001b[0;32m-> 1287\u001b[0m     _, _, f, _ \u001b[39m=\u001b[39m precision_recall_fscore_support(\n\u001b[1;32m   1288\u001b[0m         y_true,\n\u001b[1;32m   1289\u001b[0m         y_pred,\n\u001b[1;32m   1290\u001b[0m         beta\u001b[39m=\u001b[39;49mbeta,\n\u001b[1;32m   1291\u001b[0m         labels\u001b[39m=\u001b[39;49mlabels,\n\u001b[1;32m   1292\u001b[0m         pos_label\u001b[39m=\u001b[39;49mpos_label,\n\u001b[1;32m   1293\u001b[0m         average\u001b[39m=\u001b[39;49maverage,\n\u001b[1;32m   1294\u001b[0m         warn_for\u001b[39m=\u001b[39;49m(\u001b[39m\"\u001b[39;49m\u001b[39mf-score\u001b[39;49m\u001b[39m\"\u001b[39;49m,),\n\u001b[1;32m   1295\u001b[0m         sample_weight\u001b[39m=\u001b[39;49msample_weight,\n\u001b[1;32m   1296\u001b[0m         zero_division\u001b[39m=\u001b[39;49mzero_division,\n\u001b[1;32m   1297\u001b[0m     )\n\u001b[1;32m   1298\u001b[0m     \u001b[39mreturn\u001b[39;00m f\n",
            "File \u001b[0;32m~/.local/lib/python3.10/site-packages/sklearn/metrics/_classification.py:1577\u001b[0m, in \u001b[0;36mprecision_recall_fscore_support\u001b[0;34m(y_true, y_pred, beta, labels, pos_label, average, warn_for, sample_weight, zero_division)\u001b[0m\n\u001b[1;32m   1575\u001b[0m \u001b[39m# Calculate tp_sum, pred_sum, true_sum ###\u001b[39;00m\n\u001b[1;32m   1576\u001b[0m samplewise \u001b[39m=\u001b[39m average \u001b[39m==\u001b[39m \u001b[39m\"\u001b[39m\u001b[39msamples\u001b[39m\u001b[39m\"\u001b[39m\n\u001b[0;32m-> 1577\u001b[0m MCM \u001b[39m=\u001b[39m multilabel_confusion_matrix(\n\u001b[1;32m   1578\u001b[0m     y_true,\n\u001b[1;32m   1579\u001b[0m     y_pred,\n\u001b[1;32m   1580\u001b[0m     sample_weight\u001b[39m=\u001b[39;49msample_weight,\n\u001b[1;32m   1581\u001b[0m     labels\u001b[39m=\u001b[39;49mlabels,\n\u001b[1;32m   1582\u001b[0m     samplewise\u001b[39m=\u001b[39;49msamplewise,\n\u001b[1;32m   1583\u001b[0m )\n\u001b[1;32m   1584\u001b[0m tp_sum \u001b[39m=\u001b[39m MCM[:, \u001b[39m1\u001b[39m, \u001b[39m1\u001b[39m]\n\u001b[1;32m   1585\u001b[0m pred_sum \u001b[39m=\u001b[39m tp_sum \u001b[39m+\u001b[39m MCM[:, \u001b[39m0\u001b[39m, \u001b[39m1\u001b[39m]\n",
            "File \u001b[0;32m~/.local/lib/python3.10/site-packages/sklearn/metrics/_classification.py:497\u001b[0m, in \u001b[0;36mmultilabel_confusion_matrix\u001b[0;34m(y_true, y_pred, sample_weight, labels, samplewise)\u001b[0m\n\u001b[1;32m    494\u001b[0m \u001b[39mif\u001b[39;00m y_type \u001b[39mnot\u001b[39;00m \u001b[39min\u001b[39;00m (\u001b[39m\"\u001b[39m\u001b[39mbinary\u001b[39m\u001b[39m\"\u001b[39m, \u001b[39m\"\u001b[39m\u001b[39mmulticlass\u001b[39m\u001b[39m\"\u001b[39m, \u001b[39m\"\u001b[39m\u001b[39mmultilabel-indicator\u001b[39m\u001b[39m\"\u001b[39m):\n\u001b[1;32m    495\u001b[0m     \u001b[39mraise\u001b[39;00m \u001b[39mValueError\u001b[39;00m(\u001b[39m\"\u001b[39m\u001b[39m%s\u001b[39;00m\u001b[39m is not supported\u001b[39m\u001b[39m\"\u001b[39m \u001b[39m%\u001b[39m y_type)\n\u001b[0;32m--> 497\u001b[0m present_labels \u001b[39m=\u001b[39m unique_labels(y_true, y_pred)\n\u001b[1;32m    498\u001b[0m \u001b[39mif\u001b[39;00m labels \u001b[39mis\u001b[39;00m \u001b[39mNone\u001b[39;00m:\n\u001b[1;32m    499\u001b[0m     labels \u001b[39m=\u001b[39m present_labels\n",
            "File \u001b[0;32m~/.local/lib/python3.10/site-packages/sklearn/utils/multiclass.py:114\u001b[0m, in \u001b[0;36munique_labels\u001b[0;34m(*ys)\u001b[0m\n\u001b[1;32m    111\u001b[0m     unique_ys \u001b[39m=\u001b[39m xp\u001b[39m.\u001b[39mconcat([_unique_labels(y) \u001b[39mfor\u001b[39;00m y \u001b[39min\u001b[39;00m ys])\n\u001b[1;32m    112\u001b[0m     \u001b[39mreturn\u001b[39;00m xp\u001b[39m.\u001b[39munique_values(unique_ys)\n\u001b[0;32m--> 114\u001b[0m ys_labels \u001b[39m=\u001b[39m \u001b[39mset\u001b[39;49m(chain\u001b[39m.\u001b[39;49mfrom_iterable((i \u001b[39mfor\u001b[39;49;00m i \u001b[39min\u001b[39;49;00m _unique_labels(y)) \u001b[39mfor\u001b[39;49;00m y \u001b[39min\u001b[39;49;00m ys))\n\u001b[1;32m    115\u001b[0m \u001b[39m# Check that we don't mix string type with number type\u001b[39;00m\n\u001b[1;32m    116\u001b[0m \u001b[39mif\u001b[39;00m \u001b[39mlen\u001b[39m(\u001b[39mset\u001b[39m(\u001b[39misinstance\u001b[39m(label, \u001b[39mstr\u001b[39m) \u001b[39mfor\u001b[39;00m label \u001b[39min\u001b[39;00m ys_labels)) \u001b[39m>\u001b[39m \u001b[39m1\u001b[39m:\n",
            "File \u001b[0;32m~/.local/lib/python3.10/site-packages/sklearn/utils/multiclass.py:114\u001b[0m, in \u001b[0;36m<genexpr>\u001b[0;34m(.0)\u001b[0m\n\u001b[1;32m    111\u001b[0m     unique_ys \u001b[39m=\u001b[39m xp\u001b[39m.\u001b[39mconcat([_unique_labels(y) \u001b[39mfor\u001b[39;00m y \u001b[39min\u001b[39;00m ys])\n\u001b[1;32m    112\u001b[0m     \u001b[39mreturn\u001b[39;00m xp\u001b[39m.\u001b[39munique_values(unique_ys)\n\u001b[0;32m--> 114\u001b[0m ys_labels \u001b[39m=\u001b[39m \u001b[39mset\u001b[39m(chain\u001b[39m.\u001b[39mfrom_iterable((i \u001b[39mfor\u001b[39;00m i \u001b[39min\u001b[39;00m _unique_labels(y)) \u001b[39mfor\u001b[39;00m y \u001b[39min\u001b[39;00m ys))\n\u001b[1;32m    115\u001b[0m \u001b[39m# Check that we don't mix string type with number type\u001b[39;00m\n\u001b[1;32m    116\u001b[0m \u001b[39mif\u001b[39;00m \u001b[39mlen\u001b[39m(\u001b[39mset\u001b[39m(\u001b[39misinstance\u001b[39m(label, \u001b[39mstr\u001b[39m) \u001b[39mfor\u001b[39;00m label \u001b[39min\u001b[39;00m ys_labels)) \u001b[39m>\u001b[39m \u001b[39m1\u001b[39m:\n",
            "File \u001b[0;32m~/.local/lib/python3.10/site-packages/sklearn/utils/multiclass.py:26\u001b[0m, in \u001b[0;36m_unique_multiclass\u001b[0;34m(y)\u001b[0m\n\u001b[1;32m     24\u001b[0m xp, is_array_api \u001b[39m=\u001b[39m get_namespace(y)\n\u001b[1;32m     25\u001b[0m \u001b[39mif\u001b[39;00m \u001b[39mhasattr\u001b[39m(y, \u001b[39m\"\u001b[39m\u001b[39m__array__\u001b[39m\u001b[39m\"\u001b[39m) \u001b[39mor\u001b[39;00m is_array_api:\n\u001b[0;32m---> 26\u001b[0m     \u001b[39mreturn\u001b[39;00m xp\u001b[39m.\u001b[39;49munique_values(xp\u001b[39m.\u001b[39;49masarray(y))\n\u001b[1;32m     27\u001b[0m \u001b[39melse\u001b[39;00m:\n\u001b[1;32m     28\u001b[0m     \u001b[39mreturn\u001b[39;00m \u001b[39mset\u001b[39m(y)\n",
            "File \u001b[0;32m~/.local/lib/python3.10/site-packages/sklearn/utils/_array_api.py:84\u001b[0m, in \u001b[0;36m_NumPyApiWrapper.unique_values\u001b[0;34m(self, x)\u001b[0m\n\u001b[1;32m     83\u001b[0m \u001b[39mdef\u001b[39;00m \u001b[39munique_values\u001b[39m(\u001b[39mself\u001b[39m, x):\n\u001b[0;32m---> 84\u001b[0m     \u001b[39mreturn\u001b[39;00m numpy\u001b[39m.\u001b[39;49munique(x)\n",
            "File \u001b[0;32m<__array_function__ internals>:200\u001b[0m, in \u001b[0;36munique\u001b[0;34m(*args, **kwargs)\u001b[0m\n",
            "File \u001b[0;32m~/.local/lib/python3.10/site-packages/numpy/lib/arraysetops.py:274\u001b[0m, in \u001b[0;36munique\u001b[0;34m(ar, return_index, return_inverse, return_counts, axis, equal_nan)\u001b[0m\n\u001b[1;32m    272\u001b[0m ar \u001b[39m=\u001b[39m np\u001b[39m.\u001b[39masanyarray(ar)\n\u001b[1;32m    273\u001b[0m \u001b[39mif\u001b[39;00m axis \u001b[39mis\u001b[39;00m \u001b[39mNone\u001b[39;00m:\n\u001b[0;32m--> 274\u001b[0m     ret \u001b[39m=\u001b[39m _unique1d(ar, return_index, return_inverse, return_counts, \n\u001b[1;32m    275\u001b[0m                     equal_nan\u001b[39m=\u001b[39;49mequal_nan)\n\u001b[1;32m    276\u001b[0m     \u001b[39mreturn\u001b[39;00m _unpack_tuple(ret)\n\u001b[1;32m    278\u001b[0m \u001b[39m# axis was specified and not None\u001b[39;00m\n",
            "File \u001b[0;32m~/.local/lib/python3.10/site-packages/numpy/lib/arraysetops.py:336\u001b[0m, in \u001b[0;36m_unique1d\u001b[0;34m(ar, return_index, return_inverse, return_counts, equal_nan)\u001b[0m\n\u001b[1;32m    334\u001b[0m     aux \u001b[39m=\u001b[39m ar[perm]\n\u001b[1;32m    335\u001b[0m \u001b[39melse\u001b[39;00m:\n\u001b[0;32m--> 336\u001b[0m     ar\u001b[39m.\u001b[39;49msort()\n\u001b[1;32m    337\u001b[0m     aux \u001b[39m=\u001b[39m ar\n\u001b[1;32m    338\u001b[0m mask \u001b[39m=\u001b[39m np\u001b[39m.\u001b[39mempty(aux\u001b[39m.\u001b[39mshape, dtype\u001b[39m=\u001b[39mnp\u001b[39m.\u001b[39mbool_)\n",
            "\u001b[0;31mKeyboardInterrupt\u001b[0m: "
          ]
        }
      ],
      "source": [
        "import os\n",
        "import torch\n",
        "#os.environ[\"TOKENIZERS_PARALLELISM\"] = \"true\"\n",
        "device = torch.device('cuda' if torch.cuda.is_available() else 'cpu')\n",
        "model = model.to(device)\n",
        "\n",
        "\n",
        "optimizer = torch.optim.Adam(model.parameters(), lr=2e-7) #2e-15\n",
        "def graphSAGE_loss(u, v, y_label):\n",
        "    y_neg = (y_label-1)\n",
        "    y_label = (y_neg + y_label).squeeze()  # has -1 for neg and 1 for pos\n",
        "    # loss= -1* log(sig(u,v_pos)) - Q*E*log(sig(-1*u,v_neg)) where Q is number of neg, E is expected value\n",
        "    logits = torch.sum(torch.mul(u, v), dim=-1)\n",
        "    \n",
        "    mul = torch.sigmoid(torch.mul(logits, y_label))\n",
        "    loss = -1*torch.sum(torch.log(mul)) # sum across all examples\n",
        "    y_hat = torch.sigmoid(logits) # just for metrics in later step\n",
        "    return loss, y_hat.detach()\n",
        "\n",
        "criterion = graphSAGE_loss\n",
        "#criterion = torch.nn.CrossEntropyLoss()\n",
        "trainer = GNNTrainer(model, criterion, optimizer, device , log_folder='runs')\n",
        "#trainer.load_checkpoint('./checkpoints/checkpoint_0_300.pt')\n",
        "\n",
        "\n",
        "# for tqdm\n",
        "trainer.train_batch_size = batch_size\n",
        "trainer.train_n_mini_in_batch = train_batch_len\n",
        "trainer.val_n_mini_in_batch = val_batch_len\n",
        "\n",
        "trainer.train(\n",
        "    train_iterator, \n",
        "    val_iterator, \n",
        "    start_epoch=2, \n",
        "    n_epochs=200, \n",
        "    run_folder=f'graphconv_v0_lr_2emin7_1lin_1lin_64dim_noedgeweight',\n",
        "    save_metrics_after_n_batches=1000) # graphconv_v0_lr_2emin6_2lin_1lin_256dim\n",
        "# trainer.validate(val_dataloader)\n",
        "# trainer.plot_losses()\n",
        "# trainer.load_checkpoint('./checkpoints/checkpoint_100.pt')\n",
        "# trainer.validate(val_iterator,1)\n",
        "\n"
      ]
    },
    {
      "cell_type": "code",
      "execution_count": 138,
      "metadata": {},
      "outputs": [
        {
          "name": "stdout",
          "output_type": "stream",
          "text": [
            "9803.23s - pydevd: Sending message related to process being replaced timed-out after 5 seconds\n",
            "TensorFlow installation not found - running with reduced feature set.\n",
            "\n",
            "NOTE: Using experimental fast data loading logic. To disable, pass\n",
            "    \"--load_fast=false\" and report issues on GitHub. More details:\n",
            "    https://github.com/tensorflow/tensorboard/issues/4784\n",
            "\n",
            "Serving TensorBoard on localhost; to expose to the network, use a proxy or pass --bind_all\n",
            "TensorBoard 2.14.1 at http://localhost:6006/ (Press CTRL+C to quit)\n",
            "^C\n"
          ]
        }
      ],
      "source": [
        "#!tensorboard --logdir=runs\n",
        "# http://localhost:6006/?pinnedCards=%5B%7B%22plugin%22%3A%22scalars%22%2C%22tag%22%3A%22samples_train_recall%22%7D%2C%7B%22plugin%22%3A%22scalars%22%2C%22tag%22%3A%22samples_train_precision%22%7D%2C%7B%22plugin%22%3A%22scalars%22%2C%22tag%22%3A%22samples_train_loss%22%7D%2C%7B%22plugin%22%3A%22scalars%22%2C%22tag%22%3A%22samples_train_f1%22%7D%2C%7B%22plugin%22%3A%22scalars%22%2C%22tag%22%3A%22samples_train_auprc%22%7D%2C%7B%22plugin%22%3A%22scalars%22%2C%22tag%22%3A%22samples_train_accuracy%22%7D%5D&darkMode=true&smoothing=0.6#timeseries"
      ]
    },
    {
      "cell_type": "code",
      "execution_count": null,
      "metadata": {},
      "outputs": [],
      "source": [
        "# 1440057\n",
        "# 1407132."
      ]
    },
    {
      "cell_type": "code",
      "execution_count": null,
      "metadata": {},
      "outputs": [],
      "source": [
        "490586.58532714844\n",
        "485814.1606140137\n",
        "474801.0126953125"
      ]
    },
    {
      "cell_type": "code",
      "execution_count": null,
      "metadata": {},
      "outputs": [],
      "source": [
        "# ep100, Loss: 757468.5991210938\n",
        "# Loss: 739222.503692627\n",
        "# oss: 737091.7985534668\n",
        "#Loss: 734385.8401489258\n",
        "# 732283.552154541"
      ]
    },
    {
      "cell_type": "code",
      "execution_count": null,
      "metadata": {
        "id": "Rr-vuVB49udg"
      },
      "outputs": [],
      "source": [
        "supervision_edge_type = get_supervision_edge_type(batch)\n",
        "src_type, dst_type = supervision_edge_type[0], supervision_edge_type[2]\n",
        "edge_label = batch[supervision_edge_type].edge_label\n",
        "edge_label_index = batch[supervision_edge_type].edge_label_index\n",
        "src_node_embeddings = out[src_type][edge_label_index[0]]\n",
        "dst_node_embeddings = out[dst_type][edge_label_index[1]]\n",
        "torch.min(F.cosine_similarity(src_node_embeddings, dst_node_embeddings, dim=-1))"
      ]
    },
    {
      "cell_type": "code",
      "execution_count": null,
      "metadata": {
        "id": "0iKpZ0709udg"
      },
      "outputs": [],
      "source": [
        "import gc\n",
        "\n",
        "gc.collect()\n",
        "\n",
        "torch.cuda.empty_cache()"
      ]
    },
    {
      "cell_type": "code",
      "execution_count": null,
      "metadata": {
        "id": "MoCV-11H9udg"
      },
      "outputs": [],
      "source": [
        "batch[supervision_edge_type].edge_label_index"
      ]
    },
    {
      "cell_type": "code",
      "execution_count": null,
      "metadata": {
        "id": "XgWVOJMI9udg"
      },
      "outputs": [],
      "source": [
        "J2S = ('Job','REQUIRES','Skill')\n",
        "batch[J2S].edge_label_index"
      ]
    },
    {
      "cell_type": "code",
      "execution_count": null,
      "metadata": {
        "id": "4Ok0V2Mz9udg"
      },
      "outputs": [],
      "source": [
        "batch['Job','REQUIRES','Skill']."
      ]
    },
    {
      "cell_type": "code",
      "execution_count": null,
      "metadata": {
        "id": "h5nrqKUt9udh"
      },
      "outputs": [],
      "source": [
        "batch = next(iter(train_loaders[0]))\n"
      ]
    },
    {
      "cell_type": "code",
      "execution_count": null,
      "metadata": {
        "id": "lKBtbRC49udh"
      },
      "outputs": [],
      "source": [
        "batch"
      ]
    },
    {
      "cell_type": "code",
      "execution_count": null,
      "metadata": {
        "id": "-95MPpfm9udh"
      },
      "outputs": [],
      "source": [
        "batch.edge_weight_dict"
      ]
    },
    {
      "cell_type": "code",
      "execution_count": null,
      "metadata": {
        "id": "XauGYI6S9udh"
      },
      "outputs": [],
      "source": [
        "index = batch['Job','IS_SIMILAR_JOB','Job'].e_id\n",
        "labels = batch['Job','IS_SIMILAR_JOB','Job'].edge_label"
      ]
    },
    {
      "cell_type": "code",
      "execution_count": null,
      "metadata": {
        "id": "SJYX09RM9udh"
      },
      "outputs": [],
      "source": [
        "import torch_geometric.transforms as T\n",
        "from torch_geometric.datasets import OGB_MAG\n",
        "from torch_geometric.nn import SAGEConv, to_hetero\n",
        "\n",
        "\n",
        "dataset = OGB_MAG(root='./data', preprocess='metapath2vec', transform=T.ToUndirected())\n",
        "data = dataset[0]\n",
        "\n",
        "class GNN(torch.nn.Module):\n",
        "    def __init__(self, hidden_channels, out_channels):\n",
        "        super().__init__()\n",
        "        self.conv1 = SAGEConv(-1, hidden_channels)\n",
        "        self.conv2 = SAGEConv(-1, out_channels)\n",
        "\n",
        "    def forward(self, x, edge_index):\n",
        "        x = self.conv1(x, edge_index).relu()\n",
        "        x = self.conv2(x, edge_index)\n",
        "        return x\n",
        "\n",
        "\n",
        "model = GNN(hidden_channels=64, out_channels=dataset.num_classes)\n",
        "model = to_hetero(model, data.metadata(), aggr='sum')"
      ]
    },
    {
      "cell_type": "code",
      "execution_count": null,
      "metadata": {
        "id": "65-tXuE59udh"
      },
      "outputs": [],
      "source": [
        "#https://colab.research.google.com/drive/1GrAxHyZCZ13jpTkMy9vVO_v_U9nHDdvB#scrollTo=wmiFKI0ovYN4\n"
      ]
    },
    {
      "cell_type": "code",
      "execution_count": null,
      "metadata": {
        "id": "Ssoj9sM_9udh"
      },
      "outputs": [],
      "source": [
        "# intially we use this GraphConv layer and aggregate using mean\n",
        "# this layer allows the addition of edge weights: the adjacency matrix simply consists not of 1s and 0s but the corresponding weights\n",
        "#https://pytorch-geometric.readthedocs.io/en/latest/generated/torch_geometric.nn.conv.GraphConv.html\n",
        "\n",
        "# using max pool\n",
        "# https://pytorch-geometric.readthedocs.io/en/latest/generated/torch_geometric.nn.pool.global_max_pool.html#torch_geometric.nn.pool.global_max_pool"
      ]
    }
  ],
  "metadata": {
    "accelerator": "GPU",
    "colab": {
      "gpuType": "T4",
      "provenance": []
    },
    "kernelspec": {
      "display_name": "Python 3",
      "name": "python3"
    },
    "language_info": {
      "codemirror_mode": {
        "name": "ipython",
        "version": 3
      },
      "file_extension": ".py",
      "mimetype": "text/x-python",
      "name": "python",
      "nbconvert_exporter": "python",
      "pygments_lexer": "ipython3",
      "version": "3.10.12"
    },
    "orig_nbformat": 4
  },
  "nbformat": 4,
  "nbformat_minor": 0
}
