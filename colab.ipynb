{
  "cells": [
    {
      "cell_type": "code",
      "execution_count": 3,
      "metadata": {},
      "outputs": [
        {
          "name": "stdout",
          "output_type": "stream",
          "text": [
            "Requirement already satisfied: torch_geometric in /home/amos/mambaforge/envs/pyg/lib/python3.10/site-packages (2.4.0)\n",
            "Requirement already satisfied: tqdm in /home/amos/mambaforge/envs/pyg/lib/python3.10/site-packages (from torch_geometric) (4.66.1)\n",
            "Requirement already satisfied: numpy in /home/amos/.local/lib/python3.10/site-packages (from torch_geometric) (1.24.2)\n",
            "Requirement already satisfied: scipy in /home/amos/.local/lib/python3.10/site-packages (from torch_geometric) (1.10.1)\n",
            "Requirement already satisfied: jinja2 in /home/amos/mambaforge/envs/pyg/lib/python3.10/site-packages (from torch_geometric) (3.1.2)\n",
            "Requirement already satisfied: requests in /home/amos/mambaforge/envs/pyg/lib/python3.10/site-packages (from torch_geometric) (2.28.1)\n",
            "Requirement already satisfied: pyparsing in /home/amos/mambaforge/envs/pyg/lib/python3.10/site-packages (from torch_geometric) (3.1.1)\n",
            "Requirement already satisfied: scikit-learn in /home/amos/.local/lib/python3.10/site-packages (from torch_geometric) (1.2.1)\n",
            "Requirement already satisfied: psutil>=5.8.0 in /home/amos/.local/lib/python3.10/site-packages (from torch_geometric) (5.9.4)\n",
            "Requirement already satisfied: MarkupSafe>=2.0 in /home/amos/mambaforge/envs/pyg/lib/python3.10/site-packages (from jinja2->torch_geometric) (2.1.2)\n",
            "Requirement already satisfied: charset-normalizer<3,>=2 in /home/amos/mambaforge/envs/pyg/lib/python3.10/site-packages (from requests->torch_geometric) (2.1.1)\n",
            "Requirement already satisfied: idna<4,>=2.5 in /home/amos/.local/lib/python3.10/site-packages (from requests->torch_geometric) (3.4)\n",
            "Requirement already satisfied: urllib3<1.27,>=1.21.1 in /home/amos/.local/lib/python3.10/site-packages (from requests->torch_geometric) (1.26.14)\n",
            "Requirement already satisfied: certifi>=2017.4.17 in /home/amos/.local/lib/python3.10/site-packages (from requests->torch_geometric) (2022.12.7)\n",
            "Requirement already satisfied: joblib>=1.1.1 in /home/amos/.local/lib/python3.10/site-packages (from scikit-learn->torch_geometric) (1.2.0)\n",
            "Requirement already satisfied: threadpoolctl>=2.0.0 in /home/amos/.local/lib/python3.10/site-packages (from scikit-learn->torch_geometric) (3.1.0)\n"
          ]
        }
      ],
      "source": []
    },
    {
      "cell_type": "code",
      "execution_count": 1,
      "metadata": {},
      "outputs": [
        {
          "name": "stdout",
          "output_type": "stream",
          "text": [
            "Looking in indexes: https://download.pytorch.org/whl/cu118\n",
            "Collecting torch==2.0.0\n",
            "  Downloading https://download.pytorch.org/whl/cu118/torch-2.0.0%2Bcu118-cp310-cp310-linux_x86_64.whl (2267.3 MB)\n",
            "\u001b[2K     \u001b[90m━━━━━━━━━━━━━━━━━━━━━━━━━━━━━━━━━━━━━━━━\u001b[0m \u001b[32m2.3/2.3 GB\u001b[0m \u001b[31m2.7 MB/s\u001b[0m eta \u001b[36m0:00:00\u001b[0m:00:01\u001b[0m00:03\u001b[0m\n",
            "\u001b[?25hRequirement already satisfied: torchvision in /home/amos/mambaforge/envs/pyg/lib/python3.10/site-packages (0.16.0+cu118)\n",
            "Requirement already satisfied: torchaudio in /home/amos/mambaforge/envs/pyg/lib/python3.10/site-packages (2.1.0+cu118)\n",
            "Requirement already satisfied: filelock in /home/amos/.local/lib/python3.10/site-packages (from torch==2.0.0) (3.9.0)\n",
            "Requirement already satisfied: typing-extensions in /home/amos/.local/lib/python3.10/site-packages (from torch==2.0.0) (4.5.0)\n",
            "Requirement already satisfied: sympy in /home/amos/mambaforge/envs/pyg/lib/python3.10/site-packages (from torch==2.0.0) (1.12)\n",
            "Requirement already satisfied: networkx in /home/amos/.local/lib/python3.10/site-packages (from torch==2.0.0) (3.1)\n",
            "Requirement already satisfied: jinja2 in /home/amos/mambaforge/envs/pyg/lib/python3.10/site-packages (from torch==2.0.0) (3.1.2)\n",
            "Collecting triton==2.0.0 (from torch==2.0.0)\n",
            "  Downloading https://download.pytorch.org/whl/triton-2.0.0-1-cp310-cp310-manylinux2014_x86_64.manylinux_2_17_x86_64.whl (63.3 MB)\n",
            "\u001b[2K     \u001b[90m━━━━━━━━━━━━━━━━━━━━━━━━━━━━━━━━━━━━━━━━\u001b[0m \u001b[32m63.3/63.3 MB\u001b[0m \u001b[31m13.3 MB/s\u001b[0m eta \u001b[36m0:00:00\u001b[0m00:01\u001b[0m00:01\u001b[0m\n",
            "\u001b[?25hCollecting cmake (from triton==2.0.0->torch==2.0.0)\n",
            "  Using cached https://download.pytorch.org/whl/cmake-3.25.0-py2.py3-none-manylinux_2_17_x86_64.manylinux2014_x86_64.whl (23.7 MB)\n",
            "Collecting lit (from triton==2.0.0->torch==2.0.0)\n",
            "  Using cached https://download.pytorch.org/whl/lit-15.0.7.tar.gz (132 kB)\n",
            "  Preparing metadata (setup.py) ... \u001b[?25ldone\n",
            "\u001b[?25hRequirement already satisfied: numpy in /home/amos/.local/lib/python3.10/site-packages (from torchvision) (1.24.2)\n",
            "Requirement already satisfied: requests in /home/amos/mambaforge/envs/pyg/lib/python3.10/site-packages (from torchvision) (2.28.1)\n",
            "INFO: pip is looking at multiple versions of torchvision to determine which version is compatible with other requirements. This could take a while.\n",
            "Collecting torchvision\n",
            "  Downloading https://download.pytorch.org/whl/cu118/torchvision-0.15.2%2Bcu118-cp310-cp310-linux_x86_64.whl (6.1 MB)\n",
            "\u001b[2K     \u001b[90m━━━━━━━━━━━━━━━━━━━━━━━━━━━━━━━━━━━━━━━━\u001b[0m \u001b[32m6.1/6.1 MB\u001b[0m \u001b[31m28.7 MB/s\u001b[0m eta \u001b[36m0:00:00\u001b[0m00:01\u001b[0m00:01\u001b[0m\n",
            "\u001b[?25h  Downloading https://download.pytorch.org/whl/cu118/torchvision-0.15.1%2Bcu118-cp310-cp310-linux_x86_64.whl (6.1 MB)\n",
            "\u001b[2K     \u001b[90m━━━━━━━━━━━━━━━━━━━━━━━━━━━━━━━━━━━━━━━━\u001b[0m \u001b[32m6.1/6.1 MB\u001b[0m \u001b[31m29.1 MB/s\u001b[0m eta \u001b[36m0:00:00\u001b[0m00:01\u001b[0m00:01\u001b[0m\n",
            "\u001b[?25hRequirement already satisfied: pillow!=8.3.*,>=5.3.0 in /home/amos/.local/lib/python3.10/site-packages (from torchvision) (9.4.0)\n",
            "INFO: pip is looking at multiple versions of torchaudio to determine which version is compatible with other requirements. This could take a while.\n",
            "Collecting torchaudio\n",
            "  Downloading https://download.pytorch.org/whl/cu118/torchaudio-2.0.2%2Bcu118-cp310-cp310-linux_x86_64.whl (4.4 MB)\n",
            "\u001b[2K     \u001b[90m━━━━━━━━━━━━━━━━━━━━━━━━━━━━━━━━━━━━━━━━\u001b[0m \u001b[32m4.4/4.4 MB\u001b[0m \u001b[31m35.1 MB/s\u001b[0m eta \u001b[36m0:00:00\u001b[0ma \u001b[36m0:00:01\u001b[0m\n",
            "\u001b[?25h  Downloading https://download.pytorch.org/whl/cu118/torchaudio-2.0.1%2Bcu118-cp310-cp310-linux_x86_64.whl (4.4 MB)\n",
            "\u001b[2K     \u001b[90m━━━━━━━━━━━━━━━━━━━━━━━━━━━━━━━━━━━━━━━━\u001b[0m \u001b[32m4.4/4.4 MB\u001b[0m \u001b[31m36.4 MB/s\u001b[0m eta \u001b[36m0:00:00\u001b[0ma \u001b[36m0:00:01\u001b[0m\n",
            "\u001b[?25hRequirement already satisfied: MarkupSafe>=2.0 in /home/amos/mambaforge/envs/pyg/lib/python3.10/site-packages (from jinja2->torch==2.0.0) (2.1.2)\n",
            "Requirement already satisfied: charset-normalizer<3,>=2 in /home/amos/mambaforge/envs/pyg/lib/python3.10/site-packages (from requests->torchvision) (2.1.1)\n",
            "Requirement already satisfied: idna<4,>=2.5 in /home/amos/.local/lib/python3.10/site-packages (from requests->torchvision) (3.4)\n",
            "Requirement already satisfied: urllib3<1.27,>=1.21.1 in /home/amos/.local/lib/python3.10/site-packages (from requests->torchvision) (1.26.14)\n",
            "Requirement already satisfied: certifi>=2017.4.17 in /home/amos/.local/lib/python3.10/site-packages (from requests->torchvision) (2022.12.7)\n",
            "Requirement already satisfied: mpmath>=0.19 in /home/amos/mambaforge/envs/pyg/lib/python3.10/site-packages (from sympy->torch==2.0.0) (1.3.0)\n",
            "Building wheels for collected packages: lit\n",
            "  Building wheel for lit (setup.py) ... \u001b[?25ldone\n",
            "\u001b[?25h  Created wheel for lit: filename=lit-15.0.7-py3-none-any.whl size=90005 sha256=c039a77e69d29537b49f2eab00b451f4d618f646b0d1f7fc7dc162e09e10bbf8\n",
            "  Stored in directory: /home/amos/.cache/pip/wheels/bf/62/0d/01218f13f6a8051e982a7ce31d12b7bfd725dc69bd227ae104\n",
            "Successfully built lit\n",
            "Installing collected packages: lit, cmake, triton, torch, torchvision, torchaudio\n",
            "  Attempting uninstall: triton\n",
            "    Found existing installation: triton 2.1.0\n",
            "    Uninstalling triton-2.1.0:\n",
            "      Successfully uninstalled triton-2.1.0\n",
            "  Attempting uninstall: torchvision\n",
            "    Found existing installation: torchvision 0.16.0+cu118\n",
            "    Uninstalling torchvision-0.16.0+cu118:\n",
            "      Successfully uninstalled torchvision-0.16.0+cu118\n",
            "  Attempting uninstall: torchaudio\n",
            "    Found existing installation: torchaudio 2.1.0+cu118\n",
            "    Uninstalling torchaudio-2.1.0+cu118:\n",
            "      Successfully uninstalled torchaudio-2.1.0+cu118\n",
            "Successfully installed cmake-3.25.0 lit-15.0.7 torch-2.0.0+cu118 torchaudio-2.0.1+cu118 torchvision-0.15.1+cu118 triton-2.0.0\n",
            "2.0.0+cu118\n",
            "Looking in links: https://data.pyg.org/whl/torch-.0.0+cu118.html\n",
            "Requirement already satisfied: torch-scatter in /home/amos/mambaforge/envs/pyg/lib/python3.10/site-packages (2.1.1)\n",
            "Looking in links: https://data.pyg.org/whl/torch-.0.0+cu118.html\n",
            "Requirement already satisfied: torch-sparse in /home/amos/mambaforge/envs/pyg/lib/python3.10/site-packages (0.6.17)\n",
            "Requirement already satisfied: scipy in /home/amos/.local/lib/python3.10/site-packages (from torch-sparse) (1.10.1)\n",
            "Requirement already satisfied: numpy<1.27.0,>=1.19.5 in /home/amos/.local/lib/python3.10/site-packages (from scipy->torch-sparse) (1.24.2)\n",
            "Collecting git+https://github.com/pyg-team/pytorch_geometric.git\n",
            "  Cloning https://github.com/pyg-team/pytorch_geometric.git to /tmp/pip-req-build-zkc68deq\n",
            "  Running command git clone --filter=blob:none --quiet https://github.com/pyg-team/pytorch_geometric.git /tmp/pip-req-build-zkc68deq\n",
            "  Resolved https://github.com/pyg-team/pytorch_geometric.git to commit c5dca4bbd5ab3ca985e4373f063aef47cfc1316a\n",
            "  Installing build dependencies ... \u001b[?25ldone\n",
            "\u001b[?25h  Getting requirements to build wheel ... \u001b[?25ldone\n",
            "\u001b[?25h  Preparing metadata (pyproject.toml) ... \u001b[?25ldone\n",
            "\u001b[?25hRequirement already satisfied: tqdm in /home/amos/mambaforge/envs/pyg/lib/python3.10/site-packages (from torch_geometric==2.4.0) (4.66.1)\n",
            "Requirement already satisfied: numpy in /home/amos/.local/lib/python3.10/site-packages (from torch_geometric==2.4.0) (1.24.2)\n",
            "Requirement already satisfied: scipy in /home/amos/.local/lib/python3.10/site-packages (from torch_geometric==2.4.0) (1.10.1)\n",
            "Requirement already satisfied: jinja2 in /home/amos/mambaforge/envs/pyg/lib/python3.10/site-packages (from torch_geometric==2.4.0) (3.1.2)\n",
            "Requirement already satisfied: requests in /home/amos/mambaforge/envs/pyg/lib/python3.10/site-packages (from torch_geometric==2.4.0) (2.28.1)\n",
            "Requirement already satisfied: pyparsing in /home/amos/mambaforge/envs/pyg/lib/python3.10/site-packages (from torch_geometric==2.4.0) (3.1.1)\n",
            "Requirement already satisfied: scikit-learn in /home/amos/.local/lib/python3.10/site-packages (from torch_geometric==2.4.0) (1.2.1)\n",
            "Requirement already satisfied: psutil>=5.8.0 in /home/amos/.local/lib/python3.10/site-packages (from torch_geometric==2.4.0) (5.9.4)\n",
            "Requirement already satisfied: MarkupSafe>=2.0 in /home/amos/mambaforge/envs/pyg/lib/python3.10/site-packages (from jinja2->torch_geometric==2.4.0) (2.1.2)\n",
            "Requirement already satisfied: charset-normalizer<3,>=2 in /home/amos/mambaforge/envs/pyg/lib/python3.10/site-packages (from requests->torch_geometric==2.4.0) (2.1.1)\n",
            "Requirement already satisfied: idna<4,>=2.5 in /home/amos/.local/lib/python3.10/site-packages (from requests->torch_geometric==2.4.0) (3.4)\n",
            "Requirement already satisfied: urllib3<1.27,>=1.21.1 in /home/amos/.local/lib/python3.10/site-packages (from requests->torch_geometric==2.4.0) (1.26.14)\n",
            "Requirement already satisfied: certifi>=2017.4.17 in /home/amos/.local/lib/python3.10/site-packages (from requests->torch_geometric==2.4.0) (2022.12.7)\n",
            "Requirement already satisfied: joblib>=1.1.1 in /home/amos/.local/lib/python3.10/site-packages (from scikit-learn->torch_geometric==2.4.0) (1.2.0)\n",
            "Requirement already satisfied: threadpoolctl>=2.0.0 in /home/amos/.local/lib/python3.10/site-packages (from scikit-learn->torch_geometric==2.4.0) (3.1.0)\n",
            "Requirement already satisfied: sentence-transformers in /home/amos/mambaforge/envs/pyg/lib/python3.10/site-packages (2.2.2)\n",
            "Requirement already satisfied: transformers<5.0.0,>=4.6.0 in /home/amos/mambaforge/envs/pyg/lib/python3.10/site-packages (from sentence-transformers) (4.34.0)\n",
            "Requirement already satisfied: tqdm in /home/amos/mambaforge/envs/pyg/lib/python3.10/site-packages (from sentence-transformers) (4.66.1)\n",
            "Requirement already satisfied: torch>=1.6.0 in /home/amos/mambaforge/envs/pyg/lib/python3.10/site-packages (from sentence-transformers) (2.0.0+cu118)\n",
            "Requirement already satisfied: torchvision in /home/amos/mambaforge/envs/pyg/lib/python3.10/site-packages (from sentence-transformers) (0.15.1+cu118)\n",
            "Requirement already satisfied: numpy in /home/amos/.local/lib/python3.10/site-packages (from sentence-transformers) (1.24.2)\n",
            "Requirement already satisfied: scikit-learn in /home/amos/.local/lib/python3.10/site-packages (from sentence-transformers) (1.2.1)\n",
            "Requirement already satisfied: scipy in /home/amos/.local/lib/python3.10/site-packages (from sentence-transformers) (1.10.1)\n",
            "Requirement already satisfied: nltk in /home/amos/mambaforge/envs/pyg/lib/python3.10/site-packages (from sentence-transformers) (3.8.1)\n",
            "Requirement already satisfied: sentencepiece in /home/amos/mambaforge/envs/pyg/lib/python3.10/site-packages (from sentence-transformers) (0.1.99)\n",
            "Requirement already satisfied: huggingface-hub>=0.4.0 in /home/amos/mambaforge/envs/pyg/lib/python3.10/site-packages (from sentence-transformers) (0.16.4)\n",
            "Requirement already satisfied: filelock in /home/amos/.local/lib/python3.10/site-packages (from huggingface-hub>=0.4.0->sentence-transformers) (3.9.0)\n",
            "Requirement already satisfied: fsspec in /home/amos/mambaforge/envs/pyg/lib/python3.10/site-packages (from huggingface-hub>=0.4.0->sentence-transformers) (2023.4.0)\n",
            "Requirement already satisfied: requests in /home/amos/mambaforge/envs/pyg/lib/python3.10/site-packages (from huggingface-hub>=0.4.0->sentence-transformers) (2.28.1)\n",
            "Requirement already satisfied: pyyaml>=5.1 in /home/amos/mambaforge/envs/pyg/lib/python3.10/site-packages (from huggingface-hub>=0.4.0->sentence-transformers) (6.0.1)\n",
            "Requirement already satisfied: typing-extensions>=3.7.4.3 in /home/amos/.local/lib/python3.10/site-packages (from huggingface-hub>=0.4.0->sentence-transformers) (4.5.0)\n",
            "Requirement already satisfied: packaging>=20.9 in /home/amos/.local/lib/python3.10/site-packages (from huggingface-hub>=0.4.0->sentence-transformers) (23.0)\n",
            "Requirement already satisfied: sympy in /home/amos/mambaforge/envs/pyg/lib/python3.10/site-packages (from torch>=1.6.0->sentence-transformers) (1.12)\n",
            "Requirement already satisfied: networkx in /home/amos/.local/lib/python3.10/site-packages (from torch>=1.6.0->sentence-transformers) (3.1)\n",
            "Requirement already satisfied: jinja2 in /home/amos/mambaforge/envs/pyg/lib/python3.10/site-packages (from torch>=1.6.0->sentence-transformers) (3.1.2)\n",
            "Requirement already satisfied: triton==2.0.0 in /home/amos/mambaforge/envs/pyg/lib/python3.10/site-packages (from torch>=1.6.0->sentence-transformers) (2.0.0)\n",
            "Requirement already satisfied: cmake in /home/amos/mambaforge/envs/pyg/lib/python3.10/site-packages (from triton==2.0.0->torch>=1.6.0->sentence-transformers) (3.25.0)\n",
            "Requirement already satisfied: lit in /home/amos/mambaforge/envs/pyg/lib/python3.10/site-packages (from triton==2.0.0->torch>=1.6.0->sentence-transformers) (15.0.7)\n",
            "Requirement already satisfied: regex!=2019.12.17 in /home/amos/mambaforge/envs/pyg/lib/python3.10/site-packages (from transformers<5.0.0,>=4.6.0->sentence-transformers) (2023.10.3)\n",
            "Requirement already satisfied: tokenizers<0.15,>=0.14 in /home/amos/mambaforge/envs/pyg/lib/python3.10/site-packages (from transformers<5.0.0,>=4.6.0->sentence-transformers) (0.14.0)\n",
            "Requirement already satisfied: safetensors>=0.3.1 in /home/amos/mambaforge/envs/pyg/lib/python3.10/site-packages (from transformers<5.0.0,>=4.6.0->sentence-transformers) (0.3.3)\n",
            "Requirement already satisfied: click in /home/amos/.local/lib/python3.10/site-packages (from nltk->sentence-transformers) (8.1.3)\n",
            "Requirement already satisfied: joblib in /home/amos/.local/lib/python3.10/site-packages (from nltk->sentence-transformers) (1.2.0)\n",
            "Requirement already satisfied: threadpoolctl>=2.0.0 in /home/amos/.local/lib/python3.10/site-packages (from scikit-learn->sentence-transformers) (3.1.0)\n",
            "Requirement already satisfied: pillow!=8.3.*,>=5.3.0 in /home/amos/.local/lib/python3.10/site-packages (from torchvision->sentence-transformers) (9.4.0)\n",
            "Requirement already satisfied: MarkupSafe>=2.0 in /home/amos/mambaforge/envs/pyg/lib/python3.10/site-packages (from jinja2->torch>=1.6.0->sentence-transformers) (2.1.2)\n",
            "Requirement already satisfied: charset-normalizer<3,>=2 in /home/amos/mambaforge/envs/pyg/lib/python3.10/site-packages (from requests->huggingface-hub>=0.4.0->sentence-transformers) (2.1.1)\n",
            "Requirement already satisfied: idna<4,>=2.5 in /home/amos/.local/lib/python3.10/site-packages (from requests->huggingface-hub>=0.4.0->sentence-transformers) (3.4)\n",
            "Requirement already satisfied: urllib3<1.27,>=1.21.1 in /home/amos/.local/lib/python3.10/site-packages (from requests->huggingface-hub>=0.4.0->sentence-transformers) (1.26.14)\n",
            "Requirement already satisfied: certifi>=2017.4.17 in /home/amos/.local/lib/python3.10/site-packages (from requests->huggingface-hub>=0.4.0->sentence-transformers) (2022.12.7)\n",
            "Requirement already satisfied: mpmath>=0.19 in /home/amos/mambaforge/envs/pyg/lib/python3.10/site-packages (from sympy->torch>=1.6.0->sentence-transformers) (1.3.0)\n",
            "Requirement already satisfied: torcheval in /home/amos/mambaforge/envs/pyg/lib/python3.10/site-packages (0.0.7)\n",
            "Requirement already satisfied: typing-extensions in /home/amos/.local/lib/python3.10/site-packages (from torcheval) (4.5.0)\n",
            "Requirement already satisfied: matplotlib in /home/amos/mambaforge/envs/pyg/lib/python3.10/site-packages (3.8.0)\n",
            "Requirement already satisfied: contourpy>=1.0.1 in /home/amos/mambaforge/envs/pyg/lib/python3.10/site-packages (from matplotlib) (1.1.1)\n",
            "Requirement already satisfied: cycler>=0.10 in /home/amos/mambaforge/envs/pyg/lib/python3.10/site-packages (from matplotlib) (0.12.0)\n",
            "Requirement already satisfied: fonttools>=4.22.0 in /home/amos/mambaforge/envs/pyg/lib/python3.10/site-packages (from matplotlib) (4.43.0)\n",
            "Requirement already satisfied: kiwisolver>=1.0.1 in /home/amos/mambaforge/envs/pyg/lib/python3.10/site-packages (from matplotlib) (1.4.5)\n",
            "Requirement already satisfied: numpy<2,>=1.21 in /home/amos/.local/lib/python3.10/site-packages (from matplotlib) (1.24.2)\n",
            "Requirement already satisfied: packaging>=20.0 in /home/amos/.local/lib/python3.10/site-packages (from matplotlib) (23.0)\n",
            "Requirement already satisfied: pillow>=6.2.0 in /home/amos/.local/lib/python3.10/site-packages (from matplotlib) (9.4.0)\n",
            "Requirement already satisfied: pyparsing>=2.3.1 in /home/amos/mambaforge/envs/pyg/lib/python3.10/site-packages (from matplotlib) (3.1.1)\n",
            "Requirement already satisfied: python-dateutil>=2.7 in /home/amos/.local/lib/python3.10/site-packages (from matplotlib) (2.8.2)\n",
            "Requirement already satisfied: six>=1.5 in /home/amos/mambaforge/envs/pyg/lib/python3.10/site-packages (from python-dateutil>=2.7->matplotlib) (1.16.0)\n",
            "Requirement already satisfied: pandas in /home/amos/.local/lib/python3.10/site-packages (1.5.3)\n",
            "Requirement already satisfied: python-dateutil>=2.8.1 in /home/amos/.local/lib/python3.10/site-packages (from pandas) (2.8.2)\n",
            "Requirement already satisfied: pytz>=2020.1 in /home/amos/.local/lib/python3.10/site-packages (from pandas) (2022.7.1)\n",
            "Requirement already satisfied: numpy>=1.21.0 in /home/amos/.local/lib/python3.10/site-packages (from pandas) (1.24.2)\n",
            "Requirement already satisfied: six>=1.5 in /home/amos/mambaforge/envs/pyg/lib/python3.10/site-packages (from python-dateutil>=2.8.1->pandas) (1.16.0)\n",
            "Requirement already satisfied: tensorboard in /home/amos/mambaforge/envs/pyg/lib/python3.10/site-packages (2.14.1)\n",
            "Requirement already satisfied: absl-py>=0.4 in /home/amos/mambaforge/envs/pyg/lib/python3.10/site-packages (from tensorboard) (2.0.0)\n",
            "Requirement already satisfied: grpcio>=1.48.2 in /home/amos/mambaforge/envs/pyg/lib/python3.10/site-packages (from tensorboard) (1.59.0)\n",
            "Requirement already satisfied: google-auth<3,>=1.6.3 in /home/amos/.local/lib/python3.10/site-packages (from tensorboard) (2.16.2)\n",
            "Requirement already satisfied: google-auth-oauthlib<1.1,>=0.5 in /home/amos/mambaforge/envs/pyg/lib/python3.10/site-packages (from tensorboard) (1.0.0)\n",
            "Requirement already satisfied: markdown>=2.6.8 in /home/amos/mambaforge/envs/pyg/lib/python3.10/site-packages (from tensorboard) (3.4.4)\n",
            "Requirement already satisfied: numpy>=1.12.0 in /home/amos/.local/lib/python3.10/site-packages (from tensorboard) (1.24.2)\n",
            "Requirement already satisfied: protobuf>=3.19.6 in /home/amos/mambaforge/envs/pyg/lib/python3.10/site-packages (from tensorboard) (4.24.4)\n",
            "Requirement already satisfied: requests<3,>=2.21.0 in /home/amos/mambaforge/envs/pyg/lib/python3.10/site-packages (from tensorboard) (2.28.1)\n",
            "Requirement already satisfied: setuptools>=41.0.0 in /home/amos/.local/lib/python3.10/site-packages (from tensorboard) (58.3.0)\n",
            "Requirement already satisfied: six>1.9 in /home/amos/mambaforge/envs/pyg/lib/python3.10/site-packages (from tensorboard) (1.16.0)\n",
            "Requirement already satisfied: tensorboard-data-server<0.8.0,>=0.7.0 in /home/amos/mambaforge/envs/pyg/lib/python3.10/site-packages (from tensorboard) (0.7.1)\n",
            "Requirement already satisfied: werkzeug>=1.0.1 in /home/amos/mambaforge/envs/pyg/lib/python3.10/site-packages (from tensorboard) (3.0.0)\n",
            "Requirement already satisfied: cachetools<6.0,>=2.0.0 in /home/amos/.local/lib/python3.10/site-packages (from google-auth<3,>=1.6.3->tensorboard) (5.3.0)\n",
            "Requirement already satisfied: pyasn1-modules>=0.2.1 in /home/amos/.local/lib/python3.10/site-packages (from google-auth<3,>=1.6.3->tensorboard) (0.2.8)\n",
            "Requirement already satisfied: rsa<5,>=3.1.4 in /home/amos/.local/lib/python3.10/site-packages (from google-auth<3,>=1.6.3->tensorboard) (4.9)\n",
            "Requirement already satisfied: requests-oauthlib>=0.7.0 in /home/amos/.local/lib/python3.10/site-packages (from google-auth-oauthlib<1.1,>=0.5->tensorboard) (1.3.1)\n",
            "Requirement already satisfied: charset-normalizer<3,>=2 in /home/amos/mambaforge/envs/pyg/lib/python3.10/site-packages (from requests<3,>=2.21.0->tensorboard) (2.1.1)\n",
            "Requirement already satisfied: idna<4,>=2.5 in /home/amos/.local/lib/python3.10/site-packages (from requests<3,>=2.21.0->tensorboard) (3.4)\n",
            "Requirement already satisfied: urllib3<1.27,>=1.21.1 in /home/amos/.local/lib/python3.10/site-packages (from requests<3,>=2.21.0->tensorboard) (1.26.14)\n",
            "Requirement already satisfied: certifi>=2017.4.17 in /home/amos/.local/lib/python3.10/site-packages (from requests<3,>=2.21.0->tensorboard) (2022.12.7)\n",
            "Requirement already satisfied: MarkupSafe>=2.1.1 in /home/amos/mambaforge/envs/pyg/lib/python3.10/site-packages (from werkzeug>=1.0.1->tensorboard) (2.1.2)\n",
            "Requirement already satisfied: pyasn1<0.5.0,>=0.4.6 in /home/amos/.local/lib/python3.10/site-packages (from pyasn1-modules>=0.2.1->google-auth<3,>=1.6.3->tensorboard) (0.4.8)\n",
            "Requirement already satisfied: oauthlib>=3.0.0 in /home/amos/mambaforge/envs/pyg/lib/python3.10/site-packages (from requests-oauthlib>=0.7.0->google-auth-oauthlib<1.1,>=0.5->tensorboard) (3.2.2)\n"
          ]
        }
      ],
      "source": [
        "\n",
        "import os\n",
        "!pip install torch==2.0.0 torchvision torchaudio --index-url https://download.pytorch.org/whl/cu118\n",
        "import torch\n",
        "os.environ['TORCH'] = torch.__version__\n",
        "print(torch.__version__)\n",
        "#torch_version = '2.0.0+cu118'\n",
        "#!pip install torch-scatter -f https://data.pyg.org/whl/torch-${torch.__version__}.html\n",
        "#!pip install torch-cluster -f https://data.pyg.org/whl/torch-${torch.__version__}.html\n",
        "#!pip install torch-sparse -f https://data.pyg.org/whl/torch-${torch.__version__}.html\n",
        "!pip install git+https://github.com/pyg-team/pytorch_geometric.git\n",
        "!pip install sentence-transformers\n",
        "!pip install torcheval\n",
        "!pip install matplotlib\n",
        "!pip install pandas\n",
        "!pip install tensorboard"
      ]
    },
    {
      "cell_type": "code",
      "execution_count": 2,
      "metadata": {
        "colab": {
          "base_uri": "https://localhost:8080/"
        },
        "id": "bCh0sDNr-I8D",
        "outputId": "c78900b5-79c1-412b-8f99-b991c20e376a"
      },
      "outputs": [
        {
          "name": "stdout",
          "output_type": "stream",
          "text": [
            "Looking in indexes: https://download.pytorch.org/whl/cu118\n",
            "Collecting torch\n",
            "  Downloading https://download.pytorch.org/whl/cu118/torch-2.1.0%2Bcu118-cp311-cp311-linux_x86_64.whl (2325.9 MB)\n",
            "\u001b[2K     \u001b[90m━━━━━━━━━━━━━━━━━━━━━━━━━━━━━━━━━━━━━━━━\u001b[0m \u001b[32m2.3/2.3 GB\u001b[0m \u001b[31m1.6 MB/s\u001b[0m eta \u001b[36m0:00:00\u001b[0m:00:01\u001b[0m00:03\u001b[0m\n",
            "\u001b[?25hCollecting torchvision\n",
            "  Downloading https://download.pytorch.org/whl/cu118/torchvision-0.16.0%2Bcu118-cp311-cp311-linux_x86_64.whl (6.2 MB)\n",
            "\u001b[2K     \u001b[90m━━━━━━━━━━━━━━━━━━━━━━━━━━━━━━━━━━━━━━━━\u001b[0m \u001b[32m6.2/6.2 MB\u001b[0m \u001b[31m30.0 MB/s\u001b[0m eta \u001b[36m0:00:00\u001b[0ma \u001b[36m0:00:01\u001b[0m\n",
            "\u001b[?25hCollecting torchaudio\n",
            "  Downloading https://download.pytorch.org/whl/cu118/torchaudio-2.1.0%2Bcu118-cp311-cp311-linux_x86_64.whl (3.2 MB)\n",
            "\u001b[2K     \u001b[90m━━━━━━━━━━━━━━━━━━━━━━━━━━━━━━━━━━━━━━━━\u001b[0m \u001b[32m3.2/3.2 MB\u001b[0m \u001b[31m34.3 MB/s\u001b[0m eta \u001b[36m0:00:00\u001b[0ma \u001b[36m0:00:01\u001b[0m\n",
            "\u001b[?25hCollecting filelock (from torch)\n",
            "  Using cached https://download.pytorch.org/whl/filelock-3.9.0-py3-none-any.whl (9.7 kB)\n",
            "Requirement already satisfied: typing-extensions in /home/amos/mambaforge/envs/test/lib/python3.11/site-packages (from torch) (4.8.0)\n",
            "Collecting sympy (from torch)\n",
            "  Using cached https://download.pytorch.org/whl/sympy-1.12-py3-none-any.whl (5.7 MB)\n",
            "Collecting networkx (from torch)\n",
            "  Using cached https://download.pytorch.org/whl/networkx-3.0-py3-none-any.whl (2.0 MB)\n",
            "Collecting jinja2 (from torch)\n",
            "  Using cached https://download.pytorch.org/whl/Jinja2-3.1.2-py3-none-any.whl (133 kB)\n",
            "Collecting fsspec (from torch)\n",
            "  Using cached https://download.pytorch.org/whl/fsspec-2023.4.0-py3-none-any.whl (153 kB)\n",
            "Collecting triton==2.1.0 (from torch)\n",
            "  Downloading https://download.pytorch.org/whl/triton-2.1.0-0-cp311-cp311-manylinux2014_x86_64.manylinux_2_17_x86_64.whl (89.2 MB)\n",
            "\u001b[2K     \u001b[90m━━━━━━━━━━━━━━━━━━━━━━━━━━━━━━━━━━━━━━━━\u001b[0m \u001b[32m89.2/89.2 MB\u001b[0m \u001b[31m25.1 MB/s\u001b[0m eta \u001b[36m0:00:00\u001b[0m00:01\u001b[0m00:01\u001b[0m\n",
            "\u001b[?25hCollecting numpy (from torchvision)\n",
            "  Using cached https://download.pytorch.org/whl/numpy-1.24.1-cp311-cp311-manylinux_2_17_x86_64.manylinux2014_x86_64.whl (17.3 MB)\n",
            "Collecting requests (from torchvision)\n",
            "  Using cached https://download.pytorch.org/whl/requests-2.28.1-py3-none-any.whl (62 kB)\n",
            "Collecting pillow!=8.3.*,>=5.3.0 (from torchvision)\n",
            "  Using cached https://download.pytorch.org/whl/Pillow-9.3.0-cp311-cp311-manylinux_2_17_x86_64.manylinux2014_x86_64.whl (3.2 MB)\n",
            "Collecting MarkupSafe>=2.0 (from jinja2->torch)\n",
            "  Using cached https://download.pytorch.org/whl/MarkupSafe-2.1.2-cp311-cp311-manylinux_2_17_x86_64.manylinux2014_x86_64.whl (27 kB)\n",
            "Collecting charset-normalizer<3,>=2 (from requests->torchvision)\n",
            "  Using cached https://download.pytorch.org/whl/charset_normalizer-2.1.1-py3-none-any.whl (39 kB)\n",
            "Collecting idna<4,>=2.5 (from requests->torchvision)\n",
            "  Using cached https://download.pytorch.org/whl/idna-3.4-py3-none-any.whl (61 kB)\n",
            "Collecting urllib3<1.27,>=1.21.1 (from requests->torchvision)\n",
            "  Using cached https://download.pytorch.org/whl/urllib3-1.26.13-py2.py3-none-any.whl (140 kB)\n",
            "Collecting certifi>=2017.4.17 (from requests->torchvision)\n",
            "  Using cached https://download.pytorch.org/whl/certifi-2022.12.7-py3-none-any.whl (155 kB)\n",
            "Collecting mpmath>=0.19 (from sympy->torch)\n",
            "  Using cached https://download.pytorch.org/whl/mpmath-1.3.0-py3-none-any.whl (536 kB)\n",
            "Installing collected packages: mpmath, urllib3, sympy, pillow, numpy, networkx, MarkupSafe, idna, fsspec, filelock, charset-normalizer, certifi, triton, requests, jinja2, torch, torchvision, torchaudio\n",
            "Successfully installed MarkupSafe-2.1.2 certifi-2022.12.7 charset-normalizer-2.1.1 filelock-3.9.0 fsspec-2023.4.0 idna-3.4 jinja2-3.1.2 mpmath-1.3.0 networkx-3.0 numpy-1.24.1 pillow-9.3.0 requests-2.28.1 sympy-1.12 torch-2.1.0+cu118 torchaudio-2.1.0+cu118 torchvision-0.16.0+cu118 triton-2.1.0 urllib3-1.26.13\n",
            "Collecting torch_geometric\n",
            "  Using cached torch_geometric-2.3.1-py3-none-any.whl\n",
            "Collecting tqdm (from torch_geometric)\n",
            "  Obtaining dependency information for tqdm from https://files.pythonhosted.org/packages/00/e5/f12a80907d0884e6dff9c16d0c0114d81b8cd07dc3ae54c5e962cc83037e/tqdm-4.66.1-py3-none-any.whl.metadata\n",
            "  Using cached tqdm-4.66.1-py3-none-any.whl.metadata (57 kB)\n",
            "Requirement already satisfied: numpy in /home/amos/mambaforge/envs/test/lib/python3.11/site-packages (from torch_geometric) (1.24.1)\n",
            "Collecting scipy (from torch_geometric)\n",
            "  Obtaining dependency information for scipy from https://files.pythonhosted.org/packages/ef/1b/7538792254aec6850657d5b940fd05fe60582af829ffe40d6c054f065f34/scipy-1.11.3-cp311-cp311-manylinux_2_17_x86_64.manylinux2014_x86_64.whl.metadata\n",
            "  Using cached scipy-1.11.3-cp311-cp311-manylinux_2_17_x86_64.manylinux2014_x86_64.whl.metadata (60 kB)\n",
            "Requirement already satisfied: jinja2 in /home/amos/mambaforge/envs/test/lib/python3.11/site-packages (from torch_geometric) (3.1.2)\n",
            "Requirement already satisfied: requests in /home/amos/mambaforge/envs/test/lib/python3.11/site-packages (from torch_geometric) (2.28.1)\n",
            "Collecting pyparsing (from torch_geometric)\n",
            "  Obtaining dependency information for pyparsing from https://files.pythonhosted.org/packages/39/92/8486ede85fcc088f1b3dba4ce92dd29d126fd96b0008ea213167940a2475/pyparsing-3.1.1-py3-none-any.whl.metadata\n",
            "  Using cached pyparsing-3.1.1-py3-none-any.whl.metadata (5.1 kB)\n",
            "Collecting scikit-learn (from torch_geometric)\n",
            "  Obtaining dependency information for scikit-learn from https://files.pythonhosted.org/packages/8f/87/5969092159207f583481ad80a03f09e2d4af1ebd197f4530ca4e906c947e/scikit_learn-1.3.1-cp311-cp311-manylinux_2_17_x86_64.manylinux2014_x86_64.whl.metadata\n",
            "  Using cached scikit_learn-1.3.1-cp311-cp311-manylinux_2_17_x86_64.manylinux2014_x86_64.whl.metadata (11 kB)\n",
            "Requirement already satisfied: psutil>=5.8.0 in /home/amos/mambaforge/envs/test/lib/python3.11/site-packages (from torch_geometric) (5.9.5)\n",
            "Requirement already satisfied: MarkupSafe>=2.0 in /home/amos/mambaforge/envs/test/lib/python3.11/site-packages (from jinja2->torch_geometric) (2.1.2)\n",
            "Requirement already satisfied: charset-normalizer<3,>=2 in /home/amos/mambaforge/envs/test/lib/python3.11/site-packages (from requests->torch_geometric) (2.1.1)\n",
            "Requirement already satisfied: idna<4,>=2.5 in /home/amos/mambaforge/envs/test/lib/python3.11/site-packages (from requests->torch_geometric) (3.4)\n",
            "Requirement already satisfied: urllib3<1.27,>=1.21.1 in /home/amos/mambaforge/envs/test/lib/python3.11/site-packages (from requests->torch_geometric) (1.26.13)\n",
            "Requirement already satisfied: certifi>=2017.4.17 in /home/amos/mambaforge/envs/test/lib/python3.11/site-packages (from requests->torch_geometric) (2022.12.7)\n",
            "Collecting joblib>=1.1.1 (from scikit-learn->torch_geometric)\n",
            "  Obtaining dependency information for joblib>=1.1.1 from https://files.pythonhosted.org/packages/10/40/d551139c85db202f1f384ba8bcf96aca2f329440a844f924c8a0040b6d02/joblib-1.3.2-py3-none-any.whl.metadata\n",
            "  Using cached joblib-1.3.2-py3-none-any.whl.metadata (5.4 kB)\n",
            "Collecting threadpoolctl>=2.0.0 (from scikit-learn->torch_geometric)\n",
            "  Obtaining dependency information for threadpoolctl>=2.0.0 from https://files.pythonhosted.org/packages/81/12/fd4dea011af9d69e1cad05c75f3f7202cdcbeac9b712eea58ca779a72865/threadpoolctl-3.2.0-py3-none-any.whl.metadata\n",
            "  Using cached threadpoolctl-3.2.0-py3-none-any.whl.metadata (10.0 kB)\n",
            "Using cached pyparsing-3.1.1-py3-none-any.whl (103 kB)\n",
            "Using cached scikit_learn-1.3.1-cp311-cp311-manylinux_2_17_x86_64.manylinux2014_x86_64.whl (10.9 MB)\n",
            "Using cached scipy-1.11.3-cp311-cp311-manylinux_2_17_x86_64.manylinux2014_x86_64.whl (36.4 MB)\n",
            "Using cached tqdm-4.66.1-py3-none-any.whl (78 kB)\n",
            "Using cached joblib-1.3.2-py3-none-any.whl (302 kB)\n",
            "Using cached threadpoolctl-3.2.0-py3-none-any.whl (15 kB)\n",
            "Installing collected packages: tqdm, threadpoolctl, scipy, pyparsing, joblib, scikit-learn, torch_geometric\n",
            "Successfully installed joblib-1.3.2 pyparsing-3.1.1 scikit-learn-1.3.1 scipy-1.11.3 threadpoolctl-3.2.0 torch_geometric-2.3.1 tqdm-4.66.1\n",
            "Looking in links: https://data.pyg.org/whl/torch-2.0.0+cu118.html\n",
            "Collecting pyg_lib\n",
            "  Using cached https://data.pyg.org/whl/torch-2.0.0%2Bcu118/pyg_lib-0.2.0%2Bpt20cu118-cp311-cp311-linux_x86_64.whl (1.8 MB)\n",
            "Collecting torch_scatter\n",
            "  Using cached https://data.pyg.org/whl/torch-2.0.0%2Bcu118/torch_scatter-2.1.1%2Bpt20cu118-cp311-cp311-linux_x86_64.whl (10.2 MB)\n",
            "Collecting torch_sparse\n",
            "  Using cached https://data.pyg.org/whl/torch-2.0.0%2Bcu118/torch_sparse-0.6.17%2Bpt20cu118-cp311-cp311-linux_x86_64.whl (4.8 MB)\n",
            "Collecting torch_cluster\n",
            "  Using cached https://data.pyg.org/whl/torch-2.0.0%2Bcu118/torch_cluster-1.6.1%2Bpt20cu118-cp311-cp311-linux_x86_64.whl (3.3 MB)\n",
            "Collecting torch_spline_conv\n",
            "  Using cached https://data.pyg.org/whl/torch-2.0.0%2Bcu118/torch_spline_conv-1.2.2%2Bpt20cu118-cp311-cp311-linux_x86_64.whl (884 kB)\n",
            "Requirement already satisfied: scipy in /home/amos/mambaforge/envs/test/lib/python3.11/site-packages (from torch_sparse) (1.11.3)\n",
            "Requirement already satisfied: numpy<1.28.0,>=1.21.6 in /home/amos/mambaforge/envs/test/lib/python3.11/site-packages (from scipy->torch_sparse) (1.24.1)\n",
            "Installing collected packages: torch_spline_conv, torch_scatter, pyg_lib, torch_sparse, torch_cluster\n",
            "Successfully installed pyg_lib-0.2.0+pt20cu118 torch_cluster-1.6.1+pt20cu118 torch_scatter-2.1.1+pt20cu118 torch_sparse-0.6.17+pt20cu118 torch_spline_conv-1.2.2+pt20cu118\n",
            "Collecting sentence-transformers\n",
            "  Using cached sentence_transformers-2.2.2-py3-none-any.whl\n",
            "Collecting transformers<5.0.0,>=4.6.0 (from sentence-transformers)\n",
            "  Obtaining dependency information for transformers<5.0.0,>=4.6.0 from https://files.pythonhosted.org/packages/1a/d1/3bba59606141ae808017f6fde91453882f931957f125009417b87a281067/transformers-4.34.0-py3-none-any.whl.metadata\n",
            "  Using cached transformers-4.34.0-py3-none-any.whl.metadata (121 kB)\n",
            "Requirement already satisfied: tqdm in /home/amos/mambaforge/envs/test/lib/python3.11/site-packages (from sentence-transformers) (4.66.1)\n",
            "Requirement already satisfied: torch>=1.6.0 in /home/amos/mambaforge/envs/test/lib/python3.11/site-packages (from sentence-transformers) (2.1.0+cu118)\n",
            "Requirement already satisfied: torchvision in /home/amos/mambaforge/envs/test/lib/python3.11/site-packages (from sentence-transformers) (0.16.0+cu118)\n",
            "Requirement already satisfied: numpy in /home/amos/mambaforge/envs/test/lib/python3.11/site-packages (from sentence-transformers) (1.24.1)\n",
            "Requirement already satisfied: scikit-learn in /home/amos/mambaforge/envs/test/lib/python3.11/site-packages (from sentence-transformers) (1.3.1)\n",
            "Requirement already satisfied: scipy in /home/amos/mambaforge/envs/test/lib/python3.11/site-packages (from sentence-transformers) (1.11.3)\n",
            "Collecting nltk (from sentence-transformers)\n",
            "  Using cached nltk-3.8.1-py3-none-any.whl (1.5 MB)\n",
            "Collecting sentencepiece (from sentence-transformers)\n",
            "  Using cached sentencepiece-0.1.99-cp311-cp311-manylinux_2_17_x86_64.manylinux2014_x86_64.whl (1.3 MB)\n",
            "Collecting huggingface-hub>=0.4.0 (from sentence-transformers)\n",
            "  Obtaining dependency information for huggingface-hub>=0.4.0 from https://files.pythonhosted.org/packages/aa/f3/3fc97336a0e90516901befd4f500f08d691034d387406fdbde85bea827cc/huggingface_hub-0.17.3-py3-none-any.whl.metadata\n",
            "  Using cached huggingface_hub-0.17.3-py3-none-any.whl.metadata (13 kB)\n",
            "Requirement already satisfied: filelock in /home/amos/mambaforge/envs/test/lib/python3.11/site-packages (from huggingface-hub>=0.4.0->sentence-transformers) (3.9.0)\n",
            "Requirement already satisfied: fsspec in /home/amos/mambaforge/envs/test/lib/python3.11/site-packages (from huggingface-hub>=0.4.0->sentence-transformers) (2023.4.0)\n",
            "Requirement already satisfied: requests in /home/amos/mambaforge/envs/test/lib/python3.11/site-packages (from huggingface-hub>=0.4.0->sentence-transformers) (2.28.1)\n",
            "Collecting pyyaml>=5.1 (from huggingface-hub>=0.4.0->sentence-transformers)\n",
            "  Obtaining dependency information for pyyaml>=5.1 from https://files.pythonhosted.org/packages/7b/5e/efd033ab7199a0b2044dab3b9f7a4f6670e6a52c089de572e928d2873b06/PyYAML-6.0.1-cp311-cp311-manylinux_2_17_x86_64.manylinux2014_x86_64.whl.metadata\n",
            "  Using cached PyYAML-6.0.1-cp311-cp311-manylinux_2_17_x86_64.manylinux2014_x86_64.whl.metadata (2.1 kB)\n",
            "Requirement already satisfied: typing-extensions>=3.7.4.3 in /home/amos/mambaforge/envs/test/lib/python3.11/site-packages (from huggingface-hub>=0.4.0->sentence-transformers) (4.8.0)\n",
            "Requirement already satisfied: packaging>=20.9 in /home/amos/mambaforge/envs/test/lib/python3.11/site-packages (from huggingface-hub>=0.4.0->sentence-transformers) (23.2)\n",
            "Requirement already satisfied: sympy in /home/amos/mambaforge/envs/test/lib/python3.11/site-packages (from torch>=1.6.0->sentence-transformers) (1.12)\n",
            "Requirement already satisfied: networkx in /home/amos/mambaforge/envs/test/lib/python3.11/site-packages (from torch>=1.6.0->sentence-transformers) (3.0)\n",
            "Requirement already satisfied: jinja2 in /home/amos/mambaforge/envs/test/lib/python3.11/site-packages (from torch>=1.6.0->sentence-transformers) (3.1.2)\n",
            "Requirement already satisfied: triton==2.1.0 in /home/amos/mambaforge/envs/test/lib/python3.11/site-packages (from torch>=1.6.0->sentence-transformers) (2.1.0)\n",
            "Collecting regex!=2019.12.17 (from transformers<5.0.0,>=4.6.0->sentence-transformers)\n",
            "  Obtaining dependency information for regex!=2019.12.17 from https://files.pythonhosted.org/packages/f2/b8/b1ec82fce93064a73ba67f2bb158ec9cac4a0e8f0b6942268ec963947329/regex-2023.10.3-cp311-cp311-manylinux_2_17_x86_64.manylinux2014_x86_64.whl.metadata\n",
            "  Downloading regex-2023.10.3-cp311-cp311-manylinux_2_17_x86_64.manylinux2014_x86_64.whl.metadata (40 kB)\n",
            "\u001b[2K     \u001b[90m━━━━━━━━━━━━━━━━━━━━━━━━━━━━━━━━━━━━━━━━\u001b[0m \u001b[32m40.9/40.9 kB\u001b[0m \u001b[31m1.3 MB/s\u001b[0m eta \u001b[36m0:00:00\u001b[0m\n",
            "\u001b[?25hCollecting tokenizers<0.15,>=0.14 (from transformers<5.0.0,>=4.6.0->sentence-transformers)\n",
            "  Obtaining dependency information for tokenizers<0.15,>=0.14 from https://files.pythonhosted.org/packages/45/19/bfdbe9504896938cce00cab78b2847d2c1fbda5201704d7bf691699b70b9/tokenizers-0.14.0-cp311-cp311-manylinux_2_17_x86_64.manylinux2014_x86_64.whl.metadata\n",
            "  Downloading tokenizers-0.14.0-cp311-cp311-manylinux_2_17_x86_64.manylinux2014_x86_64.whl.metadata (6.7 kB)\n",
            "Collecting safetensors>=0.3.1 (from transformers<5.0.0,>=4.6.0->sentence-transformers)\n",
            "  Obtaining dependency information for safetensors>=0.3.1 from https://files.pythonhosted.org/packages/9c/ee/de72fa290bef49b22aacdf112e70f40d3b1beb526dd65e94e0f540d192f0/safetensors-0.3.3-cp311-cp311-manylinux_2_17_x86_64.manylinux2014_x86_64.whl.metadata\n",
            "  Using cached safetensors-0.3.3-cp311-cp311-manylinux_2_17_x86_64.manylinux2014_x86_64.whl.metadata (4.7 kB)\n",
            "Collecting click (from nltk->sentence-transformers)\n",
            "  Obtaining dependency information for click from https://files.pythonhosted.org/packages/00/2e/d53fa4befbf2cfa713304affc7ca780ce4fc1fd8710527771b58311a3229/click-8.1.7-py3-none-any.whl.metadata\n",
            "  Using cached click-8.1.7-py3-none-any.whl.metadata (3.0 kB)\n",
            "Requirement already satisfied: joblib in /home/amos/mambaforge/envs/test/lib/python3.11/site-packages (from nltk->sentence-transformers) (1.3.2)\n",
            "Requirement already satisfied: threadpoolctl>=2.0.0 in /home/amos/mambaforge/envs/test/lib/python3.11/site-packages (from scikit-learn->sentence-transformers) (3.2.0)\n",
            "Requirement already satisfied: pillow!=8.3.*,>=5.3.0 in /home/amos/mambaforge/envs/test/lib/python3.11/site-packages (from torchvision->sentence-transformers) (9.3.0)\n",
            "Collecting huggingface-hub>=0.4.0 (from sentence-transformers)\n",
            "  Obtaining dependency information for huggingface-hub>=0.4.0 from https://files.pythonhosted.org/packages/7f/c4/adcbe9a696c135578cabcbdd7331332daad4d49b7c43688bc2d36b3a47d2/huggingface_hub-0.16.4-py3-none-any.whl.metadata\n",
            "  Using cached huggingface_hub-0.16.4-py3-none-any.whl.metadata (12 kB)\n",
            "Requirement already satisfied: MarkupSafe>=2.0 in /home/amos/mambaforge/envs/test/lib/python3.11/site-packages (from jinja2->torch>=1.6.0->sentence-transformers) (2.1.2)\n",
            "Requirement already satisfied: charset-normalizer<3,>=2 in /home/amos/mambaforge/envs/test/lib/python3.11/site-packages (from requests->huggingface-hub>=0.4.0->sentence-transformers) (2.1.1)\n",
            "Requirement already satisfied: idna<4,>=2.5 in /home/amos/mambaforge/envs/test/lib/python3.11/site-packages (from requests->huggingface-hub>=0.4.0->sentence-transformers) (3.4)\n",
            "Requirement already satisfied: urllib3<1.27,>=1.21.1 in /home/amos/mambaforge/envs/test/lib/python3.11/site-packages (from requests->huggingface-hub>=0.4.0->sentence-transformers) (1.26.13)\n",
            "Requirement already satisfied: certifi>=2017.4.17 in /home/amos/mambaforge/envs/test/lib/python3.11/site-packages (from requests->huggingface-hub>=0.4.0->sentence-transformers) (2022.12.7)\n",
            "Requirement already satisfied: mpmath>=0.19 in /home/amos/mambaforge/envs/test/lib/python3.11/site-packages (from sympy->torch>=1.6.0->sentence-transformers) (1.3.0)\n",
            "Using cached transformers-4.34.0-py3-none-any.whl (7.7 MB)\n",
            "Using cached PyYAML-6.0.1-cp311-cp311-manylinux_2_17_x86_64.manylinux2014_x86_64.whl (757 kB)\n",
            "Downloading regex-2023.10.3-cp311-cp311-manylinux_2_17_x86_64.manylinux2014_x86_64.whl (785 kB)\n",
            "\u001b[2K   \u001b[90m━━━━━━━━━━━━━━━━━━━━━━━━━━━━━━━━━━━━━━━━\u001b[0m \u001b[32m785.1/785.1 kB\u001b[0m \u001b[31m7.7 MB/s\u001b[0m eta \u001b[36m0:00:00\u001b[0ma \u001b[36m0:00:01\u001b[0m\n",
            "\u001b[?25hUsing cached safetensors-0.3.3-cp311-cp311-manylinux_2_17_x86_64.manylinux2014_x86_64.whl (1.3 MB)\n",
            "Downloading tokenizers-0.14.0-cp311-cp311-manylinux_2_17_x86_64.manylinux2014_x86_64.whl (3.8 MB)\n",
            "\u001b[2K   \u001b[90m━━━━━━━━━━━━━━━━━━━━━━━━━━━━━━━━━━━━━━━━\u001b[0m \u001b[32m3.8/3.8 MB\u001b[0m \u001b[31m18.0 MB/s\u001b[0m eta \u001b[36m0:00:00\u001b[0m00:01\u001b[0m00:01\u001b[0m\n",
            "\u001b[?25hUsing cached huggingface_hub-0.16.4-py3-none-any.whl (268 kB)\n",
            "Using cached click-8.1.7-py3-none-any.whl (97 kB)\n",
            "Installing collected packages: sentencepiece, safetensors, regex, pyyaml, click, nltk, huggingface-hub, tokenizers, transformers, sentence-transformers\n",
            "Successfully installed click-8.1.7 huggingface-hub-0.16.4 nltk-3.8.1 pyyaml-6.0.1 regex-2023.10.3 safetensors-0.3.3 sentence-transformers-2.2.2 sentencepiece-0.1.99 tokenizers-0.14.0 transformers-4.34.0\n",
            "Collecting torcheval\n",
            "  Obtaining dependency information for torcheval from https://files.pythonhosted.org/packages/e4/de/e7abc784b00de9d05999657d29187f1f7a3406ed10ecaf164de06482608f/torcheval-0.0.7-py3-none-any.whl.metadata\n",
            "  Using cached torcheval-0.0.7-py3-none-any.whl.metadata (8.6 kB)\n",
            "Requirement already satisfied: typing-extensions in /home/amos/mambaforge/envs/test/lib/python3.11/site-packages (from torcheval) (4.8.0)\n",
            "Using cached torcheval-0.0.7-py3-none-any.whl (179 kB)\n",
            "Installing collected packages: torcheval\n",
            "Successfully installed torcheval-0.0.7\n",
            "Collecting matplotlib\n",
            "  Obtaining dependency information for matplotlib from https://files.pythonhosted.org/packages/65/5b/3b8fd7d66043f0638a35fa650570cbe69efd42fe169e5024f9307598b47e/matplotlib-3.8.0-cp311-cp311-manylinux_2_17_x86_64.manylinux2014_x86_64.whl.metadata\n",
            "  Using cached matplotlib-3.8.0-cp311-cp311-manylinux_2_17_x86_64.manylinux2014_x86_64.whl.metadata (5.8 kB)\n",
            "Collecting contourpy>=1.0.1 (from matplotlib)\n",
            "  Obtaining dependency information for contourpy>=1.0.1 from https://files.pythonhosted.org/packages/b7/f6/78f60fa0b6ae64971178e2542e8b3ad3ba5f4f379b918ab7b18038a3f897/contourpy-1.1.1-cp311-cp311-manylinux_2_17_x86_64.manylinux2014_x86_64.whl.metadata\n",
            "  Using cached contourpy-1.1.1-cp311-cp311-manylinux_2_17_x86_64.manylinux2014_x86_64.whl.metadata (5.9 kB)\n",
            "Collecting cycler>=0.10 (from matplotlib)\n",
            "  Obtaining dependency information for cycler>=0.10 from https://files.pythonhosted.org/packages/2b/b3/70c33027c4918c10ccf176014b38f8b91cb18ac018a78854543a4fc72609/cycler-0.12.0-py3-none-any.whl.metadata\n",
            "  Using cached cycler-0.12.0-py3-none-any.whl.metadata (3.8 kB)\n",
            "Collecting fonttools>=4.22.0 (from matplotlib)\n",
            "  Obtaining dependency information for fonttools>=4.22.0 from https://files.pythonhosted.org/packages/ca/3b/9554bcd5005f994ab65e8238c713e62ddfd30e1d003a0b8e77193a0c2356/fonttools-4.43.0-cp311-cp311-manylinux_2_17_x86_64.manylinux2014_x86_64.whl.metadata\n",
            "  Using cached fonttools-4.43.0-cp311-cp311-manylinux_2_17_x86_64.manylinux2014_x86_64.whl.metadata (151 kB)\n",
            "Collecting kiwisolver>=1.0.1 (from matplotlib)\n",
            "  Obtaining dependency information for kiwisolver>=1.0.1 from https://files.pythonhosted.org/packages/17/ba/17a706b232308e65f57deeccae503c268292e6a091313f6ce833a23093ea/kiwisolver-1.4.5-cp311-cp311-manylinux_2_17_x86_64.manylinux2014_x86_64.whl.metadata\n",
            "  Using cached kiwisolver-1.4.5-cp311-cp311-manylinux_2_17_x86_64.manylinux2014_x86_64.whl.metadata (6.4 kB)\n",
            "Requirement already satisfied: numpy<2,>=1.21 in /home/amos/mambaforge/envs/test/lib/python3.11/site-packages (from matplotlib) (1.24.1)\n",
            "Requirement already satisfied: packaging>=20.0 in /home/amos/mambaforge/envs/test/lib/python3.11/site-packages (from matplotlib) (23.2)\n",
            "Requirement already satisfied: pillow>=6.2.0 in /home/amos/mambaforge/envs/test/lib/python3.11/site-packages (from matplotlib) (9.3.0)\n",
            "Requirement already satisfied: pyparsing>=2.3.1 in /home/amos/mambaforge/envs/test/lib/python3.11/site-packages (from matplotlib) (3.1.1)\n",
            "Requirement already satisfied: python-dateutil>=2.7 in /home/amos/mambaforge/envs/test/lib/python3.11/site-packages (from matplotlib) (2.8.2)\n",
            "Requirement already satisfied: six>=1.5 in /home/amos/mambaforge/envs/test/lib/python3.11/site-packages (from python-dateutil>=2.7->matplotlib) (1.16.0)\n",
            "Using cached matplotlib-3.8.0-cp311-cp311-manylinux_2_17_x86_64.manylinux2014_x86_64.whl (11.6 MB)\n",
            "Using cached contourpy-1.1.1-cp311-cp311-manylinux_2_17_x86_64.manylinux2014_x86_64.whl (302 kB)\n",
            "Using cached cycler-0.12.0-py3-none-any.whl (8.2 kB)\n",
            "Using cached fonttools-4.43.0-cp311-cp311-manylinux_2_17_x86_64.manylinux2014_x86_64.whl (4.9 MB)\n",
            "Using cached kiwisolver-1.4.5-cp311-cp311-manylinux_2_17_x86_64.manylinux2014_x86_64.whl (1.4 MB)\n",
            "Installing collected packages: kiwisolver, fonttools, cycler, contourpy, matplotlib\n",
            "Successfully installed contourpy-1.1.1 cycler-0.12.0 fonttools-4.43.0 kiwisolver-1.4.5 matplotlib-3.8.0\n",
            "Collecting pandas\n",
            "  Obtaining dependency information for pandas from https://files.pythonhosted.org/packages/de/ce/b5d9c7ce1aaf9023b823c81932a50cd5e8f407198a696b0d1c6025a40b03/pandas-2.1.1-cp311-cp311-manylinux_2_17_x86_64.manylinux2014_x86_64.whl.metadata\n",
            "  Using cached pandas-2.1.1-cp311-cp311-manylinux_2_17_x86_64.manylinux2014_x86_64.whl.metadata (18 kB)\n",
            "Requirement already satisfied: numpy>=1.23.2 in /home/amos/mambaforge/envs/test/lib/python3.11/site-packages (from pandas) (1.24.1)\n",
            "Requirement already satisfied: python-dateutil>=2.8.2 in /home/amos/mambaforge/envs/test/lib/python3.11/site-packages (from pandas) (2.8.2)\n",
            "Collecting pytz>=2020.1 (from pandas)\n",
            "  Obtaining dependency information for pytz>=2020.1 from https://files.pythonhosted.org/packages/32/4d/aaf7eff5deb402fd9a24a1449a8119f00d74ae9c2efa79f8ef9994261fc2/pytz-2023.3.post1-py2.py3-none-any.whl.metadata\n",
            "  Using cached pytz-2023.3.post1-py2.py3-none-any.whl.metadata (22 kB)\n",
            "Collecting tzdata>=2022.1 (from pandas)\n",
            "  Using cached tzdata-2023.3-py2.py3-none-any.whl (341 kB)\n",
            "Requirement already satisfied: six>=1.5 in /home/amos/mambaforge/envs/test/lib/python3.11/site-packages (from python-dateutil>=2.8.2->pandas) (1.16.0)\n",
            "Using cached pandas-2.1.1-cp311-cp311-manylinux_2_17_x86_64.manylinux2014_x86_64.whl (12.2 MB)\n",
            "Using cached pytz-2023.3.post1-py2.py3-none-any.whl (502 kB)\n",
            "Installing collected packages: pytz, tzdata, pandas\n",
            "Successfully installed pandas-2.1.1 pytz-2023.3.post1 tzdata-2023.3\n",
            "Collecting tensorboard\n",
            "  Obtaining dependency information for tensorboard from https://files.pythonhosted.org/packages/73/a2/66ed644f6ed1562e0285fcd959af17670ea313c8f331c46f79ee77187eb9/tensorboard-2.14.1-py3-none-any.whl.metadata\n",
            "  Using cached tensorboard-2.14.1-py3-none-any.whl.metadata (1.7 kB)\n",
            "Collecting absl-py>=0.4 (from tensorboard)\n",
            "  Obtaining dependency information for absl-py>=0.4 from https://files.pythonhosted.org/packages/01/e4/dc0a1dcc4e74e08d7abedab278c795eef54a224363bb18f5692f416d834f/absl_py-2.0.0-py3-none-any.whl.metadata\n",
            "  Using cached absl_py-2.0.0-py3-none-any.whl.metadata (2.3 kB)\n",
            "Collecting grpcio>=1.48.2 (from tensorboard)\n",
            "  Obtaining dependency information for grpcio>=1.48.2 from https://files.pythonhosted.org/packages/e7/f9/33e17bb938d4b2afc7373120190e857f951d26f899992a9e717121170e2a/grpcio-1.59.0-cp311-cp311-manylinux_2_17_x86_64.manylinux2014_x86_64.whl.metadata\n",
            "  Using cached grpcio-1.59.0-cp311-cp311-manylinux_2_17_x86_64.manylinux2014_x86_64.whl.metadata (4.0 kB)\n",
            "Collecting google-auth<3,>=1.6.3 (from tensorboard)\n",
            "  Obtaining dependency information for google-auth<3,>=1.6.3 from https://files.pythonhosted.org/packages/d7/88/1826b0c047c48763b36ed854a984127b430a16b70003155d7b19975f1d59/google_auth-2.23.2-py2.py3-none-any.whl.metadata\n",
            "  Using cached google_auth-2.23.2-py2.py3-none-any.whl.metadata (4.2 kB)\n",
            "Collecting google-auth-oauthlib<1.1,>=0.5 (from tensorboard)\n",
            "  Using cached google_auth_oauthlib-1.0.0-py2.py3-none-any.whl (18 kB)\n",
            "Collecting markdown>=2.6.8 (from tensorboard)\n",
            "  Obtaining dependency information for markdown>=2.6.8 from https://files.pythonhosted.org/packages/1a/b5/228c1cdcfe138f1a8e01ab1b54284c8b83735476cb22b6ba251656ed13ad/Markdown-3.4.4-py3-none-any.whl.metadata\n",
            "  Using cached Markdown-3.4.4-py3-none-any.whl.metadata (6.9 kB)\n",
            "Requirement already satisfied: numpy>=1.12.0 in /home/amos/mambaforge/envs/test/lib/python3.11/site-packages (from tensorboard) (1.24.1)\n",
            "Collecting protobuf>=3.19.6 (from tensorboard)\n",
            "  Obtaining dependency information for protobuf>=3.19.6 from https://files.pythonhosted.org/packages/c8/2c/03046cac73f46bfe98fc846ef629cf4f84c2f59258216aa2cc0d22bfca8f/protobuf-4.24.4-cp37-abi3-manylinux2014_x86_64.whl.metadata\n",
            "  Using cached protobuf-4.24.4-cp37-abi3-manylinux2014_x86_64.whl.metadata (540 bytes)\n",
            "Requirement already satisfied: requests<3,>=2.21.0 in /home/amos/mambaforge/envs/test/lib/python3.11/site-packages (from tensorboard) (2.28.1)\n",
            "Requirement already satisfied: setuptools>=41.0.0 in /home/amos/mambaforge/envs/test/lib/python3.11/site-packages (from tensorboard) (68.2.2)\n",
            "Requirement already satisfied: six>1.9 in /home/amos/mambaforge/envs/test/lib/python3.11/site-packages (from tensorboard) (1.16.0)\n",
            "Collecting tensorboard-data-server<0.8.0,>=0.7.0 (from tensorboard)\n",
            "  Obtaining dependency information for tensorboard-data-server<0.8.0,>=0.7.0 from https://files.pythonhosted.org/packages/02/52/fb9e51fba47951aabd7a6b25e41d73eae94208ccf62d886168096941a781/tensorboard_data_server-0.7.1-py3-none-manylinux2014_x86_64.whl.metadata\n",
            "  Using cached tensorboard_data_server-0.7.1-py3-none-manylinux2014_x86_64.whl.metadata (1.1 kB)\n",
            "Collecting werkzeug>=1.0.1 (from tensorboard)\n",
            "  Obtaining dependency information for werkzeug>=1.0.1 from https://files.pythonhosted.org/packages/b6/a5/54b01f663d60d5334f6c9c87c26274e94617a4fd463d812463626423b10d/werkzeug-3.0.0-py3-none-any.whl.metadata\n",
            "  Using cached werkzeug-3.0.0-py3-none-any.whl.metadata (4.1 kB)\n",
            "Collecting cachetools<6.0,>=2.0.0 (from google-auth<3,>=1.6.3->tensorboard)\n",
            "  Obtaining dependency information for cachetools<6.0,>=2.0.0 from https://files.pythonhosted.org/packages/a9/c9/c8a7710f2cedcb1db9224fdd4d8307c9e48cbddc46c18b515fefc0f1abbe/cachetools-5.3.1-py3-none-any.whl.metadata\n",
            "  Using cached cachetools-5.3.1-py3-none-any.whl.metadata (5.2 kB)\n",
            "Collecting pyasn1-modules>=0.2.1 (from google-auth<3,>=1.6.3->tensorboard)\n",
            "  Using cached pyasn1_modules-0.3.0-py2.py3-none-any.whl (181 kB)\n",
            "Collecting rsa<5,>=3.1.4 (from google-auth<3,>=1.6.3->tensorboard)\n",
            "  Using cached rsa-4.9-py3-none-any.whl (34 kB)\n",
            "Collecting requests-oauthlib>=0.7.0 (from google-auth-oauthlib<1.1,>=0.5->tensorboard)\n",
            "  Using cached requests_oauthlib-1.3.1-py2.py3-none-any.whl (23 kB)\n",
            "Requirement already satisfied: charset-normalizer<3,>=2 in /home/amos/mambaforge/envs/test/lib/python3.11/site-packages (from requests<3,>=2.21.0->tensorboard) (2.1.1)\n",
            "Requirement already satisfied: idna<4,>=2.5 in /home/amos/mambaforge/envs/test/lib/python3.11/site-packages (from requests<3,>=2.21.0->tensorboard) (3.4)\n",
            "Requirement already satisfied: urllib3<1.27,>=1.21.1 in /home/amos/mambaforge/envs/test/lib/python3.11/site-packages (from requests<3,>=2.21.0->tensorboard) (1.26.13)\n",
            "Requirement already satisfied: certifi>=2017.4.17 in /home/amos/mambaforge/envs/test/lib/python3.11/site-packages (from requests<3,>=2.21.0->tensorboard) (2022.12.7)\n",
            "Requirement already satisfied: MarkupSafe>=2.1.1 in /home/amos/mambaforge/envs/test/lib/python3.11/site-packages (from werkzeug>=1.0.1->tensorboard) (2.1.2)\n",
            "Collecting pyasn1<0.6.0,>=0.4.6 (from pyasn1-modules>=0.2.1->google-auth<3,>=1.6.3->tensorboard)\n",
            "  Using cached pyasn1-0.5.0-py2.py3-none-any.whl (83 kB)\n",
            "Collecting oauthlib>=3.0.0 (from requests-oauthlib>=0.7.0->google-auth-oauthlib<1.1,>=0.5->tensorboard)\n",
            "  Using cached oauthlib-3.2.2-py3-none-any.whl (151 kB)\n",
            "Using cached tensorboard-2.14.1-py3-none-any.whl (5.5 MB)\n",
            "Using cached absl_py-2.0.0-py3-none-any.whl (130 kB)\n",
            "Using cached google_auth-2.23.2-py2.py3-none-any.whl (181 kB)\n",
            "Using cached grpcio-1.59.0-cp311-cp311-manylinux_2_17_x86_64.manylinux2014_x86_64.whl (5.3 MB)\n",
            "Using cached Markdown-3.4.4-py3-none-any.whl (94 kB)\n",
            "Using cached protobuf-4.24.4-cp37-abi3-manylinux2014_x86_64.whl (311 kB)\n",
            "Using cached tensorboard_data_server-0.7.1-py3-none-manylinux2014_x86_64.whl (6.6 MB)\n",
            "Using cached werkzeug-3.0.0-py3-none-any.whl (226 kB)\n",
            "Using cached cachetools-5.3.1-py3-none-any.whl (9.3 kB)\n",
            "Installing collected packages: werkzeug, tensorboard-data-server, pyasn1, protobuf, oauthlib, markdown, grpcio, cachetools, absl-py, rsa, requests-oauthlib, pyasn1-modules, google-auth, google-auth-oauthlib, tensorboard\n",
            "Successfully installed absl-py-2.0.0 cachetools-5.3.1 google-auth-2.23.2 google-auth-oauthlib-1.0.0 grpcio-1.59.0 markdown-3.4.4 oauthlib-3.2.2 protobuf-4.24.4 pyasn1-0.5.0 pyasn1-modules-0.3.0 requests-oauthlib-1.3.1 rsa-4.9 tensorboard-2.14.1 tensorboard-data-server-0.7.1 werkzeug-3.0.0\n",
            "unzip:  cannot find or open /content/drive/MyDrive/DataExplorationProject/Skill_Ontology_GNN/neo4jgraph.zip, /content/drive/MyDrive/DataExplorationProject/Skill_Ontology_GNN/neo4jgraph.zip.zip or /content/drive/MyDrive/DataExplorationProject/Skill_Ontology_GNN/neo4jgraph.zip.ZIP.\n"
          ]
        }
      ],
      "source": [
        "# if colab:\n",
        "    # Install required packages.\n",
        "    # !pip install torch-scatter -f https://data.pyg.org/whl/torch-{torch.__version__}.html\n",
        "    # !pip install torch-sparse -f https://data.pyg.org/whl/torch-{torch.__version__}.html\n",
        "    # !pip install torch-cluster -f https://data.pyg.org/whl/torch-{torch.__version__}.html\n",
        "    # !pip install git+https://github.com/pyg-team/pytorch_geometric.git\n",
        "# !pip install torch torchvision torchaudio --index-url https://download.pytorch.org/whl/cu118\n",
        "# !pip install torch_geometric\n",
        "# !pip install pyg_lib torch_scatter torch_sparse torch_cluster torch_spline_conv -f https://data.pyg.org/whl/torch-2.0.0+cu118.html\n",
        "# !pip install sentence-transformers\n",
        "# !pip install torcheval\n",
        "# !pip install matplotlib\n",
        "# !pip install pandas\n",
        "# !pip install tensorboard\n",
        "\n",
        "    # unpack datasets\n",
        "    # if not 'unzipped' in globals():\n",
        "    #     !unzip /content/drive/MyDrive/DataExplorationProject/Skill_Ontology_GNN/neo4jgraph.zip\n",
        "    #     unzipped =True"
      ]
    },
    {
      "cell_type": "code",
      "execution_count": 59,
      "metadata": {
        "colab": {
          "base_uri": "https://localhost:8080/",
          "height": 143
        },
        "id": "p1oM_TnG9udQ",
        "outputId": "094d85e4-269c-4906-ee4b-396d85fec6d1"
      },
      "outputs": [],
      "source": [
        "import pandas as pd\n",
        "from torch_geometric.data import HeteroData\n",
        "import torch_geometric.transforms as T"
      ]
    },
    {
      "cell_type": "code",
      "execution_count": 60,
      "metadata": {
        "id": "hb6bIOsz9udU"
      },
      "outputs": [],
      "source": [
        "# only use skill nodes which have normalized_name != NaN, this is some indication of quality skill (?)\n",
        "skill_nodes = pd.read_csv(colab_path+'neo4jgraph/skills.csv').dropna(subset=['normalized_name']).reset_index()\n",
        "job_nodes = pd.read_csv(colab_path+'neo4jgraph/onet_skills_unique.csv')\n",
        "\n",
        "# drop some skills \"or\"\n",
        "skill_nodes = skill_nodes.loc[~skill_nodes.skill.isin(['or','technology'])]"
      ]
    },
    {
      "cell_type": "code",
      "execution_count": 61,
      "metadata": {
        "id": "1Jj8pvb49udV"
      },
      "outputs": [
        {
          "data": {
            "text/plain": [
              "38692"
            ]
          },
          "execution_count": 61,
          "metadata": {},
          "output_type": "execute_result"
        }
      ],
      "source": [
        "# There are duplicate normalized names\n",
        "skill_nodes.shape[0]-skill_nodes.normalized_name.unique().shape[0]"
      ]
    },
    {
      "cell_type": "code",
      "execution_count": 62,
      "metadata": {
        "id": "dTuAjvSa9udV"
      },
      "outputs": [
        {
          "data": {
            "text/plain": [
              "2483"
            ]
          },
          "execution_count": 62,
          "metadata": {},
          "output_type": "execute_result"
        }
      ],
      "source": [
        "# There are not as many skill names which are duplicate\n",
        "skill_nodes.shape[0]-skill_nodes.skill.unique().shape[0]"
      ]
    },
    {
      "cell_type": "code",
      "execution_count": 63,
      "metadata": {
        "id": "LwaRmpWL9udW"
      },
      "outputs": [
        {
          "data": {
            "text/html": [
              "<div>\n",
              "<style scoped>\n",
              "    .dataframe tbody tr th:only-of-type {\n",
              "        vertical-align: middle;\n",
              "    }\n",
              "\n",
              "    .dataframe tbody tr th {\n",
              "        vertical-align: top;\n",
              "    }\n",
              "\n",
              "    .dataframe thead th {\n",
              "        text-align: right;\n",
              "    }\n",
              "</style>\n",
              "<table border=\"1\" class=\"dataframe\">\n",
              "  <thead>\n",
              "    <tr style=\"text-align: right;\">\n",
              "      <th></th>\n",
              "      <th>index</th>\n",
              "      <th>skill</th>\n",
              "      <th>category</th>\n",
              "      <th>normalized_name</th>\n",
              "    </tr>\n",
              "  </thead>\n",
              "  <tbody>\n",
              "    <tr>\n",
              "      <th>695</th>\n",
              "      <td>2229</td>\n",
              "      <td>communication</td>\n",
              "      <td>communication</td>\n",
              "      <td>Third-Party Provider Communication</td>\n",
              "    </tr>\n",
              "    <tr>\n",
              "      <th>1292</th>\n",
              "      <td>4059</td>\n",
              "      <td>communication</td>\n",
              "      <td>healthcare</td>\n",
              "      <td>Communication (Including SBAR)</td>\n",
              "    </tr>\n",
              "    <tr>\n",
              "      <th>4228</th>\n",
              "      <td>12919</td>\n",
              "      <td>communication</td>\n",
              "      <td>communication</td>\n",
              "      <td>Friendly Communication</td>\n",
              "    </tr>\n",
              "    <tr>\n",
              "      <th>5528</th>\n",
              "      <td>16927</td>\n",
              "      <td>communication</td>\n",
              "      <td>communication</td>\n",
              "      <td>radio/telephone communication</td>\n",
              "    </tr>\n",
              "    <tr>\n",
              "      <th>6311</th>\n",
              "      <td>19452</td>\n",
              "      <td>communication</td>\n",
              "      <td>communication</td>\n",
              "      <td>communication (phone and email)</td>\n",
              "    </tr>\n",
              "    <tr>\n",
              "      <th>...</th>\n",
              "      <td>...</td>\n",
              "      <td>...</td>\n",
              "      <td>...</td>\n",
              "      <td>...</td>\n",
              "    </tr>\n",
              "    <tr>\n",
              "      <th>223829</th>\n",
              "      <td>759817</td>\n",
              "      <td>communication</td>\n",
              "      <td>communication</td>\n",
              "      <td>Calling/Applying</td>\n",
              "    </tr>\n",
              "    <tr>\n",
              "      <th>224556</th>\n",
              "      <td>762531</td>\n",
              "      <td>communication</td>\n",
              "      <td>communication</td>\n",
              "      <td>Communication</td>\n",
              "    </tr>\n",
              "    <tr>\n",
              "      <th>238581</th>\n",
              "      <td>818822</td>\n",
              "      <td>communication</td>\n",
              "      <td>communication</td>\n",
              "      <td>Email/Phone Communication</td>\n",
              "    </tr>\n",
              "    <tr>\n",
              "      <th>245411</th>\n",
              "      <td>848577</td>\n",
              "      <td>communication</td>\n",
              "      <td>soft skills</td>\n",
              "      <td>Communication (Phone/Face-to-Face)</td>\n",
              "    </tr>\n",
              "    <tr>\n",
              "      <th>247267</th>\n",
              "      <td>857407</td>\n",
              "      <td>communication</td>\n",
              "      <td>healthcare</td>\n",
              "      <td>Communication (Speech and Hearing)</td>\n",
              "    </tr>\n",
              "  </tbody>\n",
              "</table>\n",
              "<p>76 rows × 4 columns</p>\n",
              "</div>"
            ],
            "text/plain": [
              "         index          skill       category  \\\n",
              "695       2229  communication  communication   \n",
              "1292      4059  communication     healthcare   \n",
              "4228     12919  communication  communication   \n",
              "5528     16927  communication  communication   \n",
              "6311     19452  communication  communication   \n",
              "...        ...            ...            ...   \n",
              "223829  759817  communication  communication   \n",
              "224556  762531  communication  communication   \n",
              "238581  818822  communication  communication   \n",
              "245411  848577  communication    soft skills   \n",
              "247267  857407  communication     healthcare   \n",
              "\n",
              "                           normalized_name  \n",
              "695     Third-Party Provider Communication  \n",
              "1292        Communication (Including SBAR)  \n",
              "4228                Friendly Communication  \n",
              "5528         radio/telephone communication  \n",
              "6311       communication (phone and email)  \n",
              "...                                    ...  \n",
              "223829                    Calling/Applying  \n",
              "224556                       Communication  \n",
              "238581           Email/Phone Communication  \n",
              "245411  Communication (Phone/Face-to-Face)  \n",
              "247267  Communication (Speech and Hearing)  \n",
              "\n",
              "[76 rows x 4 columns]"
            ]
          },
          "execution_count": 63,
          "metadata": {},
          "output_type": "execute_result"
        }
      ],
      "source": [
        "# we can not use normalized name instead of skill, because it is ambiguous, e.g. communication points to different normalized names\n",
        "skill_nodes.loc[skill_nodes.skill=='communication']"
      ]
    },
    {
      "cell_type": "code",
      "execution_count": 64,
      "metadata": {
        "id": "GIlL1tPh9udW"
      },
      "outputs": [],
      "source": [
        "skill_nodes.drop_duplicates(subset='skill', inplace=True)"
      ]
    },
    {
      "cell_type": "code",
      "execution_count": 174,
      "metadata": {
        "id": "zPzgTNR79udW"
      },
      "outputs": [],
      "source": [
        "\n",
        "skill_job_edges = pd.read_csv(colab_path+'neo4jgraph/tfidf_skill_job_edge.csv')\n",
        "#skill_job_edges = skill_job_edges.loc[skill_job_edges.scaled_tfidf>8]\n",
        "# only use edges where we have the skill and job for from the other files\n",
        "skill_job_edges = skill_job_edges.loc[skill_job_edges['skill'].isin(skill_nodes['skill'])]\n",
        "skill_job_edges = skill_job_edges.loc[skill_job_edges['alt_title'].isin(job_nodes.index)]"
      ]
    },
    {
      "cell_type": "code",
      "execution_count": 103,
      "metadata": {
        "id": "mVB9kvu49udX"
      },
      "outputs": [
        {
          "data": {
            "text/html": [
              "<div>\n",
              "<style scoped>\n",
              "    .dataframe tbody tr th:only-of-type {\n",
              "        vertical-align: middle;\n",
              "    }\n",
              "\n",
              "    .dataframe tbody tr th {\n",
              "        vertical-align: top;\n",
              "    }\n",
              "\n",
              "    .dataframe thead th {\n",
              "        text-align: right;\n",
              "    }\n",
              "</style>\n",
              "<table border=\"1\" class=\"dataframe\">\n",
              "  <thead>\n",
              "    <tr style=\"text-align: right;\">\n",
              "      <th></th>\n",
              "      <th>alt_title</th>\n",
              "      <th>skill</th>\n",
              "      <th>scaled_tfidf</th>\n",
              "      <th>n_jobdesc_used</th>\n",
              "    </tr>\n",
              "  </thead>\n",
              "  <tbody>\n",
              "    <tr>\n",
              "      <th>1</th>\n",
              "      <td>55010</td>\n",
              "      <td>design</td>\n",
              "      <td>9.887307</td>\n",
              "      <td>240</td>\n",
              "    </tr>\n",
              "    <tr>\n",
              "      <th>5</th>\n",
              "      <td>55010</td>\n",
              "      <td>cg</td>\n",
              "      <td>8.744163</td>\n",
              "      <td>240</td>\n",
              "    </tr>\n",
              "    <tr>\n",
              "      <th>10</th>\n",
              "      <td>55010</td>\n",
              "      <td>visual effects</td>\n",
              "      <td>6.299518</td>\n",
              "      <td>240</td>\n",
              "    </tr>\n",
              "    <tr>\n",
              "      <th>11</th>\n",
              "      <td>55010</td>\n",
              "      <td>software</td>\n",
              "      <td>5.288013</td>\n",
              "      <td>240</td>\n",
              "    </tr>\n",
              "    <tr>\n",
              "      <th>12</th>\n",
              "      <td>55010</td>\n",
              "      <td>unity</td>\n",
              "      <td>5.278638</td>\n",
              "      <td>240</td>\n",
              "    </tr>\n",
              "    <tr>\n",
              "      <th>...</th>\n",
              "      <td>...</td>\n",
              "      <td>...</td>\n",
              "      <td>...</td>\n",
              "      <td>...</td>\n",
              "    </tr>\n",
              "    <tr>\n",
              "      <th>7926039</th>\n",
              "      <td>15285</td>\n",
              "      <td>analysis</td>\n",
              "      <td>6.147100</td>\n",
              "      <td>1</td>\n",
              "    </tr>\n",
              "    <tr>\n",
              "      <th>7926040</th>\n",
              "      <td>15285</td>\n",
              "      <td>software</td>\n",
              "      <td>6.013723</td>\n",
              "      <td>1</td>\n",
              "    </tr>\n",
              "    <tr>\n",
              "      <th>7926041</th>\n",
              "      <td>15285</td>\n",
              "      <td>engineering</td>\n",
              "      <td>5.864380</td>\n",
              "      <td>1</td>\n",
              "    </tr>\n",
              "    <tr>\n",
              "      <th>7926050</th>\n",
              "      <td>15285</td>\n",
              "      <td>development</td>\n",
              "      <td>4.434249</td>\n",
              "      <td>1</td>\n",
              "    </tr>\n",
              "    <tr>\n",
              "      <th>7926055</th>\n",
              "      <td>15285</td>\n",
              "      <td>training</td>\n",
              "      <td>3.974054</td>\n",
              "      <td>1</td>\n",
              "    </tr>\n",
              "  </tbody>\n",
              "</table>\n",
              "<p>4069186 rows × 4 columns</p>\n",
              "</div>"
            ],
            "text/plain": [
              "         alt_title           skill  scaled_tfidf  n_jobdesc_used\n",
              "1            55010          design      9.887307             240\n",
              "5            55010              cg      8.744163             240\n",
              "10           55010  visual effects      6.299518             240\n",
              "11           55010        software      5.288013             240\n",
              "12           55010           unity      5.278638             240\n",
              "...            ...             ...           ...             ...\n",
              "7926039      15285        analysis      6.147100               1\n",
              "7926040      15285        software      6.013723               1\n",
              "7926041      15285     engineering      5.864380               1\n",
              "7926050      15285     development      4.434249               1\n",
              "7926055      15285        training      3.974054               1\n",
              "\n",
              "[4069186 rows x 4 columns]"
            ]
          },
          "execution_count": 103,
          "metadata": {},
          "output_type": "execute_result"
        }
      ],
      "source": [
        "skill_job_edges"
      ]
    },
    {
      "cell_type": "code",
      "execution_count": 175,
      "metadata": {
        "id": "pCzFw-fn9udY"
      },
      "outputs": [],
      "source": [
        "skillmapping ={}\n",
        "for i,skill in enumerate(skill_nodes.skill.unique()):\n",
        "    skillmapping[skill] =i\n",
        "\n",
        "jobmapping ={}\n",
        "for i,index in enumerate(job_nodes['index'].unique()):\n",
        "    jobmapping[index] =i\n",
        "\n",
        "inverted_skillmapping = {v:k for k,v in skillmapping.items()}\n",
        "inverted_jobmapping = {v:k for k,v in jobmapping.items()}"
      ]
    },
    {
      "cell_type": "code",
      "execution_count": 176,
      "metadata": {
        "id": "BHirmQzn9udY"
      },
      "outputs": [],
      "source": [
        "skill_job_edges['skill_dst'] = skill_job_edges['skill'].apply(lambda x:skillmapping[x])\n",
        "skill_job_edges['job_src'] = skill_job_edges['alt_title'].apply(lambda x:jobmapping[x])"
      ]
    },
    {
      "cell_type": "code",
      "execution_count": 177,
      "metadata": {},
      "outputs": [],
      "source": [
        "# normalization and removal of job-skill edges\n",
        "# first group by jobs and limit the skills for each job to 175\n",
        "# then normalize those tfidf edgeweights\n",
        "# then group by skill and limit edges to 125 for skills (ordered by normalized tf-idf)\n",
        "skill_job_edges = skill_job_edges.groupby('job_src').apply(lambda group: group.nlargest(175,'scaled_tfidf')).reset_index(drop=True)\n",
        "summed_tfidf_per_job = skill_job_edges.groupby('job_src').sum()\n",
        "skill_job_edges['sum'] = skill_job_edges['job_src'].apply(lambda x: summed_tfidf_per_job.loc[x]['scaled_tfidf'])\n",
        "skill_job_edges['normalized_tfidf'] =  skill_job_edges['scaled_tfidf']/skill_job_edges['sum']\n",
        "skill_job_edges = skill_job_edges.groupby('skill_dst').apply(lambda group: group.nlargest(125,'normalized_tfidf')).reset_index(drop=True)"
      ]
    },
    {
      "cell_type": "code",
      "execution_count": null,
      "metadata": {},
      "outputs": [],
      "source": [
        "# normalization and removing of skill-skill edges\n"
      ]
    },
    {
      "cell_type": "code",
      "execution_count": 121,
      "metadata": {},
      "outputs": [],
      "source": [
        "\n",
        "\n",
        "#for each alt title select the first 125 skill_job edges, ordered by tfidf\n",
        "skill_job_edges = skill_job_edges.groupby('alt_title')\n",
        "skill_job_edges = skill_job_edges.groupby('alt_title').apply(lambda group: group.nlargest(125,'scaled_tfidf')).reset_index(drop=True)\n",
        "\n",
        "# for each skill only use the 125 edges with the highest tf-idf score\n",
        "#skill_job_edges = skill_job_edges.groupby('skill').apply(lambda group: group.nlargest(125,'scaled_tfidf')).reset_index(drop=True)"
      ]
    },
    {
      "cell_type": "code",
      "execution_count": 173,
      "metadata": {},
      "outputs": [
        {
          "data": {
            "text/html": [
              "<div>\n",
              "<style scoped>\n",
              "    .dataframe tbody tr th:only-of-type {\n",
              "        vertical-align: middle;\n",
              "    }\n",
              "\n",
              "    .dataframe tbody tr th {\n",
              "        vertical-align: top;\n",
              "    }\n",
              "\n",
              "    .dataframe thead th {\n",
              "        text-align: right;\n",
              "    }\n",
              "</style>\n",
              "<table border=\"1\" class=\"dataframe\">\n",
              "  <thead>\n",
              "    <tr style=\"text-align: right;\">\n",
              "      <th></th>\n",
              "      <th>scaled_tfidf</th>\n",
              "      <th>skill_dst</th>\n",
              "      <th>job_src</th>\n",
              "      <th>sum</th>\n",
              "      <th>normalized_tfidf</th>\n",
              "    </tr>\n",
              "  </thead>\n",
              "  <tbody>\n",
              "    <tr>\n",
              "      <th>0</th>\n",
              "      <td>35.545516</td>\n",
              "      <td>126198</td>\n",
              "      <td>7</td>\n",
              "      <td>163.983794</td>\n",
              "      <td>0.216762</td>\n",
              "    </tr>\n",
              "    <tr>\n",
              "      <th>1</th>\n",
              "      <td>14.444801</td>\n",
              "      <td>184892</td>\n",
              "      <td>7</td>\n",
              "      <td>163.983794</td>\n",
              "      <td>0.088087</td>\n",
              "    </tr>\n",
              "    <tr>\n",
              "      <th>2</th>\n",
              "      <td>13.682348</td>\n",
              "      <td>115677</td>\n",
              "      <td>7</td>\n",
              "      <td>163.983794</td>\n",
              "      <td>0.083437</td>\n",
              "    </tr>\n",
              "    <tr>\n",
              "      <th>3</th>\n",
              "      <td>11.763047</td>\n",
              "      <td>88426</td>\n",
              "      <td>7</td>\n",
              "      <td>163.983794</td>\n",
              "      <td>0.071733</td>\n",
              "    </tr>\n",
              "    <tr>\n",
              "      <th>4</th>\n",
              "      <td>10.088181</td>\n",
              "      <td>221750</td>\n",
              "      <td>7</td>\n",
              "      <td>163.983794</td>\n",
              "      <td>0.061519</td>\n",
              "    </tr>\n",
              "    <tr>\n",
              "      <th>...</th>\n",
              "      <td>...</td>\n",
              "      <td>...</td>\n",
              "      <td>...</td>\n",
              "      <td>...</td>\n",
              "      <td>...</td>\n",
              "    </tr>\n",
              "    <tr>\n",
              "      <th>339405</th>\n",
              "      <td>6.736089</td>\n",
              "      <td>49534</td>\n",
              "      <td>55648</td>\n",
              "      <td>191.613717</td>\n",
              "      <td>0.035155</td>\n",
              "    </tr>\n",
              "    <tr>\n",
              "      <th>339406</th>\n",
              "      <td>6.629133</td>\n",
              "      <td>222265</td>\n",
              "      <td>55648</td>\n",
              "      <td>191.613717</td>\n",
              "      <td>0.034596</td>\n",
              "    </tr>\n",
              "    <tr>\n",
              "      <th>339407</th>\n",
              "      <td>6.265465</td>\n",
              "      <td>50164</td>\n",
              "      <td>55648</td>\n",
              "      <td>191.613717</td>\n",
              "      <td>0.032698</td>\n",
              "    </tr>\n",
              "    <tr>\n",
              "      <th>339408</th>\n",
              "      <td>5.501605</td>\n",
              "      <td>95122</td>\n",
              "      <td>55648</td>\n",
              "      <td>191.613717</td>\n",
              "      <td>0.028712</td>\n",
              "    </tr>\n",
              "    <tr>\n",
              "      <th>339409</th>\n",
              "      <td>5.408052</td>\n",
              "      <td>19273</td>\n",
              "      <td>55648</td>\n",
              "      <td>191.613717</td>\n",
              "      <td>0.028224</td>\n",
              "    </tr>\n",
              "  </tbody>\n",
              "</table>\n",
              "<p>339410 rows × 5 columns</p>\n",
              "</div>"
            ],
            "text/plain": [
              "        scaled_tfidf  skill_dst  job_src         sum  normalized_tfidf\n",
              "0          35.545516     126198        7  163.983794          0.216762\n",
              "1          14.444801     184892        7  163.983794          0.088087\n",
              "2          13.682348     115677        7  163.983794          0.083437\n",
              "3          11.763047      88426        7  163.983794          0.071733\n",
              "4          10.088181     221750        7  163.983794          0.061519\n",
              "...              ...        ...      ...         ...               ...\n",
              "339405      6.736089      49534    55648  191.613717          0.035155\n",
              "339406      6.629133     222265    55648  191.613717          0.034596\n",
              "339407      6.265465      50164    55648  191.613717          0.032698\n",
              "339408      5.501605      95122    55648  191.613717          0.028712\n",
              "339409      5.408052      19273    55648  191.613717          0.028224\n",
              "\n",
              "[339410 rows x 5 columns]"
            ]
          },
          "execution_count": 173,
          "metadata": {},
          "output_type": "execute_result"
        }
      ],
      "source": [
        "skill_job_edges"
      ]
    },
    {
      "cell_type": "code",
      "execution_count": 71,
      "metadata": {
        "id": "8Yfi1fRd9udY"
      },
      "outputs": [],
      "source": [
        "if colab:\n",
        "    onet_alttitles = pd.read_csv(colab_path+'/content/neo4jgraph/onet_alt_titles_unique.csv')\n",
        "else:\n",
        "    onet_alttitles = pd.read_csv('neo4jgraph/onet_alt_titles_unique.csv')\n",
        "del onet_alttitles['Unnamed: 0']"
      ]
    },
    {
      "cell_type": "code",
      "execution_count": 72,
      "metadata": {
        "id": "8FgE8nyo9udY"
      },
      "outputs": [],
      "source": [
        "onet_alttitle_str_mapping = {}\n",
        "for i,row in onet_alttitles.iterrows():\n",
        "    onet_alttitle_str_mapping[row['index']] = row['Alternate Title']"
      ]
    },
    {
      "cell_type": "code",
      "execution_count": 73,
      "metadata": {
        "id": "E1_J7gV59udY"
      },
      "outputs": [],
      "source": [
        "from sentence_transformers import SentenceTransformer, util\n",
        "embedder = SentenceTransformer('all-MiniLM-L6-v2')\n"
      ]
    },
    {
      "cell_type": "code",
      "execution_count": 74,
      "metadata": {
        "id": "1yTzdBoU9udZ"
      },
      "outputs": [],
      "source": [
        "# create alttitle sbert embeddings to get pca dim\n",
        "\n",
        "alttitle_sbert_embeddings = embedder.encode(list(onet_alttitle_str_mapping.values()), convert_to_tensor=False, device='cuda')\n",
        "#alttitle_sbert_indices = [k for k,v in temp]\n",
        "#corpus_embeddings = util.normalize_embeddings(corpus_embeddings)"
      ]
    },
    {
      "cell_type": "code",
      "execution_count": 75,
      "metadata": {
        "id": "de19o3FI9udZ"
      },
      "outputs": [
        {
          "data": {
            "text/plain": [
              "0.99999994"
            ]
          },
          "execution_count": 75,
          "metadata": {},
          "output_type": "execute_result"
        }
      ],
      "source": [
        "import numpy as np\n",
        "v = alttitle_sbert_embeddings[0]\n",
        "np.matmul(v.T,v)"
      ]
    },
    {
      "cell_type": "code",
      "execution_count": 76,
      "metadata": {
        "id": "kQsE8smF9udZ"
      },
      "outputs": [],
      "source": [
        "skill_sbert_embeddings = embedder.encode(list(skillmapping.keys()), convert_to_tensor=False, device='cuda')"
      ]
    },
    {
      "cell_type": "code",
      "execution_count": 77,
      "metadata": {
        "id": "yAT18fhw9udZ"
      },
      "outputs": [],
      "source": [
        "\n",
        "from sklearn.decomposition import PCA\n",
        "X = np.concatenate([alttitle_sbert_embeddings,skill_sbert_embeddings])\n",
        "\n",
        "# print('Original:',X.shape[1])\n",
        "# for variance_retained in [0.99,0.95,0.9,0.8,0.75,0.7]:\n",
        "#     pca = PCA(n_components=variance_retained)\n",
        "#     pca.fit(X)\n",
        "#     n_components_retained = pca.n_components_\n",
        "#     print(n_components_retained,' components retained', variance_retained, ' variance retained')"
      ]
    },
    {
      "cell_type": "code",
      "execution_count": 78,
      "metadata": {
        "id": "vK1p6Rf-9udZ"
      },
      "outputs": [],
      "source": [
        "# choose 128\n",
        "pca = PCA(n_components=128)\n",
        "pca.fit(X)\n",
        "\n",
        "skill_sbert_embeddings = pca.transform(embedder.encode(skill_nodes['skill'].tolist(), convert_to_numpy=True, device='cuda'))\n",
        "job_sbert_embeddings = pca.transform(embedder.encode(job_nodes['Alternate Title'].tolist(), convert_to_numpy=True, device='cuda'))"
      ]
    },
    {
      "cell_type": "code",
      "execution_count": 79,
      "metadata": {
        "id": "_vD1fRkf9udZ"
      },
      "outputs": [],
      "source": [
        "# add job-job edges, dataset see https://www.onetcenter.org/dictionary/26.3/excel/related_occupations.html\n",
        "job_job_edges = pd.read_csv(colab_path+'neo4jgraph/onet_related_occupations.csv')"
      ]
    },
    {
      "cell_type": "code",
      "execution_count": 80,
      "metadata": {
        "id": "hMsTH1Sx9udZ"
      },
      "outputs": [
        {
          "data": {
            "text/html": [
              "<div>\n",
              "<style scoped>\n",
              "    .dataframe tbody tr th:only-of-type {\n",
              "        vertical-align: middle;\n",
              "    }\n",
              "\n",
              "    .dataframe tbody tr th {\n",
              "        vertical-align: top;\n",
              "    }\n",
              "\n",
              "    .dataframe thead th {\n",
              "        text-align: right;\n",
              "    }\n",
              "</style>\n",
              "<table border=\"1\" class=\"dataframe\">\n",
              "  <thead>\n",
              "    <tr style=\"text-align: right;\">\n",
              "      <th></th>\n",
              "      <th>O*NET-SOC Code</th>\n",
              "      <th>Title</th>\n",
              "      <th>Related O*NET-SOC Code</th>\n",
              "      <th>Related Title</th>\n",
              "      <th>Relatedness Tier</th>\n",
              "      <th>index_x</th>\n",
              "      <th>index_y</th>\n",
              "    </tr>\n",
              "  </thead>\n",
              "  <tbody>\n",
              "    <tr>\n",
              "      <th>0</th>\n",
              "      <td>11-1011.00</td>\n",
              "      <td>Chief Executives</td>\n",
              "      <td>11-1021.00</td>\n",
              "      <td>General and Operations Managers</td>\n",
              "      <td>Primary-Short</td>\n",
              "      <td>54641</td>\n",
              "      <td>54643</td>\n",
              "    </tr>\n",
              "    <tr>\n",
              "      <th>1</th>\n",
              "      <td>11-1031.00</td>\n",
              "      <td>Legislators</td>\n",
              "      <td>11-1021.00</td>\n",
              "      <td>General and Operations Managers</td>\n",
              "      <td>Supplemental</td>\n",
              "      <td>54644</td>\n",
              "      <td>54643</td>\n",
              "    </tr>\n",
              "    <tr>\n",
              "      <th>2</th>\n",
              "      <td>11-2021.00</td>\n",
              "      <td>Marketing Managers</td>\n",
              "      <td>11-1021.00</td>\n",
              "      <td>General and Operations Managers</td>\n",
              "      <td>Supplemental</td>\n",
              "      <td>54646</td>\n",
              "      <td>54643</td>\n",
              "    </tr>\n",
              "    <tr>\n",
              "      <th>3</th>\n",
              "      <td>11-2022.00</td>\n",
              "      <td>Sales Managers</td>\n",
              "      <td>11-1021.00</td>\n",
              "      <td>General and Operations Managers</td>\n",
              "      <td>Primary-Long</td>\n",
              "      <td>54647</td>\n",
              "      <td>54643</td>\n",
              "    </tr>\n",
              "    <tr>\n",
              "      <th>4</th>\n",
              "      <td>11-2032.00</td>\n",
              "      <td>Public Relations Managers</td>\n",
              "      <td>11-1021.00</td>\n",
              "      <td>General and Operations Managers</td>\n",
              "      <td>Primary-Long</td>\n",
              "      <td>54648</td>\n",
              "      <td>54643</td>\n",
              "    </tr>\n",
              "    <tr>\n",
              "      <th>...</th>\n",
              "      <td>...</td>\n",
              "      <td>...</td>\n",
              "      <td>...</td>\n",
              "      <td>...</td>\n",
              "      <td>...</td>\n",
              "      <td>...</td>\n",
              "      <td>...</td>\n",
              "    </tr>\n",
              "    <tr>\n",
              "      <th>18379</th>\n",
              "      <td>53-2022.00</td>\n",
              "      <td>Airfield Operations Specialists</td>\n",
              "      <td>53-2011.00</td>\n",
              "      <td>Airline Pilots, Copilots, and Flight Engineers</td>\n",
              "      <td>Primary-Short</td>\n",
              "      <td>55590</td>\n",
              "      <td>55587</td>\n",
              "    </tr>\n",
              "    <tr>\n",
              "      <th>18380</th>\n",
              "      <td>53-2031.00</td>\n",
              "      <td>Flight Attendants</td>\n",
              "      <td>53-2011.00</td>\n",
              "      <td>Airline Pilots, Copilots, and Flight Engineers</td>\n",
              "      <td>Supplemental</td>\n",
              "      <td>55591</td>\n",
              "      <td>55587</td>\n",
              "    </tr>\n",
              "    <tr>\n",
              "      <th>18381</th>\n",
              "      <td>53-5021.00</td>\n",
              "      <td>Captains, Mates, and Pilots of Water Vessels</td>\n",
              "      <td>53-2011.00</td>\n",
              "      <td>Airline Pilots, Copilots, and Flight Engineers</td>\n",
              "      <td>Primary-Short</td>\n",
              "      <td>55608</td>\n",
              "      <td>55587</td>\n",
              "    </tr>\n",
              "    <tr>\n",
              "      <th>18382</th>\n",
              "      <td>53-5022.00</td>\n",
              "      <td>Motorboat Operators</td>\n",
              "      <td>53-2011.00</td>\n",
              "      <td>Airline Pilots, Copilots, and Flight Engineers</td>\n",
              "      <td>Supplemental</td>\n",
              "      <td>55609</td>\n",
              "      <td>55587</td>\n",
              "    </tr>\n",
              "    <tr>\n",
              "      <th>18383</th>\n",
              "      <td>53-6032.00</td>\n",
              "      <td>Aircraft Service Attendants</td>\n",
              "      <td>53-2011.00</td>\n",
              "      <td>Airline Pilots, Copilots, and Flight Engineers</td>\n",
              "      <td>Supplemental</td>\n",
              "      <td>55614</td>\n",
              "      <td>55587</td>\n",
              "    </tr>\n",
              "  </tbody>\n",
              "</table>\n",
              "<p>18384 rows × 7 columns</p>\n",
              "</div>"
            ],
            "text/plain": [
              "      O*NET-SOC Code                                         Title  \\\n",
              "0         11-1011.00                              Chief Executives   \n",
              "1         11-1031.00                                   Legislators   \n",
              "2         11-2021.00                            Marketing Managers   \n",
              "3         11-2022.00                                Sales Managers   \n",
              "4         11-2032.00                     Public Relations Managers   \n",
              "...              ...                                           ...   \n",
              "18379     53-2022.00               Airfield Operations Specialists   \n",
              "18380     53-2031.00                             Flight Attendants   \n",
              "18381     53-5021.00  Captains, Mates, and Pilots of Water Vessels   \n",
              "18382     53-5022.00                           Motorboat Operators   \n",
              "18383     53-6032.00                   Aircraft Service Attendants   \n",
              "\n",
              "      Related O*NET-SOC Code                                   Related Title  \\\n",
              "0                 11-1021.00                 General and Operations Managers   \n",
              "1                 11-1021.00                 General and Operations Managers   \n",
              "2                 11-1021.00                 General and Operations Managers   \n",
              "3                 11-1021.00                 General and Operations Managers   \n",
              "4                 11-1021.00                 General and Operations Managers   \n",
              "...                      ...                                             ...   \n",
              "18379             53-2011.00  Airline Pilots, Copilots, and Flight Engineers   \n",
              "18380             53-2011.00  Airline Pilots, Copilots, and Flight Engineers   \n",
              "18381             53-2011.00  Airline Pilots, Copilots, and Flight Engineers   \n",
              "18382             53-2011.00  Airline Pilots, Copilots, and Flight Engineers   \n",
              "18383             53-2011.00  Airline Pilots, Copilots, and Flight Engineers   \n",
              "\n",
              "      Relatedness Tier  index_x  index_y  \n",
              "0        Primary-Short    54641    54643  \n",
              "1         Supplemental    54644    54643  \n",
              "2         Supplemental    54646    54643  \n",
              "3         Primary-Long    54647    54643  \n",
              "4         Primary-Long    54648    54643  \n",
              "...                ...      ...      ...  \n",
              "18379    Primary-Short    55590    55587  \n",
              "18380     Supplemental    55591    55587  \n",
              "18381    Primary-Short    55608    55587  \n",
              "18382     Supplemental    55609    55587  \n",
              "18383     Supplemental    55614    55587  \n",
              "\n",
              "[18384 rows x 7 columns]"
            ]
          },
          "execution_count": 80,
          "metadata": {},
          "output_type": "execute_result"
        }
      ],
      "source": [
        "job_job_edges"
      ]
    },
    {
      "cell_type": "code",
      "execution_count": 81,
      "metadata": {
        "id": "p1lR651a9uda"
      },
      "outputs": [],
      "source": [
        "job_job_edges['job_src'] = job_job_edges['index_x'].apply(lambda x: jobmapping[x])\n",
        "job_job_edges['job_dst'] = job_job_edges['index_y'].apply(lambda x: jobmapping[x])\n",
        "relatedness_weight = {\n",
        "    'Supplemental':1,\n",
        "    'Primary-Long':2,\n",
        "    'Primary-Short':4\n",
        "}\n",
        "job_job_edges['relatedness_weight'] = job_job_edges['Relatedness Tier'].apply(lambda x: relatedness_weight[x])"
      ]
    },
    {
      "cell_type": "code",
      "execution_count": 191,
      "metadata": {
        "id": "T1Wc7CIL9uda"
      },
      "outputs": [],
      "source": [
        "skill_skill_edges = pd.read_csv(colab_path+'neo4jgraph/skill_skill_edges.csv')\n"
      ]
    },
    {
      "cell_type": "code",
      "execution_count": 192,
      "metadata": {
        "id": "8qOHTGfL9uda"
      },
      "outputs": [],
      "source": [
        "#filter out potentially bad skills (which are not in our original skillmapping)\n",
        "skill_skill_edges = skill_skill_edges.loc[(skill_skill_edges.skill.isin(list(skillmapping.keys()))) & (skill_skill_edges.related_skill.isin(list(skillmapping.keys())))]"
      ]
    },
    {
      "cell_type": "code",
      "execution_count": 193,
      "metadata": {
        "id": "jQhTLGTV9uda"
      },
      "outputs": [],
      "source": [
        "skill_skill_edges['skill_src'] = skill_skill_edges['skill'].apply(lambda x: skillmapping[x])\n",
        "skill_skill_edges['skill_dst'] = skill_skill_edges['related_skill'].apply(lambda x: skillmapping[x])"
      ]
    },
    {
      "cell_type": "code",
      "execution_count": 194,
      "metadata": {},
      "outputs": [],
      "source": [
        "# only take largest 125 \"both directions\" (not ideal)\n",
        "skill_skill_edges =  skill_skill_edges.groupby('skill_src').apply(lambda group: group.nlargest(125,'cosine_sim_score')).reset_index(drop=True)\n",
        "skill_skill_edges =  skill_skill_edges.groupby('skill_dst').apply(lambda group: group.nlargest(125,'cosine_sim_score')).reset_index(drop=True)"
      ]
    },
    {
      "cell_type": "code",
      "execution_count": 214,
      "metadata": {
        "id": "La85Q2M59uda"
      },
      "outputs": [],
      "source": [
        "from torch_geometric.data import HeteroData\n",
        "\n",
        "\n",
        "data = HeteroData()\n",
        "data['Skill'].x = torch.tensor(skill_sbert_embeddings)\n",
        "data['Job'].x = torch.tensor(job_sbert_embeddings)\n",
        "\n",
        "data['Job','REQUIRES','Skill'].edge_index = torch.tensor(skill_job_edges[['job_src','skill_dst']].to_numpy().T)\n",
        "data['Skill','IS_SIMILAR_SKILL','Skill'].edge_index = torch.tensor(skill_skill_edges[['skill_src','skill_dst']].to_numpy().T)\n",
        "data['Job','IS_SIMILAR_JOB','Job'].edge_index = torch.tensor(job_job_edges[['job_src','job_dst']].to_numpy().T)\n",
        "\n",
        "\n",
        "data['Job','REQUIRES','Skill'].edge_weight = torch.tensor(skill_job_edges['scaled_tfidf'].to_numpy()).to(torch.float)\n",
        "data['Skill','IS_SIMILAR_SKILL','Skill'].edge_weight = torch.tensor(skill_skill_edges['cosine_sim_score'].to_numpy()).to(torch.float)\n",
        "data['Job','IS_SIMILAR_JOB','Job'].edge_weight = torch.tensor(job_job_edges['relatedness_weight'].to_numpy()).to(torch.float)\n"
      ]
    },
    {
      "cell_type": "code",
      "execution_count": null,
      "metadata": {},
      "outputs": [],
      "source": []
    },
    {
      "cell_type": "code",
      "execution_count": 86,
      "metadata": {},
      "outputs": [
        {
          "data": {
            "text/plain": [
              "torch.Size([55653, 128])"
            ]
          },
          "execution_count": 86,
          "metadata": {},
          "output_type": "execute_result"
        }
      ],
      "source": [
        "data['Job'].x.shape"
      ]
    },
    {
      "cell_type": "code",
      "execution_count": 184,
      "metadata": {},
      "outputs": [],
      "source": [
        "skill_skill_edges_temp = skill_skill_edges"
      ]
    },
    {
      "cell_type": "code",
      "execution_count": 185,
      "metadata": {},
      "outputs": [
        {
          "data": {
            "text/plain": [
              "(1273676, 7)"
            ]
          },
          "execution_count": 185,
          "metadata": {},
          "output_type": "execute_result"
        }
      ],
      "source": [
        "skill_skill_edges_temp.shape"
      ]
    },
    {
      "cell_type": "code",
      "execution_count": null,
      "metadata": {},
      "outputs": [],
      "source": []
    },
    {
      "cell_type": "code",
      "execution_count": 215,
      "metadata": {},
      "outputs": [
        {
          "name": "stdout",
          "output_type": "stream",
          "text": [
            "Jobs: 55653, actual Jobs used (in at least one edge): 16269\n",
            "Skills: 247830, actual Skills used (in at least one edge): 120329\n",
            "\n",
            "Following metrics only include Skills and Jobs with at least one edge:\n",
            "\n",
            "JRS edges: 630303\n",
            "Average JRS Job degree: 38.742576599121094, Skill: 5.238163471221924\n",
            "Median JRS Job degree: 25.0, Skill: 4.0\n",
            "Max JRS Job degree: 136.0, Skill: 125.0\n",
            "\n",
            "S_SIM_S edges: 1038536\n",
            "Average S_SIM_S degree: 17.261608123779297\n",
            "Median S_SIM_S degree: 5.0\n",
            "Max S_SIM_S degree: 250.0\n",
            "J_SIM_J edges: 18384\n",
            "Average J_SIM_J degree: 2.2600038051605225\n",
            "Median J_SIM_J degree: 37.0\n",
            "Max J_SIM_J degree: 126.0\n",
            "\n",
            "Average total degree: Job: 41.00258255004883\n",
            "Average total degree: Skill: 22.499771118164062\n"
          ]
        },
        {
          "data": {
            "image/png": "[encoded data removed]",
            "text/plain": [
              "<Figure size 640x480 with 1 Axes>"
            ]
          },
          "metadata": {},
          "output_type": "display_data"
        },
        {
          "data": {
            "image/png": "[encoded data removed]",
            "text/plain": [
              "<Figure size 640x480 with 1 Axes>"
            ]
          },
          "metadata": {},
          "output_type": "display_data"
        },
        {
          "data": {
            "image/png": "[encoded data removed]",
            "text/plain": [
              "<Figure size 640x480 with 1 Axes>"
            ]
          },
          "metadata": {},
          "output_type": "display_data"
        },
        {
          "data": {
            "image/png": "[encoded data removed]",
            "text/plain": [
              "<Figure size 640x480 with 1 Axes>"
            ]
          },
          "metadata": {},
          "output_type": "display_data"
        }
      ],
      "source": [
        "# Look at node degree statistics\n",
        "\n",
        "from torch_geometric.utils import to_dense_adj, degree\n",
        "\n",
        "\n",
        "\n",
        "job_n = data['Job'].x.shape[0]\n",
        "skill_n = data['Skill'].x.shape[0]\n",
        "\n",
        "JRS_J = degree(data['Job','REQUIRES','Skill'].edge_index[0], num_nodes=job_n)\n",
        "JRS_S = degree(data['Job','REQUIRES','Skill'].edge_index[1], num_nodes=skill_n)\n",
        "S_SIM_S = degree(data['Skill','IS_SIMILAR_SKILL','Skill'].edge_index.flatten(), num_nodes=skill_n)\n",
        "J_SIM_J = degree(data['Job','IS_SIMILAR_JOB','Job'].edge_index.flatten(), num_nodes=job_n)\n",
        "\n",
        "actual_skill_n = torch.nonzero(JRS_S+S_SIM_S).shape[0] # only skills which have any edge at all\n",
        "actual_job_n = torch.nonzero(JRS_J+J_SIM_J).shape[0] # only job which have any edge at all\n",
        "print(f'Jobs: {job_n}, actual Jobs used (in at least one edge): {actual_job_n}')\n",
        "print(f'Skills: {skill_n}, actual Skills used (in at least one edge): {actual_skill_n}')\n",
        "\n",
        "print('\\nFollowing metrics only include Skills and Jobs with at least one edge:\\n')\n",
        "\n",
        "print(f\"JRS edges: {data['Job','REQUIRES','Skill'].edge_index.shape[1]}\")\n",
        "print(f'Average JRS Job degree: {torch.sum(JRS_J)/actual_job_n}, Skill: {torch.sum(JRS_S)/actual_skill_n}')\n",
        "print(f'Median JRS Job degree: {torch.median(JRS_J[JRS_J!=0])}, Skill: {torch.median(JRS_S[JRS_S!=0])}')\n",
        "print(f'Max JRS Job degree: {torch.max(JRS_J)}, Skill: {torch.max(JRS_S)}\\n')\n",
        "\n",
        "print(f\"S_SIM_S edges: {data['Skill','IS_SIMILAR_SKILL','Skill'].edge_index.shape[1]}\")\n",
        "print(f'Average S_SIM_S degree: {torch.sum(S_SIM_S)/actual_skill_n}')\n",
        "print(f'Median S_SIM_S degree: {torch.median(S_SIM_S[S_SIM_S!=0])}')\n",
        "print(f'Max S_SIM_S degree: {torch.max(S_SIM_S)}')\n",
        "\n",
        "print(f'J_SIM_J edges: {data[\"Job\", \"IS_SIMILAR_JOB\", \"Job\"].edge_index.shape[1]}')\n",
        "print(f'Average J_SIM_J degree: {torch.sum(J_SIM_J)/actual_job_n}')\n",
        "print(f'Median J_SIM_J degree: {torch.median(J_SIM_J[J_SIM_J!=0])}')\n",
        "print(f'Max J_SIM_J degree: {torch.max(J_SIM_J)}\\n')\n",
        "\n",
        "print(f'Average total degree: Job: {(torch.sum(JRS_J)+torch.sum(J_SIM_J))/actual_job_n}')\n",
        "print(f'Average total degree: Skill: {(torch.sum(JRS_S)+torch.sum(S_SIM_S))/actual_skill_n}')\n",
        "\n",
        "import matplotlib.pyplot as plt\n",
        "plt.title('JRS Job degree distribution')\n",
        "plt.hist(JRS_J[JRS_J!=0], bins=10);\n",
        "plt.show()\n",
        "plt.title('JRS Skill degree distribution')\n",
        "plt.hist(JRS_S[JRS_S!=0], bins=100);\n",
        "plt.show()\n",
        "plt.title('S_SIM_S Skill degree')\n",
        "plt.hist(S_SIM_S[S_SIM_S!=0], bins=100);\n",
        "plt.show()\n",
        "plt.title('J_SIM_J Job degree')\n",
        "plt.hist(J_SIM_J[J_SIM_J!=0], bins=100);\n",
        "plt.show()"
      ]
    },
    {
      "cell_type": "code",
      "execution_count": 216,
      "metadata": {},
      "outputs": [],
      "source": [
        "# Add features:\n",
        "# - node degree\n",
        "# - normalize edge weights by node degree\n",
        "# - (triangle count)\n",
        "\n",
        "\n",
        "# add node degree statistics:\n",
        "\n",
        "job_degrees = torch.cat((JRS_J.reshape(-1,1) / 125, J_SIM_J.reshape(-1,1)/ 125), dim=1) # divide by approx. max degrees\n",
        "skill_degrees = torch.cat((JRS_S.reshape(-1,1) / 125, S_SIM_S.reshape(-1,1)/ 125), dim=1) # divide by approx. max degrees\n",
        "\n",
        "data['Job'].x = torch.cat((data['Job'].x, job_degrees), dim=1)\n",
        "data['Skill'].x = torch.cat((data['Skill'].x, skill_degrees), dim=1)\n",
        "\n",
        "# normalize edge weights by node degree"
      ]
    },
    {
      "cell_type": "code",
      "execution_count": 200,
      "metadata": {},
      "outputs": [],
      "source": [
        "# adj_matmul\n",
        "# row1 to rowS * full_matrix\n",
        "# rowS+1 to rowT * full_matrix\n",
        "# ....\n",
        "\n",
        "# def blockwise_sparse_square_mmul(adj_matrix, blocks=None):\n",
        "#     row_blocks = []\n",
        "    \n",
        "#     if blocks is None:\n",
        "#         row_block_size = 10000\n",
        "#         rows = adj_matrix.size(0)\n",
        "#         for block in tqdm(range(0,rows, row_block_size), desc='blockwise sparse matrix-multiplication'):\n",
        "#             start = block\n",
        "#             end = min(block+row_block_size, rows)\n",
        "#             row_blocks.append(adj_matrix[start:end].spspmm(adj_matrix))\n",
        "#     else:\n",
        "#         for block in tqdm(blocks, desc='blockwise sparse matrix-multiplication'):\n",
        "#             row_blocks.append(block.spspmm(adj_matrix))\n",
        "\n",
        "#     return row_blocks\n",
        "\n",
        "\n",
        "# def blockwise_sparse_get_diag(blocks):\n",
        "#     diags = []\n",
        "#     for block in tqdm(blocks, desc='get blockwise sparse matrix diagonal'):\n",
        "#         diags.append(get_diag(block))\n",
        "    \n",
        "#     return torch.cat(diags, dim=0)\n",
        "\n",
        "def triangle_count(adj_matrix:SparseTensor):\n",
        "    # adj_matmul, blockwise, so kernel does not crash\n",
        "    # diag1((row1 to rowS) * full_matrix * full_matrix)\n",
        "    # diag2((rowS+1 to rowR) * full_matrix * full_matrix)\n",
        "    # ....\n",
        "    diags = []\n",
        "    \n",
        "    row_block_size = 10000\n",
        "    rows = adj_matrix.size(0)\n",
        "    with torch.no_grad():\n",
        "        for block in tqdm(range(0,rows, row_block_size), desc='blockwise sparse matrix-multiplication'):\n",
        "            start = block\n",
        "            end = min(block+row_block_size, rows)\n",
        "            adj_pow_3_block = adj_matrix[start:end].spspmm(adj_matrix).spspmm(adj_matrix)\n",
        "            diag_block = get_diag(adj_pow_3_block[:,start:])\n",
        "            diags.append(diag_block)\n",
        "            # diag = torch.eye(end)\n",
        "            # indices_i, indices_j = diag.nonzero().unbind(dim=1)\n",
        "            \n",
        "            # A = adj_pow_2_block[indices_i]\n",
        "            # B = adj_matrix[:, indices_j]\n",
        "            # print(A, t(B))\n",
        "            # print(type(B), type(A))\n",
        "            # print(A.size(0), A.size(1), B.size(0), B.size(1))\n",
        "            #C = A * t(B)\n",
        "            #C = reduction(C, dim=1)\n",
        "            \n",
        "           \n",
        "            #print(C)\n",
        "            \n",
        "            \n",
        "            \n",
        "    \n",
        "    return 1/2 * torch.cat(diags, dim=0)\n",
        "        \n",
        "from torch_geometric.utils import to_undirected\n",
        "from torch_sparse import SparseTensor\n",
        "from torch_sparse.diag import get_diag\n",
        "\n",
        "def undirected_triangle_counts(edge_index, max_num_nodes): \n",
        "    \"\"\"Get triangles **per node**, to get count for whole graph, divide by 3\"\"\"\n",
        "    ud = to_undirected(edge_index)\n",
        "    \n",
        "    adj_matrix = SparseTensor(row=ud[0], col=ud[1], value=torch.ones(ud[1].shape[0]), sparse_sizes=(max_num_nodes, max_num_nodes))\n",
        "    #adj_matrix = torch.sparse_coo_tensor(edge_index, torch.ones(edge_index.shape[1]), (max_num_nodes, max_num_nodes))\n",
        "    #adj_matrix = torch.sparse_csr_tensor(ud[0], ud[1], values=torch.ones(ud[1].shape[0]), dtype=torch.float32).to_sparse_coo()\n",
        "    triangles = triangle_count(adj_matrix) \n",
        "    return triangles"
      ]
    },
    {
      "cell_type": "code",
      "execution_count": 90,
      "metadata": {},
      "outputs": [
        {
          "name": "stderr",
          "output_type": "stream",
          "text": [
            "blockwise sparse matrix-multiplication: 100%|██████████| 2/2 [00:00<00:00, 387.16it/s]"
          ]
        },
        {
          "name": "stdout",
          "output_type": "stream",
          "text": [
            "tensor([[8., 8., 8., 8., 8.],\n",
            "        [8., 4., 8., 4., 8.],\n",
            "        [8., 8., 4., 8., 4.]])\n",
            "tensor([[8., 4., 8., 4., 8.],\n",
            "        [8., 8., 4., 8., 4.]])\n"
          ]
        },
        {
          "name": "stderr",
          "output_type": "stream",
          "text": [
            "\n"
          ]
        },
        {
          "data": {
            "text/plain": [
              "tensor([4., 2., 2., 2., 2.])"
            ]
          },
          "execution_count": 90,
          "metadata": {},
          "output_type": "execute_result"
        }
      ],
      "source": [
        "# from torch_sparse import SparseTensor\n",
        "# adj = torch.tensor(\n",
        "#     [\n",
        "#         [0,1,1,1,1],\n",
        "#         [1,0,1,0,1],\n",
        "#         [1,1,0,1,0],\n",
        "#         [1,0,1,0,1],\n",
        "#         [1,1,0,1,0]\n",
        "#     ]\n",
        "# ).to(torch.float)\n",
        "# X = SparseTensor.from_dense(adj)\n",
        "# triangles = triangle_count(X)\n",
        "# triangles\n",
        "#adj_matrix = SparseTensor(row=ud[0], col=ud[1], value=torch.ones(ud[1].shape[0]), sparse_sizes=(max_num_nodes, max_num_nodes))"
      ]
    },
    {
      "cell_type": "code",
      "execution_count": 201,
      "metadata": {},
      "outputs": [
        {
          "name": "stderr",
          "output_type": "stream",
          "text": [
            "blockwise sparse matrix-multiplication: 100%|██████████| 31/31 [08:24<00:00, 16.28s/it]\n"
          ]
        }
      ],
      "source": [
        "homogeneous_data = data.to_homogeneous()\n",
        "homogenous_triangles = undirected_triangle_counts(homogeneous_data.edge_index, homogeneous_data.x.shape[0])\n",
        "# max triangles: 9000\n"
      ]
    },
    {
      "cell_type": "code",
      "execution_count": 232,
      "metadata": {},
      "outputs": [],
      "source": [
        "Job_homogeneous_triangles = homogenous_triangles[homogeneous_data.node_type == 1]\n",
        "Skill_homogeneous_triangles = homogenous_triangles[homogeneous_data.node_type != 1]"
      ]
    },
    {
      "cell_type": "code",
      "execution_count": 242,
      "metadata": {},
      "outputs": [
        {
          "name": "stdout",
          "output_type": "stream",
          "text": [
            "Median triangles of skill nodes: 3.0, mean: 119.4788818359375, max: 9285.0, min: 0.0\n",
            "Median triangles of job nodes: 6.0, mean: 35.88124465942383, max: 1320.0, min: 0.0\n"
          ]
        }
      ],
      "source": [
        "actual_s_triangles = Skill_homogeneous_triangles[(JRS_S+S_SIM_S)!=0] \n",
        "actual_j_triangles = Job_homogeneous_triangles[(JRS_J+J_SIM_J)!=0] \n",
        "\n",
        "print(f'Median triangles of skill nodes: {actual_s_triangles.median()}, mean: {actual_s_triangles.mean()}, max: {actual_s_triangles.max()}, min: {actual_s_triangles.min()}')\n",
        "print(f'Median triangles of job nodes: {actual_j_triangles.median()}, mean: {actual_j_triangles.mean()}, max: {actual_j_triangles.max()}, min: {actual_s_triangles.min()}')"
      ]
    },
    {
      "cell_type": "code",
      "execution_count": 245,
      "metadata": {},
      "outputs": [
        {
          "data": {
            "image/png": "[encoded data removed]",
            "text/plain": [
              "<Figure size 640x480 with 1 Axes>"
            ]
          },
          "metadata": {},
          "output_type": "display_data"
        },
        {
          "data": {
            "image/png": "[encoded data removed]",
            "text/plain": [
              "<Figure size 640x480 with 1 Axes>"
            ]
          },
          "metadata": {},
          "output_type": "display_data"
        }
      ],
      "source": [
        "plt.title('Skill triangles')\n",
        "plt.hist(actual_s_triangles.numpy(), bins=40)\n",
        "plt.show()\n",
        "plt.title('Job triangles')\n",
        "plt.hist(actual_j_triangles.numpy(), bins=40)\n",
        "plt.show()"
      ]
    },
    {
      "cell_type": "code",
      "execution_count": 246,
      "metadata": {},
      "outputs": [
        {
          "name": "stderr",
          "output_type": "stream",
          "text": [
            "blockwise sparse matrix-multiplication: 100%|██████████| 6/6 [00:00<00:00, 48.08it/s]\n",
            "blockwise sparse matrix-multiplication: 100%|██████████| 25/25 [02:55<00:00,  7.00s/it]\n"
          ]
        }
      ],
      "source": [
        "J_SIM_J_triangles = undirected_triangle_counts(data['Job','IS_SIMILAR_JOB', 'Job'].edge_index, data['Job'].x.shape[0])\n",
        "S_SIM_S_triangles = undirected_triangle_counts(data['Skill','IS_SIMILAR_SKILL', 'Skill'].edge_index, data['Skill'].x.shape[0])"
      ]
    },
    {
      "cell_type": "code",
      "execution_count": 248,
      "metadata": {},
      "outputs": [
        {
          "name": "stdout",
          "output_type": "stream",
          "text": [
            "Median triangles of skill nodes for skill-skill edges: 2.0, mean: 113.0720443725586, max: 7138.0, min: 0.0\n",
            "Median triangles of job nodes for job-job edges: 0.0, mean: 9.882168769836426, max: 1284.0, min: 0.0\n"
          ]
        }
      ],
      "source": [
        "actual_s_triangles = S_SIM_S_triangles[(JRS_S+S_SIM_S)!=0] \n",
        "actual_j_triangles = J_SIM_J_triangles[(JRS_J+J_SIM_J)!=0] \n",
        "\n",
        "print(f'Median triangles of skill nodes for skill-skill edges: {actual_s_triangles.median()}, mean: {actual_s_triangles.mean()}, max: {actual_s_triangles.max()}, min: {actual_s_triangles.min()}')\n",
        "print(f'Median triangles of job nodes for job-job edges: {actual_j_triangles.median()}, mean: {actual_j_triangles.mean()}, max: {actual_j_triangles.max()}, min: {actual_s_triangles.min()}')"
      ]
    },
    {
      "cell_type": "code",
      "execution_count": 254,
      "metadata": {},
      "outputs": [],
      "source": [
        "data['Skill'].x = torch.cat((data['Skill'].x, Skill_homogeneous_triangles.reshape(-1,1)/9285), dim=1) # normalize by max 9285.0\n",
        "data['Job'].x = torch.cat((data['Job'].x, Job_homogeneous_triangles.reshape(-1,1)/1320), dim=1) # normalize by max 1320\n",
        "\n",
        "data['Skill'].x = torch.cat((data['Skill'].x, S_SIM_S_triangles.reshape(-1,1)/9285), dim=1) # normalize by max 9285.0\n",
        "data['Job'].x = torch.cat((data['Job'].x, J_SIM_J_triangles.reshape(-1,1)/1320), dim=1) # normalize by max 1320"
      ]
    },
    {
      "cell_type": "code",
      "execution_count": 258,
      "metadata": {
        "id": "GZAF_riX9uda"
      },
      "outputs": [
        {
          "data": {
            "text/plain": [
              "(True, False)"
            ]
          },
          "execution_count": 258,
          "metadata": {},
          "output_type": "execute_result"
        }
      ],
      "source": [
        "data.has_isolated_nodes(), data.has_self_loops()"
      ]
    },
    {
      "cell_type": "code",
      "execution_count": null,
      "metadata": {
        "id": "u5MjvjO09uda"
      },
      "outputs": [],
      "source": [
        "#data = data.to(device)"
      ]
    },
    {
      "cell_type": "code",
      "execution_count": null,
      "metadata": {
        "id": "aMAfCM0u9uda"
      },
      "outputs": [],
      "source": [
        "import torch_geometric.transforms as T\n",
        "\n",
        "transform = T.Compose([\n",
        "       T.RemoveIsolatedNodes(),\n",
        "       T.RemoveDuplicatedEdges(),\n",
        "       T.ToUndirected(merge=False) # don't merge reversed edges into the original edge type\n",
        "])\n",
        "\n",
        "data = transform(data)\n"
      ]
    },
    {
      "cell_type": "code",
      "execution_count": null,
      "metadata": {},
      "outputs": [],
      "source": [
        "torch.save(data.to_dict(), path)\n",
        "data = Data.from_dict(torch.load(path))"
      ]
    },
    {
      "cell_type": "code",
      "execution_count": 1,
      "metadata": {},
      "outputs": [
        {
          "name": "stderr",
          "output_type": "stream",
          "text": [
            "/home/amos/mambaforge/envs/pyg/lib/python3.10/site-packages/tqdm/auto.py:21: TqdmWarning: IProgress not found. Please update jupyter and ipywidgets. See https://ipywidgets.readthedocs.io/en/stable/user_install.html\n",
            "  from .autonotebook import tqdm as notebook_tqdm\n"
          ]
        },
        {
          "name": "stdout",
          "output_type": "stream",
          "text": [
            "loading saved heterodata object\n"
          ]
        }
      ],
      "source": [
        "import os\n",
        "import torch\n",
        "from torch_geometric.data import HeteroData\n",
        "\n",
        "\n",
        "filename = 'Job_Skill_HeteroData_v2.pt'\n",
        "if os.path.exists('./'+filename):\n",
        "    data = HeteroData.from_dict(torch.load('./'+filename))\n",
        "    print('loading saved heterodata object')\n",
        "else:\n",
        "    torch.save(data.to_dict(), './'+filename)"
      ]
    },
    {
      "cell_type": "code",
      "execution_count": 91,
      "metadata": {
        "id": "Yk4D68v69udb"
      },
      "outputs": [],
      "source": [
        "from torch_geometric import seed_everything\n",
        "import torch_geometric.transforms as T\n",
        "\n",
        "\n",
        "transform = T.RandomLinkSplit(\n",
        "    is_undirected=True,\n",
        "    edge_types=[\n",
        "        ('Job', 'REQUIRES', 'Skill'),\n",
        "        ('Skill', 'IS_SIMILAR_SKILL', 'Skill'),\n",
        "        ('Job', 'IS_SIMILAR_JOB', 'Job')\n",
        "        ],\n",
        "    rev_edge_types=[\n",
        "        ('Skill', 'rev_REQUIRES', 'Job'),\n",
        "        ('Skill', 'rev_IS_SIMILAR_SKILL', 'Skill'),\n",
        "        ('Job', 'rev_IS_SIMILAR_JOB', 'Job')\n",
        "    ],\n",
        "    num_val=0.005,\n",
        "    num_test=0.01,\n",
        "    add_negative_train_samples=False, # only adds neg samples for val and test, neg train are added by LinkNeighborLoader. This means for each train batch, negs. are different, for val and train they stay the same\n",
        "    neg_sampling_ratio=1.0,\n",
        "    disjoint_train_ratio=0, #  training edges are shared for message passing and supervision\n",
        "    \n",
        "\n",
        "    )\n",
        "\n",
        "seed_everything(4)\n",
        "train_data, val_data, test_data = transform(data)"
      ]
    },
    {
      "cell_type": "code",
      "execution_count": 4,
      "metadata": {
        "id": "zG7w63019udb"
      },
      "outputs": [],
      "source": [
        "# from torch_geometric.loader import NeighborLoader\n",
        "\n",
        "# train_loader = NeighborLoader(\n",
        "#     train_data,\n",
        "#     # Sample 15 neighbors for each node and each edge type for 2 iterations:\n",
        "#     num_neighbors={\n",
        "#          ('Job', 'REQUIRES', 'Skill'):[1000,10], # [add x neighbors, add y neighbors for every x neighbor]\n",
        "#          ('Skill', 'rev_REQUIRES', 'Job'):[10,0],\n",
        "#         ('Skill', 'IS_SIMILAR_SKILL', 'Skill'):[10,10],\n",
        "#         ('Skill', 'rev_IS_SIMILAR_SKILL', 'Skill'):[0,0],\n",
        "#         ('Job', 'IS_SIMILAR_JOB', 'Job'):[0,20], # can't sample job-job in first iteration\n",
        "#         ('Job', 'rev_IS_SIMILAR_JOB', 'Job'):[0,20],\n",
        "#          },\n",
        "#     # num_neighbors = [10,10],\n",
        "#     # Use a batch size of 128 for sampling training nodes of type \"paper\":\n",
        "#     batch_size=200,\n",
        "#     input_nodes='Job', #if not set, we consider all nodes\n",
        "#     shuffle=True,\n",
        "#     drop_last=True,\n",
        "#     num_workers=4,\n",
        "#     directed=True,  # contains only edges which are followed randomly, False: contains full node induced subgraph\n",
        "# )\n"
      ]
    },
    {
      "cell_type": "code",
      "execution_count": 92,
      "metadata": {
        "id": "1n7iu1YK9udb"
      },
      "outputs": [
        {
          "name": "stdout",
          "output_type": "stream",
          "text": [
            "Using 2 workers in the dataloader for edgetype ('Job', 'REQUIRES', 'Skill')\n",
            "Using 2 workers in the dataloader for edgetype ('Job', 'IS_SIMILAR_JOB', 'Job')\n",
            "Using 2 workers in the dataloader for edgetype ('Skill', 'IS_SIMILAR_SKILL', 'Skill')\n",
            "Using 2 workers in the dataloader for edgetype ('Job', 'REQUIRES', 'Skill')\n",
            "Using 2 workers in the dataloader for edgetype ('Job', 'IS_SIMILAR_JOB', 'Job')\n",
            "Using 2 workers in the dataloader for edgetype ('Skill', 'IS_SIMILAR_SKILL', 'Skill')\n",
            "Using 2 workers in the dataloader for edgetype ('Job', 'REQUIRES', 'Skill')\n",
            "Using 2 workers in the dataloader for edgetype ('Job', 'IS_SIMILAR_JOB', 'Job')\n",
            "Using 2 workers in the dataloader for edgetype ('Skill', 'IS_SIMILAR_SKILL', 'Skill')\n"
          ]
        }
      ],
      "source": [
        "from typing import Tuple, List\n",
        "from torch_geometric.loader import LinkNeighborLoader\n",
        "from torch_geometric.sampler import NegativeSampling\n",
        "from torch_geometric.data import HeteroData\n",
        "import gc\n",
        "import multiprocessing as mp\n",
        "\n",
        "\n",
        "def create_loader(data:HeteroData, edge_type:Tuple[str,str,str], num_neighbors:List[int], negative_sampling_amount:int, batch_size:int, is_training:bool)->LinkNeighborLoader:\n",
        "\n",
        "    #print('create mini-batches for', edge)\n",
        "\n",
        "    negative_sampling = NegativeSampling(\n",
        "        mode='binary',\n",
        "        amount=negative_sampling_amount  # ratio, like Graphsage\n",
        "        #weight=  # \"Probabilities\" of nodes to be sampled: Node degree follows power law distribution\n",
        "        )\n",
        "\n",
        "    loader = LinkNeighborLoader(\n",
        "        data,\n",
        "        num_neighbors=num_neighbors,\n",
        "        # {\n",
        "        #     ('Job', 'REQUIRES', 'Skill'):num_neighbors,\n",
        "        #     ('Skill', 'rev_REQUIRES', 'Job'):num_neighbors,\n",
        "        #     ('Skill', 'IS_SIMILAR_SKILL', 'Skill'):num_neighbors, # In this example, index 0 will never be used, since neighboring edge to a job node can't be a skill-skill edge\n",
        "        #     ('Skill', 'rev_IS_SIMILAR_SKILL', 'Skill'):num_neighbors,\n",
        "        #     ('Job', 'IS_SIMILAR_JOB', 'Job'):num_neighbors,\n",
        "        #     ('Job', 'rev_IS_SIMILAR_JOB', 'Job'):num_neighbors,\n",
        "        # },\n",
        "        edge_label_index=(edge_type, data[edge_type].edge_label_index), # if (edge, None), None means all edges are considered\n",
        "        #  =train_data[edge].edge_label,\n",
        "        neg_sampling=negative_sampling, # adds negative samples\n",
        "        batch_size=batch_size,\n",
        "        shuffle=is_training,\n",
        "        #drop_last=True,\n",
        "        #num_workers=0,\n",
        "        directed=True,  # contains only edges which are followed, False: contains full node induced subgraph\n",
        "        #disjoint=True # sampled seed node creates its own, disjoint from the rest, subgraph, will add \"batch vector\" to loader output\n",
        "        pin_memory=True, # faster data transfer to gpu\n",
        "        #num_workers=2,\n",
        "        #prefetch_factor=2\n",
        "    )\n",
        "    print(f'Using {2} workers in the dataloader for edgetype {edge_type}')\n",
        "\n",
        "    return loader\n",
        "\n",
        "\n",
        "batch_size=64\n",
        "num_neighbors = [5,4]\n",
        "\n",
        "def create_iterator(data, is_training:bool):\n",
        "    loaders = []\n",
        "    supervision_edge_types = []\n",
        "    for edge_type in [('Job', 'REQUIRES', 'Skill'),('Job', 'IS_SIMILAR_JOB', 'Job'), ('Skill', 'IS_SIMILAR_SKILL', 'Skill')]:\n",
        "        # if 'rev_' in edge_type[1]:\n",
        "        #     continue    \n",
        "        # we dont need rev_ target edges, since they are the same\n",
        "        # rev edges are only needed in the later step for the gnn traversal\n",
        "        # create mini-batches for each edge type, because LinkNeighborLoader only allows one target edge type\n",
        "     \n",
        "        loader = create_loader(\n",
        "            data=data,\n",
        "            edge_type=edge_type,\n",
        "            num_neighbors=num_neighbors,\n",
        "            batch_size=batch_size,\n",
        "            is_training=is_training,\n",
        "            negative_sampling_amount=(20 if is_training else 1)\n",
        "        )\n",
        "        loaders.append(loader)\n",
        "        supervision_edge_types.append(edge_type)\n",
        "    \n",
        "    \n",
        "    # creates an iterator which has as many elements as the longest iterable\n",
        "    # other iterables will be repeated until the longest is done\n",
        "    length = 0\n",
        "    index = 0\n",
        "    for i, iterable in enumerate(loaders):\n",
        "        l = len(iterable)\n",
        "        if l>length:\n",
        "            length = l\n",
        "            index = i\n",
        "            \n",
        " \n",
        "    for loader in loaders:\n",
        "        minibatch = next(iter(loader))\n",
        "        \n",
        "\n",
        "    longest_loader = loaders.pop(index)\n",
        "    longest_loader_edge_type = supervision_edge_types.pop(index)\n",
        "    \n",
        "   \n",
        "    # create a list of iterators\n",
        "    iterators = [iter(loader) for loader in loaders]\n",
        "    \n",
        "    def iterator():\n",
        "        for batch in longest_loader:\n",
        "            batches = [(longest_loader_edge_type,batch)]\n",
        "            for i in range(len(iterators)):\n",
        "                try:\n",
        "                    batches.append((supervision_edge_types[i],next(iterators[i])))\n",
        "                   \n",
        "                except StopIteration:\n",
        "                    iterators[i] = iter(loaders[i]) # will \"reinit\" iterator\n",
        "                    batches.append((supervision_edge_types[i],next(iterators[i])))\n",
        "                    \n",
        "                    \n",
        "            yield tuple(batches)\n",
        "\n",
        "    return iterator, len(longest_loader)\n",
        "    \n",
        "    \n",
        "\n",
        "# watch -n 1 df -h /dev/shm\n",
        "gc.collect()\n",
        "train_iterator, train_batch_len = create_iterator(train_data, is_training=True)\n",
        "val_iterator, val_batch_len = create_iterator(val_data, is_training=False)\n",
        "test_iterator, test_batch_len = create_iterator(test_data, is_training=False)"
      ]
    },
    {
      "cell_type": "code",
      "execution_count": 132,
      "metadata": {
        "id": "jnWJyyeC9udb"
      },
      "outputs": [],
      "source": [
        "# helpful article\n",
        "# https://medium.com/stanford-cs224w/a-tour-of-pygs-data-loaders-9f2384e48f8f\n",
        "\n",
        "# some info\n",
        "\n",
        "# HeteroData(\n",
        "#   Job={\n",
        "#     x=[9222, 128], # node features\n",
        "#     n_id=[9222] # the ids of the nodes in the original train_data set\n",
        "#   },\n",
        "#   (Job, REQUIRES, Skill)={\n",
        "#     edge_index=[2, 14498], # sampled edges\n",
        "#     edge_attr=[14498, 1],  # edge attributes of sampled edges\n",
        "#     edge_label=[509170], # 1 if it is a true edge, 0 if it is a false\n",
        "#     edge_label_index=[2, 509170], # all edges?\n",
        "#     e_id=[14498] # edge ids of edges in the original train_data set\n",
        "\n",
        "\n",
        "\n",
        "# if batchsize is 16 for the edge and we have neg_sampling=binary, we will have\n",
        "# this many jobs:\n",
        "#  Job={\n",
        "#     x=[64, 128],\n",
        "#     n_id=[64]\n",
        "#   },\n",
        "# since we sample a negative and a positive edge each, and each edge has 2 Job nodes (if our target is the job nodes)\n",
        "\n",
        "# LinkNeighborloader will sample negative edges for the target edges only, as we expect it\n",
        "# so for the \"neighbor\"-edges we get only positive ones"
      ]
    },
    {
      "cell_type": "code",
      "execution_count": 93,
      "metadata": {
        "id": "dI4AQ3kq9udc"
      },
      "outputs": [],
      "source": [
        "from typing import Tuple, Union\n",
        "from torch import Tensor\n",
        "import torch_geometric\n",
        "from torch_geometric.nn import to_hetero, HeteroDictLinear, Linear\n",
        "from torch_geometric.nn.conv import GraphConv, SAGEConv, SimpleConv, HeteroConv\n",
        "import torch.nn.functional as F\n",
        "from torch_geometric.typing import Adj, OptPairTensor, OptTensor, Size\n",
        "from torch_geometric import seed_everything\n",
        "from torch_geometric.utils import trim_to_layer\n",
        "\n",
        "\n",
        "\n",
        "# PyG does not implement the exact max pooling aggregation as in the GraphSage paper\n",
        "# with GraphConvWithPool we manually extend it by adding a linear layer on x before .propagate\n",
        "# as our activation function is monotonically increasing, this modification corresponds to the max pooling aggregation\n",
        "\n",
        "class GraphConvWithPool(GraphConv):\n",
        "    def __init__(self, in_channels, out_channels: int, aggr: str = 'add', bias: bool = True, **kwargs):\n",
        "        super().__init__(in_channels, out_channels, aggr, bias, **kwargs)\n",
        "        self.linear = torch.nn.Linear(in_channels, in_channels, bias=False)\n",
        "\n",
        "    def forward(self, x: Union[Tensor, OptPairTensor], edge_index: Adj,\n",
        "                edge_weight: OptTensor = None, size: Size = None) -> Tensor:\n",
        "\n",
        "        if isinstance(x, Tensor):\n",
        "            x: OptPairTensor = (x, x)\n",
        "\n",
        "        x = self.linear(x) # added this\n",
        "\n",
        "        out = self.propagate(edge_index, x=x, edge_weight=edge_weight,\n",
        "                             size=size)\n",
        "        out = self.lin_rel(out)\n",
        "\n",
        "        x_r = x[1]\n",
        "        if x_r is not None:\n",
        "            out = out + self.lin_root(x_r)\n",
        "\n",
        "        return out\n",
        "\n",
        "\n",
        "\n",
        "class WeightedSkillSage(torch.nn.Module):\n",
        "    def __init__(self, hidden_channels, out_channels):\n",
        "        super().__init__()\n",
        "        \n",
        "        self.lin_in = torch.nn.ModuleDict({\n",
        "            'Skill': Linear(132,hidden_channels),\n",
        "            'Job': Linear(132,hidden_channels)\n",
        "        })\n",
        "        \n",
        "        self.skill_skill = GraphConv((-1, -1), hidden_channels)  # use same for rev_skill as well\n",
        "        self.job_job = GraphConv((-1, -1), hidden_channels)  # use same for rev_job... as well\n",
        "        \n",
        "        self.hetero_convs = torch.nn.ModuleList()\n",
        "        for _ in range(2):\n",
        "            conv = HeteroConv(\n",
        "                {\n",
        "                    ('Job', 'REQUIRES', 'Skill'): GraphConv((-1, -1), hidden_channels),\n",
        "                    ('Skill', 'rev_REQUIRES', 'Job'): GraphConv((-1, -1), hidden_channels),\n",
        "                    ('Skill', 'IS_SIMILAR_SKILL', 'Skill'):self.skill_skill,\n",
        "                    ('Skill', 'rev_IS_SIMILAR_SKILL', 'Skill'):self.skill_skill,\n",
        "                    ('Job', 'IS_SIMILAR_JOB', 'Job'):self.job_job,\n",
        "                    ('Job', 'rev_IS_SIMILAR_JOB', 'Job'):self.job_job,\n",
        "                }, aggr='sum')\n",
        "            self.hetero_convs.append(conv)\n",
        "            \n",
        "        self.lin_out = torch.nn.ModuleDict({\n",
        "            'Skill': Linear(hidden_channels, out_channels),\n",
        "            'Job': Linear(hidden_channels, out_channels)\n",
        "        })\n",
        "\n",
        "    def forward(self, x_dict, edge_index_dict, edge_weight, num_sampled_edges_dict, num_sampled_nodes_dict):\n",
        "        x_dict = {key: F.relu(self.lin_in[key](x)) for key, x in x_dict.items()}\n",
        "        \n",
        "        \n",
        "        # speedup: only compute necessary node representations in each pass through https://pytorch-geometric.readthedocs.io/en/latest/advanced/hgam.html\n",
        "        for i, conv in enumerate(self.hetero_convs):\n",
        "            x_dict, edge_index_dict, _ = trim_to_layer(\n",
        "                layer=i,\n",
        "                num_sampled_nodes_per_hop=num_sampled_nodes_dict, \n",
        "                num_sampled_edges_per_hop=num_sampled_edges_dict, # gives the num sampled edges per edge type, e.g. ('Job', 'REQUIRES', 'Skill'): [3083, 14514] -> 3000 in first step, 14000 in second\n",
        "                x=x_dict,\n",
        "                edge_index=edge_index_dict,\n",
        "            )\n",
        "\n",
        "            x_dict = conv(x_dict, edge_index_dict)\n",
        "            x_dict = {key: x.relu() for key, x in x_dict.items()}\n",
        "        \n",
        "        x_dict = {key: F.relu(self.lin_out[key](x)) for key, x in x_dict.items()}\n",
        "        \n",
        "        return x_dict\n",
        "\n",
        "seed_everything(4)\n",
        "model = WeightedSkillSage(hidden_channels=256, out_channels=256)\n",
        "#model = to_hetero(model, train_data.metadata(), aggr='sum')\n",
        "#model =  torch_geometric.compile(model)"
      ]
    },
    {
      "cell_type": "code",
      "execution_count": 94,
      "metadata": {
        "id": "TQbpUFGwF-Zx"
      },
      "outputs": [],
      "source": [
        "from torcheval.metrics import BinaryAccuracy, BinaryPrecision, BinaryRecall, BinaryF1Score, BinaryAUPRC, BinaryAUROC\n",
        "from tqdm.auto import tqdm\n",
        "import gc\n",
        "from torch.utils.tensorboard import SummaryWriter\n",
        "import os\n",
        "from pathlib import Path\n",
        "from datetime import datetime\n",
        "import torch\n",
        "\n",
        "class GNNTrainer():\n",
        "    def __init__(self, model, criterion, optimizer, device, log_folder):\n",
        "        #super().__init__(model, criterion, optimizer, device, ) # metrics=['f1','accuracy','precision','recall', 'aucpr']\n",
        "        self.model = model\n",
        "        self.criterion = criterion\n",
        "        self.optimizer = optimizer\n",
        "        self.device = device\n",
        "        self.train_batch_size = 0  # for tqdm, for logging\n",
        "        self.train_n_mini_in_batch = 0  # for tqdm\n",
        "        self.val_n_mini_in_batch = 0  # for tqdm\n",
        "        self.log_folder = log_folder\n",
        "    \n",
        "    def free_memory(self):\n",
        "        \"\"\"Clears the GPU cache and triggers garbage collection, to reduce OOMs.\"\"\"\n",
        "        torch.cuda.empty_cache()\n",
        "        gc.collect()\n",
        "        \n",
        "    \n",
        "            \n",
        "    \n",
        "        \n",
        "    def write_calc_metrics(self, split_name:str, y_hat, y, epoch:int, is_epoch:bool, minibatch:int=0, loss:int=0, print_=True):\n",
        "        assert epoch>=1, 'Epoch must be >= 1'\n",
        "        \n",
        "        if split_name=='train':\n",
        "            assert self.train_batch_size != 0\n",
        "            assert self.train_n_mini_in_batch != 0\n",
        "            assert loss != 0, \"loss can't be 0\"\n",
        "            assert minibatch >= 1, \"minibatch must be >=1\"\n",
        "            \n",
        "        else:\n",
        "            assert is_epoch, 'split_name != \"train\" and !is_epoch is not a possible combination'\n",
        "            \n",
        "        if is_epoch:\n",
        "            split_name = 'epoch_'+split_name\n",
        "            index = epoch\n",
        "        else:\n",
        "            split_name = 'samples_'+split_name\n",
        "            no_minibatches = (epoch-1)*self.train_n_mini_in_batch + minibatch\n",
        "            approx_no_samples = no_minibatches*self.train_batch_size\n",
        "            index = approx_no_samples\n",
        "        \n",
        "        \n",
        "        y = y.to(torch.int).cpu().detach()\n",
        "        y_hat = y_hat.cpu().detach()\n",
        "        acc, prec, rec, f1, auprc, auroc = BinaryAccuracy(threshold=0.5).update(y_hat, y).compute().item(), BinaryPrecision(threshold=0.5).update(y_hat, y).compute().item(), BinaryRecall(threshold=0.5).update(y_hat, y).compute().item(), BinaryF1Score(threshold=0.5).update(y_hat, y).compute().item(), BinaryAUPRC().update(y_hat, y).compute().item(), BinaryAUROC().update(y_hat, y).compute().item()\n",
        "        # self.writer.add_scalar(f'{split_name}_accuracy', acc, index)\n",
        "        # self.writer.add_scalar(f'{split_name}_precision', prec, index)\n",
        "        # self.writer.add_scalar(f'{split_name}_recall', rec, index)\n",
        "        # self.writer.add_scalar(f'{split_name}_f1', f1, index)\n",
        "        self.writer.add_scalar(f'{split_name}_auprc', auprc, index)\n",
        "        self.writer.add_scalar(f'{split_name}_auroc', auroc, index)\n",
        "        if 'train' in split_name:\n",
        "            self.writer.add_scalar(f'{split_name}_loss', loss, index)\n",
        "        self.writer.flush()\n",
        "        \n",
        "        if print_:\n",
        "            out_of = f'/{self.train_n_mini_in_batch:06d}' if 'train' in split_name else ''\n",
        "            no_samples = f'|samples:{index}' if 'train' in split_name else ''\n",
        "            loss_to_show = f'loss:{loss:.4f},' if 'train' in split_name else ''\n",
        "            print(f'{split_name}|{int(minibatch):04d}{out_of}|{epoch:04d}{no_samples}|{loss_to_show} F1: {f1:.6f}, AUC-PR: {auprc:.6f}, (auroc: {auroc:.6f}, acc: {acc:.6f}, prec: {prec:.6f}, rec: {rec:.6f})')\n",
        "\n",
        "    def create_logfolders(self, run_folder=None):\n",
        "        if run_folder is None:\n",
        "            run_folder = datetime.now().strftime('run_%d%m%Y_%H%M%S')\n",
        "            \n",
        "        self.writer = SummaryWriter(log_dir=Path(self.log_folder)/(run_folder+'_tensorboard'))\n",
        "        self.checkpoint_folder = Path(self.log_folder)/(run_folder+'_checkpoints')\n",
        "        if not os.path.exists(self.checkpoint_folder):\n",
        "            os.makedirs(self.checkpoint_folder)\n",
        "        \n",
        "        if not os.path.exists(Path(self.log_folder)/(run_folder+'_tensorboard')):\n",
        "            os.makedirs(Path(self.log_folder)/(run_folder+'_tensorboard'))\n",
        "            \n",
        "        print(f'run folder is {run_folder}')\n",
        "        \n",
        "    \n",
        "    def train(self, train_iterator, val_iterator, start_epoch, n_epochs, run_folder=None):\n",
        "        self.free_memory()\n",
        "        self.create_logfolders(run_folder)\n",
        "\n",
        "        self.model.train()\n",
        "        assert start_epoch >= 1, \"Epoch must be >= 1\"\n",
        "        \n",
        "        for epoch in range(start_epoch, start_epoch+n_epochs):\n",
        "            \n",
        "            epoch_loss = 0\n",
        "            for batch_idx, edge_batches in tqdm(enumerate(train_iterator()), total=self.train_n_mini_in_batch, desc='train epoch'):\n",
        "                batch_idx+=1  # start from 1\n",
        "                self.optimizer.zero_grad()  # empty gradients\n",
        "                minibatch_loss = 0\n",
        "                y_hat, y = [], []\n",
        "                    \n",
        "                for supervision_edge_type, batch in edge_batches:  # each \"batch\" here is one edge type, since we want to learn for all edge types\n",
        "                    batch = batch.to(self.device)\n",
        "                    hetero_out = model(batch.x_dict, batch.edge_index_dict, batch.edge_weight_dict, batch.num_sampled_edges_dict, batch.num_sampled_nodes_dict)  # get model output\n",
        "\n",
        "                    # evaluate, calculate cosine sim and compute cross-entropy loss\n",
        "                    src_type, dst_type = supervision_edge_type[0], supervision_edge_type[2]\n",
        "                    edge_label = batch[supervision_edge_type].edge_label\n",
        "                    edge_label_index = batch[supervision_edge_type].edge_label_index\n",
        "                    src_node_embeddings = hetero_out[src_type][edge_label_index[0]]\n",
        "                    dst_node_embeddings = hetero_out[dst_type][edge_label_index[1]]\n",
        "                    \n",
        "                    loss, y_pred = self.criterion(src_node_embeddings, dst_node_embeddings, edge_label)\n",
        "                    \n",
        "                    minibatch_loss += loss\n",
        "                    y_hat.append(y_pred.detach())\n",
        "                    y.append(edge_label.to(torch.int).detach())\n",
        "                    \n",
        "                minibatch_loss.backward()\n",
        "                self.optimizer.step()\n",
        "                minibatch_loss = minibatch_loss.detach().item()\n",
        "                epoch_loss += minibatch_loss\n",
        "\n",
        "                y_hat = torch.cat(y_hat)\n",
        "                y = torch.cat(y)\n",
        "  \n",
        "                # create metrics and write to tensorboard writer\n",
        "                self.write_calc_metrics('train', y_hat, y, epoch=epoch, minibatch=batch_idx, loss=minibatch_loss, is_epoch=False, print_=False)\n",
        "                \n",
        "               \n",
        "            \n",
        "            self.validate(val_iterator, epoch)\n",
        "            self.model.train()  # back to training, just in case\n",
        "            self.save_checkpoint(epoch, batch_idx)\n",
        "            self.write_calc_metrics('train', y_hat, y, epoch=epoch, minibatch=batch_idx, loss=epoch_loss, is_epoch=True, print_=True)\n",
        "            \n",
        "    def validate(self, val_iterator, epoch):\n",
        "        self.model.eval()\n",
        "        with torch.no_grad():\n",
        "            y_hat, y = [], []\n",
        "            \n",
        "            for edge_batches in val_iterator():\n",
        "                for supervision_edge_type, batch in edge_batches:  # each \"batch\" here is one edge type, since we want to learn for all edge types\n",
        "                    batch = batch.to(self.device)\n",
        "                    hetero_out = model(batch.x_dict, batch.edge_index_dict, batch.edge_weight_dict, batch.num_sampled_edges_dict, batch.num_sampled_nodes_dict)\n",
        "\n",
        "                    # evaluate, calculate cosine sim and compute cross-entropy loss\n",
        "                    src_type, dst_type = supervision_edge_type[0], supervision_edge_type[2]\n",
        "                    edge_label = batch[supervision_edge_type].edge_label\n",
        "                    edge_label_index = batch[supervision_edge_type].edge_label_index\n",
        "                    src_node_embeddings = hetero_out[src_type][edge_label_index[0]]\n",
        "                    dst_node_embeddings = hetero_out[dst_type][edge_label_index[1]]\n",
        "                    \n",
        "                    #logits = F.cosine_similarity(src_node_embeddings, dst_node_embeddings, dim=-1)\n",
        "                    \n",
        "                    _, y_pred = self.criterion(src_node_embeddings, dst_node_embeddings, edge_label)\n",
        "                    y_hat.append(y_pred.detach())\n",
        "                    y.append(edge_label.to(torch.int).detach())\n",
        "\n",
        "            # save loss and metrics\n",
        "            \n",
        "            y_hat = torch.cat(y_hat)\n",
        "            y = torch.cat(y)\n",
        "            self.write_calc_metrics('val', y_hat, y, epoch=epoch, is_epoch=True, print_=True)\n",
        "    \n",
        "    def save_checkpoint(self, epoch, batch_idx):\n",
        "        print(f'save checkpoint {self.checkpoint_folder}/checkpoint_ep{epoch}_{batch_idx}.pt')\n",
        "        torch.save({\n",
        "            'model_state_dict': self.model.state_dict(),\n",
        "            'optimizer_state_dict': self.optimizer.state_dict(),\n",
        "           # 'metrics_history': self.metrics_history,\n",
        "        }, f'{self.checkpoint_folder}/checkpoint_ep{epoch}.pt')\n",
        "\n",
        "    def load_checkpoint(self, load_path):\n",
        "        checkpoint = torch.load(load_path)\n",
        "        self.model.load_state_dict(checkpoint['model_state_dict'])\n",
        "        self.optimizer.load_state_dict(checkpoint['optimizer_state_dict'])"
      ]
    },
    {
      "cell_type": "code",
      "execution_count": 90,
      "metadata": {
        "id": "hsOdxQu-FgBD"
      },
      "outputs": [
        {
          "name": "stdout",
          "output_type": "stream",
          "text": [
            "run folder is graphconv_v0_lr_2emin6_1lin_1lin_256dim\n"
          ]
        },
        {
          "name": "stderr",
          "output_type": "stream",
          "text": [
            "train epoch: 100%|██████████| 33/33 [00:02<00:00, 15.70it/s]\n"
          ]
        },
        {
          "name": "stdout",
          "output_type": "stream",
          "text": [
            "epoch_val|0000|0001| F1: 0.666667, AUC-PR: 0.600928, (auroc: 0.556572, acc: 0.500000, prec: 0.500000, rec: 1.000000)\n",
            "save checkpoint runs/graphconv_v0_lr_2emin6_1lin_1lin_256dim_checkpoints/checkpoint_ep1_33.pt\n",
            "epoch_train|0033/000033|0001|samples:1|loss:nan, F1: 0.090909, AUC-PR: 0.509015, (auroc: 0.747733, acc: 0.047619, prec: 0.047619, rec: 1.000000)\n"
          ]
        },
        {
          "name": "stderr",
          "output_type": "stream",
          "text": [
            "train epoch:  70%|██████▉   | 23/33 [00:01<00:00, 16.74it/s]\n"
          ]
        },
        {
          "ename": "KeyboardInterrupt",
          "evalue": "",
          "output_type": "error",
          "traceback": [
            "\u001b[0;31m---------------------------------------------------------------------------\u001b[0m",
            "\u001b[0;31mKeyboardInterrupt\u001b[0m                         Traceback (most recent call last)",
            "\u001b[1;32m/home/amos/programming/create_graphds/colab.ipynb Cell 63\u001b[0m line \u001b[0;36m2\n\u001b[1;32m     <a href='vscode-notebook-cell://wsl%2Bubuntu/home/amos/programming/create_graphds/colab.ipynb#Y113sdnNjb2RlLXJlbW90ZQ%3D%3D?line=25'>26</a>\u001b[0m trainer\u001b[39m.\u001b[39mtrain_n_mini_in_batch \u001b[39m=\u001b[39m train_batch_len\n\u001b[1;32m     <a href='vscode-notebook-cell://wsl%2Bubuntu/home/amos/programming/create_graphds/colab.ipynb#Y113sdnNjb2RlLXJlbW90ZQ%3D%3D?line=26'>27</a>\u001b[0m trainer\u001b[39m.\u001b[39mval_n_mini_in_batch \u001b[39m=\u001b[39m val_batch_len\n\u001b[0;32m---> <a href='vscode-notebook-cell://wsl%2Bubuntu/home/amos/programming/create_graphds/colab.ipynb#Y113sdnNjb2RlLXJlbW90ZQ%3D%3D?line=28'>29</a>\u001b[0m trainer\u001b[39m.\u001b[39;49mtrain(\n\u001b[1;32m     <a href='vscode-notebook-cell://wsl%2Bubuntu/home/amos/programming/create_graphds/colab.ipynb#Y113sdnNjb2RlLXJlbW90ZQ%3D%3D?line=29'>30</a>\u001b[0m     train_iterator, \n\u001b[1;32m     <a href='vscode-notebook-cell://wsl%2Bubuntu/home/amos/programming/create_graphds/colab.ipynb#Y113sdnNjb2RlLXJlbW90ZQ%3D%3D?line=30'>31</a>\u001b[0m     val_iterator, \n\u001b[1;32m     <a href='vscode-notebook-cell://wsl%2Bubuntu/home/amos/programming/create_graphds/colab.ipynb#Y113sdnNjb2RlLXJlbW90ZQ%3D%3D?line=31'>32</a>\u001b[0m     start_epoch\u001b[39m=\u001b[39;49m\u001b[39m1\u001b[39;49m, \n\u001b[1;32m     <a href='vscode-notebook-cell://wsl%2Bubuntu/home/amos/programming/create_graphds/colab.ipynb#Y113sdnNjb2RlLXJlbW90ZQ%3D%3D?line=32'>33</a>\u001b[0m     n_epochs\u001b[39m=\u001b[39;49m\u001b[39m200\u001b[39;49m, \n\u001b[1;32m     <a href='vscode-notebook-cell://wsl%2Bubuntu/home/amos/programming/create_graphds/colab.ipynb#Y113sdnNjb2RlLXJlbW90ZQ%3D%3D?line=33'>34</a>\u001b[0m     run_folder\u001b[39m=\u001b[39;49m\u001b[39mf\u001b[39;49m\u001b[39m'\u001b[39;49m\u001b[39mgraphconv_v0_lr_2emin6_1lin_1lin_256dim\u001b[39;49m\u001b[39m'\u001b[39;49m) \u001b[39m# graphconv_v0_lr_2emin6_2lin_1lin_256dim\u001b[39;00m\n\u001b[1;32m     <a href='vscode-notebook-cell://wsl%2Bubuntu/home/amos/programming/create_graphds/colab.ipynb#Y113sdnNjb2RlLXJlbW90ZQ%3D%3D?line=34'>35</a>\u001b[0m \u001b[39m# trainer.validate(val_dataloader)\u001b[39;00m\n\u001b[1;32m     <a href='vscode-notebook-cell://wsl%2Bubuntu/home/amos/programming/create_graphds/colab.ipynb#Y113sdnNjb2RlLXJlbW90ZQ%3D%3D?line=35'>36</a>\u001b[0m \u001b[39m# trainer.plot_losses()\u001b[39;00m\n\u001b[1;32m     <a href='vscode-notebook-cell://wsl%2Bubuntu/home/amos/programming/create_graphds/colab.ipynb#Y113sdnNjb2RlLXJlbW90ZQ%3D%3D?line=36'>37</a>\u001b[0m \u001b[39m# trainer.load_checkpoint('./checkpoints/checkpoint_100.pt')\u001b[39;00m\n",
            "\u001b[1;32m/home/amos/programming/create_graphds/colab.ipynb Cell 63\u001b[0m line \u001b[0;36m1\n\u001b[1;32m    <a href='vscode-notebook-cell://wsl%2Bubuntu/home/amos/programming/create_graphds/colab.ipynb#Y113sdnNjb2RlLXJlbW90ZQ%3D%3D?line=102'>103</a>\u001b[0m \u001b[39mfor\u001b[39;00m supervision_edge_type, batch \u001b[39min\u001b[39;00m edge_batches:  \u001b[39m# each \"batch\" here is one edge type, since we want to learn for all edge types\u001b[39;00m\n\u001b[1;32m    <a href='vscode-notebook-cell://wsl%2Bubuntu/home/amos/programming/create_graphds/colab.ipynb#Y113sdnNjb2RlLXJlbW90ZQ%3D%3D?line=103'>104</a>\u001b[0m     batch \u001b[39m=\u001b[39m batch\u001b[39m.\u001b[39mto(\u001b[39mself\u001b[39m\u001b[39m.\u001b[39mdevice)\n\u001b[0;32m--> <a href='vscode-notebook-cell://wsl%2Bubuntu/home/amos/programming/create_graphds/colab.ipynb#Y113sdnNjb2RlLXJlbW90ZQ%3D%3D?line=104'>105</a>\u001b[0m     hetero_out \u001b[39m=\u001b[39m model(batch\u001b[39m.\u001b[39;49mx_dict, batch\u001b[39m.\u001b[39;49medge_index_dict, batch\u001b[39m.\u001b[39;49medge_weight_dict, batch\u001b[39m.\u001b[39;49mnum_sampled_edges_dict, batch\u001b[39m.\u001b[39;49mnum_sampled_nodes_dict)  \u001b[39m# get model output\u001b[39;00m\n\u001b[1;32m    <a href='vscode-notebook-cell://wsl%2Bubuntu/home/amos/programming/create_graphds/colab.ipynb#Y113sdnNjb2RlLXJlbW90ZQ%3D%3D?line=106'>107</a>\u001b[0m     \u001b[39m# evaluate, calculate cosine sim and compute cross-entropy loss\u001b[39;00m\n\u001b[1;32m    <a href='vscode-notebook-cell://wsl%2Bubuntu/home/amos/programming/create_graphds/colab.ipynb#Y113sdnNjb2RlLXJlbW90ZQ%3D%3D?line=107'>108</a>\u001b[0m     src_type, dst_type \u001b[39m=\u001b[39m supervision_edge_type[\u001b[39m0\u001b[39m], supervision_edge_type[\u001b[39m2\u001b[39m]\n",
            "File \u001b[0;32m~/mambaforge/envs/pyg/lib/python3.10/site-packages/torch/nn/modules/module.py:1501\u001b[0m, in \u001b[0;36mModule._call_impl\u001b[0;34m(self, *args, **kwargs)\u001b[0m\n\u001b[1;32m   1496\u001b[0m \u001b[39m# If we don't have any hooks, we want to skip the rest of the logic in\u001b[39;00m\n\u001b[1;32m   1497\u001b[0m \u001b[39m# this function, and just call forward.\u001b[39;00m\n\u001b[1;32m   1498\u001b[0m \u001b[39mif\u001b[39;00m \u001b[39mnot\u001b[39;00m (\u001b[39mself\u001b[39m\u001b[39m.\u001b[39m_backward_hooks \u001b[39mor\u001b[39;00m \u001b[39mself\u001b[39m\u001b[39m.\u001b[39m_backward_pre_hooks \u001b[39mor\u001b[39;00m \u001b[39mself\u001b[39m\u001b[39m.\u001b[39m_forward_hooks \u001b[39mor\u001b[39;00m \u001b[39mself\u001b[39m\u001b[39m.\u001b[39m_forward_pre_hooks\n\u001b[1;32m   1499\u001b[0m         \u001b[39mor\u001b[39;00m _global_backward_pre_hooks \u001b[39mor\u001b[39;00m _global_backward_hooks\n\u001b[1;32m   1500\u001b[0m         \u001b[39mor\u001b[39;00m _global_forward_hooks \u001b[39mor\u001b[39;00m _global_forward_pre_hooks):\n\u001b[0;32m-> 1501\u001b[0m     \u001b[39mreturn\u001b[39;00m forward_call(\u001b[39m*\u001b[39;49margs, \u001b[39m*\u001b[39;49m\u001b[39m*\u001b[39;49mkwargs)\n\u001b[1;32m   1502\u001b[0m \u001b[39m# Do not call functions when jit is used\u001b[39;00m\n\u001b[1;32m   1503\u001b[0m full_backward_hooks, non_full_backward_hooks \u001b[39m=\u001b[39m [], []\n",
            "\u001b[1;32m/home/amos/programming/create_graphds/colab.ipynb Cell 63\u001b[0m line \u001b[0;36m8\n\u001b[1;32m     <a href='vscode-notebook-cell://wsl%2Bubuntu/home/amos/programming/create_graphds/colab.ipynb#Y113sdnNjb2RlLXJlbW90ZQ%3D%3D?line=76'>77</a>\u001b[0m \u001b[39mfor\u001b[39;00m i, conv \u001b[39min\u001b[39;00m \u001b[39menumerate\u001b[39m(\u001b[39mself\u001b[39m\u001b[39m.\u001b[39mhetero_convs):\n\u001b[1;32m     <a href='vscode-notebook-cell://wsl%2Bubuntu/home/amos/programming/create_graphds/colab.ipynb#Y113sdnNjb2RlLXJlbW90ZQ%3D%3D?line=77'>78</a>\u001b[0m     x_dict, edge_index_dict, _ \u001b[39m=\u001b[39m trim_to_layer(\n\u001b[1;32m     <a href='vscode-notebook-cell://wsl%2Bubuntu/home/amos/programming/create_graphds/colab.ipynb#Y113sdnNjb2RlLXJlbW90ZQ%3D%3D?line=78'>79</a>\u001b[0m         layer\u001b[39m=\u001b[39mi,\n\u001b[1;32m     <a href='vscode-notebook-cell://wsl%2Bubuntu/home/amos/programming/create_graphds/colab.ipynb#Y113sdnNjb2RlLXJlbW90ZQ%3D%3D?line=79'>80</a>\u001b[0m         num_sampled_nodes_per_hop\u001b[39m=\u001b[39mnum_sampled_nodes_dict, \n\u001b[0;32m   (...)\u001b[0m\n\u001b[1;32m     <a href='vscode-notebook-cell://wsl%2Bubuntu/home/amos/programming/create_graphds/colab.ipynb#Y113sdnNjb2RlLXJlbW90ZQ%3D%3D?line=82'>83</a>\u001b[0m         edge_index\u001b[39m=\u001b[39medge_index_dict,\n\u001b[1;32m     <a href='vscode-notebook-cell://wsl%2Bubuntu/home/amos/programming/create_graphds/colab.ipynb#Y113sdnNjb2RlLXJlbW90ZQ%3D%3D?line=83'>84</a>\u001b[0m     )\n\u001b[0;32m---> <a href='vscode-notebook-cell://wsl%2Bubuntu/home/amos/programming/create_graphds/colab.ipynb#Y113sdnNjb2RlLXJlbW90ZQ%3D%3D?line=85'>86</a>\u001b[0m     x_dict \u001b[39m=\u001b[39m conv(x_dict, edge_index_dict)\n\u001b[1;32m     <a href='vscode-notebook-cell://wsl%2Bubuntu/home/amos/programming/create_graphds/colab.ipynb#Y113sdnNjb2RlLXJlbW90ZQ%3D%3D?line=86'>87</a>\u001b[0m     x_dict \u001b[39m=\u001b[39m {key: x\u001b[39m.\u001b[39mrelu() \u001b[39mfor\u001b[39;00m key, x \u001b[39min\u001b[39;00m x_dict\u001b[39m.\u001b[39mitems()}\n\u001b[1;32m     <a href='vscode-notebook-cell://wsl%2Bubuntu/home/amos/programming/create_graphds/colab.ipynb#Y113sdnNjb2RlLXJlbW90ZQ%3D%3D?line=88'>89</a>\u001b[0m x_dict \u001b[39m=\u001b[39m {key: F\u001b[39m.\u001b[39mrelu(\u001b[39mself\u001b[39m\u001b[39m.\u001b[39mlin_out[key](x)) \u001b[39mfor\u001b[39;00m key, x \u001b[39min\u001b[39;00m x_dict\u001b[39m.\u001b[39mitems()}\n",
            "File \u001b[0;32m~/mambaforge/envs/pyg/lib/python3.10/site-packages/torch/nn/modules/module.py:1501\u001b[0m, in \u001b[0;36mModule._call_impl\u001b[0;34m(self, *args, **kwargs)\u001b[0m\n\u001b[1;32m   1496\u001b[0m \u001b[39m# If we don't have any hooks, we want to skip the rest of the logic in\u001b[39;00m\n\u001b[1;32m   1497\u001b[0m \u001b[39m# this function, and just call forward.\u001b[39;00m\n\u001b[1;32m   1498\u001b[0m \u001b[39mif\u001b[39;00m \u001b[39mnot\u001b[39;00m (\u001b[39mself\u001b[39m\u001b[39m.\u001b[39m_backward_hooks \u001b[39mor\u001b[39;00m \u001b[39mself\u001b[39m\u001b[39m.\u001b[39m_backward_pre_hooks \u001b[39mor\u001b[39;00m \u001b[39mself\u001b[39m\u001b[39m.\u001b[39m_forward_hooks \u001b[39mor\u001b[39;00m \u001b[39mself\u001b[39m\u001b[39m.\u001b[39m_forward_pre_hooks\n\u001b[1;32m   1499\u001b[0m         \u001b[39mor\u001b[39;00m _global_backward_pre_hooks \u001b[39mor\u001b[39;00m _global_backward_hooks\n\u001b[1;32m   1500\u001b[0m         \u001b[39mor\u001b[39;00m _global_forward_hooks \u001b[39mor\u001b[39;00m _global_forward_pre_hooks):\n\u001b[0;32m-> 1501\u001b[0m     \u001b[39mreturn\u001b[39;00m forward_call(\u001b[39m*\u001b[39;49margs, \u001b[39m*\u001b[39;49m\u001b[39m*\u001b[39;49mkwargs)\n\u001b[1;32m   1502\u001b[0m \u001b[39m# Do not call functions when jit is used\u001b[39;00m\n\u001b[1;32m   1503\u001b[0m full_backward_hooks, non_full_backward_hooks \u001b[39m=\u001b[39m [], []\n",
            "File \u001b[0;32m~/mambaforge/envs/pyg/lib/python3.10/site-packages/torch_geometric/nn/conv/hetero_conv.py:153\u001b[0m, in \u001b[0;36mHeteroConv.forward\u001b[0;34m(self, x_dict, edge_index_dict, *args_dict, **kwargs_dict)\u001b[0m\n\u001b[1;32m    151\u001b[0m         out \u001b[39m=\u001b[39m conv(x_dict[src], edge_index, \u001b[39m*\u001b[39margs, \u001b[39m*\u001b[39m\u001b[39m*\u001b[39mkwargs)\n\u001b[1;32m    152\u001b[0m     \u001b[39melse\u001b[39;00m:\n\u001b[0;32m--> 153\u001b[0m         out \u001b[39m=\u001b[39m conv((x_dict[src], x_dict[dst]), edge_index, \u001b[39m*\u001b[39;49margs,\n\u001b[1;32m    154\u001b[0m                    \u001b[39m*\u001b[39;49m\u001b[39m*\u001b[39;49mkwargs)\n\u001b[1;32m    156\u001b[0m     out_dict[dst]\u001b[39m.\u001b[39mappend(out)\n\u001b[1;32m    158\u001b[0m \u001b[39mfor\u001b[39;00m key, value \u001b[39min\u001b[39;00m out_dict\u001b[39m.\u001b[39mitems():\n",
            "File \u001b[0;32m~/mambaforge/envs/pyg/lib/python3.10/site-packages/torch/nn/modules/module.py:1501\u001b[0m, in \u001b[0;36mModule._call_impl\u001b[0;34m(self, *args, **kwargs)\u001b[0m\n\u001b[1;32m   1496\u001b[0m \u001b[39m# If we don't have any hooks, we want to skip the rest of the logic in\u001b[39;00m\n\u001b[1;32m   1497\u001b[0m \u001b[39m# this function, and just call forward.\u001b[39;00m\n\u001b[1;32m   1498\u001b[0m \u001b[39mif\u001b[39;00m \u001b[39mnot\u001b[39;00m (\u001b[39mself\u001b[39m\u001b[39m.\u001b[39m_backward_hooks \u001b[39mor\u001b[39;00m \u001b[39mself\u001b[39m\u001b[39m.\u001b[39m_backward_pre_hooks \u001b[39mor\u001b[39;00m \u001b[39mself\u001b[39m\u001b[39m.\u001b[39m_forward_hooks \u001b[39mor\u001b[39;00m \u001b[39mself\u001b[39m\u001b[39m.\u001b[39m_forward_pre_hooks\n\u001b[1;32m   1499\u001b[0m         \u001b[39mor\u001b[39;00m _global_backward_pre_hooks \u001b[39mor\u001b[39;00m _global_backward_hooks\n\u001b[1;32m   1500\u001b[0m         \u001b[39mor\u001b[39;00m _global_forward_hooks \u001b[39mor\u001b[39;00m _global_forward_pre_hooks):\n\u001b[0;32m-> 1501\u001b[0m     \u001b[39mreturn\u001b[39;00m forward_call(\u001b[39m*\u001b[39;49margs, \u001b[39m*\u001b[39;49m\u001b[39m*\u001b[39;49mkwargs)\n\u001b[1;32m   1502\u001b[0m \u001b[39m# Do not call functions when jit is used\u001b[39;00m\n\u001b[1;32m   1503\u001b[0m full_backward_hooks, non_full_backward_hooks \u001b[39m=\u001b[39m [], []\n",
            "File \u001b[0;32m~/mambaforge/envs/pyg/lib/python3.10/site-packages/torch_geometric/nn/conv/graph_conv.py:86\u001b[0m, in \u001b[0;36mGraphConv.forward\u001b[0;34m(self, x, edge_index, edge_weight, size)\u001b[0m\n\u001b[1;32m     83\u001b[0m     x: OptPairTensor \u001b[39m=\u001b[39m (x, x)\n\u001b[1;32m     85\u001b[0m \u001b[39m# propagate_type: (x: OptPairTensor, edge_weight: OptTensor)\u001b[39;00m\n\u001b[0;32m---> 86\u001b[0m out \u001b[39m=\u001b[39m \u001b[39mself\u001b[39;49m\u001b[39m.\u001b[39;49mpropagate(edge_index, x\u001b[39m=\u001b[39;49mx, edge_weight\u001b[39m=\u001b[39;49medge_weight,\n\u001b[1;32m     87\u001b[0m                      size\u001b[39m=\u001b[39;49msize)\n\u001b[1;32m     88\u001b[0m out \u001b[39m=\u001b[39m \u001b[39mself\u001b[39m\u001b[39m.\u001b[39mlin_rel(out)\n\u001b[1;32m     90\u001b[0m x_r \u001b[39m=\u001b[39m x[\u001b[39m1\u001b[39m]\n",
            "File \u001b[0;32m~/mambaforge/envs/pyg/lib/python3.10/site-packages/torch_geometric/nn/conv/message_passing.py:463\u001b[0m, in \u001b[0;36mMessagePassing.propagate\u001b[0;34m(self, edge_index, size, **kwargs)\u001b[0m\n\u001b[1;32m    461\u001b[0m     \u001b[39mif\u001b[39;00m res \u001b[39mis\u001b[39;00m \u001b[39mnot\u001b[39;00m \u001b[39mNone\u001b[39;00m:\n\u001b[1;32m    462\u001b[0m         msg_kwargs \u001b[39m=\u001b[39m res[\u001b[39m0\u001b[39m] \u001b[39mif\u001b[39;00m \u001b[39misinstance\u001b[39m(res, \u001b[39mtuple\u001b[39m) \u001b[39melse\u001b[39;00m res\n\u001b[0;32m--> 463\u001b[0m out \u001b[39m=\u001b[39m \u001b[39mself\u001b[39;49m\u001b[39m.\u001b[39;49mmessage(\u001b[39m*\u001b[39;49m\u001b[39m*\u001b[39;49mmsg_kwargs)\n\u001b[1;32m    464\u001b[0m \u001b[39mfor\u001b[39;00m hook \u001b[39min\u001b[39;00m \u001b[39mself\u001b[39m\u001b[39m.\u001b[39m_message_forward_hooks\u001b[39m.\u001b[39mvalues():\n\u001b[1;32m    465\u001b[0m     res \u001b[39m=\u001b[39m hook(\u001b[39mself\u001b[39m, (msg_kwargs, ), out)\n",
            "File \u001b[0;32m~/mambaforge/envs/pyg/lib/python3.10/site-packages/torch_geometric/nn/conv/graph_conv.py:96\u001b[0m, in \u001b[0;36mGraphConv.message\u001b[0;34m(self, x_j, edge_weight)\u001b[0m\n\u001b[1;32m     92\u001b[0m         out \u001b[39m=\u001b[39m out \u001b[39m+\u001b[39m \u001b[39mself\u001b[39m\u001b[39m.\u001b[39mlin_root(x_r)\n\u001b[1;32m     94\u001b[0m     \u001b[39mreturn\u001b[39;00m out\n\u001b[0;32m---> 96\u001b[0m \u001b[39mdef\u001b[39;00m \u001b[39mmessage\u001b[39m(\u001b[39mself\u001b[39m, x_j: Tensor, edge_weight: OptTensor) \u001b[39m-\u001b[39m\u001b[39m>\u001b[39m Tensor:\n\u001b[1;32m     97\u001b[0m     \u001b[39mreturn\u001b[39;00m x_j \u001b[39mif\u001b[39;00m edge_weight \u001b[39mis\u001b[39;00m \u001b[39mNone\u001b[39;00m \u001b[39melse\u001b[39;00m edge_weight\u001b[39m.\u001b[39mview(\u001b[39m-\u001b[39m\u001b[39m1\u001b[39m, \u001b[39m1\u001b[39m) \u001b[39m*\u001b[39m x_j\n\u001b[1;32m     99\u001b[0m \u001b[39mdef\u001b[39;00m \u001b[39mmessage_and_aggregate\u001b[39m(\u001b[39mself\u001b[39m, adj_t: SparseTensor,\n\u001b[1;32m    100\u001b[0m                           x: OptPairTensor) \u001b[39m-\u001b[39m\u001b[39m>\u001b[39m Tensor:\n",
            "\u001b[0;31mKeyboardInterrupt\u001b[0m: "
          ]
        }
      ],
      "source": [
        "import os\n",
        "import torch\n",
        "#os.environ[\"TOKENIZERS_PARALLELISM\"] = \"true\"\n",
        "device = torch.device('cuda' if torch.cuda.is_available() else 'cpu')\n",
        "model = model.to(device)\n",
        "\n",
        "\n",
        "optimizer = torch.optim.Adam(model.parameters(), lr=2e-6) #2e-15\n",
        "def graphSAGE_loss(u, v, y_label):\n",
        "    y_neg = (y_label-1)\n",
        "    y_label = (y_neg + y_label).squeeze()  # has -1 for neg and 1 for pos\n",
        "    # loss= -1* log(u,v_pos) - Q*E*log(-1*u,v_neg) where Q is number of neg, E is expected value\n",
        "    logits = torch.sum(torch.mul(u, v), dim=-1)\n",
        "    y_hat = torch.sigmoid(logits)\n",
        "    loss = -1*torch.log(torch.dot(y_hat, y_label)) # sum across all examples\n",
        "    return loss, y_hat.detach()\n",
        "\n",
        "criterion = graphSAGE_loss\n",
        "#criterion = torch.nn.CrossEntropyLoss()\n",
        "trainer = GNNTrainer(model, criterion, optimizer, device , log_folder='runs')\n",
        "#trainer.load_checkpoint('./checkpoints/checkpoint_0_300.pt')\n",
        "\n",
        "\n",
        "# for tqdm\n",
        "trainer.train_batch_size = batch_size\n",
        "trainer.train_n_mini_in_batch = train_batch_len\n",
        "trainer.val_n_mini_in_batch = val_batch_len\n",
        "\n",
        "trainer.train(\n",
        "    train_iterator, \n",
        "    val_iterator, \n",
        "    start_epoch=1, \n",
        "    n_epochs=200, \n",
        "    run_folder=f'graphconv_v0_lr_2emin6_1lin_1lin_256dim') # graphconv_v0_lr_2emin6_2lin_1lin_256dim\n",
        "# trainer.validate(val_dataloader)\n",
        "# trainer.plot_losses()\n",
        "# trainer.load_checkpoint('./checkpoints/checkpoint_100.pt')\n"
      ]
    },
    {
      "cell_type": "code",
      "execution_count": 138,
      "metadata": {},
      "outputs": [
        {
          "name": "stdout",
          "output_type": "stream",
          "text": [
            "9803.23s - pydevd: Sending message related to process being replaced timed-out after 5 seconds\n",
            "TensorFlow installation not found - running with reduced feature set.\n",
            "\n",
            "NOTE: Using experimental fast data loading logic. To disable, pass\n",
            "    \"--load_fast=false\" and report issues on GitHub. More details:\n",
            "    https://github.com/tensorflow/tensorboard/issues/4784\n",
            "\n",
            "Serving TensorBoard on localhost; to expose to the network, use a proxy or pass --bind_all\n",
            "TensorBoard 2.14.1 at http://localhost:6006/ (Press CTRL+C to quit)\n",
            "^C\n"
          ]
        }
      ],
      "source": [
        "#!tensorboard --logdir=runs\n",
        "# http://localhost:6006/?pinnedCards=%5B%7B%22plugin%22%3A%22scalars%22%2C%22tag%22%3A%22samples_train_recall%22%7D%2C%7B%22plugin%22%3A%22scalars%22%2C%22tag%22%3A%22samples_train_precision%22%7D%2C%7B%22plugin%22%3A%22scalars%22%2C%22tag%22%3A%22samples_train_loss%22%7D%2C%7B%22plugin%22%3A%22scalars%22%2C%22tag%22%3A%22samples_train_f1%22%7D%2C%7B%22plugin%22%3A%22scalars%22%2C%22tag%22%3A%22samples_train_auprc%22%7D%2C%7B%22plugin%22%3A%22scalars%22%2C%22tag%22%3A%22samples_train_accuracy%22%7D%5D&darkMode=true&smoothing=0.6#timeseries"
      ]
    },
    {
      "cell_type": "code",
      "execution_count": null,
      "metadata": {},
      "outputs": [],
      "source": [
        "# 1440057\n",
        "# 1407132."
      ]
    },
    {
      "cell_type": "code",
      "execution_count": null,
      "metadata": {},
      "outputs": [],
      "source": [
        "490586.58532714844\n",
        "485814.1606140137\n",
        "474801.0126953125"
      ]
    },
    {
      "cell_type": "code",
      "execution_count": null,
      "metadata": {},
      "outputs": [],
      "source": [
        "# ep100, Loss: 757468.5991210938\n",
        "# Loss: 739222.503692627\n",
        "# oss: 737091.7985534668\n",
        "#Loss: 734385.8401489258\n",
        "# 732283.552154541"
      ]
    },
    {
      "cell_type": "code",
      "execution_count": 285,
      "metadata": {},
      "outputs": [
        {
          "data": {
            "text/plain": [
              "72"
            ]
          },
          "execution_count": 285,
          "metadata": {},
          "output_type": "execute_result"
        }
      ],
      "source": [
        "len(train_loaders[4])"
      ]
    },
    {
      "cell_type": "code",
      "execution_count": 273,
      "metadata": {},
      "outputs": [
        {
          "ename": "TypeError",
          "evalue": "'zip' object is not subscriptable",
          "output_type": "error",
          "traceback": [
            "\u001b[0;31m---------------------------------------------------------------------------\u001b[0m",
            "\u001b[0;31mTypeError\u001b[0m                                 Traceback (most recent call last)",
            "\u001b[1;32m/home/amos/programming/create_graphds/colab.ipynb Cell 64\u001b[0m line \u001b[0;36m1\n\u001b[0;32m----> <a href='vscode-notebook-cell://wsl%2Bubuntu/home/amos/programming/create_graphds/colab.ipynb#Y231sdnNjb2RlLXJlbW90ZQ%3D%3D?line=0'>1</a>\u001b[0m \u001b[39mlen\u001b[39m(train_iterator[\u001b[39m0\u001b[39;49m])\n",
            "\u001b[0;31mTypeError\u001b[0m: 'zip' object is not subscriptable"
          ]
        }
      ],
      "source": [
        "len(train_iterator)"
      ]
    },
    {
      "cell_type": "code",
      "execution_count": null,
      "metadata": {
        "id": "f9hY5T9f9udc"
      },
      "outputs": [],
      "source": [
        "import gc\n",
        "import os\n",
        "os.environ[\"TOKENIZERS_PARALLELISM\"] = \"true\"\n",
        "# with torch.no_grad():  # Initialize lazy modules.\n",
        "#      out = model(batch.x_dict, batch.edge_index_dict, batch.edge_weight_dict)\n",
        "def get_supervision_edge_type(heterodata):\n",
        "    for edge_type in heterodata.edge_types:\n",
        "        if 'input_id' in heterodata[edge_type].keys():\n",
        "            return edge_type\n",
        "\n",
        "\n",
        "\n",
        "\n",
        "\n",
        "optimizer = torch.optim.Adam(model.parameters(), lr=0.000001)\n",
        "loss_fn = torch.nn.CrossEntropyLoss()\n",
        "model.train()\n",
        "for edge_batches in train_iterator:\n",
        "    minibatch_loss = 0\n",
        "\n",
        "\n",
        "    # each batch here is one edge type, since we want to learn for all edge types\n",
        "    for batch in edge_batches:\n",
        "        batch = batch.to(device)\n",
        "        hetero_out = model(batch.x_dict, batch.edge_index_dict, batch.edge_weight_dict)\n",
        "\n",
        "        supervision_edge_type = get_supervision_edge_type(batch)\n",
        "        src_type, dst_type = supervision_edge_type[0], supervision_edge_type[2]\n",
        "        edge_label = batch[supervision_edge_type].edge_label\n",
        "        edge_label_index = batch[supervision_edge_type].edge_label_index\n",
        "        src_node_embeddings = hetero_out[src_type][edge_label_index[0]]\n",
        "        dst_node_embeddings = hetero_out[dst_type][edge_label_index[1]]\n",
        "        logits = F.cosine_similarity(src_node_embeddings, dst_node_embeddings, dim=-1)\n",
        "        loss = loss_fn(logits, edge_label)\n",
        "        minibatch_loss += loss\n",
        "\n",
        "    minibatch_loss.backward()\n",
        "    optimizer.step()\n",
        "\n",
        "    print('mini-batch loss:',float(batch_loss))\n",
        "\n",
        "\n",
        "\n"
      ]
    },
    {
      "cell_type": "code",
      "execution_count": null,
      "metadata": {
        "id": "Rr-vuVB49udg"
      },
      "outputs": [],
      "source": [
        "supervision_edge_type = get_supervision_edge_type(batch)\n",
        "src_type, dst_type = supervision_edge_type[0], supervision_edge_type[2]\n",
        "edge_label = batch[supervision_edge_type].edge_label\n",
        "edge_label_index = batch[supervision_edge_type].edge_label_index\n",
        "src_node_embeddings = out[src_type][edge_label_index[0]]\n",
        "dst_node_embeddings = out[dst_type][edge_label_index[1]]\n",
        "torch.min(F.cosine_similarity(src_node_embeddings, dst_node_embeddings, dim=-1))"
      ]
    },
    {
      "cell_type": "code",
      "execution_count": null,
      "metadata": {
        "id": "0iKpZ0709udg"
      },
      "outputs": [],
      "source": [
        "import gc\n",
        "\n",
        "gc.collect()\n",
        "\n",
        "torch.cuda.empty_cache()"
      ]
    },
    {
      "cell_type": "code",
      "execution_count": null,
      "metadata": {
        "id": "MoCV-11H9udg"
      },
      "outputs": [],
      "source": [
        "batch[supervision_edge_type].edge_label_index"
      ]
    },
    {
      "cell_type": "code",
      "execution_count": null,
      "metadata": {
        "id": "XgWVOJMI9udg"
      },
      "outputs": [],
      "source": [
        "J2S = ('Job','REQUIRES','Skill')\n",
        "batch[J2S].edge_label_index"
      ]
    },
    {
      "cell_type": "code",
      "execution_count": null,
      "metadata": {
        "id": "4Ok0V2Mz9udg"
      },
      "outputs": [],
      "source": [
        "batch['Job','REQUIRES','Skill']."
      ]
    },
    {
      "cell_type": "code",
      "execution_count": null,
      "metadata": {
        "id": "h5nrqKUt9udh"
      },
      "outputs": [],
      "source": [
        "batch = next(iter(train_loaders[0]))\n"
      ]
    },
    {
      "cell_type": "code",
      "execution_count": null,
      "metadata": {
        "id": "lKBtbRC49udh"
      },
      "outputs": [],
      "source": [
        "batch"
      ]
    },
    {
      "cell_type": "code",
      "execution_count": null,
      "metadata": {
        "id": "-95MPpfm9udh"
      },
      "outputs": [],
      "source": [
        "batch.edge_weight_dict"
      ]
    },
    {
      "cell_type": "code",
      "execution_count": null,
      "metadata": {
        "id": "XauGYI6S9udh"
      },
      "outputs": [],
      "source": [
        "index = batch['Job','IS_SIMILAR_JOB','Job'].e_id\n",
        "labels = batch['Job','IS_SIMILAR_JOB','Job'].edge_label"
      ]
    },
    {
      "cell_type": "code",
      "execution_count": null,
      "metadata": {
        "id": "SJYX09RM9udh"
      },
      "outputs": [],
      "source": [
        "import torch_geometric.transforms as T\n",
        "from torch_geometric.datasets import OGB_MAG\n",
        "from torch_geometric.nn import SAGEConv, to_hetero\n",
        "\n",
        "\n",
        "dataset = OGB_MAG(root='./data', preprocess='metapath2vec', transform=T.ToUndirected())\n",
        "data = dataset[0]\n",
        "\n",
        "class GNN(torch.nn.Module):\n",
        "    def __init__(self, hidden_channels, out_channels):\n",
        "        super().__init__()\n",
        "        self.conv1 = SAGEConv(-1, hidden_channels)\n",
        "        self.conv2 = SAGEConv(-1, out_channels)\n",
        "\n",
        "    def forward(self, x, edge_index):\n",
        "        x = self.conv1(x, edge_index).relu()\n",
        "        x = self.conv2(x, edge_index)\n",
        "        return x\n",
        "\n",
        "\n",
        "model = GNN(hidden_channels=64, out_channels=dataset.num_classes)\n",
        "model = to_hetero(model, data.metadata(), aggr='sum')"
      ]
    },
    {
      "cell_type": "code",
      "execution_count": null,
      "metadata": {
        "id": "65-tXuE59udh"
      },
      "outputs": [],
      "source": [
        "#https://colab.research.google.com/drive/1GrAxHyZCZ13jpTkMy9vVO_v_U9nHDdvB#scrollTo=wmiFKI0ovYN4\n"
      ]
    },
    {
      "cell_type": "code",
      "execution_count": null,
      "metadata": {
        "id": "Ssoj9sM_9udh"
      },
      "outputs": [],
      "source": [
        "# intially we use this GraphConv layer and aggregate using mean\n",
        "# this layer allows the addition of edge weights: the adjacency matrix simply consists not of 1s and 0s but the corresponding weights\n",
        "#https://pytorch-geometric.readthedocs.io/en/latest/generated/torch_geometric.nn.conv.GraphConv.html\n",
        "\n",
        "# using max pool\n",
        "# https://pytorch-geometric.readthedocs.io/en/latest/generated/torch_geometric.nn.pool.global_max_pool.html#torch_geometric.nn.pool.global_max_pool"
      ]
    }
  ],
  "metadata": {
    "accelerator": "GPU",
    "colab": {
      "gpuType": "T4",
      "provenance": []
    },
    "kernelspec": {
      "display_name": "Python 3",
      "name": "python3"
    },
    "language_info": {
      "codemirror_mode": {
        "name": "ipython",
        "version": 3
      },
      "file_extension": ".py",
      "mimetype": "text/x-python",
      "name": "python",
      "nbconvert_exporter": "python",
      "pygments_lexer": "ipython3",
      "version": "3.10.12"
    },
    "orig_nbformat": 4
  },
  "nbformat": 4,
  "nbformat_minor": 0
}
