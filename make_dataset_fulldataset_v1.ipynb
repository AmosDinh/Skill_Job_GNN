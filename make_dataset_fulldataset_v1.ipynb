{
  "cells": [
    {
      "cell_type": "markdown",
      "metadata": {},
      "source": [
        "Here we use all skill nodes, not only a subset (not only those which have a normalized name)\n",
        "Also we use all edges, not only the first 125ish\n",
        "we also do not use pca reduction, but use the full dimensional minilmv2 sbert"
      ]
    },
    {
      "cell_type": "code",
      "execution_count": 1,
      "metadata": {},
      "outputs": [
        {
          "name": "stdout",
          "output_type": "stream",
          "text": [
            "Looking in links: https://data.pyg.org/whl/torch-2.1.0+cu121.html\n",
            "Requirement already satisfied: pyg-lib in /home/amos/mambaforge/envs/pyg_torch21/lib/python3.10/site-packages (0.2.0.dev20231010+pt21cu121)\n"
          ]
        }
      ],
      "source": [
        "!pip install pyg-lib -f https://data.pyg.org/whl/torch-2.1.0+cu121.html"
      ]
    },
    {
      "cell_type": "code",
      "execution_count": 2,
      "metadata": {},
      "outputs": [
        {
          "name": "stdout",
          "output_type": "stream",
          "text": [
            "Looking in indexes: https://download.pytorch.org/whl/cu121\n",
            "Requirement already satisfied: torch==2.1.0 in /home/amos/mambaforge/envs/pyg_torch21/lib/python3.10/site-packages (2.1.0+cu121)\n",
            "Requirement already satisfied: torchvision in /home/amos/mambaforge/envs/pyg_torch21/lib/python3.10/site-packages (0.16.0+cu121)\n",
            "Requirement already satisfied: torchaudio in /home/amos/mambaforge/envs/pyg_torch21/lib/python3.10/site-packages (2.1.0+cu121)\n",
            "Requirement already satisfied: filelock in /home/amos/.local/lib/python3.10/site-packages (from torch==2.1.0) (3.9.0)\n",
            "Requirement already satisfied: typing-extensions in /home/amos/mambaforge/envs/pyg_torch21/lib/python3.10/site-packages (from torch==2.1.0) (4.4.0)\n",
            "Requirement already satisfied: sympy in /home/amos/mambaforge/envs/pyg_torch21/lib/python3.10/site-packages (from torch==2.1.0) (1.12)\n",
            "Requirement already satisfied: networkx in /home/amos/.local/lib/python3.10/site-packages (from torch==2.1.0) (3.1)\n",
            "Requirement already satisfied: jinja2 in /home/amos/mambaforge/envs/pyg_torch21/lib/python3.10/site-packages (from torch==2.1.0) (3.1.2)\n",
            "Requirement already satisfied: fsspec in /home/amos/mambaforge/envs/pyg_torch21/lib/python3.10/site-packages (from torch==2.1.0) (2023.9.2)\n",
            "Requirement already satisfied: triton==2.1.0 in /home/amos/mambaforge/envs/pyg_torch21/lib/python3.10/site-packages (from torch==2.1.0) (2.1.0)\n",
            "Requirement already satisfied: numpy in /home/amos/.local/lib/python3.10/site-packages (from torchvision) (1.24.2)\n",
            "Requirement already satisfied: requests in /home/amos/mambaforge/envs/pyg_torch21/lib/python3.10/site-packages (from torchvision) (2.31.0)\n",
            "Requirement already satisfied: pillow!=8.3.*,>=5.3.0 in /home/amos/.local/lib/python3.10/site-packages (from torchvision) (9.4.0)\n",
            "Requirement already satisfied: MarkupSafe>=2.0 in /home/amos/mambaforge/envs/pyg_torch21/lib/python3.10/site-packages (from jinja2->torch==2.1.0) (2.1.2)\n",
            "Requirement already satisfied: charset-normalizer<4,>=2 in /home/amos/mambaforge/envs/pyg_torch21/lib/python3.10/site-packages (from requests->torchvision) (2.1.1)\n",
            "Requirement already satisfied: idna<4,>=2.5 in /home/amos/.local/lib/python3.10/site-packages (from requests->torchvision) (3.4)\n",
            "Requirement already satisfied: urllib3<3,>=1.21.1 in /home/amos/.local/lib/python3.10/site-packages (from requests->torchvision) (1.26.14)\n",
            "Requirement already satisfied: certifi>=2017.4.17 in /home/amos/.local/lib/python3.10/site-packages (from requests->torchvision) (2022.12.7)\n",
            "Requirement already satisfied: mpmath>=0.19 in /home/amos/mambaforge/envs/pyg_torch21/lib/python3.10/site-packages (from sympy->torch==2.1.0) (1.3.0)\n",
            "2.1.0+cu121\n",
            "Looking in links: https://data.pyg.org/whl/torch-2.0.0+cu121.html\n",
            "Requirement already satisfied: torch-sparse in /home/amos/mambaforge/envs/pyg_torch21/lib/python3.10/site-packages (0.6.18+pt21cu121)\n",
            "Requirement already satisfied: scipy in /home/amos/.local/lib/python3.10/site-packages (from torch-sparse) (1.10.1)\n",
            "Requirement already satisfied: numpy<1.27.0,>=1.19.5 in /home/amos/.local/lib/python3.10/site-packages (from scipy->torch-sparse) (1.24.2)\n",
            "Looking in links: https://data.pyg.org/whl/torch-2.0.0+cu121.html\n",
            "Requirement already satisfied: torch-scatter in /home/amos/mambaforge/envs/pyg_torch21/lib/python3.10/site-packages (2.1.2+pt21cu121)\n",
            "Collecting git+https://github.com/pyg-team/pytorch_geometric.git\n",
            "  Cloning https://github.com/pyg-team/pytorch_geometric.git to /tmp/pip-req-build-daj_8zp_\n",
            "  Running command git clone --filter=blob:none --quiet https://github.com/pyg-team/pytorch_geometric.git /tmp/pip-req-build-daj_8zp_\n",
            "  Resolved https://github.com/pyg-team/pytorch_geometric.git to commit 6938d7f784ee609eb5d0349d5599c9473acd8796\n",
            "  Installing build dependencies ... \u001b[?25ldone\n",
            "\u001b[?25h  Getting requirements to build wheel ... \u001b[?25ldone\n",
            "\u001b[?25h  Preparing metadata (pyproject.toml) ... \u001b[?25ldone\n",
            "\u001b[?25hRequirement already satisfied: tqdm in /home/amos/mambaforge/envs/pyg_torch21/lib/python3.10/site-packages (from torch_geometric==2.4.0) (4.66.1)\n",
            "Requirement already satisfied: numpy in /home/amos/.local/lib/python3.10/site-packages (from torch_geometric==2.4.0) (1.24.2)\n",
            "Requirement already satisfied: scipy in /home/amos/.local/lib/python3.10/site-packages (from torch_geometric==2.4.0) (1.10.1)\n",
            "Requirement already satisfied: jinja2 in /home/amos/mambaforge/envs/pyg_torch21/lib/python3.10/site-packages (from torch_geometric==2.4.0) (3.1.2)\n",
            "Requirement already satisfied: requests in /home/amos/mambaforge/envs/pyg_torch21/lib/python3.10/site-packages (from torch_geometric==2.4.0) (2.31.0)\n",
            "Requirement already satisfied: pyparsing in /home/amos/mambaforge/envs/pyg_torch21/lib/python3.10/site-packages (from torch_geometric==2.4.0) (3.1.1)\n",
            "Requirement already satisfied: scikit-learn in /home/amos/.local/lib/python3.10/site-packages (from torch_geometric==2.4.0) (1.2.1)\n",
            "Requirement already satisfied: psutil>=5.8.0 in /home/amos/.local/lib/python3.10/site-packages (from torch_geometric==2.4.0) (5.9.4)\n",
            "Requirement already satisfied: MarkupSafe>=2.0 in /home/amos/mambaforge/envs/pyg_torch21/lib/python3.10/site-packages (from jinja2->torch_geometric==2.4.0) (2.1.2)\n",
            "Requirement already satisfied: charset-normalizer<4,>=2 in /home/amos/mambaforge/envs/pyg_torch21/lib/python3.10/site-packages (from requests->torch_geometric==2.4.0) (2.1.1)\n",
            "Requirement already satisfied: idna<4,>=2.5 in /home/amos/.local/lib/python3.10/site-packages (from requests->torch_geometric==2.4.0) (3.4)\n",
            "Requirement already satisfied: urllib3<3,>=1.21.1 in /home/amos/.local/lib/python3.10/site-packages (from requests->torch_geometric==2.4.0) (1.26.14)\n",
            "Requirement already satisfied: certifi>=2017.4.17 in /home/amos/.local/lib/python3.10/site-packages (from requests->torch_geometric==2.4.0) (2022.12.7)\n",
            "Requirement already satisfied: joblib>=1.1.1 in /home/amos/.local/lib/python3.10/site-packages (from scikit-learn->torch_geometric==2.4.0) (1.2.0)\n",
            "Requirement already satisfied: threadpoolctl>=2.0.0 in /home/amos/.local/lib/python3.10/site-packages (from scikit-learn->torch_geometric==2.4.0) (3.1.0)\n",
            "Requirement already satisfied: sentence-transformers in /home/amos/mambaforge/envs/pyg_torch21/lib/python3.10/site-packages (2.2.2)\n",
            "Requirement already satisfied: transformers<5.0.0,>=4.6.0 in /home/amos/mambaforge/envs/pyg_torch21/lib/python3.10/site-packages (from sentence-transformers) (4.34.0)\n",
            "Requirement already satisfied: tqdm in /home/amos/mambaforge/envs/pyg_torch21/lib/python3.10/site-packages (from sentence-transformers) (4.66.1)\n",
            "Requirement already satisfied: torch>=1.6.0 in /home/amos/mambaforge/envs/pyg_torch21/lib/python3.10/site-packages (from sentence-transformers) (2.1.0+cu121)\n",
            "Requirement already satisfied: torchvision in /home/amos/mambaforge/envs/pyg_torch21/lib/python3.10/site-packages (from sentence-transformers) (0.16.0+cu121)\n",
            "Requirement already satisfied: numpy in /home/amos/.local/lib/python3.10/site-packages (from sentence-transformers) (1.24.2)\n",
            "Requirement already satisfied: scikit-learn in /home/amos/.local/lib/python3.10/site-packages (from sentence-transformers) (1.2.1)\n",
            "Requirement already satisfied: scipy in /home/amos/.local/lib/python3.10/site-packages (from sentence-transformers) (1.10.1)\n",
            "Requirement already satisfied: nltk in /home/amos/mambaforge/envs/pyg_torch21/lib/python3.10/site-packages (from sentence-transformers) (3.8.1)\n",
            "Requirement already satisfied: sentencepiece in /home/amos/mambaforge/envs/pyg_torch21/lib/python3.10/site-packages (from sentence-transformers) (0.1.99)\n",
            "Requirement already satisfied: huggingface-hub>=0.4.0 in /home/amos/mambaforge/envs/pyg_torch21/lib/python3.10/site-packages (from sentence-transformers) (0.17.3)\n",
            "Requirement already satisfied: filelock in /home/amos/.local/lib/python3.10/site-packages (from huggingface-hub>=0.4.0->sentence-transformers) (3.9.0)\n",
            "Requirement already satisfied: fsspec in /home/amos/mambaforge/envs/pyg_torch21/lib/python3.10/site-packages (from huggingface-hub>=0.4.0->sentence-transformers) (2023.9.2)\n",
            "Requirement already satisfied: requests in /home/amos/mambaforge/envs/pyg_torch21/lib/python3.10/site-packages (from huggingface-hub>=0.4.0->sentence-transformers) (2.31.0)\n",
            "Requirement already satisfied: pyyaml>=5.1 in /home/amos/mambaforge/envs/pyg_torch21/lib/python3.10/site-packages (from huggingface-hub>=0.4.0->sentence-transformers) (6.0.1)\n",
            "Requirement already satisfied: typing-extensions>=3.7.4.3 in /home/amos/mambaforge/envs/pyg_torch21/lib/python3.10/site-packages (from huggingface-hub>=0.4.0->sentence-transformers) (4.4.0)\n",
            "Requirement already satisfied: packaging>=20.9 in /home/amos/.local/lib/python3.10/site-packages (from huggingface-hub>=0.4.0->sentence-transformers) (23.0)\n",
            "Requirement already satisfied: sympy in /home/amos/mambaforge/envs/pyg_torch21/lib/python3.10/site-packages (from torch>=1.6.0->sentence-transformers) (1.12)\n",
            "Requirement already satisfied: networkx in /home/amos/.local/lib/python3.10/site-packages (from torch>=1.6.0->sentence-transformers) (3.1)\n",
            "Requirement already satisfied: jinja2 in /home/amos/mambaforge/envs/pyg_torch21/lib/python3.10/site-packages (from torch>=1.6.0->sentence-transformers) (3.1.2)\n",
            "Requirement already satisfied: triton==2.1.0 in /home/amos/mambaforge/envs/pyg_torch21/lib/python3.10/site-packages (from torch>=1.6.0->sentence-transformers) (2.1.0)\n",
            "Requirement already satisfied: regex!=2019.12.17 in /home/amos/mambaforge/envs/pyg_torch21/lib/python3.10/site-packages (from transformers<5.0.0,>=4.6.0->sentence-transformers) (2023.10.3)\n",
            "Requirement already satisfied: tokenizers<0.15,>=0.14 in /home/amos/mambaforge/envs/pyg_torch21/lib/python3.10/site-packages (from transformers<5.0.0,>=4.6.0->sentence-transformers) (0.14.1)\n",
            "Requirement already satisfied: safetensors>=0.3.1 in /home/amos/mambaforge/envs/pyg_torch21/lib/python3.10/site-packages (from transformers<5.0.0,>=4.6.0->sentence-transformers) (0.4.0)\n",
            "Requirement already satisfied: click in /home/amos/.local/lib/python3.10/site-packages (from nltk->sentence-transformers) (8.1.3)\n",
            "Requirement already satisfied: joblib in /home/amos/.local/lib/python3.10/site-packages (from nltk->sentence-transformers) (1.2.0)\n",
            "Requirement already satisfied: threadpoolctl>=2.0.0 in /home/amos/.local/lib/python3.10/site-packages (from scikit-learn->sentence-transformers) (3.1.0)\n",
            "Requirement already satisfied: pillow!=8.3.*,>=5.3.0 in /home/amos/.local/lib/python3.10/site-packages (from torchvision->sentence-transformers) (9.4.0)\n",
            "Requirement already satisfied: MarkupSafe>=2.0 in /home/amos/mambaforge/envs/pyg_torch21/lib/python3.10/site-packages (from jinja2->torch>=1.6.0->sentence-transformers) (2.1.2)\n",
            "Requirement already satisfied: charset-normalizer<4,>=2 in /home/amos/mambaforge/envs/pyg_torch21/lib/python3.10/site-packages (from requests->huggingface-hub>=0.4.0->sentence-transformers) (2.1.1)\n",
            "Requirement already satisfied: idna<4,>=2.5 in /home/amos/.local/lib/python3.10/site-packages (from requests->huggingface-hub>=0.4.0->sentence-transformers) (3.4)\n",
            "Requirement already satisfied: urllib3<3,>=1.21.1 in /home/amos/.local/lib/python3.10/site-packages (from requests->huggingface-hub>=0.4.0->sentence-transformers) (1.26.14)\n",
            "Requirement already satisfied: certifi>=2017.4.17 in /home/amos/.local/lib/python3.10/site-packages (from requests->huggingface-hub>=0.4.0->sentence-transformers) (2022.12.7)\n",
            "Requirement already satisfied: mpmath>=0.19 in /home/amos/mambaforge/envs/pyg_torch21/lib/python3.10/site-packages (from sympy->torch>=1.6.0->sentence-transformers) (1.3.0)\n",
            "Requirement already satisfied: torcheval in /home/amos/mambaforge/envs/pyg_torch21/lib/python3.10/site-packages (0.0.7)\n",
            "Requirement already satisfied: typing-extensions in /home/amos/mambaforge/envs/pyg_torch21/lib/python3.10/site-packages (from torcheval) (4.4.0)\n",
            "Requirement already satisfied: matplotlib in /home/amos/mambaforge/envs/pyg_torch21/lib/python3.10/site-packages (3.8.0)\n",
            "Requirement already satisfied: contourpy>=1.0.1 in /home/amos/mambaforge/envs/pyg_torch21/lib/python3.10/site-packages (from matplotlib) (1.1.1)\n",
            "Requirement already satisfied: cycler>=0.10 in /home/amos/mambaforge/envs/pyg_torch21/lib/python3.10/site-packages (from matplotlib) (0.12.1)\n",
            "Requirement already satisfied: fonttools>=4.22.0 in /home/amos/mambaforge/envs/pyg_torch21/lib/python3.10/site-packages (from matplotlib) (4.43.1)\n",
            "Requirement already satisfied: kiwisolver>=1.0.1 in /home/amos/mambaforge/envs/pyg_torch21/lib/python3.10/site-packages (from matplotlib) (1.4.5)\n",
            "Requirement already satisfied: numpy<2,>=1.21 in /home/amos/.local/lib/python3.10/site-packages (from matplotlib) (1.24.2)\n",
            "Requirement already satisfied: packaging>=20.0 in /home/amos/.local/lib/python3.10/site-packages (from matplotlib) (23.0)\n",
            "Requirement already satisfied: pillow>=6.2.0 in /home/amos/.local/lib/python3.10/site-packages (from matplotlib) (9.4.0)\n",
            "Requirement already satisfied: pyparsing>=2.3.1 in /home/amos/mambaforge/envs/pyg_torch21/lib/python3.10/site-packages (from matplotlib) (3.1.1)\n",
            "Requirement already satisfied: python-dateutil>=2.7 in /home/amos/.local/lib/python3.10/site-packages (from matplotlib) (2.8.2)\n",
            "Requirement already satisfied: six>=1.5 in /home/amos/mambaforge/envs/pyg_torch21/lib/python3.10/site-packages (from python-dateutil>=2.7->matplotlib) (1.16.0)\n",
            "Requirement already satisfied: pandas in /home/amos/.local/lib/python3.10/site-packages (1.5.3)\n",
            "Requirement already satisfied: python-dateutil>=2.8.1 in /home/amos/.local/lib/python3.10/site-packages (from pandas) (2.8.2)\n",
            "Requirement already satisfied: pytz>=2020.1 in /home/amos/.local/lib/python3.10/site-packages (from pandas) (2022.7.1)\n",
            "Requirement already satisfied: numpy>=1.21.0 in /home/amos/.local/lib/python3.10/site-packages (from pandas) (1.24.2)\n",
            "Requirement already satisfied: six>=1.5 in /home/amos/mambaforge/envs/pyg_torch21/lib/python3.10/site-packages (from python-dateutil>=2.8.1->pandas) (1.16.0)\n",
            "Requirement already satisfied: tensorboard in /home/amos/mambaforge/envs/pyg_torch21/lib/python3.10/site-packages (2.14.1)\n",
            "Requirement already satisfied: absl-py>=0.4 in /home/amos/mambaforge/envs/pyg_torch21/lib/python3.10/site-packages (from tensorboard) (2.0.0)\n",
            "Requirement already satisfied: grpcio>=1.48.2 in /home/amos/mambaforge/envs/pyg_torch21/lib/python3.10/site-packages (from tensorboard) (1.59.0)\n",
            "Requirement already satisfied: google-auth<3,>=1.6.3 in /home/amos/.local/lib/python3.10/site-packages (from tensorboard) (2.16.2)\n",
            "Requirement already satisfied: google-auth-oauthlib<1.1,>=0.5 in /home/amos/mambaforge/envs/pyg_torch21/lib/python3.10/site-packages (from tensorboard) (1.0.0)\n",
            "Requirement already satisfied: markdown>=2.6.8 in /home/amos/mambaforge/envs/pyg_torch21/lib/python3.10/site-packages (from tensorboard) (3.5)\n",
            "Requirement already satisfied: numpy>=1.12.0 in /home/amos/.local/lib/python3.10/site-packages (from tensorboard) (1.24.2)\n",
            "Requirement already satisfied: protobuf>=3.19.6 in /home/amos/mambaforge/envs/pyg_torch21/lib/python3.10/site-packages (from tensorboard) (4.24.4)\n",
            "Requirement already satisfied: requests<3,>=2.21.0 in /home/amos/mambaforge/envs/pyg_torch21/lib/python3.10/site-packages (from tensorboard) (2.31.0)\n",
            "Requirement already satisfied: setuptools>=41.0.0 in /home/amos/.local/lib/python3.10/site-packages (from tensorboard) (58.3.0)\n",
            "Requirement already satisfied: six>1.9 in /home/amos/mambaforge/envs/pyg_torch21/lib/python3.10/site-packages (from tensorboard) (1.16.0)\n",
            "Requirement already satisfied: tensorboard-data-server<0.8.0,>=0.7.0 in /home/amos/mambaforge/envs/pyg_torch21/lib/python3.10/site-packages (from tensorboard) (0.7.1)\n",
            "Requirement already satisfied: werkzeug>=1.0.1 in /home/amos/mambaforge/envs/pyg_torch21/lib/python3.10/site-packages (from tensorboard) (3.0.0)\n",
            "Requirement already satisfied: cachetools<6.0,>=2.0.0 in /home/amos/.local/lib/python3.10/site-packages (from google-auth<3,>=1.6.3->tensorboard) (5.3.0)\n",
            "Requirement already satisfied: pyasn1-modules>=0.2.1 in /home/amos/.local/lib/python3.10/site-packages (from google-auth<3,>=1.6.3->tensorboard) (0.2.8)\n",
            "Requirement already satisfied: rsa<5,>=3.1.4 in /home/amos/.local/lib/python3.10/site-packages (from google-auth<3,>=1.6.3->tensorboard) (4.9)\n",
            "Requirement already satisfied: requests-oauthlib>=0.7.0 in /home/amos/.local/lib/python3.10/site-packages (from google-auth-oauthlib<1.1,>=0.5->tensorboard) (1.3.1)\n",
            "Requirement already satisfied: charset-normalizer<4,>=2 in /home/amos/mambaforge/envs/pyg_torch21/lib/python3.10/site-packages (from requests<3,>=2.21.0->tensorboard) (2.1.1)\n",
            "Requirement already satisfied: idna<4,>=2.5 in /home/amos/.local/lib/python3.10/site-packages (from requests<3,>=2.21.0->tensorboard) (3.4)\n",
            "Requirement already satisfied: urllib3<3,>=1.21.1 in /home/amos/.local/lib/python3.10/site-packages (from requests<3,>=2.21.0->tensorboard) (1.26.14)\n",
            "Requirement already satisfied: certifi>=2017.4.17 in /home/amos/.local/lib/python3.10/site-packages (from requests<3,>=2.21.0->tensorboard) (2022.12.7)\n",
            "Requirement already satisfied: MarkupSafe>=2.1.1 in /home/amos/mambaforge/envs/pyg_torch21/lib/python3.10/site-packages (from werkzeug>=1.0.1->tensorboard) (2.1.2)\n",
            "Requirement already satisfied: pyasn1<0.5.0,>=0.4.6 in /home/amos/.local/lib/python3.10/site-packages (from pyasn1-modules>=0.2.1->google-auth<3,>=1.6.3->tensorboard) (0.4.8)\n",
            "Requirement already satisfied: oauthlib>=3.0.0 in /home/amos/mambaforge/envs/pyg_torch21/lib/python3.10/site-packages (from requests-oauthlib>=0.7.0->google-auth-oauthlib<1.1,>=0.5->tensorboard) (3.2.2)\n"
          ]
        }
      ],
      "source": [
        "\n",
        "import os\n",
        "!pip install torch==2.1.0 torchvision torchaudio --index-url https://download.pytorch.org/whl/cu121\n",
        "import torch\n",
        "os.environ['TORCH'] = torch.__version__\n",
        "print(torch.__version__)\n",
        "#torch_version = '2.0.0+cu118'\n",
        "#!pip install torch-scatter -f https://data.pyg.org/whl/torch-${torch.__version__}.html\n",
        "#!pip install torch-cluster -f https://data.pyg.org/whl/torch-${torch.__version__}.html\n",
        "#!pip install torch-sparse -f https://data.pyg.org/whl/torch-${torch.__version__}.html\n",
        "!pip install torch-sparse -f https://data.pyg.org/whl/torch-2.0.0+cu121.html\n",
        "!pip install torch-scatter -f https://data.pyg.org/whl/torch-2.0.0+cu121.html\n",
        "!pip install git+https://github.com/pyg-team/pytorch_geometric.git\n",
        "!pip install sentence-transformers\n",
        "!pip install torcheval\n",
        "!pip install matplotlib\n",
        "!pip install pandas\n",
        "!pip install tensorboard"
      ]
    },
    {
      "cell_type": "code",
      "execution_count": 2,
      "metadata": {
        "colab": {
          "base_uri": "https://localhost:8080/",
          "height": 143
        },
        "id": "p1oM_TnG9udQ",
        "outputId": "094d85e4-269c-4906-ee4b-396d85fec6d1"
      },
      "outputs": [
        {
          "name": "stderr",
          "output_type": "stream",
          "text": [
            "/home/amos/mambaforge/envs/pyg_torch21/lib/python3.10/site-packages/tqdm/auto.py:21: TqdmWarning: IProgress not found. Please update jupyter and ipywidgets. See https://ipywidgets.readthedocs.io/en/stable/user_install.html\n",
            "  from .autonotebook import tqdm as notebook_tqdm\n"
          ]
        }
      ],
      "source": [
        "import pandas as pd\n",
        "from torch_geometric.data import HeteroData\n",
        "import torch_geometric.transforms as T"
      ]
    },
    {
      "cell_type": "code",
      "execution_count": 3,
      "metadata": {
        "id": "hb6bIOsz9udU"
      },
      "outputs": [],
      "source": [
        "# only use skill nodes which have normalized_name != NaN, this is some indication of quality skill (?)\n",
        "skill_nodes = pd.read_csv('neo4jgraph/skills.csv').reset_index()\n",
        "job_nodes = pd.read_csv('neo4jgraph/onet_skills_unique.csv')\n",
        "\n",
        "# drop some skills \"or\"\n",
        "# skill_nodes = skill_nodes.loc[~skill_nodes.skill.isin(['or','technology'])]"
      ]
    },
    {
      "cell_type": "code",
      "execution_count": 6,
      "metadata": {},
      "outputs": [
        {
          "data": {
            "text/html": [
              "<div>\n",
              "<style scoped>\n",
              "    .dataframe tbody tr th:only-of-type {\n",
              "        vertical-align: middle;\n",
              "    }\n",
              "\n",
              "    .dataframe tbody tr th {\n",
              "        vertical-align: top;\n",
              "    }\n",
              "\n",
              "    .dataframe thead th {\n",
              "        text-align: right;\n",
              "    }\n",
              "</style>\n",
              "<table border=\"1\" class=\"dataframe\">\n",
              "  <thead>\n",
              "    <tr style=\"text-align: right;\">\n",
              "      <th></th>\n",
              "      <th>index</th>\n",
              "      <th>O*NET-SOC Code</th>\n",
              "      <th>Title</th>\n",
              "      <th>Alternate Title</th>\n",
              "      <th>Short Title</th>\n",
              "      <th>Source(s)</th>\n",
              "    </tr>\n",
              "  </thead>\n",
              "  <tbody>\n",
              "    <tr>\n",
              "      <th>2860</th>\n",
              "      <td>2860</td>\n",
              "      <td>13-1081.02</td>\n",
              "      <td>Logistics Analysts</td>\n",
              "      <td>Inventory Control Analyst</td>\n",
              "      <td>NaN</td>\n",
              "      <td>10</td>\n",
              "    </tr>\n",
              "  </tbody>\n",
              "</table>\n",
              "</div>"
            ],
            "text/plain": [
              "      index O*NET-SOC Code               Title            Alternate Title  \\\n",
              "2860   2860     13-1081.02  Logistics Analysts  Inventory Control Analyst   \n",
              "\n",
              "     Short Title Source(s)  \n",
              "2860         NaN        10  "
            ]
          },
          "execution_count": 6,
          "metadata": {},
          "output_type": "execute_result"
        }
      ],
      "source": [
        "job_nodes.loc[job_nodes['Alternate Title']=='Inventory Control Analyst']"
      ]
    },
    {
      "cell_type": "code",
      "execution_count": 7,
      "metadata": {
        "id": "1Jj8pvb49udV"
      },
      "outputs": [
        {
          "data": {
            "text/plain": [
              "660418"
            ]
          },
          "execution_count": 7,
          "metadata": {},
          "output_type": "execute_result"
        }
      ],
      "source": [
        "# There are duplicate normalized names\n",
        "skill_nodes.shape[0]-skill_nodes.normalized_name.unique().shape[0]"
      ]
    },
    {
      "cell_type": "code",
      "execution_count": 8,
      "metadata": {
        "id": "dTuAjvSa9udV"
      },
      "outputs": [
        {
          "data": {
            "text/plain": [
              "11749"
            ]
          },
          "execution_count": 8,
          "metadata": {},
          "output_type": "execute_result"
        }
      ],
      "source": [
        "# There are not as many skill names which are duplicate\n",
        "skill_nodes.shape[0]-skill_nodes.skill.unique().shape[0]"
      ]
    },
    {
      "cell_type": "code",
      "execution_count": 7,
      "metadata": {
        "id": "LwaRmpWL9udW"
      },
      "outputs": [
        {
          "data": {
            "text/html": [
              "<div>\n",
              "<style scoped>\n",
              "    .dataframe tbody tr th:only-of-type {\n",
              "        vertical-align: middle;\n",
              "    }\n",
              "\n",
              "    .dataframe tbody tr th {\n",
              "        vertical-align: top;\n",
              "    }\n",
              "\n",
              "    .dataframe thead th {\n",
              "        text-align: right;\n",
              "    }\n",
              "</style>\n",
              "<table border=\"1\" class=\"dataframe\">\n",
              "  <thead>\n",
              "    <tr style=\"text-align: right;\">\n",
              "      <th></th>\n",
              "      <th>index</th>\n",
              "      <th>skill</th>\n",
              "      <th>category</th>\n",
              "      <th>normalized_name</th>\n",
              "    </tr>\n",
              "  </thead>\n",
              "  <tbody>\n",
              "    <tr>\n",
              "      <th>2229</th>\n",
              "      <td>2229</td>\n",
              "      <td>communication</td>\n",
              "      <td>communication</td>\n",
              "      <td>Third-Party Provider Communication</td>\n",
              "    </tr>\n",
              "    <tr>\n",
              "      <th>4059</th>\n",
              "      <td>4059</td>\n",
              "      <td>communication</td>\n",
              "      <td>healthcare</td>\n",
              "      <td>Communication (Including SBAR)</td>\n",
              "    </tr>\n",
              "    <tr>\n",
              "      <th>12919</th>\n",
              "      <td>12919</td>\n",
              "      <td>communication</td>\n",
              "      <td>communication</td>\n",
              "      <td>Friendly Communication</td>\n",
              "    </tr>\n",
              "    <tr>\n",
              "      <th>16927</th>\n",
              "      <td>16927</td>\n",
              "      <td>communication</td>\n",
              "      <td>communication</td>\n",
              "      <td>radio/telephone communication</td>\n",
              "    </tr>\n",
              "    <tr>\n",
              "      <th>19452</th>\n",
              "      <td>19452</td>\n",
              "      <td>communication</td>\n",
              "      <td>communication</td>\n",
              "      <td>communication (phone and email)</td>\n",
              "    </tr>\n",
              "    <tr>\n",
              "      <th>...</th>\n",
              "      <td>...</td>\n",
              "      <td>...</td>\n",
              "      <td>...</td>\n",
              "      <td>...</td>\n",
              "    </tr>\n",
              "    <tr>\n",
              "      <th>759817</th>\n",
              "      <td>759817</td>\n",
              "      <td>communication</td>\n",
              "      <td>communication</td>\n",
              "      <td>Calling/Applying</td>\n",
              "    </tr>\n",
              "    <tr>\n",
              "      <th>762531</th>\n",
              "      <td>762531</td>\n",
              "      <td>communication</td>\n",
              "      <td>communication</td>\n",
              "      <td>Communication</td>\n",
              "    </tr>\n",
              "    <tr>\n",
              "      <th>818822</th>\n",
              "      <td>818822</td>\n",
              "      <td>communication</td>\n",
              "      <td>communication</td>\n",
              "      <td>Email/Phone Communication</td>\n",
              "    </tr>\n",
              "    <tr>\n",
              "      <th>848577</th>\n",
              "      <td>848577</td>\n",
              "      <td>communication</td>\n",
              "      <td>soft skills</td>\n",
              "      <td>Communication (Phone/Face-to-Face)</td>\n",
              "    </tr>\n",
              "    <tr>\n",
              "      <th>857407</th>\n",
              "      <td>857407</td>\n",
              "      <td>communication</td>\n",
              "      <td>healthcare</td>\n",
              "      <td>Communication (Speech and Hearing)</td>\n",
              "    </tr>\n",
              "  </tbody>\n",
              "</table>\n",
              "<p>80 rows × 4 columns</p>\n",
              "</div>"
            ],
            "text/plain": [
              "         index          skill       category  \\\n",
              "2229      2229  communication  communication   \n",
              "4059      4059  communication     healthcare   \n",
              "12919    12919  communication  communication   \n",
              "16927    16927  communication  communication   \n",
              "19452    19452  communication  communication   \n",
              "...        ...            ...            ...   \n",
              "759817  759817  communication  communication   \n",
              "762531  762531  communication  communication   \n",
              "818822  818822  communication  communication   \n",
              "848577  848577  communication    soft skills   \n",
              "857407  857407  communication     healthcare   \n",
              "\n",
              "                           normalized_name  \n",
              "2229    Third-Party Provider Communication  \n",
              "4059        Communication (Including SBAR)  \n",
              "12919               Friendly Communication  \n",
              "16927        radio/telephone communication  \n",
              "19452      communication (phone and email)  \n",
              "...                                    ...  \n",
              "759817                    Calling/Applying  \n",
              "762531                       Communication  \n",
              "818822           Email/Phone Communication  \n",
              "848577  Communication (Phone/Face-to-Face)  \n",
              "857407  Communication (Speech and Hearing)  \n",
              "\n",
              "[80 rows x 4 columns]"
            ]
          },
          "execution_count": 7,
          "metadata": {},
          "output_type": "execute_result"
        }
      ],
      "source": [
        "# we can not use normalized name instead of skill, because it is ambiguous, e.g. communication points to different normalized names\n",
        "skill_nodes.loc[skill_nodes.skill=='communication']"
      ]
    },
    {
      "cell_type": "code",
      "execution_count": 8,
      "metadata": {
        "id": "GIlL1tPh9udW"
      },
      "outputs": [],
      "source": [
        "skill_nodes.drop_duplicates(subset='skill', inplace=True)"
      ]
    },
    {
      "cell_type": "code",
      "execution_count": 9,
      "metadata": {
        "id": "zPzgTNR79udW"
      },
      "outputs": [],
      "source": [
        "\n",
        "skill_job_edges = pd.read_csv('neo4jgraph/tfidf_skill_job_edge.csv')\n",
        "#skill_job_edges = skill_job_edges.loc[skill_job_edges.scaled_tfidf>8]\n",
        "# only use edges where we have the skill and job for from the other files\n",
        "skill_job_edges = skill_job_edges.loc[skill_job_edges['skill'].isin(skill_nodes['skill'])]\n",
        "skill_job_edges = skill_job_edges.loc[skill_job_edges['alt_title'].isin(job_nodes.index)]"
      ]
    },
    {
      "cell_type": "code",
      "execution_count": 10,
      "metadata": {
        "id": "mVB9kvu49udX"
      },
      "outputs": [
        {
          "data": {
            "text/html": [
              "<div>\n",
              "<style scoped>\n",
              "    .dataframe tbody tr th:only-of-type {\n",
              "        vertical-align: middle;\n",
              "    }\n",
              "\n",
              "    .dataframe tbody tr th {\n",
              "        vertical-align: top;\n",
              "    }\n",
              "\n",
              "    .dataframe thead th {\n",
              "        text-align: right;\n",
              "    }\n",
              "</style>\n",
              "<table border=\"1\" class=\"dataframe\">\n",
              "  <thead>\n",
              "    <tr style=\"text-align: right;\">\n",
              "      <th></th>\n",
              "      <th>alt_title</th>\n",
              "      <th>skill</th>\n",
              "      <th>scaled_tfidf</th>\n",
              "      <th>n_jobdesc_used</th>\n",
              "    </tr>\n",
              "  </thead>\n",
              "  <tbody>\n",
              "    <tr>\n",
              "      <th>1</th>\n",
              "      <td>55010</td>\n",
              "      <td>design</td>\n",
              "      <td>9.887307</td>\n",
              "      <td>240</td>\n",
              "    </tr>\n",
              "    <tr>\n",
              "      <th>2</th>\n",
              "      <td>55010</td>\n",
              "      <td>or</td>\n",
              "      <td>9.522991</td>\n",
              "      <td>240</td>\n",
              "    </tr>\n",
              "    <tr>\n",
              "      <th>5</th>\n",
              "      <td>55010</td>\n",
              "      <td>cg</td>\n",
              "      <td>8.744163</td>\n",
              "      <td>240</td>\n",
              "    </tr>\n",
              "    <tr>\n",
              "      <th>7</th>\n",
              "      <td>55010</td>\n",
              "      <td>video</td>\n",
              "      <td>7.979898</td>\n",
              "      <td>240</td>\n",
              "    </tr>\n",
              "    <tr>\n",
              "      <th>10</th>\n",
              "      <td>55010</td>\n",
              "      <td>visual effects</td>\n",
              "      <td>6.299518</td>\n",
              "      <td>240</td>\n",
              "    </tr>\n",
              "    <tr>\n",
              "      <th>...</th>\n",
              "      <td>...</td>\n",
              "      <td>...</td>\n",
              "      <td>...</td>\n",
              "      <td>...</td>\n",
              "    </tr>\n",
              "    <tr>\n",
              "      <th>7926041</th>\n",
              "      <td>15285</td>\n",
              "      <td>engineering</td>\n",
              "      <td>5.864380</td>\n",
              "      <td>1</td>\n",
              "    </tr>\n",
              "    <tr>\n",
              "      <th>7926046</th>\n",
              "      <td>15285</td>\n",
              "      <td>us</td>\n",
              "      <td>4.829347</td>\n",
              "      <td>1</td>\n",
              "    </tr>\n",
              "    <tr>\n",
              "      <th>7926049</th>\n",
              "      <td>15285</td>\n",
              "      <td>it</td>\n",
              "      <td>4.486111</td>\n",
              "      <td>1</td>\n",
              "    </tr>\n",
              "    <tr>\n",
              "      <th>7926050</th>\n",
              "      <td>15285</td>\n",
              "      <td>development</td>\n",
              "      <td>4.434249</td>\n",
              "      <td>1</td>\n",
              "    </tr>\n",
              "    <tr>\n",
              "      <th>7926055</th>\n",
              "      <td>15285</td>\n",
              "      <td>training</td>\n",
              "      <td>3.974054</td>\n",
              "      <td>1</td>\n",
              "    </tr>\n",
              "  </tbody>\n",
              "</table>\n",
              "<p>5743190 rows × 4 columns</p>\n",
              "</div>"
            ],
            "text/plain": [
              "         alt_title           skill  scaled_tfidf  n_jobdesc_used\n",
              "1            55010          design      9.887307             240\n",
              "2            55010              or      9.522991             240\n",
              "5            55010              cg      8.744163             240\n",
              "7            55010           video      7.979898             240\n",
              "10           55010  visual effects      6.299518             240\n",
              "...            ...             ...           ...             ...\n",
              "7926041      15285     engineering      5.864380               1\n",
              "7926046      15285              us      4.829347               1\n",
              "7926049      15285              it      4.486111               1\n",
              "7926050      15285     development      4.434249               1\n",
              "7926055      15285        training      3.974054               1\n",
              "\n",
              "[5743190 rows x 4 columns]"
            ]
          },
          "execution_count": 10,
          "metadata": {},
          "output_type": "execute_result"
        }
      ],
      "source": [
        "skill_job_edges"
      ]
    },
    {
      "cell_type": "code",
      "execution_count": 11,
      "metadata": {
        "id": "pCzFw-fn9udY"
      },
      "outputs": [],
      "source": [
        "# map 3,6,7,3,3,... to 1,2,3,1,1 ...\n",
        "skillmapping ={}\n",
        "for i,skill in enumerate(skill_nodes.skill.unique()):\n",
        "    skillmapping[skill] =i\n",
        "\n",
        "jobmapping ={}\n",
        "jobmapping_index_to_title_alttile = {}\n",
        "for i, index in enumerate(job_nodes['index'].unique()):\n",
        "    jobmapping[index] =i\n",
        "\n",
        "for _, row in job_nodes.iterrows():\n",
        "    if type(row['Title']) == str:\n",
        "        a = row['Title']\n",
        "    else:\n",
        "        a = ''\n",
        "    \n",
        "    jobmapping_index_to_title_alttile[row['index']] = a+'/'+row['Alternate Title']\n",
        "\n",
        "inverted_skillmapping = {v:k for k,v in skillmapping.items()}\n",
        "inverted_jobmapping = {v:k for k,v in jobmapping.items()}"
      ]
    },
    {
      "cell_type": "code",
      "execution_count": 12,
      "metadata": {
        "id": "BHirmQzn9udY"
      },
      "outputs": [],
      "source": [
        "skill_job_edges['skill_dst'] = skill_job_edges['skill'].apply(lambda x:skillmapping[x])\n",
        "skill_job_edges['job_src'] = skill_job_edges['alt_title'].apply(lambda x:jobmapping[x])"
      ]
    },
    {
      "cell_type": "code",
      "execution_count": 13,
      "metadata": {},
      "outputs": [
        {
          "name": "stderr",
          "output_type": "stream",
          "text": [
            "/tmp/ipykernel_5731/3367385361.py:6: FutureWarning: The default value of numeric_only in DataFrameGroupBy.sum is deprecated. In a future version, numeric_only will default to False. Either specify numeric_only or select only columns which should be valid for the function.\n",
            "  summed_tfidf_per_job = skill_job_edges.groupby('job_src').sum()\n"
          ]
        }
      ],
      "source": [
        "# normalization and removal of job-skill edges\n",
        "# first group by jobs and limit the skills for each job to 175\n",
        "# then normalize those tfidf edgeweights\n",
        "# then group by skill and limit edges to 125 for skills (ordered by normalized tf-idf)\n",
        "skill_job_edges = skill_job_edges.groupby('job_src').apply(lambda group: group.nlargest(175,'scaled_tfidf')).reset_index(drop=True)\n",
        "summed_tfidf_per_job = skill_job_edges.groupby('job_src').sum()\n",
        "skill_job_edges['sum'] = skill_job_edges['job_src'].apply(lambda x: summed_tfidf_per_job.loc[x]['scaled_tfidf'])\n",
        "skill_job_edges['normalized_tfidf'] =  skill_job_edges['scaled_tfidf']/skill_job_edges['sum']\n",
        "skill_job_edges = skill_job_edges.groupby('skill_dst').apply(lambda group: group.nlargest(125,'normalized_tfidf')).reset_index(drop=True)\n",
        "# we dont do the second round of normalization"
      ]
    },
    {
      "cell_type": "code",
      "execution_count": 14,
      "metadata": {},
      "outputs": [],
      "source": [
        "# normalization and removing of skill-skill edges\n"
      ]
    },
    {
      "cell_type": "code",
      "execution_count": 15,
      "metadata": {},
      "outputs": [],
      "source": [
        "\n",
        "\n",
        "#for each alt title select the first 125 skill_job edges, ordered by tfidf\n",
        "# skill_job_edges = skill_job_edges.groupby('job_src')\n",
        "# skill_job_edges = skill_job_edges.groupby('job_src').apply(lambda group: group.nlargest(125,'scaled_tfidf')).reset_index(drop=True)\n",
        "\n",
        "# for each skill only use the 125 edges with the highest tf-idf score\n",
        "#skill_job_edges = skill_job_edges.groupby('skill').apply(lambda group: group.nlargest(125,'scaled_tfidf')).reset_index(drop=True)"
      ]
    },
    {
      "cell_type": "code",
      "execution_count": 16,
      "metadata": {},
      "outputs": [
        {
          "data": {
            "text/html": [
              "<div>\n",
              "<style scoped>\n",
              "    .dataframe tbody tr th:only-of-type {\n",
              "        vertical-align: middle;\n",
              "    }\n",
              "\n",
              "    .dataframe tbody tr th {\n",
              "        vertical-align: top;\n",
              "    }\n",
              "\n",
              "    .dataframe thead th {\n",
              "        text-align: right;\n",
              "    }\n",
              "</style>\n",
              "<table border=\"1\" class=\"dataframe\">\n",
              "  <thead>\n",
              "    <tr style=\"text-align: right;\">\n",
              "      <th></th>\n",
              "      <th>alt_title</th>\n",
              "      <th>skill</th>\n",
              "      <th>scaled_tfidf</th>\n",
              "      <th>n_jobdesc_used</th>\n",
              "      <th>skill_dst</th>\n",
              "      <th>job_src</th>\n",
              "      <th>sum</th>\n",
              "      <th>normalized_tfidf</th>\n",
              "    </tr>\n",
              "  </thead>\n",
              "  <tbody>\n",
              "    <tr>\n",
              "      <th>0</th>\n",
              "      <td>24372</td>\n",
              "      <td>working in shift</td>\n",
              "      <td>0.935676</td>\n",
              "      <td>25</td>\n",
              "      <td>10</td>\n",
              "      <td>24370</td>\n",
              "      <td>203.551902</td>\n",
              "      <td>0.004597</td>\n",
              "    </tr>\n",
              "    <tr>\n",
              "      <th>1</th>\n",
              "      <td>2930</td>\n",
              "      <td>digital creators</td>\n",
              "      <td>1.990591</td>\n",
              "      <td>103</td>\n",
              "      <td>26</td>\n",
              "      <td>2930</td>\n",
              "      <td>284.243043</td>\n",
              "      <td>0.007003</td>\n",
              "    </tr>\n",
              "    <tr>\n",
              "      <th>2</th>\n",
              "      <td>3119</td>\n",
              "      <td>digital creators</td>\n",
              "      <td>0.642614</td>\n",
              "      <td>47</td>\n",
              "      <td>26</td>\n",
              "      <td>3119</td>\n",
              "      <td>251.646329</td>\n",
              "      <td>0.002554</td>\n",
              "    </tr>\n",
              "    <tr>\n",
              "      <th>3</th>\n",
              "      <td>4758</td>\n",
              "      <td>integrated solutions</td>\n",
              "      <td>0.666242</td>\n",
              "      <td>2355</td>\n",
              "      <td>41</td>\n",
              "      <td>4758</td>\n",
              "      <td>329.999732</td>\n",
              "      <td>0.002019</td>\n",
              "    </tr>\n",
              "    <tr>\n",
              "      <th>4</th>\n",
              "      <td>2787</td>\n",
              "      <td>integrated solutions</td>\n",
              "      <td>0.160829</td>\n",
              "      <td>38</td>\n",
              "      <td>41</td>\n",
              "      <td>2787</td>\n",
              "      <td>211.244072</td>\n",
              "      <td>0.000761</td>\n",
              "    </tr>\n",
              "    <tr>\n",
              "      <th>...</th>\n",
              "      <td>...</td>\n",
              "      <td>...</td>\n",
              "      <td>...</td>\n",
              "      <td>...</td>\n",
              "      <td>...</td>\n",
              "      <td>...</td>\n",
              "      <td>...</td>\n",
              "      <td>...</td>\n",
              "    </tr>\n",
              "    <tr>\n",
              "      <th>750778</th>\n",
              "      <td>158</td>\n",
              "      <td>company manuals</td>\n",
              "      <td>1.418798</td>\n",
              "      <td>10</td>\n",
              "      <td>860253</td>\n",
              "      <td>158</td>\n",
              "      <td>234.533077</td>\n",
              "      <td>0.006049</td>\n",
              "    </tr>\n",
              "    <tr>\n",
              "      <th>750779</th>\n",
              "      <td>6068</td>\n",
              "      <td>environmental inspection</td>\n",
              "      <td>1.265448</td>\n",
              "      <td>16</td>\n",
              "      <td>860263</td>\n",
              "      <td>6068</td>\n",
              "      <td>322.010740</td>\n",
              "      <td>0.003930</td>\n",
              "    </tr>\n",
              "    <tr>\n",
              "      <th>750780</th>\n",
              "      <td>2825</td>\n",
              "      <td>remote storage</td>\n",
              "      <td>0.532376</td>\n",
              "      <td>187</td>\n",
              "      <td>860274</td>\n",
              "      <td>2825</td>\n",
              "      <td>204.673167</td>\n",
              "      <td>0.002601</td>\n",
              "    </tr>\n",
              "    <tr>\n",
              "      <th>750781</th>\n",
              "      <td>53572</td>\n",
              "      <td>remote storage</td>\n",
              "      <td>0.306624</td>\n",
              "      <td>123</td>\n",
              "      <td>860274</td>\n",
              "      <td>53570</td>\n",
              "      <td>162.977214</td>\n",
              "      <td>0.001881</td>\n",
              "    </tr>\n",
              "    <tr>\n",
              "      <th>750782</th>\n",
              "      <td>14942</td>\n",
              "      <td>oilfield terminology</td>\n",
              "      <td>2.831527</td>\n",
              "      <td>6</td>\n",
              "      <td>860277</td>\n",
              "      <td>14940</td>\n",
              "      <td>441.166047</td>\n",
              "      <td>0.006418</td>\n",
              "    </tr>\n",
              "  </tbody>\n",
              "</table>\n",
              "<p>750783 rows × 8 columns</p>\n",
              "</div>"
            ],
            "text/plain": [
              "        alt_title                     skill  scaled_tfidf  n_jobdesc_used  \\\n",
              "0           24372          working in shift      0.935676              25   \n",
              "1            2930          digital creators      1.990591             103   \n",
              "2            3119          digital creators      0.642614              47   \n",
              "3            4758      integrated solutions      0.666242            2355   \n",
              "4            2787      integrated solutions      0.160829              38   \n",
              "...           ...                       ...           ...             ...   \n",
              "750778        158           company manuals      1.418798              10   \n",
              "750779       6068  environmental inspection      1.265448              16   \n",
              "750780       2825            remote storage      0.532376             187   \n",
              "750781      53572            remote storage      0.306624             123   \n",
              "750782      14942      oilfield terminology      2.831527               6   \n",
              "\n",
              "        skill_dst  job_src         sum  normalized_tfidf  \n",
              "0              10    24370  203.551902          0.004597  \n",
              "1              26     2930  284.243043          0.007003  \n",
              "2              26     3119  251.646329          0.002554  \n",
              "3              41     4758  329.999732          0.002019  \n",
              "4              41     2787  211.244072          0.000761  \n",
              "...           ...      ...         ...               ...  \n",
              "750778     860253      158  234.533077          0.006049  \n",
              "750779     860263     6068  322.010740          0.003930  \n",
              "750780     860274     2825  204.673167          0.002601  \n",
              "750781     860274    53570  162.977214          0.001881  \n",
              "750782     860277    14940  441.166047          0.006418  \n",
              "\n",
              "[750783 rows x 8 columns]"
            ]
          },
          "execution_count": 16,
          "metadata": {},
          "output_type": "execute_result"
        }
      ],
      "source": [
        "skill_job_edges"
      ]
    },
    {
      "cell_type": "code",
      "execution_count": 17,
      "metadata": {
        "id": "8Yfi1fRd9udY"
      },
      "outputs": [],
      "source": [
        "onet_alttitles = pd.read_csv('neo4jgraph/onet_alt_titles_unique.csv')\n",
        "del onet_alttitles['Unnamed: 0']"
      ]
    },
    {
      "cell_type": "code",
      "execution_count": 18,
      "metadata": {
        "id": "8FgE8nyo9udY"
      },
      "outputs": [],
      "source": [
        "onet_alttitle_str_mapping = {}\n",
        "for i,row in onet_alttitles.iterrows():\n",
        "    onet_alttitle_str_mapping[row['index']] = row['Alternate Title']"
      ]
    },
    {
      "cell_type": "code",
      "execution_count": 19,
      "metadata": {},
      "outputs": [],
      "source": [
        "import torch\n",
        "mappings = {\n",
        "    'onet_alttitle_str_mapping':onet_alttitle_str_mapping,\n",
        "    'skillmapping':skillmapping,\n",
        "    'inverted_skillmapping':inverted_skillmapping,\n",
        "    'jobmapping':jobmapping,\n",
        "    'inverted_jobmapping':inverted_jobmapping,\n",
        "    'jobmapping_index_to_title_alttile':jobmapping_index_to_title_alttile\n",
        "}\n",
        "\n",
        "torch.save(mappings, 'Job_Skill_HeteroData_name_mappings_withdupes_fulldataset_v1.pt')"
      ]
    },
    {
      "cell_type": "code",
      "execution_count": 22,
      "metadata": {},
      "outputs": [
        {
          "data": {
            "text/plain": [
              "55653"
            ]
          },
          "execution_count": 22,
          "metadata": {},
          "output_type": "execute_result"
        }
      ],
      "source": [
        "len(jobmapping.keys())"
      ]
    },
    {
      "cell_type": "code",
      "execution_count": 20,
      "metadata": {},
      "outputs": [
        {
          "ename": "NameError",
          "evalue": "name 'wdwd' is not defined",
          "output_type": "error",
          "traceback": [
            "\u001b[0;31m---------------------------------------------------------------------------\u001b[0m",
            "\u001b[0;31mNameError\u001b[0m                                 Traceback (most recent call last)",
            "\u001b[1;32m/home/amos/programming/create_graphds/make_dataset_fulldataset.ipynb Cell 21\u001b[0m line \u001b[0;36m1\n\u001b[0;32m----> <a href='vscode-notebook-cell://wsl%2Bubuntu/home/amos/programming/create_graphds/make_dataset_fulldataset.ipynb#Y146sdnNjb2RlLXJlbW90ZQ%3D%3D?line=0'>1</a>\u001b[0m wdwd\n",
            "\u001b[0;31mNameError\u001b[0m: name 'wdwd' is not defined"
          ]
        }
      ],
      "source": [
        "wdwd"
      ]
    },
    {
      "cell_type": "code",
      "execution_count": null,
      "metadata": {},
      "outputs": [
        {
          "name": "stdout",
          "output_type": "stream",
          "text": [
            "Requirement already satisfied: sentence-transformers in /home/amos/mambaforge/envs/pyg_torch21/lib/python3.10/site-packages (2.2.2)\n",
            "Requirement already satisfied: transformers<5.0.0,>=4.6.0 in /home/amos/mambaforge/envs/pyg_torch21/lib/python3.10/site-packages (from sentence-transformers) (4.34.0)\n",
            "Requirement already satisfied: tqdm in /home/amos/mambaforge/envs/pyg_torch21/lib/python3.10/site-packages (from sentence-transformers) (4.66.1)\n",
            "Requirement already satisfied: torch>=1.6.0 in /home/amos/mambaforge/envs/pyg_torch21/lib/python3.10/site-packages (from sentence-transformers) (2.1.0+cu121)\n",
            "Requirement already satisfied: torchvision in /home/amos/mambaforge/envs/pyg_torch21/lib/python3.10/site-packages (from sentence-transformers) (0.16.0+cu121)\n",
            "Requirement already satisfied: numpy in /home/amos/.local/lib/python3.10/site-packages (from sentence-transformers) (1.24.2)\n",
            "Requirement already satisfied: scikit-learn in /home/amos/.local/lib/python3.10/site-packages (from sentence-transformers) (1.2.1)\n",
            "Requirement already satisfied: scipy in /home/amos/.local/lib/python3.10/site-packages (from sentence-transformers) (1.10.1)\n",
            "Requirement already satisfied: nltk in /home/amos/mambaforge/envs/pyg_torch21/lib/python3.10/site-packages (from sentence-transformers) (3.8.1)\n",
            "Requirement already satisfied: sentencepiece in /home/amos/mambaforge/envs/pyg_torch21/lib/python3.10/site-packages (from sentence-transformers) (0.1.99)\n",
            "Requirement already satisfied: huggingface-hub>=0.4.0 in /home/amos/mambaforge/envs/pyg_torch21/lib/python3.10/site-packages (from sentence-transformers) (0.17.3)\n",
            "Requirement already satisfied: filelock in /home/amos/.local/lib/python3.10/site-packages (from huggingface-hub>=0.4.0->sentence-transformers) (3.9.0)\n",
            "Requirement already satisfied: fsspec in /home/amos/mambaforge/envs/pyg_torch21/lib/python3.10/site-packages (from huggingface-hub>=0.4.0->sentence-transformers) (2023.9.2)\n",
            "Requirement already satisfied: requests in /home/amos/mambaforge/envs/pyg_torch21/lib/python3.10/site-packages (from huggingface-hub>=0.4.0->sentence-transformers) (2.31.0)\n",
            "Requirement already satisfied: pyyaml>=5.1 in /home/amos/mambaforge/envs/pyg_torch21/lib/python3.10/site-packages (from huggingface-hub>=0.4.0->sentence-transformers) (6.0.1)\n",
            "Requirement already satisfied: typing-extensions>=3.7.4.3 in /home/amos/mambaforge/envs/pyg_torch21/lib/python3.10/site-packages (from huggingface-hub>=0.4.0->sentence-transformers) (4.4.0)\n",
            "Requirement already satisfied: packaging>=20.9 in /home/amos/.local/lib/python3.10/site-packages (from huggingface-hub>=0.4.0->sentence-transformers) (23.0)\n",
            "Requirement already satisfied: sympy in /home/amos/mambaforge/envs/pyg_torch21/lib/python3.10/site-packages (from torch>=1.6.0->sentence-transformers) (1.12)\n",
            "Requirement already satisfied: networkx in /home/amos/.local/lib/python3.10/site-packages (from torch>=1.6.0->sentence-transformers) (3.1)\n",
            "Requirement already satisfied: jinja2 in /home/amos/mambaforge/envs/pyg_torch21/lib/python3.10/site-packages (from torch>=1.6.0->sentence-transformers) (3.1.2)\n",
            "Requirement already satisfied: triton==2.1.0 in /home/amos/mambaforge/envs/pyg_torch21/lib/python3.10/site-packages (from torch>=1.6.0->sentence-transformers) (2.1.0)\n",
            "Requirement already satisfied: regex!=2019.12.17 in /home/amos/mambaforge/envs/pyg_torch21/lib/python3.10/site-packages (from transformers<5.0.0,>=4.6.0->sentence-transformers) (2023.10.3)\n",
            "Requirement already satisfied: tokenizers<0.15,>=0.14 in /home/amos/mambaforge/envs/pyg_torch21/lib/python3.10/site-packages (from transformers<5.0.0,>=4.6.0->sentence-transformers) (0.14.1)\n",
            "Requirement already satisfied: safetensors>=0.3.1 in /home/amos/mambaforge/envs/pyg_torch21/lib/python3.10/site-packages (from transformers<5.0.0,>=4.6.0->sentence-transformers) (0.4.0)\n",
            "Requirement already satisfied: click in /home/amos/.local/lib/python3.10/site-packages (from nltk->sentence-transformers) (8.1.3)\n",
            "Requirement already satisfied: joblib in /home/amos/.local/lib/python3.10/site-packages (from nltk->sentence-transformers) (1.2.0)\n",
            "Requirement already satisfied: threadpoolctl>=2.0.0 in /home/amos/.local/lib/python3.10/site-packages (from scikit-learn->sentence-transformers) (3.1.0)\n",
            "Requirement already satisfied: pillow!=8.3.*,>=5.3.0 in /home/amos/.local/lib/python3.10/site-packages (from torchvision->sentence-transformers) (9.4.0)\n",
            "Requirement already satisfied: MarkupSafe>=2.0 in /home/amos/mambaforge/envs/pyg_torch21/lib/python3.10/site-packages (from jinja2->torch>=1.6.0->sentence-transformers) (2.1.2)\n",
            "Requirement already satisfied: charset-normalizer<4,>=2 in /home/amos/mambaforge/envs/pyg_torch21/lib/python3.10/site-packages (from requests->huggingface-hub>=0.4.0->sentence-transformers) (2.1.1)\n",
            "Requirement already satisfied: idna<4,>=2.5 in /home/amos/.local/lib/python3.10/site-packages (from requests->huggingface-hub>=0.4.0->sentence-transformers) (3.4)\n",
            "Requirement already satisfied: urllib3<3,>=1.21.1 in /home/amos/.local/lib/python3.10/site-packages (from requests->huggingface-hub>=0.4.0->sentence-transformers) (1.26.14)\n",
            "Requirement already satisfied: certifi>=2017.4.17 in /home/amos/.local/lib/python3.10/site-packages (from requests->huggingface-hub>=0.4.0->sentence-transformers) (2022.12.7)\n",
            "Requirement already satisfied: mpmath>=0.19 in /home/amos/mambaforge/envs/pyg_torch21/lib/python3.10/site-packages (from sympy->torch>=1.6.0->sentence-transformers) (1.3.0)\n"
          ]
        }
      ],
      "source": [
        "!pip install sentence-transformers"
      ]
    },
    {
      "cell_type": "code",
      "execution_count": null,
      "metadata": {
        "id": "E1_J7gV59udY"
      },
      "outputs": [],
      "source": [
        "from sentence_transformers import SentenceTransformer\n",
        "embedder = SentenceTransformer('all-MiniLM-L6-v2')\n"
      ]
    },
    {
      "cell_type": "code",
      "execution_count": null,
      "metadata": {},
      "outputs": [],
      "source": []
    },
    {
      "cell_type": "code",
      "execution_count": null,
      "metadata": {
        "id": "vK1p6Rf-9udZ"
      },
      "outputs": [
        {
          "ename": "",
          "evalue": "",
          "output_type": "error",
          "traceback": [
            "\u001b[1;31mThe Kernel crashed while executing code in the the current cell or a previous cell. Please review the code in the cell(s) to identify a possible cause of the failure. Click <a href='https://aka.ms/vscodeJupyterKernelCrash'>here</a> for more info. View Jupyter <a href='command:jupyter.viewOutput'>log</a> for further details."
          ]
        }
      ],
      "source": [
        "skill_sbert_embeddings = embedder.encode(skill_nodes['skill'].tolist(), convert_to_numpy=True, device='cuda')\n",
        "job_sbert_embeddings = embedder.encode(job_nodes['Alternate Title'].tolist(), convert_to_numpy=True, device='cuda')"
      ]
    },
    {
      "cell_type": "code",
      "execution_count": null,
      "metadata": {
        "id": "_vD1fRkf9udZ"
      },
      "outputs": [],
      "source": [
        "# add job-job edges, dataset see https://www.onetcenter.org/dictionary/26.3/excel/related_occupations.html\n",
        "job_job_edges = pd.read_csv('neo4jgraph/onet_related_occupations.csv')"
      ]
    },
    {
      "cell_type": "code",
      "execution_count": null,
      "metadata": {
        "id": "hMsTH1Sx9udZ"
      },
      "outputs": [
        {
          "data": {
            "text/html": [
              "<div>\n",
              "<style scoped>\n",
              "    .dataframe tbody tr th:only-of-type {\n",
              "        vertical-align: middle;\n",
              "    }\n",
              "\n",
              "    .dataframe tbody tr th {\n",
              "        vertical-align: top;\n",
              "    }\n",
              "\n",
              "    .dataframe thead th {\n",
              "        text-align: right;\n",
              "    }\n",
              "</style>\n",
              "<table border=\"1\" class=\"dataframe\">\n",
              "  <thead>\n",
              "    <tr style=\"text-align: right;\">\n",
              "      <th></th>\n",
              "      <th>O*NET-SOC Code</th>\n",
              "      <th>Title</th>\n",
              "      <th>Related O*NET-SOC Code</th>\n",
              "      <th>Related Title</th>\n",
              "      <th>Relatedness Tier</th>\n",
              "      <th>index_x</th>\n",
              "      <th>index_y</th>\n",
              "    </tr>\n",
              "  </thead>\n",
              "  <tbody>\n",
              "    <tr>\n",
              "      <th>0</th>\n",
              "      <td>11-1011.00</td>\n",
              "      <td>Chief Executives</td>\n",
              "      <td>11-1021.00</td>\n",
              "      <td>General and Operations Managers</td>\n",
              "      <td>Primary-Short</td>\n",
              "      <td>54641</td>\n",
              "      <td>54643</td>\n",
              "    </tr>\n",
              "    <tr>\n",
              "      <th>1</th>\n",
              "      <td>11-1031.00</td>\n",
              "      <td>Legislators</td>\n",
              "      <td>11-1021.00</td>\n",
              "      <td>General and Operations Managers</td>\n",
              "      <td>Supplemental</td>\n",
              "      <td>54644</td>\n",
              "      <td>54643</td>\n",
              "    </tr>\n",
              "    <tr>\n",
              "      <th>2</th>\n",
              "      <td>11-2021.00</td>\n",
              "      <td>Marketing Managers</td>\n",
              "      <td>11-1021.00</td>\n",
              "      <td>General and Operations Managers</td>\n",
              "      <td>Supplemental</td>\n",
              "      <td>54646</td>\n",
              "      <td>54643</td>\n",
              "    </tr>\n",
              "    <tr>\n",
              "      <th>3</th>\n",
              "      <td>11-2022.00</td>\n",
              "      <td>Sales Managers</td>\n",
              "      <td>11-1021.00</td>\n",
              "      <td>General and Operations Managers</td>\n",
              "      <td>Primary-Long</td>\n",
              "      <td>54647</td>\n",
              "      <td>54643</td>\n",
              "    </tr>\n",
              "    <tr>\n",
              "      <th>4</th>\n",
              "      <td>11-2032.00</td>\n",
              "      <td>Public Relations Managers</td>\n",
              "      <td>11-1021.00</td>\n",
              "      <td>General and Operations Managers</td>\n",
              "      <td>Primary-Long</td>\n",
              "      <td>54648</td>\n",
              "      <td>54643</td>\n",
              "    </tr>\n",
              "    <tr>\n",
              "      <th>...</th>\n",
              "      <td>...</td>\n",
              "      <td>...</td>\n",
              "      <td>...</td>\n",
              "      <td>...</td>\n",
              "      <td>...</td>\n",
              "      <td>...</td>\n",
              "      <td>...</td>\n",
              "    </tr>\n",
              "    <tr>\n",
              "      <th>18379</th>\n",
              "      <td>53-2022.00</td>\n",
              "      <td>Airfield Operations Specialists</td>\n",
              "      <td>53-2011.00</td>\n",
              "      <td>Airline Pilots, Copilots, and Flight Engineers</td>\n",
              "      <td>Primary-Short</td>\n",
              "      <td>55590</td>\n",
              "      <td>55587</td>\n",
              "    </tr>\n",
              "    <tr>\n",
              "      <th>18380</th>\n",
              "      <td>53-2031.00</td>\n",
              "      <td>Flight Attendants</td>\n",
              "      <td>53-2011.00</td>\n",
              "      <td>Airline Pilots, Copilots, and Flight Engineers</td>\n",
              "      <td>Supplemental</td>\n",
              "      <td>55591</td>\n",
              "      <td>55587</td>\n",
              "    </tr>\n",
              "    <tr>\n",
              "      <th>18381</th>\n",
              "      <td>53-5021.00</td>\n",
              "      <td>Captains, Mates, and Pilots of Water Vessels</td>\n",
              "      <td>53-2011.00</td>\n",
              "      <td>Airline Pilots, Copilots, and Flight Engineers</td>\n",
              "      <td>Primary-Short</td>\n",
              "      <td>55608</td>\n",
              "      <td>55587</td>\n",
              "    </tr>\n",
              "    <tr>\n",
              "      <th>18382</th>\n",
              "      <td>53-5022.00</td>\n",
              "      <td>Motorboat Operators</td>\n",
              "      <td>53-2011.00</td>\n",
              "      <td>Airline Pilots, Copilots, and Flight Engineers</td>\n",
              "      <td>Supplemental</td>\n",
              "      <td>55609</td>\n",
              "      <td>55587</td>\n",
              "    </tr>\n",
              "    <tr>\n",
              "      <th>18383</th>\n",
              "      <td>53-6032.00</td>\n",
              "      <td>Aircraft Service Attendants</td>\n",
              "      <td>53-2011.00</td>\n",
              "      <td>Airline Pilots, Copilots, and Flight Engineers</td>\n",
              "      <td>Supplemental</td>\n",
              "      <td>55614</td>\n",
              "      <td>55587</td>\n",
              "    </tr>\n",
              "  </tbody>\n",
              "</table>\n",
              "<p>18384 rows × 7 columns</p>\n",
              "</div>"
            ],
            "text/plain": [
              "      O*NET-SOC Code                                         Title  \\\n",
              "0         11-1011.00                              Chief Executives   \n",
              "1         11-1031.00                                   Legislators   \n",
              "2         11-2021.00                            Marketing Managers   \n",
              "3         11-2022.00                                Sales Managers   \n",
              "4         11-2032.00                     Public Relations Managers   \n",
              "...              ...                                           ...   \n",
              "18379     53-2022.00               Airfield Operations Specialists   \n",
              "18380     53-2031.00                             Flight Attendants   \n",
              "18381     53-5021.00  Captains, Mates, and Pilots of Water Vessels   \n",
              "18382     53-5022.00                           Motorboat Operators   \n",
              "18383     53-6032.00                   Aircraft Service Attendants   \n",
              "\n",
              "      Related O*NET-SOC Code                                   Related Title  \\\n",
              "0                 11-1021.00                 General and Operations Managers   \n",
              "1                 11-1021.00                 General and Operations Managers   \n",
              "2                 11-1021.00                 General and Operations Managers   \n",
              "3                 11-1021.00                 General and Operations Managers   \n",
              "4                 11-1021.00                 General and Operations Managers   \n",
              "...                      ...                                             ...   \n",
              "18379             53-2011.00  Airline Pilots, Copilots, and Flight Engineers   \n",
              "18380             53-2011.00  Airline Pilots, Copilots, and Flight Engineers   \n",
              "18381             53-2011.00  Airline Pilots, Copilots, and Flight Engineers   \n",
              "18382             53-2011.00  Airline Pilots, Copilots, and Flight Engineers   \n",
              "18383             53-2011.00  Airline Pilots, Copilots, and Flight Engineers   \n",
              "\n",
              "      Relatedness Tier  index_x  index_y  \n",
              "0        Primary-Short    54641    54643  \n",
              "1         Supplemental    54644    54643  \n",
              "2         Supplemental    54646    54643  \n",
              "3         Primary-Long    54647    54643  \n",
              "4         Primary-Long    54648    54643  \n",
              "...                ...      ...      ...  \n",
              "18379    Primary-Short    55590    55587  \n",
              "18380     Supplemental    55591    55587  \n",
              "18381    Primary-Short    55608    55587  \n",
              "18382     Supplemental    55609    55587  \n",
              "18383     Supplemental    55614    55587  \n",
              "\n",
              "[18384 rows x 7 columns]"
            ]
          },
          "execution_count": 24,
          "metadata": {},
          "output_type": "execute_result"
        }
      ],
      "source": [
        "job_job_edges"
      ]
    },
    {
      "cell_type": "code",
      "execution_count": null,
      "metadata": {
        "id": "p1lR651a9uda"
      },
      "outputs": [],
      "source": [
        "job_job_edges['job_src'] = job_job_edges['index_x'].apply(lambda x: jobmapping[x])\n",
        "job_job_edges['job_dst'] = job_job_edges['index_y'].apply(lambda x: jobmapping[x])\n",
        "relatedness_weight = {\n",
        "    'Supplemental':0.5,\n",
        "    'Primary-Long':0.7,\n",
        "    'Primary-Short':1\n",
        "}\n",
        "job_job_edges['relatedness_weight'] = job_job_edges['Relatedness Tier'].apply(lambda x: relatedness_weight[x])"
      ]
    },
    {
      "cell_type": "code",
      "execution_count": null,
      "metadata": {
        "id": "T1Wc7CIL9uda"
      },
      "outputs": [],
      "source": [
        "skill_skill_edges = pd.read_csv('neo4jgraph/skill_skill_edges.csv')\n"
      ]
    },
    {
      "cell_type": "code",
      "execution_count": null,
      "metadata": {
        "id": "8qOHTGfL9uda"
      },
      "outputs": [],
      "source": [
        "#filter out potentially bad skills (which are not in our original skillmapping)\n",
        "skill_skill_edges = skill_skill_edges.loc[(skill_skill_edges.skill.isin(list(skillmapping.keys()))) & (skill_skill_edges.related_skill.isin(list(skillmapping.keys())))]"
      ]
    },
    {
      "cell_type": "code",
      "execution_count": null,
      "metadata": {
        "id": "jQhTLGTV9uda"
      },
      "outputs": [],
      "source": [
        "skill_skill_edges['skill_src'] = skill_skill_edges['skill'].apply(lambda x: skillmapping[x])\n",
        "skill_skill_edges['skill_dst'] = skill_skill_edges['related_skill'].apply(lambda x: skillmapping[x])"
      ]
    },
    {
      "cell_type": "code",
      "execution_count": null,
      "metadata": {},
      "outputs": [],
      "source": [
        "# # only take largest 125 \"both directions\" (not ideal)\n",
        "# skill_skill_edges =  skill_skill_edges.groupby('skill_src').apply(lambda group: group.nlargest(125,'cosine_sim_score')).reset_index(drop=True)\n",
        "# skill_skill_edges =  skill_skill_edges.groupby('skill_dst').apply(lambda group: group.nlargest(125,'cosine_sim_score')).reset_index(drop=True)"
      ]
    },
    {
      "cell_type": "code",
      "execution_count": null,
      "metadata": {
        "id": "La85Q2M59uda"
      },
      "outputs": [],
      "source": [
        "from torch_geometric.data import HeteroData\n",
        "import torch\n",
        "\n",
        "data = HeteroData()\n",
        "data['Skill'].x = torch.tensor(skill_sbert_embeddings)\n",
        "data['Job'].x = torch.tensor(job_sbert_embeddings)\n",
        "\n",
        "data['Job','REQUIRES','Skill'].edge_index = torch.tensor(skill_job_edges[['job_src','skill_dst']].to_numpy().T)\n",
        "data['Skill','IS_SIMILAR_SKILL','Skill'].edge_index = torch.tensor(skill_skill_edges[['skill_src','skill_dst']].to_numpy().T)\n",
        "data['Job','IS_SIMILAR_JOB','Job'].edge_index = torch.tensor(job_job_edges[['job_src','job_dst']].to_numpy().T)\n",
        "\n",
        "\n",
        "data['Job','REQUIRES','Skill'].edge_weight = torch.tensor(skill_job_edges['normalized_tfidf'].to_numpy()).to(torch.float)\n",
        "data['Skill','IS_SIMILAR_SKILL','Skill'].edge_weight = torch.tensor(skill_skill_edges['cosine_sim_score'].to_numpy()).to(torch.float)\n",
        "data['Job','IS_SIMILAR_JOB','Job'].edge_weight = torch.tensor(job_job_edges['relatedness_weight'].to_numpy()).to(torch.float)"
      ]
    },
    {
      "cell_type": "code",
      "execution_count": null,
      "metadata": {},
      "outputs": [
        {
          "data": {
            "text/plain": [
              "5.022261002228467e-06"
            ]
          },
          "execution_count": 31,
          "metadata": {},
          "output_type": "execute_result"
        }
      ],
      "source": [
        "skill_job_edges['normalized_tfidf'].min()"
      ]
    },
    {
      "cell_type": "code",
      "execution_count": null,
      "metadata": {},
      "outputs": [
        {
          "data": {
            "text/plain": [
              "0.5"
            ]
          },
          "execution_count": 32,
          "metadata": {},
          "output_type": "execute_result"
        }
      ],
      "source": [
        "skill_skill_edges['cosine_sim_score'].min()"
      ]
    },
    {
      "cell_type": "code",
      "execution_count": null,
      "metadata": {},
      "outputs": [
        {
          "data": {
            "text/plain": [
              "0.5"
            ]
          },
          "execution_count": 33,
          "metadata": {},
          "output_type": "execute_result"
        }
      ],
      "source": [
        "job_job_edges['relatedness_weight'].min()"
      ]
    },
    {
      "cell_type": "code",
      "execution_count": null,
      "metadata": {},
      "outputs": [
        {
          "data": {
            "text/plain": [
              "torch.Size([55653, 384])"
            ]
          },
          "execution_count": 34,
          "metadata": {},
          "output_type": "execute_result"
        }
      ],
      "source": [
        "data['Job'].x.shape"
      ]
    },
    {
      "cell_type": "code",
      "execution_count": null,
      "metadata": {},
      "outputs": [],
      "source": [
        "skill_skill_edges_temp = skill_skill_edges"
      ]
    },
    {
      "cell_type": "code",
      "execution_count": null,
      "metadata": {},
      "outputs": [
        {
          "data": {
            "text/plain": [
              "(2259425, 7)"
            ]
          },
          "execution_count": 36,
          "metadata": {},
          "output_type": "execute_result"
        }
      ],
      "source": [
        "skill_skill_edges_temp.shape"
      ]
    },
    {
      "cell_type": "code",
      "execution_count": null,
      "metadata": {},
      "outputs": [],
      "source": []
    },
    {
      "cell_type": "code",
      "execution_count": null,
      "metadata": {},
      "outputs": [
        {
          "name": "stdout",
          "output_type": "stream",
          "text": [
            "Jobs: 55653, actual Jobs used (in at least one edge): 16330\n",
            "Skills: 860294, actual Skills used (in at least one edge): 213197\n",
            "\n",
            "Following metrics only include Skills and Jobs with at least one edge:\n",
            "\n",
            "JRS edges: 750783\n",
            "Average JRS Job degree: 45.97568893432617, Skill: 3.521545886993408\n",
            "Median JRS Job degree: 35.0, Skill: 3.0\n",
            "Max JRS Job degree: 149.0, Skill: 125.0\n",
            "\n",
            "S_SIM_S edges: 2259425\n",
            "Average S_SIM_S degree: 21.195653915405273\n",
            "Median S_SIM_S degree: 5.0\n",
            "Max S_SIM_S degree: 2099.0\n",
            "J_SIM_J edges: 18384\n",
            "Average J_SIM_J degree: 2.2515616416931152\n",
            "Median J_SIM_J degree: 37.0\n",
            "Max J_SIM_J degree: 126.0\n",
            "\n",
            "Average total degree: Job: 48.22724914550781\n",
            "Average total degree: Skill: 24.717201232910156\n"
          ]
        },
        {
          "data": {
            "image/png": "[encoded data removed]",
            "text/plain": [
              "<Figure size 640x480 with 1 Axes>"
            ]
          },
          "metadata": {},
          "output_type": "display_data"
        },
        {
          "data": {
            "image/png": "[encoded data removed]",
            "text/plain": [
              "<Figure size 640x480 with 1 Axes>"
            ]
          },
          "metadata": {},
          "output_type": "display_data"
        },
        {
          "data": {
            "image/png": "[encoded data removed]",
            "text/plain": [
              "<Figure size 640x480 with 1 Axes>"
            ]
          },
          "metadata": {},
          "output_type": "display_data"
        },
        {
          "data": {
            "image/png": "[encoded data removed]",
            "text/plain": [
              "<Figure size 640x480 with 1 Axes>"
            ]
          },
          "metadata": {},
          "output_type": "display_data"
        },
        {
          "data": {
            "text/plain": [
              "<Figure size 640x480 with 0 Axes>"
            ]
          },
          "metadata": {},
          "output_type": "display_data"
        }
      ],
      "source": [
        "# Look at node degree statistics\n",
        "\n",
        "from torch_geometric.utils import to_dense_adj, degree\n",
        "\n",
        "\n",
        "\n",
        "job_n = data['Job'].x.shape[0]\n",
        "skill_n = data['Skill'].x.shape[0]\n",
        "\n",
        "JRS_J = degree(data['Job','REQUIRES','Skill'].edge_index[0], num_nodes=job_n)\n",
        "JRS_S = degree(data['Job','REQUIRES','Skill'].edge_index[1], num_nodes=skill_n)\n",
        "S_SIM_S = degree(data['Skill','IS_SIMILAR_SKILL','Skill'].edge_index.flatten(), num_nodes=skill_n)\n",
        "J_SIM_J = degree(data['Job','IS_SIMILAR_JOB','Job'].edge_index.flatten(), num_nodes=job_n)\n",
        "\n",
        "actual_skill_n = torch.nonzero(JRS_S+S_SIM_S).shape[0] # only skills which have any edge at all\n",
        "actual_job_n = torch.nonzero(JRS_J+J_SIM_J).shape[0] # only job which have any edge at all\n",
        "print(f'Jobs: {job_n}, actual Jobs used (in at least one edge): {actual_job_n}')\n",
        "print(f'Skills: {skill_n}, actual Skills used (in at least one edge): {actual_skill_n}')\n",
        "\n",
        "print('\\nFollowing metrics only include Skills and Jobs with at least one edge:\\n')\n",
        "\n",
        "print(f\"JRS edges: {data['Job','REQUIRES','Skill'].edge_index.shape[1]}\")\n",
        "print(f'Average JRS Job degree: {torch.sum(JRS_J)/actual_job_n}, Skill: {torch.sum(JRS_S)/actual_skill_n}')\n",
        "print(f'Median JRS Job degree: {torch.median(JRS_J[JRS_J!=0])}, Skill: {torch.median(JRS_S[JRS_S!=0])}')\n",
        "print(f'Max JRS Job degree: {torch.max(JRS_J)}, Skill: {torch.max(JRS_S)}\\n')\n",
        "\n",
        "print(f\"S_SIM_S edges: {data['Skill','IS_SIMILAR_SKILL','Skill'].edge_index.shape[1]}\")\n",
        "print(f'Average S_SIM_S degree: {torch.sum(S_SIM_S)/actual_skill_n}')\n",
        "print(f'Median S_SIM_S degree: {torch.median(S_SIM_S[S_SIM_S!=0])}')\n",
        "print(f'Max S_SIM_S degree: {torch.max(S_SIM_S)}')\n",
        "\n",
        "print(f'J_SIM_J edges: {data[\"Job\", \"IS_SIMILAR_JOB\", \"Job\"].edge_index.shape[1]}')\n",
        "print(f'Average J_SIM_J degree: {torch.sum(J_SIM_J)/actual_job_n}')\n",
        "print(f'Median J_SIM_J degree: {torch.median(J_SIM_J[J_SIM_J!=0])}')\n",
        "print(f'Max J_SIM_J degree: {torch.max(J_SIM_J)}\\n')\n",
        "\n",
        "print(f'Average total degree: Job: {(torch.sum(JRS_J)+torch.sum(J_SIM_J))/actual_job_n}')\n",
        "print(f'Average total degree: Skill: {(torch.sum(JRS_S)+torch.sum(S_SIM_S))/actual_skill_n}')\n",
        "\n",
        "import matplotlib.pyplot as plt\n",
        "import os \n",
        "\n",
        "os.makedirs(\"plot_images/\", exist_ok=True)\n",
        "\n",
        "# Plot and save the first plot\n",
        "plt.title('J-R-S Job degree-distribution')\n",
        "plt.hist(JRS_J[JRS_J != 0], bins=25)\n",
        "plt.xlabel('Degree')\n",
        "plt.ylabel('Frequency')\n",
        "plt.savefig('plot_images/JRS_J_degree_distribution.svg', format='svg')\n",
        "plt.show()\n",
        "plt.clf()  # Clear the current figure\n",
        "\n",
        "# Plot and save the second plot\n",
        "plt.title('J-R-S Skill degree-distribution')\n",
        "plt.hist(JRS_S[JRS_S != 0], bins=25)\n",
        "plt.xlabel('Degree')\n",
        "plt.ylabel('Frequency')\n",
        "plt.savefig('plot_images/JRS_S_degree_distribution.svg', format='svg')\n",
        "plt.show()\n",
        "plt.clf()  # Clear the current figure\n",
        "\n",
        "# Plot and save the third plot\n",
        "plt.title('S-R-S Skill degree')\n",
        "plt.hist(S_SIM_S[S_SIM_S != 0], bins=25)\n",
        "plt.xlabel('Degree')\n",
        "plt.ylabel('Frequency')\n",
        "plt.savefig('plot_images/S_SIM_S_skill_degree.svg', format='svg')\n",
        "plt.show()\n",
        "plt.clf()  # Clear the current figure\n",
        "\n",
        "# Plot and save the fourth plot\n",
        "plt.title('J-R-J Job degree')\n",
        "plt.hist(J_SIM_J[J_SIM_J != 0], bins=25)\n",
        "plt.xlabel('Degree')\n",
        "plt.ylabel('Frequency')\n",
        "plt.savefig('plot_images/J_SIM_J_job_degree.svg', format='svg')\n",
        "plt.show()\n",
        "plt.clf()  # Clear the current figure"
      ]
    },
    {
      "cell_type": "code",
      "execution_count": null,
      "metadata": {},
      "outputs": [],
      "source": [
        "ax\\axa"
      ]
    },
    {
      "cell_type": "code",
      "execution_count": null,
      "metadata": {},
      "outputs": [],
      "source": [
        "# Add features:\n",
        "# - node degree\n",
        "# - normalize edge weights by node degree\n",
        "# - (triangle count)\n",
        "\n",
        "\n",
        "# add node degree statistics:\n",
        "\n",
        "job_degrees = torch.cat((JRS_J.reshape(-1,1) / 125, J_SIM_J.reshape(-1,1)/ 125), dim=1) # divide by approx. max degrees\n",
        "skill_degrees = torch.cat((JRS_S.reshape(-1,1) / 125, S_SIM_S.reshape(-1,1)/ 125), dim=1) # divide by approx. max degrees\n",
        "\n",
        "data['Job'].x = torch.cat((data['Job'].x, job_degrees), dim=1)\n",
        "data['Skill'].x = torch.cat((data['Skill'].x, skill_degrees), dim=1)\n",
        "\n",
        "# normalize edge weights by node degree"
      ]
    },
    {
      "cell_type": "code",
      "execution_count": null,
      "metadata": {},
      "outputs": [],
      "source": [
        "from torch_sparse import SparseTensor\n",
        "from tqdm.auto import tqdm\n",
        "import torch\n",
        "import gc\n",
        "# adj_matmul\n",
        "# row1 to rowS * full_matrix\n",
        "# rowS+1 to rowT * full_matrix\n",
        "# ....\n",
        "\n",
        "# def blockwise_sparse_square_mmul(adj_matrix, blocks=None):\n",
        "#     row_blocks = []\n",
        "    \n",
        "#     if blocks is None:\n",
        "#         row_block_size = 10000\n",
        "#         rows = adj_matrix.size(0)\n",
        "#         for block in tqdm(range(0,rows, row_block_size), desc='blockwise sparse matrix-multiplication'):\n",
        "#             start = block\n",
        "#             end = min(block+row_block_size, rows)\n",
        "#             row_blocks.append(adj_matrix[start:end].spspmm(adj_matrix))\n",
        "#     else:\n",
        "#         for block in tqdm(blocks, desc='blockwise sparse matrix-multiplication'):\n",
        "#             row_blocks.append(block.spspmm(adj_matrix))\n",
        "\n",
        "#     return row_blocks\n",
        "\n",
        "\n",
        "# def blockwise_sparse_get_diag(blocks):\n",
        "#     diags = []\n",
        "#     for block in tqdm(blocks, desc='get blockwise sparse matrix diagonal'):\n",
        "#         diags.append(get_diag(block))\n",
        "    \n",
        "#     return torch.cat(diags, dim=0)\n",
        "\n",
        "def triangle_count(adj_matrix:SparseTensor):\n",
        "    # adj_matmul, blockwise, so kernel does not crash\n",
        "    # diag1((row1 to rowS) * full_matrix * full_matrix)\n",
        "    # diag2((rowS+1 to rowR) * full_matrix * full_matrix)\n",
        "    # ....\n",
        "    diags = []\n",
        "    \n",
        "    row_block_size = 400\n",
        "    rows = adj_matrix.size(0)\n",
        "    if torch.cuda.is_available():\n",
        "        device = torch.device(\"cuda\")\n",
        "    else:\n",
        "        device = torch.device(\"cpu\")\n",
        "    print(device)\n",
        "    with torch.no_grad():\n",
        "        \n",
        "        adj_matrix = adj_matrix.to(device)\n",
        "        for block in tqdm(range(0,rows, row_block_size), desc='blockwise sparse matrix-multiplication'):\n",
        "            torch.cuda.empty_cache()\n",
        "            gc.collect()\n",
        "            start = block\n",
        "            end = min(block+row_block_size, rows)\n",
        "            adj_pow_3_block = adj_matrix[start:end].spspmm(adj_matrix).spspmm(adj_matrix)\n",
        "            diag_block = get_diag(adj_pow_3_block[:,start:].cpu()).cpu()\n",
        "            diags.append(diag_block)\n",
        "            # diag = torch.eye(end)\n",
        "            # indices_i, indices_j = diag.nonzero().unbind(dim=1)\n",
        "            \n",
        "            # A = adj_pow_2_block[indices_i]\n",
        "            # B = adj_matrix[:, indices_j]\n",
        "            # print(A, t(B))\n",
        "            # print(type(B), type(A))\n",
        "            # print(A.size(0), A.size(1), B.size(0), B.size(1))\n",
        "            #C = A * t(B)\n",
        "            #C = reduction(C, dim=1)\n",
        "            \n",
        "           \n",
        "            #print(C)\n",
        "            \n",
        "            \n",
        "            \n",
        "    \n",
        "    return 1/2 * torch.cat(diags, dim=0)\n",
        "        \n",
        "from torch_geometric.utils import to_undirected\n",
        "from torch_sparse import SparseTensor\n",
        "from torch_sparse.diag import get_diag\n",
        "\n",
        "def undirected_triangle_counts(edge_index, max_num_nodes): \n",
        "    \"\"\"Get triangles **per node**, to get count for whole graph, divide by 3\"\"\"\n",
        "    ud = to_undirected(edge_index)\n",
        "    \n",
        "    adj_matrix = SparseTensor(row=ud[0], col=ud[1], value=torch.ones(ud[1].shape[0]), sparse_sizes=(max_num_nodes, max_num_nodes))\n",
        "    #adj_matrix = torch.sparse_coo_tensor(edge_index, torch.ones(edge_index.shape[1]), (max_num_nodes, max_num_nodes))\n",
        "    #adj_matrix = torch.sparse_csr_tensor(ud[0], ud[1], values=torch.ones(ud[1].shape[0]), dtype=torch.float32).to_sparse_coo()\n",
        "    triangles = triangle_count(adj_matrix) \n",
        "    return triangles"
      ]
    },
    {
      "cell_type": "code",
      "execution_count": null,
      "metadata": {},
      "outputs": [
        {
          "name": "stdout",
          "output_type": "stream",
          "text": [
            "<class 'torch.Tensor'> torch.Size([55653, 2])\n",
            "<class 'torch.Tensor'> torch.Size([860294, 2])\n",
            "<class 'torch.Tensor'> torch.Size([55653, 386])\n",
            "<class 'torch.Tensor'> torch.Size([860294, 386])\n",
            "<class 'torch.Tensor'> torch.Size([19])\n"
          ]
        },
        {
          "name": "stderr",
          "output_type": "stream",
          "text": [
            "/home/amos/mambaforge/envs/pyg_torch21/lib/python3.10/site-packages/torch_geometric/contrib/__init__.py:8: UserWarning: 'torch_geometric.contrib' contains experimental code and is subject to change. Please use with caution.\n",
            "  warnings.warn(\n"
          ]
        },
        {
          "name": "stdout",
          "output_type": "stream",
          "text": [
            "<class 'torch.Tensor'> torch.Size([1, 512])\n",
            "<class 'torch.Tensor'> torch.Size([1, 512])\n",
            "<class 'torch.nn.parameter.Parameter'> torch.Size([30522, 384])\n",
            "<class 'torch.nn.parameter.Parameter'> torch.Size([512, 384])\n",
            "<class 'torch.nn.parameter.Parameter'> torch.Size([2, 384])\n",
            "<class 'torch.nn.parameter.Parameter'> torch.Size([384])\n",
            "<class 'torch.nn.parameter.Parameter'> torch.Size([384])\n",
            "<class 'torch.nn.parameter.Parameter'> torch.Size([384, 384])\n",
            "<class 'torch.nn.parameter.Parameter'> torch.Size([384])\n",
            "<class 'torch.nn.parameter.Parameter'> torch.Size([1536, 384])\n",
            "<class 'torch.nn.parameter.Parameter'> torch.Size([1536])\n",
            "<class 'torch.nn.parameter.Parameter'> torch.Size([384, 1536])\n",
            "<class 'torch.nn.parameter.Parameter'> torch.Size([384])\n",
            "<class 'torch.nn.parameter.Parameter'> torch.Size([384])\n",
            "<class 'torch.nn.parameter.Parameter'> torch.Size([384])\n",
            "<class 'torch.nn.parameter.Parameter'> torch.Size([1536, 384])\n",
            "<class 'torch.nn.parameter.Parameter'> torch.Size([1536])\n",
            "<class 'torch.nn.parameter.Parameter'> torch.Size([384, 1536])\n",
            "<class 'torch.nn.parameter.Parameter'> torch.Size([384])\n",
            "<class 'torch.nn.parameter.Parameter'> torch.Size([384])\n",
            "<class 'torch.nn.parameter.Parameter'> torch.Size([384])\n",
            "<class 'torch.nn.parameter.Parameter'> torch.Size([1536, 384])\n",
            "<class 'torch.nn.parameter.Parameter'> torch.Size([1536])\n",
            "<class 'torch.nn.parameter.Parameter'> torch.Size([384, 1536])\n",
            "<class 'torch.nn.parameter.Parameter'> torch.Size([384])\n",
            "<class 'torch.nn.parameter.Parameter'> torch.Size([384])\n",
            "<class 'torch.nn.parameter.Parameter'> torch.Size([384])\n",
            "<class 'torch.nn.parameter.Parameter'> torch.Size([1536, 384])\n",
            "<class 'torch.nn.parameter.Parameter'> torch.Size([1536])\n",
            "<class 'torch.nn.parameter.Parameter'> torch.Size([384, 1536])\n",
            "<class 'torch.nn.parameter.Parameter'> torch.Size([384])\n",
            "<class 'torch.nn.parameter.Parameter'> torch.Size([384])\n",
            "<class 'torch.nn.parameter.Parameter'> torch.Size([384])\n",
            "<class 'torch.nn.parameter.Parameter'> torch.Size([1536, 384])\n",
            "<class 'torch.nn.parameter.Parameter'> torch.Size([1536])\n",
            "<class 'torch.nn.parameter.Parameter'> torch.Size([384, 1536])\n",
            "<class 'torch.nn.parameter.Parameter'> torch.Size([384])\n",
            "<class 'torch.nn.parameter.Parameter'> torch.Size([384])\n",
            "<class 'torch.nn.parameter.Parameter'> torch.Size([384])\n",
            "<class 'torch.nn.parameter.Parameter'> torch.Size([1536, 384])\n",
            "<class 'torch.nn.parameter.Parameter'> torch.Size([1536])\n",
            "<class 'torch.nn.parameter.Parameter'> torch.Size([384, 1536])\n",
            "<class 'torch.nn.parameter.Parameter'> torch.Size([384])\n",
            "<class 'torch.nn.parameter.Parameter'> torch.Size([384])\n",
            "<class 'torch.nn.parameter.Parameter'> torch.Size([384])\n",
            "<class 'torch.nn.parameter.Parameter'> torch.Size([384, 384])\n",
            "<class 'torch.nn.parameter.Parameter'> torch.Size([384])\n",
            "<class 'torch.nn.parameter.Parameter'> torch.Size([384, 384])\n",
            "<class 'torch.nn.parameter.Parameter'> torch.Size([384])\n",
            "<class 'torch.nn.parameter.Parameter'> torch.Size([384, 384])\n",
            "<class 'torch.nn.parameter.Parameter'> torch.Size([384])\n",
            "<class 'torch.nn.parameter.Parameter'> torch.Size([384, 384])\n",
            "<class 'torch.nn.parameter.Parameter'> torch.Size([384])\n",
            "<class 'torch.nn.parameter.Parameter'> torch.Size([384])\n",
            "<class 'torch.nn.parameter.Parameter'> torch.Size([384])\n",
            "<class 'torch.nn.parameter.Parameter'> torch.Size([384, 384])\n",
            "<class 'torch.nn.parameter.Parameter'> torch.Size([384])\n",
            "<class 'torch.nn.parameter.Parameter'> torch.Size([384, 384])\n",
            "<class 'torch.nn.parameter.Parameter'> torch.Size([384])\n",
            "<class 'torch.nn.parameter.Parameter'> torch.Size([384, 384])\n",
            "<class 'torch.nn.parameter.Parameter'> torch.Size([384])\n",
            "<class 'torch.nn.parameter.Parameter'> torch.Size([384, 384])\n",
            "<class 'torch.nn.parameter.Parameter'> torch.Size([384])\n",
            "<class 'torch.nn.parameter.Parameter'> torch.Size([384])\n",
            "<class 'torch.nn.parameter.Parameter'> torch.Size([384])\n",
            "<class 'torch.nn.parameter.Parameter'> torch.Size([384, 384])\n",
            "<class 'torch.nn.parameter.Parameter'> torch.Size([384])\n",
            "<class 'torch.nn.parameter.Parameter'> torch.Size([384, 384])\n",
            "<class 'torch.nn.parameter.Parameter'> torch.Size([384])\n",
            "<class 'torch.nn.parameter.Parameter'> torch.Size([384, 384])\n",
            "<class 'torch.nn.parameter.Parameter'> torch.Size([384])\n",
            "<class 'torch.nn.parameter.Parameter'> torch.Size([384, 384])\n",
            "<class 'torch.nn.parameter.Parameter'> torch.Size([384])\n",
            "<class 'torch.nn.parameter.Parameter'> torch.Size([384])\n",
            "<class 'torch.nn.parameter.Parameter'> torch.Size([384])\n",
            "<class 'torch.nn.parameter.Parameter'> torch.Size([384, 384])\n",
            "<class 'torch.nn.parameter.Parameter'> torch.Size([384])\n",
            "<class 'torch.nn.parameter.Parameter'> torch.Size([384, 384])\n",
            "<class 'torch.nn.parameter.Parameter'> torch.Size([384])\n",
            "<class 'torch.nn.parameter.Parameter'> torch.Size([384, 384])\n",
            "<class 'torch.nn.parameter.Parameter'> torch.Size([384])\n",
            "<class 'torch.nn.parameter.Parameter'> torch.Size([384, 384])\n",
            "<class 'torch.nn.parameter.Parameter'> torch.Size([384])\n",
            "<class 'torch.nn.parameter.Parameter'> torch.Size([384])\n",
            "<class 'torch.nn.parameter.Parameter'> torch.Size([384])\n",
            "<class 'torch.nn.parameter.Parameter'> torch.Size([384, 384])\n",
            "<class 'torch.nn.parameter.Parameter'> torch.Size([384])\n",
            "<class 'torch.nn.parameter.Parameter'> torch.Size([384, 384])\n",
            "<class 'torch.nn.parameter.Parameter'> torch.Size([384])\n",
            "<class 'torch.nn.parameter.Parameter'> torch.Size([384, 384])\n",
            "<class 'torch.nn.parameter.Parameter'> torch.Size([384])\n",
            "<class 'torch.nn.parameter.Parameter'> torch.Size([384, 384])\n",
            "<class 'torch.nn.parameter.Parameter'> torch.Size([384])\n",
            "<class 'torch.nn.parameter.Parameter'> torch.Size([384])\n",
            "<class 'torch.nn.parameter.Parameter'> torch.Size([384])\n",
            "<class 'torch.nn.parameter.Parameter'> torch.Size([384, 384])\n",
            "<class 'torch.nn.parameter.Parameter'> torch.Size([384])\n",
            "<class 'torch.nn.parameter.Parameter'> torch.Size([384, 384])\n",
            "<class 'torch.nn.parameter.Parameter'> torch.Size([384])\n",
            "<class 'torch.nn.parameter.Parameter'> torch.Size([384, 384])\n",
            "<class 'torch.nn.parameter.Parameter'> torch.Size([384])\n",
            "<class 'torch.nn.parameter.Parameter'> torch.Size([384, 384])\n",
            "<class 'torch.nn.parameter.Parameter'> torch.Size([384])\n",
            "<class 'torch.nn.parameter.Parameter'> torch.Size([384])\n",
            "<class 'torch.nn.parameter.Parameter'> torch.Size([384])\n",
            "<class 'torch.Tensor'> torch.Size([2259425])\n",
            "<class 'torch.Tensor'> torch.Size([18384])\n",
            "<class 'torch.Tensor'> torch.Size([2, 2259425])\n",
            "<class 'torch.Tensor'> torch.Size([2, 18384])\n",
            "<class 'torch.Tensor'> torch.Size([2, 750783])\n",
            "<class 'torch.Tensor'> torch.Size([750783])\n",
            "<class 'torch.Tensor'> torch.Size([55653])\n",
            "<class 'torch.Tensor'> torch.Size([860294])\n",
            "<class 'torch.Tensor'> torch.Size([860294])\n",
            "<class 'torch.Tensor'> torch.Size([55653])\n"
          ]
        }
      ],
      "source": [
        "import torch\n",
        "import gc\n",
        "for obj in gc.get_objects():\n",
        "    try:\n",
        "        if torch.is_tensor(obj) or (hasattr(obj, 'data') and torch.is_tensor(obj.data)):\n",
        "            print(type(obj), obj.size())\n",
        "    except: pass"
      ]
    },
    {
      "cell_type": "code",
      "execution_count": null,
      "metadata": {},
      "outputs": [],
      "source": [
        "# from torch_sparse import SparseTensor\n",
        "# adj = torch.tensor(\n",
        "#     [\n",
        "#         [0,1,1,1,1],\n",
        "#         [1,0,1,0,1],\n",
        "#         [1,1,0,1,0],\n",
        "#         [1,0,1,0,1],\n",
        "#         [1,1,0,1,0]\n",
        "#     ]\n",
        "# ).to(torch.float)\n",
        "# X = SparseTensor.from_dense(adj)\n",
        "# triangles = triangle_count(X)\n",
        "# triangles\n",
        "#adj_matrix = SparseTensor(row=ud[0], col=ud[1], value=torch.ones(ud[1].shape[0]), sparse_sizes=(max_num_nodes, max_num_nodes))"
      ]
    },
    {
      "cell_type": "code",
      "execution_count": null,
      "metadata": {},
      "outputs": [
        {
          "name": "stdout",
          "output_type": "stream",
          "text": [
            "cuda\n"
          ]
        },
        {
          "name": "stderr",
          "output_type": "stream",
          "text": [
            "blockwise sparse matrix-multiplication: 100%|██████████| 2290/2290 [17:10<00:00,  2.22it/s]\n"
          ]
        }
      ],
      "source": [
        "homogeneous_data = data.to_homogeneous()\n",
        "homogenous_triangles = undirected_triangle_counts(homogeneous_data.edge_index, homogeneous_data.x.shape[0])\n",
        "# max triangles: 9000\n"
      ]
    },
    {
      "cell_type": "code",
      "execution_count": null,
      "metadata": {},
      "outputs": [],
      "source": [
        "Job_homogeneous_triangles = homogenous_triangles[homogeneous_data.node_type == 1]\n",
        "Skill_homogeneous_triangles = homogenous_triangles[homogeneous_data.node_type != 1]"
      ]
    },
    {
      "cell_type": "code",
      "execution_count": null,
      "metadata": {},
      "outputs": [
        {
          "name": "stdout",
          "output_type": "stream",
          "text": [
            "Median triangles of skill nodes: 3.0, mean: 255.61123657226562, max: 65380.0, min: 0.0\n",
            "Median triangles of job nodes: 11.0, mean: 46.673301696777344, max: 2059.0, min: 0.0\n"
          ]
        }
      ],
      "source": [
        "actual_s_triangles = Skill_homogeneous_triangles[(JRS_S+S_SIM_S)!=0] \n",
        "actual_j_triangles = Job_homogeneous_triangles[(JRS_J+J_SIM_J)!=0] \n",
        "\n",
        "print(f'Median triangles of skill nodes: {actual_s_triangles.median()}, mean: {actual_s_triangles.mean()}, max: {actual_s_triangles.max()}, min: {actual_s_triangles.min()}')\n",
        "print(f'Median triangles of job nodes: {actual_j_triangles.median()}, mean: {actual_j_triangles.mean()}, max: {actual_j_triangles.max()}, min: {actual_s_triangles.min()}')"
      ]
    },
    {
      "cell_type": "code",
      "execution_count": null,
      "metadata": {},
      "outputs": [
        {
          "data": {
            "image/png": "[encoded data removed]",
            "text/plain": [
              "<Figure size 640x480 with 1 Axes>"
            ]
          },
          "metadata": {},
          "output_type": "display_data"
        },
        {
          "data": {
            "image/png": "[encoded data removed]",
            "text/plain": [
              "<Figure size 640x480 with 1 Axes>"
            ]
          },
          "metadata": {},
          "output_type": "display_data"
        }
      ],
      "source": [
        "plt.title('Skill triangles')\n",
        "plt.hist(actual_s_triangles.numpy(), bins=40)\n",
        "plt.show()\n",
        "plt.title('Job triangles')\n",
        "plt.hist(actual_j_triangles.numpy(), bins=40)\n",
        "plt.show()"
      ]
    },
    {
      "cell_type": "code",
      "execution_count": null,
      "metadata": {},
      "outputs": [
        {
          "data": {
            "text/plain": [
              "HeteroData(\n",
              "  Skill={ x=[860294, 388] },\n",
              "  Job={ x=[55653, 388] },\n",
              "  (Job, REQUIRES, Skill)={\n",
              "    edge_index=[2, 750783],\n",
              "    edge_weight=[750783],\n",
              "  },\n",
              "  (Skill, IS_SIMILAR_SKILL, Skill)={\n",
              "    edge_index=[2, 2259425],\n",
              "    edge_weight=[2259425],\n",
              "  },\n",
              "  (Job, IS_SIMILAR_JOB, Job)={\n",
              "    edge_index=[2, 18384],\n",
              "    edge_weight=[18384],\n",
              "  },\n",
              "  (Skill, rev_REQUIRES, Job)={\n",
              "    edge_index=[2, 750783],\n",
              "    edge_weight=[750783],\n",
              "  },\n",
              "  (Skill, rev_IS_SIMILAR_SKILL, Skill)={\n",
              "    edge_index=[2, 2259425],\n",
              "    edge_weight=[2259425],\n",
              "  },\n",
              "  (Job, rev_IS_SIMILAR_JOB, Job)={\n",
              "    edge_index=[2, 18384],\n",
              "    edge_weight=[18384],\n",
              "  }\n",
              ")"
            ]
          },
          "execution_count": 70,
          "metadata": {},
          "output_type": "execute_result"
        }
      ],
      "source": [
        "data"
      ]
    },
    {
      "cell_type": "code",
      "execution_count": null,
      "metadata": {},
      "outputs": [
        {
          "name": "stdout",
          "output_type": "stream",
          "text": [
            "cuda\n"
          ]
        },
        {
          "name": "stderr",
          "output_type": "stream",
          "text": [
            "blockwise sparse matrix-multiplication:   0%|          | 0/140 [00:00<?, ?it/s]"
          ]
        },
        {
          "name": "stderr",
          "output_type": "stream",
          "text": [
            "blockwise sparse matrix-multiplication: 100%|██████████| 140/140 [00:27<00:00,  5.11it/s]\n"
          ]
        },
        {
          "name": "stdout",
          "output_type": "stream",
          "text": [
            "cuda\n"
          ]
        },
        {
          "name": "stderr",
          "output_type": "stream",
          "text": [
            "blockwise sparse matrix-multiplication: 100%|██████████| 2151/2151 [10:42<00:00,  3.35it/s]\n"
          ]
        }
      ],
      "source": [
        "J_SIM_J_triangles = undirected_triangle_counts(data['Job','IS_SIMILAR_JOB', 'Job'].edge_index, data['Job'].x.shape[0])\n",
        "S_SIM_S_triangles = undirected_triangle_counts(data['Skill','IS_SIMILAR_SKILL', 'Skill'].edge_index, data['Skill'].x.shape[0])"
      ]
    },
    {
      "cell_type": "code",
      "execution_count": null,
      "metadata": {},
      "outputs": [
        {
          "name": "stdout",
          "output_type": "stream",
          "text": [
            "Median triangles of skill nodes for skill-skill edges: 3.0, mean: 250.30715942382812, max: 65380.0, min: 0.0\n",
            "Median triangles of job nodes for job-job edges: 0.0, mean: 9.845253944396973, max: 1284.0, min: 0.0\n"
          ]
        }
      ],
      "source": [
        "actual_s_triangles = S_SIM_S_triangles[(JRS_S+S_SIM_S)!=0] \n",
        "actual_j_triangles = J_SIM_J_triangles[(JRS_J+J_SIM_J)!=0] \n",
        "\n",
        "print(f'Median triangles of skill nodes for skill-skill edges: {actual_s_triangles.median()}, mean: {actual_s_triangles.mean()}, max: {actual_s_triangles.max()}, min: {actual_s_triangles.min()}')\n",
        "print(f'Median triangles of job nodes for job-job edges: {actual_j_triangles.median()}, mean: {actual_j_triangles.mean()}, max: {actual_j_triangles.max()}, min: {actual_s_triangles.min()}')"
      ]
    },
    {
      "cell_type": "code",
      "execution_count": null,
      "metadata": {},
      "outputs": [
        {
          "data": {
            "text/plain": [
              "(tensor(65380.), tensor(2059.), tensor(65380.), tensor(1284.))"
            ]
          },
          "execution_count": 52,
          "metadata": {},
          "output_type": "execute_result"
        }
      ],
      "source": [
        "Skill_homogeneous_triangles.max(), Job_homogeneous_triangles.max(), S_SIM_S_triangles.max(), J_SIM_J_triangles.max()"
      ]
    },
    {
      "cell_type": "code",
      "execution_count": null,
      "metadata": {},
      "outputs": [
        {
          "data": {
            "text/plain": [
              "tensor(2059.)"
            ]
          },
          "execution_count": 51,
          "metadata": {},
          "output_type": "execute_result"
        }
      ],
      "source": []
    },
    {
      "cell_type": "code",
      "execution_count": null,
      "metadata": {},
      "outputs": [],
      "source": [
        "data['Skill'].x = torch.cat((data['Skill'].x, Skill_homogeneous_triangles.reshape(-1,1)/65380), dim=1) # normalize by max 9285.0\n",
        "data['Job'].x = torch.cat((data['Job'].x, Job_homogeneous_triangles.reshape(-1,1)/2059), dim=1) # normalize by max 1320\n",
        "\n",
        "data['Skill'].x = torch.cat((data['Skill'].x, S_SIM_S_triangles.reshape(-1,1)/65380), dim=1) # normalize by max 9285.0\n",
        "data['Job'].x = torch.cat((data['Job'].x, J_SIM_J_triangles.reshape(-1,1)/1284), dim=1) # normalize by max 1320"
      ]
    },
    {
      "cell_type": "code",
      "execution_count": null,
      "metadata": {
        "id": "GZAF_riX9uda"
      },
      "outputs": [
        {
          "data": {
            "text/plain": [
              "(True, False)"
            ]
          },
          "execution_count": 54,
          "metadata": {},
          "output_type": "execute_result"
        }
      ],
      "source": [
        "data.has_isolated_nodes(), data.has_self_loops()"
      ]
    },
    {
      "cell_type": "code",
      "execution_count": null,
      "metadata": {
        "id": "u5MjvjO09uda"
      },
      "outputs": [],
      "source": [
        "#data = data.to(device)"
      ]
    },
    {
      "cell_type": "code",
      "execution_count": null,
      "metadata": {
        "id": "aMAfCM0u9uda"
      },
      "outputs": [],
      "source": [
        "import torch_geometric.transforms as T\n",
        "\n",
        "transform = T.Compose([\n",
        "       #T.RemoveIsolatedNodes(),\n",
        "       T.RemoveDuplicatedEdges(),\n",
        "       T.ToUndirected(merge=False) # don't merge reversed edges into the original edge type\n",
        "])\n",
        "\n",
        "data = transform(data)\n"
      ]
    },
    {
      "cell_type": "code",
      "execution_count": null,
      "metadata": {},
      "outputs": [],
      "source": [
        "# torch.save(data.to_dict(), path)\n",
        "# data = Data.from_dict(torch.load(path))"
      ]
    },
    {
      "cell_type": "code",
      "execution_count": null,
      "metadata": {},
      "outputs": [],
      "source": [
        "qrawwdadad"
      ]
    },
    {
      "cell_type": "code",
      "execution_count": null,
      "metadata": {},
      "outputs": [
        {
          "name": "stdout",
          "output_type": "stream",
          "text": [
            "loading saved heterodata object\n"
          ]
        }
      ],
      "source": [
        "import os\n",
        "import torch\n",
        "from torch_geometric.data import HeteroData\n",
        "\n",
        "\n",
        "filename = 'Job_Skill_HeteroData_withdupes_fulldataset_v1.pt'\n",
        "if os.path.exists('./'+filename):\n",
        "    data = HeteroData.from_dict(torch.load('./'+filename))\n",
        "    print('loading saved heterodata object')\n",
        "else:\n",
        "    torch.save(data.to_dict(), './'+filename)"
      ]
    },
    {
      "cell_type": "code",
      "execution_count": null,
      "metadata": {},
      "outputs": [],
      "source": [
        "data"
      ]
    },
    {
      "cell_type": "code",
      "execution_count": null,
      "metadata": {},
      "outputs": [
        {
          "data": {
            "text/plain": [
              "tensor(0.0050)"
            ]
          },
          "execution_count": 67,
          "metadata": {},
          "output_type": "execute_result"
        }
      ],
      "source": [
        "data['Job', 'REQUIRES', 'Skill'].edge_weight.median()"
      ]
    },
    {
      "cell_type": "code",
      "execution_count": null,
      "metadata": {},
      "outputs": [],
      "source": [
        "data['Job', 'REQUIRES', 'Skill'].edge_weight.median()"
      ]
    },
    {
      "cell_type": "code",
      "execution_count": null,
      "metadata": {},
      "outputs": [
        {
          "data": {
            "text/plain": [
              "(array([7.37341e+05, 1.01930e+04, 2.05700e+03, 6.17000e+02, 2.45000e+02,\n",
              "        1.22000e+02, 5.90000e+01, 4.00000e+01, 1.90000e+01, 9.00000e+01]),\n",
              " array([5.02226112e-06, 1.00004517e-01, 2.00004011e-01, 3.00003529e-01,\n",
              "        4.00003016e-01, 5.00002503e-01, 6.00001991e-01, 7.00001478e-01,\n",
              "        8.00001025e-01, 9.00000513e-01, 1.00000000e+00]),\n",
              " <BarContainer object of 10 artists>)"
            ]
          },
          "execution_count": 68,
          "metadata": {},
          "output_type": "execute_result"
        },
        {
          "data": {
            "image/png": "[encoded data removed]",
            "text/plain": [
              "<Figure size 640x480 with 1 Axes>"
            ]
          },
          "metadata": {},
          "output_type": "display_data"
        }
      ],
      "source": [
        "import matplotlib.pyplot as plt \n",
        "plt.hist(data['Job', 'REQUIRES', 'Skill'].edge_weight)"
      ]
    }
  ],
  "metadata": {
    "accelerator": "GPU",
    "colab": {
      "gpuType": "T4",
      "provenance": []
    },
    "kernelspec": {
      "display_name": "Python 3",
      "name": "python3"
    },
    "language_info": {
      "codemirror_mode": {
        "name": "ipython",
        "version": 3
      },
      "file_extension": ".py",
      "mimetype": "text/x-python",
      "name": "python",
      "nbconvert_exporter": "python",
      "pygments_lexer": "ipython3",
      "version": "3.10.12"
    },
    "orig_nbformat": 4
  },
  "nbformat": 4,
  "nbformat_minor": 0
}
