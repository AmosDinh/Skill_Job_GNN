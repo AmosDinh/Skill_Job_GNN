{
 "cells": [
  {
   "cell_type": "code",
   "execution_count": 1,
   "metadata": {},
   "outputs": [],
   "source": [
    "# Mean Reciprocal Rank"
   ]
  },
  {
   "cell_type": "code",
   "execution_count": 2,
   "metadata": {},
   "outputs": [],
   "source": [
    "%load_ext autoreload\n",
    "%autoreload 2"
   ]
  },
  {
   "cell_type": "code",
   "execution_count": 3,
   "metadata": {},
   "outputs": [],
   "source": [
    "import os\n",
    "\n",
    "if \"DATABRICKS_RUNTIME_VERSION\" in os.environ and not 'installed_libs' in globals():\n",
    "  #CUDA = 'cu121' \n",
    "  installed_libs = True\n",
    "  \n",
    "  \n",
    "  !pip install torch==2.1.0  torchvision==0.16.0 torchtext==0.16.0 torchaudio==2.1.0 --index-url https://download.pytorch.org/whl/cu121\n",
    "  import torch\n",
    "  #os.environ['TORCH'] = torch.__version__\n",
    "  #print(torch.__version__)\n",
    "  #torch_version = '2.0.0+cu118'\n",
    "  \n",
    "  #!pip install pyg_lib torch_scatter torch_sparse torch_cluster -f https://data.pyg.org/whl/torch-2.1.0+${CUDA}.html # torch_spline_conv\n",
    "  !pip install torch_geometric\n",
    "  !pip install pyg_lib torch_scatter torch_sparse torch_cluster torch_spline_conv -f https://data.pyg.org/whl/torch-2.1.0+cu121.html\n",
    "  #!pip install torch_sparse -f https://data.pyg.org/whl/torch-2.1.0+${CUDA}.html\n",
    "  #!pip install torch_scatter -f https://data.pyg.org/whl/torch-2.1.0+${CUDA}.html\n",
    "  #!pip install pyg_lib -f https://data.pyg.org/whl/torch-2.1.0+${CUDA}.html\n",
    "  !pip install sentence-transformers\n",
    "  !pip install torcheval\n",
    "  !pip install matplotlib\n",
    "  !pip install pandas\n",
    "  !pip install tensorboard\n",
    "  \n",
    "if \"DATABRICKS_RUNTIME_VERSION\" in os.environ:\n",
    "  ROOT_FOLDER = '/dbfs/FileStore/GraphNeuralNetworks/'\n",
    "else:\n",
    "  ROOT_FOLDER = ''"
   ]
  },
  {
   "cell_type": "code",
   "execution_count": 4,
   "metadata": {},
   "outputs": [
    {
     "name": "stderr",
     "output_type": "stream",
     "text": [
      "/home/amos/mambaforge/envs/pyg_torch21/lib/python3.10/site-packages/tqdm/auto.py:21: TqdmWarning: IProgress not found. Please update jupyter and ipywidgets. See https://ipywidgets.readthedocs.io/en/stable/user_install.html\n",
      "  from .autonotebook import tqdm as notebook_tqdm\n"
     ]
    },
    {
     "name": "stdout",
     "output_type": "stream",
     "text": [
      "size of dataset on disk:  2.279761238 gb\n",
      "loading saved heterodata object\n",
      "for skill job edges keep top k edges per job, k is  50\n",
      "keep tensor(1208056) of total 16289586\n"
     ]
    }
   ],
   "source": [
    "from learnings_sampler_v1 import get_datasets, uniform_hgt_sampler, get_minibatch_count, add_reverse_edge_original_attributes_and_label_inplace, get_hgt_linkloader, get_single_minibatch_count\n",
    "\n",
    "train_data, val_data, test_data = get_datasets(get_edge_attr=False, filename=ROOT_FOLDER+'HeteroData_Learnings_normalized_triangles_withadditionaldata_v1.pt', filter_top_k=True, top_k=50)\n"
   ]
  },
  {
   "cell_type": "code",
   "execution_count": 5,
   "metadata": {},
   "outputs": [],
   "source": [
    "import torch\n",
    "from models.TransE import TransE\n",
    "from models.DistMult import DistMult\n",
    "from models.HGT import HGT\n",
    "import torch_geometric\n",
    "device = torch.device('cuda' if torch.cuda.is_available() else 'cpu')\n",
    "\n",
    "class Model(torch.nn.Module):\n",
    "    def __init__(self, gnn : torch.nn.Module, head :  torch.nn.Module, node_types, edge_types, ggn_output_dim, pnorm):\n",
    "        super().__init__()\n",
    "        # edge_type onehot lookup table with keys\n",
    "        # node_type onehot lookup table with keys\n",
    "        self.node_type_embedding = torch.nn.Embedding(len(node_types), ggn_output_dim) # hidden channels should be the output dim of gnn\n",
    "        \n",
    "        self.edge_types = edge_types\n",
    "        for edge_type in edge_types:\n",
    "            if edge_type[1].startswith('rev_'):\n",
    "                self.edge_types.remove(edge_type)\n",
    "        \n",
    "        # create edge to int mapping\n",
    "        self.edgeindex_lookup = {edge_type:torch.tensor(i)  for i, edge_type in enumerate(edge_types)}\n",
    "            \n",
    "        # hidden channels should be the output dim of gnn\n",
    "        if head=='TransE': \n",
    "            self.head = TransE(len(node_types), len(edge_types) , ggn_output_dim, p_norm=pnorm)  # KGE head with loss function\n",
    "        elif head=='DistMult':\n",
    "            self.head = DistMult(len(node_types), len(edge_types) , ggn_output_dim, p_norm=pnorm)  # KGE head with loss function\n",
    "        else:\n",
    "            raise NotImplementedError\n",
    "        \n",
    "        self.gnn = gnn\n",
    "        \n",
    "    \n",
    "\n",
    "    def forward(self, hetero_data1, target_edge_type, edge_label_index, edge_label, hetero_data2=None, get_head_fn='loss'):\n",
    "        \n",
    "        if hetero_data2 is not None:\n",
    "            assert target_edge_type[0] != target_edge_type[2], 'when passing two data objects, the edge type has to contain two different node types'\n",
    "            head_embeddings = self.gnn(hetero_data1.x_dict, hetero_data1.edge_index_dict)[target_edge_type[0]][edge_label_index[0,:]]\n",
    "            tail_embeddings = self.gnn(hetero_data2.x_dict, hetero_data2.edge_index_dict)[target_edge_type[2]][edge_label_index[1,:]]\n",
    "        else:\n",
    "            assert target_edge_type[0] == target_edge_type[2], 'when passing one data object, the edge type has to contain the same node types'\n",
    "\n",
    "\n",
    "            embeddings = self.gnn(hetero_data1.x_dict, hetero_data1.edge_index_dict)\n",
    "            head_embeddings = embeddings[target_edge_type[0]][edge_label_index[0,:]]\n",
    "            tail_embeddings = embeddings[target_edge_type[2]][edge_label_index[1,:]]\n",
    "\n",
    "        \n",
    "        edgeindex = self.edgeindex_lookup[target_edge_type]\n",
    "        if get_head_fn=='loss':\n",
    "            loss = self.head.loss(head_embeddings, edgeindex.to(device), tail_embeddings, edge_label)\n",
    "            return loss\n",
    "        elif get_head_fn=='forward':\n",
    "            return self.head.forward(head_embeddings, edgeindex.to(device), tail_embeddings)\n",
    "    \n",
    "    def get_embeddings(self, hetero_data, rel_type, node_type, first_n_nodes=None):\n",
    "        # gives us the closeness of embeddings to the other side of the relationship, i.e. e + r or e - r\n",
    "        if node_type == rel_type[0]:\n",
    "            have_head_or_tail =='head'\n",
    "        else:\n",
    "            have_head_or_tail =='tail'\n",
    "            \n",
    "        mask = torch.zeros(hetero_data.x_dict[rel_type[0]].shape[0])\n",
    "        mask[:first_n_nodes] = 1\n",
    "        embeddings = self.gnn(hetero_data.x_dict, hetero_data.edge_index_dict)[node_type][mask]\n",
    "        return self.head.get_embeddings(embeddings, rel_type, have_head_or_tail)\n",
    "        \n",
    "        \n",
    "\n",
    "    \n",
    "# out_channels = 256\n",
    "# hidden_channels = 256\n",
    "# num_heads = 8\n",
    "# num_layers = 2\n",
    "# head = 'TransE'\n",
    "\n"
   ]
  },
  {
   "cell_type": "code",
   "execution_count": 6,
   "metadata": {},
   "outputs": [],
   "source": [
    "def get_model(model_folder):\n",
    "    metadata = train_data.metadata()\n",
    "    # add selfloops\n",
    "    for node_type in train_data.node_types:\n",
    "        metadata[1].append((node_type, 'self_loop', node_type))    \n",
    "    \n",
    "    # infer model parameters, dimensions batchsize etc from filename\n",
    "    out_channels = int(model_folder.split('outchannels_')[1].split('_')[0])\n",
    "    hidden_channels = int(model_folder.split('hiddenchannels_')[1].split('_')[0])\n",
    "    num_heads = int(model_folder.split('numheads_')[1].split('_')[0])\n",
    "    num_layers = int(model_folder.split('numlayers_')[1].split('/')[0])\n",
    "    head = model_folder.split('head_')[1].split('_')[0]\n",
    "    learning_rate = float(model_folder.split('lr')[1].split('_')[0])\n",
    "    batch_size = int(model_folder.split('bs')[1].split('_')[0])\n",
    "    num_neighbors = [int(x) for x in model_folder.split('neighbors_')[1].split('head')[0].strip('_').split('_')]\n",
    "    if 'pnrom' in model_folder:\n",
    "        pnorm = int(model_folder.split('pnrom')[1].split('_')[0])\n",
    "    elif 'pnorm' in model_folder:\n",
    "        pnorm = int(model_folder.split('pnorm')[1].split('_')[0])\n",
    "    else:\n",
    "        pnorm = 1\n",
    "        \n",
    "    gnn = HGT(hidden_channels=out_channels, out_channels=out_channels, num_heads=num_heads, num_layers=num_layers, node_types=train_data.node_types, data_metadata=metadata)\n",
    "\n",
    "    model = Model(gnn, head=head, node_types=metadata[0], edge_types=metadata[1], ggn_output_dim=out_channels, pnorm=pnorm)\n",
    "    #torch_geometric.compile(model, dynamic=True)\n",
    "    #model.load_state_dict(torch.load(model_folder)['model_state_dict'])\n",
    "    return model"
   ]
  },
  {
   "cell_type": "code",
   "execution_count": 7,
   "metadata": {},
   "outputs": [],
   "source": [
    "model_foldere5 = ROOT_FOLDER+'models/learningpeople_hgt_20231102_004035_lr2e-06_bs32_neighbors_133_1333_head_TransE_hiddenchannels_256_outchannels_256_numheads_8_numlayers_2/Ep0_model_samplesseen154400.pt'\n",
    "modele5 = get_model(model_foldere5)\n",
    "\n",
    "model_foldere4 = ROOT_FOLDER+'models/learningpeople_hgt_20231102_114410_lr0.0002_bs32_neighbors_133_1333_head_TransE_hiddenchannels_256_outchannels_256_numheads_8_numlayers_2/Ep1_model_samplesseen154400.pt'\n",
    "modele4 = get_model(model_foldere4)\n",
    "\n",
    "model_foldere4euclidean = ROOT_FOLDER+'models/learningpeople_hgt_20231102_170612_pnrom2_llr0.0002_bs32_neighbors_133_1333_head_TransE_hiddenchannels_256_outchannels_256_numheads_8_numlayers_2/Ep1_model_samplesseen154400.pt'\n",
    "modele4euclidean = get_model(model_foldere4euclidean)"
   ]
  },
  {
   "cell_type": "code",
   "execution_count": 8,
   "metadata": {},
   "outputs": [],
   "source": [
    "def init_model(model, model_folder):\n",
    "    model.to(device)\n",
    "    num_neighbors = [int(x) for x in model_folder.split('neighbors_')[1].split('head')[0].strip('_').split('_')]\n",
    "    \n",
    "    # init dimensions of model by training it\n",
    "    from tqdm.auto import tqdm\n",
    "    from datetime import datetime\n",
    "    input_edgetype = ('people', 'rev_course_and_programs_student', 'courses_and_programs')\n",
    "    add_reverse_edge_original_attributes_and_label_inplace(train_data['courses_and_programs', 'course_and_programs_student', 'people'], reverse_edge=train_data[input_edgetype] )\n",
    "    add_reverse_edge_original_attributes_and_label_inplace(val_data['courses_and_programs', 'course_and_programs_student', 'people'], reverse_edge=val_data[input_edgetype] )\n",
    "\n",
    "    val_sampler = get_hgt_linkloader(val_data, input_edgetype, 10, False, 'triplet', 1, num_neighbors, num_workers=0, prefetch_factor=None, pin_memory=True)\n",
    "\n",
    "    learning_rate = 2e-4\n",
    "    # torch get optimizer by string name\n",
    "    optimizer = torch.optim.Adam(model.parameters(), lr=learning_rate) #2e-15\n",
    "\n",
    "    # train model\n",
    "\n",
    "    model.eval()\n",
    "    minibatchpart1, minibatchpart2, edge_label_index, edge_label, input_edge_id, src_nodes, dst_nodes = next(iter(val_sampler))\n",
    "    #optimizer.zero_grad()\n",
    "    loss = model(minibatchpart1.to(device), input_edgetype, edge_label_index.to(device), edge_label.to(device), minibatchpart2.to(device))\n",
    "    model.load_state_dict(torch.load(model_folder)['model_state_dict'])\n",
    "    model.to('cpu')\n",
    "    "
   ]
  },
  {
   "cell_type": "code",
   "execution_count": 9,
   "metadata": {},
   "outputs": [],
   "source": [
    "init_model(modele5, model_foldere5)\n",
    "init_model(modele4, model_foldere4)\n",
    "init_model(modele4euclidean, model_foldere4euclidean)"
   ]
  },
  {
   "cell_type": "code",
   "execution_count": null,
   "metadata": {},
   "outputs": [],
   "source": []
  },
  {
   "cell_type": "code",
   "execution_count": 10,
   "metadata": {},
   "outputs": [],
   "source": [
    "# evaluate model on test set\n",
    "# init dimensions of model by training it\n",
    "from tqdm.auto import tqdm\n",
    "from datetime import datetime\n",
    "import numpy as np \n",
    "\n",
    "def evaluate(model, n_negatives, model_folder, on='test'):\n",
    "    num_neighbors = [int(x) for x in model_folder.split('neighbors_')[1].split('head')[0].strip('_').split('_')]\n",
    "    \n",
    "    model.to(device)\n",
    "    mrrs = []\n",
    "   \n",
    "    \n",
    "    #test_sampler = get_hgt_linkloader(test_data, input_edgetype, 1, False, 'triplet', n_negatives, num_neighbors, num_workers=0, prefetch_factor=None, pin_memory=True)\n",
    "    \n",
    "\n",
    "\n",
    "\n",
    "    # test data\n",
    "    train_data_text, val_data_text, test_data_text = get_datasets(get_edge_attr=False, filename=ROOT_FOLDER+'HeteroData_Learnings_normalized_triangles_withadditionaldata_v1.pt', filter_top_k=True, top_k=50, remove_text_attr=False)\n",
    "    input_edgetype = ('people', 'rev_course_and_programs_student', 'courses_and_programs')\n",
    "    if on=='test':\n",
    "        add_reverse_edge_original_attributes_and_label_inplace(test_data['courses_and_programs', 'course_and_programs_student', 'people'], reverse_edge=test_data[input_edgetype] )\n",
    "        test_sampler = get_hgt_linkloader(test_data, input_edgetype, 1, False, 'triplet', n_negatives, num_neighbors, num_workers=0, prefetch_factor=None, pin_memory=True)\n",
    "    elif on =='train':\n",
    "        add_reverse_edge_original_attributes_and_label_inplace(train_data['courses_and_programs', 'course_and_programs_student', 'people'], reverse_edge=train_data[input_edgetype] )\n",
    "        test_sampler = get_hgt_linkloader(train_data, input_edgetype, 1, False, 'triplet', n_negatives, num_neighbors, num_workers=0, prefetch_factor=None, pin_memory=True)\n",
    "    # test data\n",
    "    best_mrr, best_differences, best_src_nodes, best_dst_nodes = 0, None, None, None\n",
    "    for i, minibatch in tqdm(enumerate(test_sampler)):\n",
    "        if i==100:\n",
    "            break\n",
    "        model.eval()\n",
    "        minibatchpart1, minibatchpart2, edge_label_index, edge_label, input_edge_id, global_src_nodes, global_dst_nodes = minibatch\n",
    "        #optimizer.zero_grad()\n",
    "        differences = model.forward(minibatchpart1.to(device), input_edgetype, edge_label_index.to(device), edge_label.to(device), minibatchpart2.to(device), get_head_fn='forward')\n",
    "        #loss.backward()\n",
    "\n",
    "        # define mrr with differences and labels\n",
    "        # get rank of positive edge from tensor, positive edge is first in batch\n",
    "\n",
    "        differences = -1* differences.cpu().detach().numpy()\n",
    "        edge_label = edge_label.cpu().detach().numpy()\n",
    "        rank = (differences < differences[0]).sum()\n",
    "\n",
    "        # reciprocal\n",
    "        mrr = 1/(rank+1)\n",
    "        if mrr > best_mrr:\n",
    "            best_mrr = mrr\n",
    "            best_differences = differences\n",
    "            best_src_nodes = global_src_nodes\n",
    "            best_dst_nodes = global_dst_nodes\n",
    "            print('new best mrr', best_mrr)\n",
    "            \n",
    "    \n",
    "        mrrs.append(mrr)\n",
    "\n",
    "        \n",
    "        if False:\n",
    "            jobpeople = test_data_text['jobs', 'job_student', 'people']\n",
    "            job_edge = jobpeople.edge_index[1,:] == global_src_nodes[0]\n",
    "            \n",
    "            \n",
    "            if torch.sum(job_edge) != 0:\n",
    "                job_idx = jobpeople.edge_index[0,:][job_edge]\n",
    "                \n",
    "            else:\n",
    "                job_idx = torch.tensor([0])\n",
    "\n",
    "            job_edge = jobpeople.edge_label_index[1,:] == global_src_nodes[0]\n",
    "            if torch.sum(job_edge) != 0:\n",
    "                job_idx2 = jobpeople.edge_label_index[0,:][job_edge]\n",
    "                torch.cat((job_idx, job_idx2)).squeeze()\n",
    "                \n",
    "                \n",
    "            \n",
    "        \n",
    "            print('==============')\n",
    "            print('==============')\n",
    "            print('==============')\n",
    "            # (differences < differences[0])\n",
    "            print('mrr',mrr)\n",
    "            print('rank',rank)\n",
    "            for idx in job_idx:\n",
    "                jobtitle = test_data_text['jobs'].TITLE[idx.item()]\n",
    "                print('job title', jobtitle)\n",
    "                \n",
    "            print('original', test_data_text['courses_and_programs'].TITLE[global_dst_nodes[0]])\n",
    "            print('original', test_data_text['courses_and_programs'].DESCRIPTION[global_dst_nodes[0]])\n",
    "            \n",
    "            # first 10 higher ranked\n",
    "            mask = torch.where(torch.tensor((differences < differences[0])))\n",
    "            indices = torch.argsort(torch.tensor(differences[mask]))\n",
    "            for i in range(10):\n",
    "                index = indices[i]\n",
    "                global_index = global_dst_nodes[mask][index]\n",
    "                print('------')\n",
    "                print(differences[mask][index])\n",
    "                print(test_data_text['courses_and_programs'].TITLE[global_index])\n",
    "                print(test_data_text['courses_and_programs'].DESCRIPTION[global_index])\n",
    "\n",
    "    print('mean mrr',np.mean(mrrs))\n",
    "    print('mean rank',1/np.mean(mrrs))\n",
    "    # mean rank\n",
    "    model.to('cpu')\n"
   ]
  },
  {
   "cell_type": "code",
   "execution_count": null,
   "metadata": {},
   "outputs": [
    {
     "name": "stdout",
     "output_type": "stream",
     "text": [
      "size of dataset on disk:  2.279761238 gb\n",
      "loading saved heterodata object\n",
      "for skill job edges keep top k edges per job, k is  50\n",
      "keep tensor(1208056) of total 16289586\n"
     ]
    },
    {
     "name": "stderr",
     "output_type": "stream",
     "text": [
      "1it [00:03,  3.54s/it]"
     ]
    },
    {
     "name": "stdout",
     "output_type": "stream",
     "text": [
      "new best mrr 0.00038774718883288094\n"
     ]
    },
    {
     "name": "stderr",
     "output_type": "stream",
     "text": [
      "3it [00:09,  3.14s/it]"
     ]
    },
    {
     "name": "stdout",
     "output_type": "stream",
     "text": [
      "new best mrr 0.05\n"
     ]
    },
    {
     "name": "stderr",
     "output_type": "stream",
     "text": [
      "4it [00:13,  3.29s/it]"
     ]
    },
    {
     "name": "stdout",
     "output_type": "stream",
     "text": [
      "new best mrr 0.0625\n"
     ]
    },
    {
     "name": "stderr",
     "output_type": "stream",
     "text": [
      "7it [00:21,  2.94s/it]"
     ]
    },
    {
     "name": "stdout",
     "output_type": "stream",
     "text": [
      "new best mrr 1.0\n"
     ]
    },
    {
     "name": "stderr",
     "output_type": "stream",
     "text": [
      "30it [01:29,  3.26s/it]"
     ]
    }
   ],
   "source": [
    "evaluate(modele4euclidean, 30000, model_foldere4euclidean)"
   ]
  },
  {
   "cell_type": "code",
   "execution_count": null,
   "metadata": {},
   "outputs": [],
   "source": [
    "evaluate(modele5, 50000, model_foldere5)"
   ]
  },
  {
   "cell_type": "code",
   "execution_count": null,
   "metadata": {},
   "outputs": [],
   "source": [
    "evaluate(modele4, 50000, model_foldere4)"
   ]
  },
  {
   "cell_type": "code",
   "execution_count": null,
   "metadata": {},
   "outputs": [],
   "source": [
    "evaluate(modele5, 50000, model_foldere5, on='train')"
   ]
  },
  {
   "cell_type": "code",
   "execution_count": null,
   "metadata": {},
   "outputs": [],
   "source": []
  },
  {
   "cell_type": "code",
   "execution_count": null,
   "metadata": {},
   "outputs": [],
   "source": [
    "evaluate(modele4, 50000, model_foldere4, on='train')"
   ]
  },
  {
   "cell_type": "code",
   "execution_count": null,
   "metadata": {},
   "outputs": [],
   "source": []
  },
  {
   "cell_type": "code",
   "execution_count": null,
   "metadata": {},
   "outputs": [],
   "source": [
    "\n",
    "\n",
    "#rank + 1 = 1/mmr\n",
    "1/best_mrr -1"
   ]
  },
  {
   "cell_type": "code",
   "execution_count": null,
   "metadata": {},
   "outputs": [],
   "source": [
    "edge_label"
   ]
  },
  {
   "cell_type": "code",
   "execution_count": null,
   "metadata": {},
   "outputs": [],
   "source": [
    "\n",
    "\n"
   ]
  },
  {
   "cell_type": "code",
   "execution_count": null,
   "metadata": {},
   "outputs": [],
   "source": [
    "best_src_nodes"
   ]
  },
  {
   "cell_type": "code",
   "execution_count": null,
   "metadata": {},
   "outputs": [],
   "source": [
    "\n"
   ]
  },
  {
   "cell_type": "markdown",
   "metadata": {},
   "source": []
  },
  {
   "cell_type": "code",
   "execution_count": null,
   "metadata": {},
   "outputs": [],
   "source": [
    "torch.sum(job_title)"
   ]
  },
  {
   "cell_type": "code",
   "execution_count": null,
   "metadata": {},
   "outputs": [],
   "source": [
    "test_data_text['people']"
   ]
  },
  {
   "cell_type": "code",
   "execution_count": null,
   "metadata": {},
   "outputs": [],
   "source": [
    "# (differences < differences[0])\n",
    "print('original', test_data_text['courses_and_programs'].TITLE[best_dst_nodes[0]])\n",
    "print('original', test_data_text['courses_and_programs'].DESCRIPTION[best_dst_nodes[0]])\n",
    "\n",
    "# first 10 higher ranked\n",
    "mask = torch.where(torch.tensor((best_differences < best_differences[0])))\n",
    "indices = torch.argsort(torch.tensor(best_differences[mask]))\n",
    "for i in range(10):\n",
    "    index = indices[i]\n",
    "    global_index = best_dst_nodes[mask][index]\n",
    "    print('------')\n",
    "    print(best_differences[mask][index])\n",
    "    print(test_data_text['courses_and_programs'].TITLE[global_index])\n",
    "    print(test_data_text['courses_and_programs'].DESCRIPTION[global_index])"
   ]
  },
  {
   "cell_type": "code",
   "execution_count": null,
   "metadata": {},
   "outputs": [],
   "source": [
    "# first 10 higher ranked\n",
    "mask = torch.where(torch.tensor((best_differences < best_differences[0])))\n",
    "indices = torch.argsort(torch.tensor(best_differences[mask]))\n",
    "for i in range(10):\n",
    "    index = indices[i]\n",
    "    global_index = best_dst_nodes[mask][index]\n",
    "    print('------')\n",
    "    print(best_differences[mask][index])\n",
    "    print(test_data_text['courses_and_programs'].TITLE[global_index])\n",
    "    print(test_data_text['courses_and_programs'].DESCRIPTION[global_index])"
   ]
  },
  {
   "cell_type": "code",
   "execution_count": null,
   "metadata": {},
   "outputs": [],
   "source": [
    "test_data['"
   ]
  }
 ],
 "metadata": {
  "kernelspec": {
   "display_name": "Python 3 (ipykernel)",
   "language": "python",
   "name": "python3"
  },
  "language_info": {
   "codemirror_mode": {
    "name": "ipython",
    "version": 3
   },
   "file_extension": ".py",
   "mimetype": "text/x-python",
   "name": "python",
   "nbconvert_exporter": "python",
   "pygments_lexer": "ipython3",
   "version": "3.10.12"
  }
 },
 "nbformat": 4,
 "nbformat_minor": 4
}
