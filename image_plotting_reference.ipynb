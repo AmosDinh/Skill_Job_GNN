{
 "cells": [
  {
   "cell_type": "code",
   "execution_count": null,
   "metadata": {},
   "outputs": [],
   "source": [
    "import matplotlib\n",
    "import matplotlib.patches as mpatches\n",
    "from matplotlib.patches import Rectangle\n",
    "\n",
    "import matplotlib.pyplot as plt\n",
    "font = {\n",
    "        'size'   : 12}\n",
    "\n",
    "matplotlib.rc('font', **font)\n",
    "plt.suptitle('Distribution of the absolute mean of ElbowLeftX\\n per execution-file, original method',y=1.1)\n",
    "fig = plt.figure(figsize=(12,4))\n",
    "\n",
    "plt.subplot(211)\n",
    "plt.xlim(0,10000)\n",
    "plt.tick_params('x', labelbottom=False)\n",
    "plt.ylim(-1,1.5)\n",
    "plot_graph(df.pc1[125:]/15,skeleton_changed=df.SkeletonChanged[125:],y_true=df.label[125:],y_score=scores,is_subplot=True, scorecolor='tab:purple')\n",
    "plt.subplot(212)\n",
    "plt.xlim(0,10000)\n",
    "plt.ylim(-1,1.5)\n",
    "\n",
    "\n",
    "\n",
    "plot_graph(df.pc1/15,skeleton_changed=df.SkeletonChanged,y_true=df.label,y_score=pd.Series(unwindowed_scores),is_subplot=True,scorecolor='tab:orange')\n",
    "red_patch = mpatches.Patch(color='tab:blue', label='data')\n",
    "red_patch2 = mpatches.Patch(color='tab:purple', label='window scores')\n",
    "red_patch3 = mpatches.Patch(color='tab:orange', label='unwindowed scores')\n",
    "fig.legend(handles=[red_patch,red_patch2,red_patch3],loc=(0.80, 0.835),frameon=False)\n",
    "fig.suptitle('Effect of \"unwindowing\" scores',y=1.05)\n",
    "fig.supxlabel('time',y=-0.05)\n",
    "plt.savefig('7_2_unwindowing_data.png',dpi=300, bbox_inches = \"tight\")"
   ]
  }
 ],
 "metadata": {
  "language_info": {
   "name": "python"
  }
 },
 "nbformat": 4,
 "nbformat_minor": 2
}
