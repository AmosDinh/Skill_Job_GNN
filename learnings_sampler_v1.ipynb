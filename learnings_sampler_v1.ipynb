{
 "cells": [
  {
   "cell_type": "code",
   "execution_count": 1,
   "metadata": {},
   "outputs": [
    {
     "name": "stderr",
     "output_type": "stream",
     "text": [
      "/home/amos/mambaforge/envs/pyg_torch21/lib/python3.10/site-packages/tqdm/auto.py:21: TqdmWarning: IProgress not found. Please update jupyter and ipywidgets. See https://ipywidgets.readthedocs.io/en/stable/user_install.html\n",
      "  from .autonotebook import tqdm as notebook_tqdm\n"
     ]
    },
    {
     "name": "stdout",
     "output_type": "stream",
     "text": [
      "loading saved heterodata object\n"
     ]
    }
   ],
   "source": [
    "import os\n",
    "import torch\n",
    "from torch_geometric.data import HeteroData\n",
    "\n",
    "\n",
    "filename = 'HeteroData_Learnings_v1.pt'\n",
    "if os.path.exists('./'+filename):\n",
    "    data = HeteroData.from_dict(torch.load('./'+filename))\n",
    "    print('loading saved heterodata object')"
   ]
  },
  {
   "cell_type": "code",
   "execution_count": 3,
   "metadata": {},
   "outputs": [
    {
     "name": "stdout",
     "output_type": "stream",
     "text": [
      "size of file on disk:  1.790098703 gb\n"
     ]
    }
   ],
   "source": [
    "# get size of the data on disk in gb\n",
    "import os\n",
    "size = os.path.getsize('./'+filename)\n",
    "print('size of file on disk: ', size/1e9, 'gb')"
   ]
  },
  {
   "cell_type": "code",
   "execution_count": null,
   "metadata": {},
   "outputs": [],
   "source": [
    "# sampler for Heterogeneous Graph Transformer"
   ]
  },
  {
   "cell_type": "code",
   "execution_count": null,
   "metadata": {},
   "outputs": [],
   "source": [
    "# for each node type, add a new edge type only consisting of self loops\n",
    "# this is done to allow HGT to attend to the previous node representations\n",
    "# for node_type in data.node_types:\n",
    "#     data[node_type, 'self_loop', node_type] = torch.cat((torch.arange(data[node_type].num_nodes),torch.arange(data[node_type].num_nodes)), dim=0)"
   ]
  },
  {
   "cell_type": "code",
   "execution_count": 1,
   "metadata": {},
   "outputs": [],
   "source": [
    "# split"
   ]
  },
  {
   "cell_type": "code",
   "execution_count": 18,
   "metadata": {},
   "outputs": [
    {
     "data": {
      "text/plain": [
       "HeteroData(\n",
       "  courses_and_programs={\n",
       "    TITLE=[55796],\n",
       "    DESCRIPTION=[55796],\n",
       "    x=[55796, 814],\n",
       "  },\n",
       "  qualifications={\n",
       "    TITLE=[1242],\n",
       "    DESCRIPTION=[1242],\n",
       "    x=[1242, 785],\n",
       "  },\n",
       "  skills={\n",
       "    TITLE=[138698],\n",
       "    x=[138698, 772],\n",
       "  },\n",
       "  people={ x=[293444, 24] },\n",
       "  jobs={\n",
       "    TITLE=[55638],\n",
       "    x=[55638, 773],\n",
       "  },\n",
       "  organizations={\n",
       "    num_nodes=13613,\n",
       "    x=[13613, 2],\n",
       "  },\n",
       "  (skills, qualification_skill, qualifications)={ edge_index=[2, 1596] },\n",
       "  (skills, course_and_program_skill, courses_and_programs)={ edge_index=[2, 258099] },\n",
       "  (courses_and_programs, course_qualification, qualifications)={ edge_index=[2, 2099] },\n",
       "  (courses_and_programs, course_and_programs_student, people)={\n",
       "    edge_index=[2, 553454],\n",
       "    edge_attr=[553454, 3],\n",
       "  },\n",
       "  (jobs, job_student, people)={ edge_index=[2, 293444] },\n",
       "  (people, supervisor_supervisee, people)={ edge_index=[2, 217922] },\n",
       "  (people, organization_student, organizations)={ edge_index=[2, 292060] },\n",
       "  (jobs, job_job, jobs)={\n",
       "    edge_index=[2, 18384],\n",
       "    edge_attr=[18384, 1],\n",
       "  },\n",
       "  (skills, job_skill, jobs)={\n",
       "    edge_index=[2, 16289586],\n",
       "    edge_attr=[16289586, 1],\n",
       "  },\n",
       "  (jobs, broader_job_job, jobs)={ edge_index=[2, 54586] },\n",
       "  (qualifications, rev_qualification_skill, skills)={ edge_index=[2, 1596] },\n",
       "  (courses_and_programs, rev_course_and_program_skill, skills)={ edge_index=[2, 258099] },\n",
       "  (qualifications, rev_course_qualification, courses_and_programs)={ edge_index=[2, 2099] },\n",
       "  (people, rev_course_and_programs_student, courses_and_programs)={\n",
       "    edge_index=[2, 553454],\n",
       "    edge_attr=[553454, 3],\n",
       "  },\n",
       "  (people, rev_job_student, jobs)={ edge_index=[2, 293444] },\n",
       "  (people, rev_supervisor_supervisee, people)={ edge_index=[2, 217922] },\n",
       "  (organizations, rev_organization_student, people)={ edge_index=[2, 292060] },\n",
       "  (jobs, rev_job_job, jobs)={\n",
       "    edge_index=[2, 18384],\n",
       "    edge_attr=[18384, 1],\n",
       "  },\n",
       "  (jobs, rev_job_skill, skills)={\n",
       "    edge_index=[2, 16289586],\n",
       "    edge_attr=[16289586, 1],\n",
       "  },\n",
       "  (jobs, rev_broader_job_job, jobs)={ edge_index=[2, 54586] }\n",
       ")"
      ]
     },
     "execution_count": 18,
     "metadata": {},
     "output_type": "execute_result"
    }
   ],
   "source": [
    "data"
   ]
  },
  {
   "cell_type": "code",
   "execution_count": 8,
   "metadata": {},
   "outputs": [
    {
     "data": {
      "text/plain": [
       "HeteroData(\n",
       "  courses_and_programs={\n",
       "    TITLE=[55796],\n",
       "    DESCRIPTION=[55796],\n",
       "    x=[55796, 814],\n",
       "  },\n",
       "  qualifications={\n",
       "    TITLE=[1242],\n",
       "    DESCRIPTION=[1242],\n",
       "    x=[1242, 785],\n",
       "  },\n",
       "  skills={\n",
       "    TITLE=[138698],\n",
       "    x=[138698, 772],\n",
       "  },\n",
       "  people={ x=[293444, 24] },\n",
       "  jobs={\n",
       "    TITLE=[55638],\n",
       "    x=[55638, 773],\n",
       "  },\n",
       "  organizations={\n",
       "    num_nodes=13613,\n",
       "    x=[13613, 2],\n",
       "  },\n",
       "  (skills, qualification_skill, qualifications)={\n",
       "    edge_index=[2, 1566],\n",
       "    edge_label=[1566],\n",
       "    edge_label_index=[2, 1566],\n",
       "  },\n",
       "  (skills, course_and_program_skill, courses_and_programs)={\n",
       "    edge_index=[2, 252939],\n",
       "    edge_label=[252939],\n",
       "    edge_label_index=[2, 252939],\n",
       "  },\n",
       "  (courses_and_programs, course_qualification, qualifications)={\n",
       "    edge_index=[2, 2059],\n",
       "    edge_label=[2059],\n",
       "    edge_label_index=[2, 2059],\n",
       "  },\n",
       "  (courses_and_programs, course_and_programs_student, people)={\n",
       "    edge_index=[2, 542386],\n",
       "    edge_attr=[542386, 3],\n",
       "    edge_label=[542386],\n",
       "    edge_label_index=[2, 542386],\n",
       "  },\n",
       "  (jobs, job_student, people)={\n",
       "    edge_index=[2, 287576],\n",
       "    edge_label=[287576],\n",
       "    edge_label_index=[2, 287576],\n",
       "  },\n",
       "  (people, supervisor_supervisee, people)={\n",
       "    edge_index=[2, 213564],\n",
       "    edge_label=[213564],\n",
       "    edge_label_index=[2, 213564],\n",
       "  },\n",
       "  (people, organization_student, organizations)={\n",
       "    edge_index=[2, 286220],\n",
       "    edge_label=[286220],\n",
       "    edge_label_index=[2, 286220],\n",
       "  },\n",
       "  (jobs, job_job, jobs)={\n",
       "    edge_index=[2, 18018],\n",
       "    edge_attr=[18018, 1],\n",
       "    edge_label=[18018],\n",
       "    edge_label_index=[2, 18018],\n",
       "  },\n",
       "  (skills, job_skill, jobs)={\n",
       "    edge_index=[2, 15963796],\n",
       "    edge_attr=[15963796, 1],\n",
       "    edge_label=[15963796],\n",
       "    edge_label_index=[2, 15963796],\n",
       "  },\n",
       "  (jobs, broader_job_job, jobs)={\n",
       "    edge_index=[2, 53496],\n",
       "    edge_label=[53496],\n",
       "    edge_label_index=[2, 53496],\n",
       "  },\n",
       "  (qualifications, rev_qualification_skill, skills)={ edge_index=[2, 1566] },\n",
       "  (courses_and_programs, rev_course_and_program_skill, skills)={ edge_index=[2, 252939] },\n",
       "  (qualifications, rev_course_qualification, courses_and_programs)={ edge_index=[2, 2059] },\n",
       "  (people, rev_course_and_programs_student, courses_and_programs)={\n",
       "    edge_index=[2, 542386],\n",
       "    edge_attr=[542386, 3],\n",
       "  },\n",
       "  (people, rev_job_student, jobs)={ edge_index=[2, 287576] },\n",
       "  (people, rev_supervisor_supervisee, people)={ edge_index=[2, 213564] },\n",
       "  (organizations, rev_organization_student, people)={ edge_index=[2, 286220] },\n",
       "  (jobs, rev_job_job, jobs)={\n",
       "    edge_index=[2, 18018],\n",
       "    edge_attr=[18018, 1],\n",
       "  },\n",
       "  (jobs, rev_job_skill, skills)={\n",
       "    edge_index=[2, 15963796],\n",
       "    edge_attr=[15963796, 1],\n",
       "  },\n",
       "  (jobs, rev_broader_job_job, jobs)={ edge_index=[2, 53496] },\n",
       "  (courses_and_programs, self_loop, courses_and_programs)={ edge_index=[2, 55796] },\n",
       "  (qualifications, self_loop, qualifications)={ edge_index=[2, 1242] },\n",
       "  (skills, self_loop, skills)={ edge_index=[2, 138698] },\n",
       "  (people, self_loop, people)={ edge_index=[2, 293444] },\n",
       "  (jobs, self_loop, jobs)={ edge_index=[2, 55638] },\n",
       "  (organizations, self_loop, organizations)={ edge_index=[2, 13613] }\n",
       ")"
      ]
     },
     "execution_count": 8,
     "metadata": {},
     "output_type": "execute_result"
    }
   ],
   "source": [
    "from torch_geometric import seed_everything\n",
    "import torch_geometric.transforms as T\n",
    "\n",
    "\n",
    "edge_types = []\n",
    "rev_edge_types = []\n",
    "for edge_type in data.edge_types:\n",
    "    if edge_type[1].startswith('rev_'):\n",
    "        rev_edge_types.append(edge_type)\n",
    "    else:\n",
    "        edge_types.append(edge_type)\n",
    "\n",
    "transform = T.RandomLinkSplit(\n",
    "    is_undirected=True,\n",
    "    edge_types=edge_types,\n",
    "    rev_edge_types=rev_edge_types,\n",
    "    num_val=0.01,\n",
    "    num_test=0.01,\n",
    "    add_negative_train_samples=False, # only adds neg samples for val and test, neg train are added by LinkNeighborLoader. This means for each train batch, negs. are different, for val and train they stay the same\n",
    "    neg_sampling_ratio=1.0,\n",
    "    disjoint_train_ratio=0, #  training edges are shared for message passing and supervision\n",
    "    )\n",
    "\n",
    "seed_everything(14)\n",
    "train_data, val_data, test_data = transform(data)\n",
    "\n",
    "def add_self_loops(data):\n",
    "    for node_type in data.node_types:\n",
    "        data[node_type, 'self_loop', node_type].edge_index = torch.cat((torch.arange(data[node_type].num_nodes).unsqueeze(0),torch.arange(data[node_type].num_nodes).unsqueeze(0)), dim=0)\n",
    "    return data \n",
    "\n",
    "train_data = add_self_loops(train_data)\n",
    "val_data = add_self_loops(val_data)\n",
    "test_data = add_self_loops(test_data)\n",
    "\n",
    "train_data\n",
    "    "
   ]
  },
  {
   "cell_type": "code",
   "execution_count": null,
   "metadata": {},
   "outputs": [],
   "source": [
    "train_data"
   ]
  },
  {
   "cell_type": "code",
   "execution_count": 20,
   "metadata": {},
   "outputs": [
    {
     "ename": "AttributeError",
     "evalue": "'EdgeStorage' object has no attribute 'edge_index'",
     "output_type": "error",
     "traceback": [
      "\u001b[0;31m---------------------------------------------------------------------------\u001b[0m",
      "\u001b[0;31mAttributeError\u001b[0m                            Traceback (most recent call last)",
      "\u001b[1;32m/home/amos/programming/create_graphds/learnings_sampler_v1.ipynb Cell 9\u001b[0m line \u001b[0;36m1\n\u001b[1;32m      <a href='vscode-notebook-cell://wsl%2Bubuntu/home/amos/programming/create_graphds/learnings_sampler_v1.ipynb#X12sdnNjb2RlLXJlbW90ZQ%3D%3D?line=8'>9</a>\u001b[0m negative_sampling \u001b[39m=\u001b[39m NegativeSampling(\n\u001b[1;32m     <a href='vscode-notebook-cell://wsl%2Bubuntu/home/amos/programming/create_graphds/learnings_sampler_v1.ipynb#X12sdnNjb2RlLXJlbW90ZQ%3D%3D?line=9'>10</a>\u001b[0m         mode\u001b[39m=\u001b[39m\u001b[39m'\u001b[39m\u001b[39mbinary\u001b[39m\u001b[39m'\u001b[39m,\n\u001b[1;32m     <a href='vscode-notebook-cell://wsl%2Bubuntu/home/amos/programming/create_graphds/learnings_sampler_v1.ipynb#X12sdnNjb2RlLXJlbW90ZQ%3D%3D?line=10'>11</a>\u001b[0m         amount\u001b[39m=\u001b[39m\u001b[39m10\u001b[39m  \u001b[39m# ratio, like Graphsage\u001b[39;00m\n\u001b[1;32m     <a href='vscode-notebook-cell://wsl%2Bubuntu/home/amos/programming/create_graphds/learnings_sampler_v1.ipynb#X12sdnNjb2RlLXJlbW90ZQ%3D%3D?line=11'>12</a>\u001b[0m         \u001b[39m#weight=  # \"Probabilities\" of nodes to be sampled: Node degree follows power law distribution\u001b[39;00m\n\u001b[1;32m     <a href='vscode-notebook-cell://wsl%2Bubuntu/home/amos/programming/create_graphds/learnings_sampler_v1.ipynb#X12sdnNjb2RlLXJlbW90ZQ%3D%3D?line=12'>13</a>\u001b[0m         )\n\u001b[1;32m     <a href='vscode-notebook-cell://wsl%2Bubuntu/home/amos/programming/create_graphds/learnings_sampler_v1.ipynb#X12sdnNjb2RlLXJlbW90ZQ%3D%3D?line=13'>14</a>\u001b[0m num_workers \u001b[39m=\u001b[39m \u001b[39m0\u001b[39m\n\u001b[0;32m---> <a href='vscode-notebook-cell://wsl%2Bubuntu/home/amos/programming/create_graphds/learnings_sampler_v1.ipynb#X12sdnNjb2RlLXJlbW90ZQ%3D%3D?line=15'>16</a>\u001b[0m loader \u001b[39m=\u001b[39m LinkNeighborLoader(\n\u001b[1;32m     <a href='vscode-notebook-cell://wsl%2Bubuntu/home/amos/programming/create_graphds/learnings_sampler_v1.ipynb#X12sdnNjb2RlLXJlbW90ZQ%3D%3D?line=16'>17</a>\u001b[0m         train_data,\n\u001b[1;32m     <a href='vscode-notebook-cell://wsl%2Bubuntu/home/amos/programming/create_graphds/learnings_sampler_v1.ipynb#X12sdnNjb2RlLXJlbW90ZQ%3D%3D?line=17'>18</a>\u001b[0m         num_neighbors\u001b[39m=\u001b[39;49mnum_neighbors,\n\u001b[1;32m     <a href='vscode-notebook-cell://wsl%2Bubuntu/home/amos/programming/create_graphds/learnings_sampler_v1.ipynb#X12sdnNjb2RlLXJlbW90ZQ%3D%3D?line=18'>19</a>\u001b[0m         edge_label_index\u001b[39m=\u001b[39;49m((\u001b[39m'\u001b[39;49m\u001b[39mskills\u001b[39;49m\u001b[39m'\u001b[39;49m, \u001b[39m'\u001b[39;49m\u001b[39mqualification_skill\u001b[39;49m\u001b[39m'\u001b[39;49m, \u001b[39m'\u001b[39;49m\u001b[39mqualifications\u001b[39;49m\u001b[39m'\u001b[39;49m), train_data[\u001b[39m'\u001b[39;49m\u001b[39mskills\u001b[39;49m\u001b[39m'\u001b[39;49m, \u001b[39m'\u001b[39;49m\u001b[39mqualification_skill\u001b[39;49m\u001b[39m'\u001b[39;49m, \u001b[39m'\u001b[39;49m\u001b[39mqualifications\u001b[39;49m\u001b[39m'\u001b[39;49m]\u001b[39m.\u001b[39;49medge_label_index), \u001b[39m# if (edge, None), None means all edges are considered\u001b[39;49;00m\n\u001b[1;32m     <a href='vscode-notebook-cell://wsl%2Bubuntu/home/amos/programming/create_graphds/learnings_sampler_v1.ipynb#X12sdnNjb2RlLXJlbW90ZQ%3D%3D?line=19'>20</a>\u001b[0m      \n\u001b[1;32m     <a href='vscode-notebook-cell://wsl%2Bubuntu/home/amos/programming/create_graphds/learnings_sampler_v1.ipynb#X12sdnNjb2RlLXJlbW90ZQ%3D%3D?line=20'>21</a>\u001b[0m         neg_sampling\u001b[39m=\u001b[39;49mnegative_sampling, \u001b[39m# adds negative samples\u001b[39;49;00m\n\u001b[1;32m     <a href='vscode-notebook-cell://wsl%2Bubuntu/home/amos/programming/create_graphds/learnings_sampler_v1.ipynb#X12sdnNjb2RlLXJlbW90ZQ%3D%3D?line=21'>22</a>\u001b[0m         batch_size\u001b[39m=\u001b[39;49m\u001b[39m64\u001b[39;49m,\n\u001b[1;32m     <a href='vscode-notebook-cell://wsl%2Bubuntu/home/amos/programming/create_graphds/learnings_sampler_v1.ipynb#X12sdnNjb2RlLXJlbW90ZQ%3D%3D?line=22'>23</a>\u001b[0m         shuffle\u001b[39m=\u001b[39;49m\u001b[39mTrue\u001b[39;49;00m,\n\u001b[1;32m     <a href='vscode-notebook-cell://wsl%2Bubuntu/home/amos/programming/create_graphds/learnings_sampler_v1.ipynb#X12sdnNjb2RlLXJlbW90ZQ%3D%3D?line=23'>24</a>\u001b[0m         \u001b[39m#drop_last=True,\u001b[39;49;00m\n\u001b[1;32m     <a href='vscode-notebook-cell://wsl%2Bubuntu/home/amos/programming/create_graphds/learnings_sampler_v1.ipynb#X12sdnNjb2RlLXJlbW90ZQ%3D%3D?line=24'>25</a>\u001b[0m         num_workers\u001b[39m=\u001b[39;49mnum_workers,\n\u001b[1;32m     <a href='vscode-notebook-cell://wsl%2Bubuntu/home/amos/programming/create_graphds/learnings_sampler_v1.ipynb#X12sdnNjb2RlLXJlbW90ZQ%3D%3D?line=25'>26</a>\u001b[0m         directed\u001b[39m=\u001b[39;49m\u001b[39mTrue\u001b[39;49;00m,  \u001b[39m# contains only edges which are followed, False: contains full node induced subgraph\u001b[39;49;00m\n\u001b[1;32m     <a href='vscode-notebook-cell://wsl%2Bubuntu/home/amos/programming/create_graphds/learnings_sampler_v1.ipynb#X12sdnNjb2RlLXJlbW90ZQ%3D%3D?line=26'>27</a>\u001b[0m         \u001b[39m#disjoint=True # sampled seed node creates its own, disjoint from the rest, subgraph, will add \"batch vector\" to loader output\u001b[39;49;00m\n\u001b[1;32m     <a href='vscode-notebook-cell://wsl%2Bubuntu/home/amos/programming/create_graphds/learnings_sampler_v1.ipynb#X12sdnNjb2RlLXJlbW90ZQ%3D%3D?line=27'>28</a>\u001b[0m         pin_memory\u001b[39m=\u001b[39;49m\u001b[39mTrue\u001b[39;49;00m, \u001b[39m# faster data transfer to gpu\u001b[39;49;00m\n\u001b[1;32m     <a href='vscode-notebook-cell://wsl%2Bubuntu/home/amos/programming/create_graphds/learnings_sampler_v1.ipynb#X12sdnNjb2RlLXJlbW90ZQ%3D%3D?line=28'>29</a>\u001b[0m         \u001b[39m#num_workers=2,\u001b[39;49;00m\n\u001b[1;32m     <a href='vscode-notebook-cell://wsl%2Bubuntu/home/amos/programming/create_graphds/learnings_sampler_v1.ipynb#X12sdnNjb2RlLXJlbW90ZQ%3D%3D?line=29'>30</a>\u001b[0m         \u001b[39m#prefetch_factor=2\u001b[39;49;00m\n\u001b[1;32m     <a href='vscode-notebook-cell://wsl%2Bubuntu/home/amos/programming/create_graphds/learnings_sampler_v1.ipynb#X12sdnNjb2RlLXJlbW90ZQ%3D%3D?line=30'>31</a>\u001b[0m )\n",
      "File \u001b[0;32m~/mambaforge/envs/pyg_torch21/lib/python3.10/site-packages/torch_geometric/loader/link_neighbor_loader.py:236\u001b[0m, in \u001b[0;36mLinkNeighborLoader.__init__\u001b[0;34m(self, data, num_neighbors, edge_label_index, edge_label, edge_label_time, replace, subgraph_type, disjoint, temporal_strategy, neg_sampling, neg_sampling_ratio, time_attr, weight_attr, transform, transform_sampler_output, is_sorted, filter_per_worker, neighbor_sampler, directed, **kwargs)\u001b[0m\n\u001b[1;32m    227\u001b[0m     \u001b[39mraise\u001b[39;00m \u001b[39mValueError\u001b[39;00m(\n\u001b[1;32m    228\u001b[0m         \u001b[39mf\u001b[39m\u001b[39m\"\u001b[39m\u001b[39mReceived conflicting \u001b[39m\u001b[39m'\u001b[39m\u001b[39medge_label_time\u001b[39m\u001b[39m'\u001b[39m\u001b[39m and \u001b[39m\u001b[39m'\u001b[39m\u001b[39mtime_attr\u001b[39m\u001b[39m'\u001b[39m\u001b[39m \u001b[39m\u001b[39m\"\u001b[39m\n\u001b[1;32m    229\u001b[0m         \u001b[39mf\u001b[39m\u001b[39m\"\u001b[39m\u001b[39marguments: \u001b[39m\u001b[39m'\u001b[39m\u001b[39medge_label_time\u001b[39m\u001b[39m'\u001b[39m\u001b[39m is \u001b[39m\u001b[39m\"\u001b[39m\n\u001b[0;32m   (...)\u001b[0m\n\u001b[1;32m    232\u001b[0m         \u001b[39mf\u001b[39m\u001b[39m\"\u001b[39m\u001b[39m{\u001b[39;00m\u001b[39m'\u001b[39m\u001b[39mset\u001b[39m\u001b[39m'\u001b[39m\u001b[39m \u001b[39m\u001b[39mif\u001b[39;00m\u001b[39m \u001b[39mtime_attr\u001b[39m \u001b[39m\u001b[39mis\u001b[39;00m\u001b[39m \u001b[39m\u001b[39mnot\u001b[39;00m\u001b[39m \u001b[39m\u001b[39mNone\u001b[39;00m\u001b[39m \u001b[39m\u001b[39melse\u001b[39;00m\u001b[39m \u001b[39m\u001b[39m'\u001b[39m\u001b[39mnot set\u001b[39m\u001b[39m'\u001b[39m\u001b[39m}\u001b[39;00m\u001b[39m. \u001b[39m\u001b[39m\"\u001b[39m\n\u001b[1;32m    233\u001b[0m         \u001b[39mf\u001b[39m\u001b[39m\"\u001b[39m\u001b[39mBoth arguments must be provided for temporal sampling.\u001b[39m\u001b[39m\"\u001b[39m)\n\u001b[1;32m    235\u001b[0m \u001b[39mif\u001b[39;00m neighbor_sampler \u001b[39mis\u001b[39;00m \u001b[39mNone\u001b[39;00m:\n\u001b[0;32m--> 236\u001b[0m     neighbor_sampler \u001b[39m=\u001b[39m NeighborSampler(\n\u001b[1;32m    237\u001b[0m         data,\n\u001b[1;32m    238\u001b[0m         num_neighbors\u001b[39m=\u001b[39;49mnum_neighbors,\n\u001b[1;32m    239\u001b[0m         replace\u001b[39m=\u001b[39;49mreplace,\n\u001b[1;32m    240\u001b[0m         subgraph_type\u001b[39m=\u001b[39;49msubgraph_type,\n\u001b[1;32m    241\u001b[0m         disjoint\u001b[39m=\u001b[39;49mdisjoint,\n\u001b[1;32m    242\u001b[0m         temporal_strategy\u001b[39m=\u001b[39;49mtemporal_strategy,\n\u001b[1;32m    243\u001b[0m         time_attr\u001b[39m=\u001b[39;49mtime_attr,\n\u001b[1;32m    244\u001b[0m         weight_attr\u001b[39m=\u001b[39;49mweight_attr,\n\u001b[1;32m    245\u001b[0m         is_sorted\u001b[39m=\u001b[39;49mis_sorted,\n\u001b[1;32m    246\u001b[0m         share_memory\u001b[39m=\u001b[39;49mkwargs\u001b[39m.\u001b[39;49mget(\u001b[39m'\u001b[39;49m\u001b[39mnum_workers\u001b[39;49m\u001b[39m'\u001b[39;49m, \u001b[39m0\u001b[39;49m) \u001b[39m>\u001b[39;49m \u001b[39m0\u001b[39;49m,\n\u001b[1;32m    247\u001b[0m         directed\u001b[39m=\u001b[39;49mdirected,\n\u001b[1;32m    248\u001b[0m     )\n\u001b[1;32m    250\u001b[0m \u001b[39msuper\u001b[39m()\u001b[39m.\u001b[39m\u001b[39m__init__\u001b[39m(\n\u001b[1;32m    251\u001b[0m     data\u001b[39m=\u001b[39mdata,\n\u001b[1;32m    252\u001b[0m     link_sampler\u001b[39m=\u001b[39mneighbor_sampler,\n\u001b[0;32m   (...)\u001b[0m\n\u001b[1;32m    261\u001b[0m     \u001b[39m*\u001b[39m\u001b[39m*\u001b[39mkwargs,\n\u001b[1;32m    262\u001b[0m )\n",
      "File \u001b[0;32m~/mambaforge/envs/pyg_torch21/lib/python3.10/site-packages/torch_geometric/sampler/neighbor_sampler.py:101\u001b[0m, in \u001b[0;36mNeighborSampler.__init__\u001b[0;34m(self, data, num_neighbors, subgraph_type, replace, disjoint, temporal_strategy, time_attr, weight_attr, is_sorted, share_memory, directed)\u001b[0m\n\u001b[1;32m     98\u001b[0m \u001b[39mself\u001b[39m\u001b[39m.\u001b[39mto_edge_type \u001b[39m=\u001b[39m {v: k \u001b[39mfor\u001b[39;00m k, v \u001b[39min\u001b[39;00m \u001b[39mself\u001b[39m\u001b[39m.\u001b[39mto_rel_type\u001b[39m.\u001b[39mitems()}\n\u001b[1;32m    100\u001b[0m \u001b[39m# Convert the graph data into CSC format for sampling:\u001b[39;00m\n\u001b[0;32m--> 101\u001b[0m colptr_dict, row_dict, \u001b[39mself\u001b[39m\u001b[39m.\u001b[39mperm \u001b[39m=\u001b[39m to_hetero_csc(\n\u001b[1;32m    102\u001b[0m     data, device\u001b[39m=\u001b[39;49m\u001b[39m'\u001b[39;49m\u001b[39mcpu\u001b[39;49m\u001b[39m'\u001b[39;49m, share_memory\u001b[39m=\u001b[39;49mshare_memory,\n\u001b[1;32m    103\u001b[0m     is_sorted\u001b[39m=\u001b[39;49mis_sorted, node_time_dict\u001b[39m=\u001b[39;49m\u001b[39mself\u001b[39;49m\u001b[39m.\u001b[39;49mnode_time)\n\u001b[1;32m    104\u001b[0m \u001b[39mself\u001b[39m\u001b[39m.\u001b[39mrow_dict \u001b[39m=\u001b[39m remap_keys(row_dict, \u001b[39mself\u001b[39m\u001b[39m.\u001b[39mto_rel_type)\n\u001b[1;32m    105\u001b[0m \u001b[39mself\u001b[39m\u001b[39m.\u001b[39mcolptr_dict \u001b[39m=\u001b[39m remap_keys(colptr_dict, \u001b[39mself\u001b[39m\u001b[39m.\u001b[39mto_rel_type)\n",
      "File \u001b[0;32m~/mambaforge/envs/pyg_torch21/lib/python3.10/site-packages/torch_geometric/sampler/utils.py:101\u001b[0m, in \u001b[0;36mto_hetero_csc\u001b[0;34m(data, device, share_memory, is_sorted, node_time_dict)\u001b[0m\n\u001b[1;32m     99\u001b[0m \u001b[39mfor\u001b[39;00m edge_type, store \u001b[39min\u001b[39;00m data\u001b[39m.\u001b[39medge_items():\n\u001b[1;32m    100\u001b[0m     src_node_time \u001b[39m=\u001b[39m (node_time_dict \u001b[39mor\u001b[39;00m {})\u001b[39m.\u001b[39mget(edge_type[\u001b[39m0\u001b[39m], \u001b[39mNone\u001b[39;00m)\n\u001b[0;32m--> 101\u001b[0m     out \u001b[39m=\u001b[39m to_csc(store, device, share_memory, is_sorted, src_node_time)\n\u001b[1;32m    102\u001b[0m     colptr_dict[edge_type], row_dict[edge_type], perm_dict[edge_type] \u001b[39m=\u001b[39m out\n\u001b[1;32m    104\u001b[0m \u001b[39mreturn\u001b[39;00m colptr_dict, row_dict, perm_dict\n",
      "File \u001b[0;32m~/mambaforge/envs/pyg_torch21/lib/python3.10/site-packages/torch_geometric/sampler/utils.py:61\u001b[0m, in \u001b[0;36mto_csc\u001b[0;34m(data, device, share_memory, is_sorted, src_node_time)\u001b[0m\n\u001b[1;32m     58\u001b[0m         \u001b[39mpass\u001b[39;00m\n\u001b[1;32m     59\u001b[0m     colptr, row, _ \u001b[39m=\u001b[39m data\u001b[39m.\u001b[39madj_t\u001b[39m.\u001b[39mcsr()\n\u001b[0;32m---> 61\u001b[0m \u001b[39melif\u001b[39;00m data\u001b[39m.\u001b[39;49medge_index \u001b[39mis\u001b[39;00m \u001b[39mnot\u001b[39;00m \u001b[39mNone\u001b[39;00m:\n\u001b[1;32m     62\u001b[0m     row, col \u001b[39m=\u001b[39m data\u001b[39m.\u001b[39medge_index\n\u001b[1;32m     63\u001b[0m     \u001b[39mif\u001b[39;00m \u001b[39mnot\u001b[39;00m is_sorted:\n",
      "File \u001b[0;32m~/mambaforge/envs/pyg_torch21/lib/python3.10/site-packages/torch_geometric/data/storage.py:87\u001b[0m, in \u001b[0;36mBaseStorage.__getattr__\u001b[0;34m(self, key)\u001b[0m\n\u001b[1;32m     85\u001b[0m     \u001b[39mreturn\u001b[39;00m \u001b[39mself\u001b[39m[key]\n\u001b[1;32m     86\u001b[0m \u001b[39mexcept\u001b[39;00m \u001b[39mKeyError\u001b[39;00m:\n\u001b[0;32m---> 87\u001b[0m     \u001b[39mraise\u001b[39;00m \u001b[39mAttributeError\u001b[39;00m(\n\u001b[1;32m     88\u001b[0m         \u001b[39mf\u001b[39m\u001b[39m\"\u001b[39m\u001b[39m'\u001b[39m\u001b[39m{\u001b[39;00m\u001b[39mself\u001b[39m\u001b[39m.\u001b[39m\u001b[39m__class__\u001b[39m\u001b[39m.\u001b[39m\u001b[39m__name__\u001b[39m\u001b[39m}\u001b[39;00m\u001b[39m'\u001b[39m\u001b[39m object has no attribute \u001b[39m\u001b[39m'\u001b[39m\u001b[39m{\u001b[39;00mkey\u001b[39m}\u001b[39;00m\u001b[39m'\u001b[39m\u001b[39m\"\u001b[39m\n\u001b[1;32m     89\u001b[0m     ) \u001b[39mfrom\u001b[39;00m \u001b[39mNone\u001b[39m\n",
      "\u001b[0;31mAttributeError\u001b[0m: 'EdgeStorage' object has no attribute 'edge_index'"
     ]
    }
   ],
   "source": [
    "from torch_geometric.loader import LinkNeighborLoader\n",
    "from torch_geometric.sampler import NegativeSampling\n",
    "\n",
    "num_neighbors = {}\n",
    "for edge_type in data.edge_types:\n",
    "    num_neighbors[edge_type] = [0,0]\n",
    "    num_neighbors['skills', 'self_loops', 'skills'] = [1,0]\n",
    "\n",
    "negative_sampling = NegativeSampling(\n",
    "        mode='binary',\n",
    "        amount=10  # ratio, like Graphsage\n",
    "        #weight=  # \"Probabilities\" of nodes to be sampled: Node degree follows power law distribution\n",
    "        )\n",
    "num_workers = 0\n",
    "    \n",
    "loader = LinkNeighborLoader(\n",
    "        train_data,\n",
    "        num_neighbors=num_neighbors,\n",
    "        edge_label_index=(('skills', 'qualification_skill', 'qualifications'), train_data['skills', 'qualification_skill', 'qualifications'].edge_label_index), # if (edge, None), None means all edges are considered\n",
    "     \n",
    "        neg_sampling=negative_sampling, # adds negative samples\n",
    "        batch_size=64,\n",
    "        shuffle=True,\n",
    "        #drop_last=True,\n",
    "        num_workers=num_workers,\n",
    "        directed=True,  # contains only edges which are followed, False: contains full node induced subgraph\n",
    "        #disjoint=True # sampled seed node creates its own, disjoint from the rest, subgraph, will add \"batch vector\" to loader output\n",
    "        pin_memory=True, # faster data transfer to gpu\n",
    "        #num_workers=2,\n",
    "        #prefetch_factor=2\n",
    ")\n",
    "    "
   ]
  },
  {
   "cell_type": "code",
   "execution_count": 15,
   "metadata": {},
   "outputs": [
    {
     "ename": "NameError",
     "evalue": "name 'train_Data' is not defined",
     "output_type": "error",
     "traceback": [
      "\u001b[0;31m---------------------------------------------------------------------------\u001b[0m",
      "\u001b[0;31mNameError\u001b[0m                                 Traceback (most recent call last)",
      "\u001b[1;32m/home/amos/programming/create_graphds/learnings_sampler_v1.ipynb Cell 10\u001b[0m line \u001b[0;36m1\n\u001b[0;32m----> <a href='vscode-notebook-cell://wsl%2Bubuntu/home/amos/programming/create_graphds/learnings_sampler_v1.ipynb#X14sdnNjb2RlLXJlbW90ZQ%3D%3D?line=0'>1</a>\u001b[0m train_Data\n",
      "\u001b[0;31mNameError\u001b[0m: name 'train_Data' is not defined"
     ]
    }
   ],
   "source": [
    "train_Data"
   ]
  },
  {
   "cell_type": "code",
   "execution_count": 2,
   "metadata": {},
   "outputs": [
    {
     "ename": "NameError",
     "evalue": "name 'data' is not defined",
     "output_type": "error",
     "traceback": [
      "\u001b[0;31m---------------------------------------------------------------------------\u001b[0m",
      "\u001b[0;31mNameError\u001b[0m                                 Traceback (most recent call last)",
      "\u001b[1;32m/home/amos/programming/create_graphds/learnings_sampler_v1.ipynb Cell 5\u001b[0m line \u001b[0;36m1\n\u001b[0;32m----> <a href='vscode-notebook-cell://wsl%2Bubuntu/home/amos/programming/create_graphds/learnings_sampler_v1.ipynb#W4sdnNjb2RlLXJlbW90ZQ%3D%3D?line=0'>1</a>\u001b[0m \u001b[39mfor\u001b[39;00m x,y \u001b[39min\u001b[39;00m \u001b[39mzip\u001b[39m(data\u001b[39m.\u001b[39medge_types, datat\u001b[39m.\u001b[39medge_types):\n\u001b[1;32m      <a href='vscode-notebook-cell://wsl%2Bubuntu/home/amos/programming/create_graphds/learnings_sampler_v1.ipynb#W4sdnNjb2RlLXJlbW90ZQ%3D%3D?line=1'>2</a>\u001b[0m     \u001b[39mprint\u001b[39m(x)\n\u001b[1;32m      <a href='vscode-notebook-cell://wsl%2Bubuntu/home/amos/programming/create_graphds/learnings_sampler_v1.ipynb#W4sdnNjb2RlLXJlbW90ZQ%3D%3D?line=2'>3</a>\u001b[0m     \u001b[39mprint\u001b[39m(data[x]\u001b[39m.\u001b[39medge_index\u001b[39m.\u001b[39mshape, datat[y]\u001b[39m.\u001b[39medge_index\u001b[39m.\u001b[39mshape)\n",
      "\u001b[0;31mNameError\u001b[0m: name 'data' is not defined"
     ]
    }
   ],
   "source": [
    "for x,y in zip(data.edge_types, datat.edge_types):\n",
    "    print(x)\n",
    "    print(data[x].edge_index.shape, datat[y].edge_index.shape)"
   ]
  }
 ],
 "metadata": {
  "kernelspec": {
   "display_name": "pyg_torch21",
   "language": "python",
   "name": "python3"
  },
  "language_info": {
   "codemirror_mode": {
    "name": "ipython",
    "version": 3
   },
   "file_extension": ".py",
   "mimetype": "text/x-python",
   "name": "python",
   "nbconvert_exporter": "python",
   "pygments_lexer": "ipython3",
   "version": "3.10.12"
  }
 },
 "nbformat": 4,
 "nbformat_minor": 2
}
