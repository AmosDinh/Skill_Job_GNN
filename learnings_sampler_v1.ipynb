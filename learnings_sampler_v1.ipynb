{
 "cells": [
  {
   "cell_type": "code",
   "execution_count": 2,
   "metadata": {},
   "outputs": [
    {
     "name": "stderr",
     "output_type": "stream",
     "text": [
      "/home/amos/mambaforge/envs/pyg_torch21/lib/python3.10/site-packages/tqdm/auto.py:21: TqdmWarning: IProgress not found. Please update jupyter and ipywidgets. See https://ipywidgets.readthedocs.io/en/stable/user_install.html\n",
      "  from .autonotebook import tqdm as notebook_tqdm\n"
     ]
    }
   ],
   "source": [
    "import os\n",
    "import torch\n",
    "from torch_geometric.data import HeteroData\n",
    "\n",
    "\n",
    "filename = 'HeteroData_Learnings_v1.pt'\n",
    "if os.path.exists('./'+filename):\n",
    "    data = HeteroData.from_dict(torch.load('./'+filename))\n",
    "    print('loading saved heterodata object')"
   ]
  },
  {
   "cell_type": "code",
   "execution_count": 9,
   "metadata": {},
   "outputs": [],
   "source": [
    "data = HeteroData()\n",
    "data['a'].x = torch.tensor([[1.], [2.], [3.]])"
   ]
  },
  {
   "cell_type": "code",
   "execution_count": 12,
   "metadata": {},
   "outputs": [
    {
     "data": {
      "text/plain": [
       "False"
      ]
     },
     "execution_count": 12,
     "metadata": {},
     "output_type": "execute_result"
    }
   ],
   "source": [
    "'y' in data['a'].keys()"
   ]
  },
  {
   "cell_type": "code",
   "execution_count": 6,
   "metadata": {},
   "outputs": [
    {
     "ename": "NameError",
     "evalue": "name 'data' is not defined",
     "output_type": "error",
     "traceback": [
      "\u001b[0;31m---------------------------------------------------------------------------\u001b[0m",
      "\u001b[0;31mNameError\u001b[0m                                 Traceback (most recent call last)",
      "\u001b[1;32m/home/amos/programming/create_graphds/learnings_sampler_v1.ipynb Cell 2\u001b[0m line \u001b[0;36m1\n\u001b[0;32m----> <a href='vscode-notebook-cell://wsl%2Bubuntu/home/amos/programming/create_graphds/learnings_sampler_v1.ipynb#W1sdnNjb2RlLXJlbW90ZQ%3D%3D?line=0'>1</a>\u001b[0m data[\u001b[39m'\u001b[39m\u001b[39mskills\u001b[39m\u001b[39m'\u001b[39m]\u001b[39m.\u001b[39ma \u001b[39mis\u001b[39;00m \u001b[39mNone\u001b[39;00m\n",
      "\u001b[0;31mNameError\u001b[0m: name 'data' is not defined"
     ]
    }
   ],
   "source": [
    "data['skills'].a is None"
   ]
  },
  {
   "cell_type": "code",
   "execution_count": null,
   "metadata": {},
   "outputs": [],
   "source": [
    "# sampler for Heterogeneous Graph Transformer"
   ]
  },
  {
   "cell_type": "code",
   "execution_count": 4,
   "metadata": {},
   "outputs": [
    {
     "ename": "AttributeError",
     "evalue": "'HeteroData' has no attribute 'add_self_loops'",
     "output_type": "error",
     "traceback": [
      "\u001b[0;31m---------------------------------------------------------------------------\u001b[0m",
      "\u001b[0;31mAttributeError\u001b[0m                            Traceback (most recent call last)",
      "\u001b[1;32m/home/amos/programming/create_graphds/learnings_sampler_v1.ipynb Cell 4\u001b[0m line \u001b[0;36m2\n\u001b[1;32m      <a href='vscode-notebook-cell://wsl%2Bubuntu/home/amos/programming/create_graphds/learnings_sampler_v1.ipynb#W3sdnNjb2RlLXJlbW90ZQ%3D%3D?line=0'>1</a>\u001b[0m \u001b[39m# add self loops so HGT can attend to the self node represenation in previous step\u001b[39;00m\n\u001b[0;32m----> <a href='vscode-notebook-cell://wsl%2Bubuntu/home/amos/programming/create_graphds/learnings_sampler_v1.ipynb#W3sdnNjb2RlLXJlbW90ZQ%3D%3D?line=1'>2</a>\u001b[0m data \u001b[39m=\u001b[39m data\u001b[39m.\u001b[39;49madd_self_loops()\n",
      "File \u001b[0;32m~/mambaforge/envs/pyg_torch21/lib/python3.10/site-packages/torch_geometric/data/hetero_data.py:156\u001b[0m, in \u001b[0;36mHeteroData.__getattr__\u001b[0;34m(self, key)\u001b[0m\n\u001b[1;32m    154\u001b[0m \u001b[39melif\u001b[39;00m \u001b[39mbool\u001b[39m(re\u001b[39m.\u001b[39msearch(\u001b[39m'\u001b[39m\u001b[39m_dict$\u001b[39m\u001b[39m'\u001b[39m, key)):\n\u001b[1;32m    155\u001b[0m     \u001b[39mreturn\u001b[39;00m \u001b[39mself\u001b[39m\u001b[39m.\u001b[39mcollect(key[:\u001b[39m-\u001b[39m\u001b[39m5\u001b[39m])\n\u001b[0;32m--> 156\u001b[0m \u001b[39mraise\u001b[39;00m \u001b[39mAttributeError\u001b[39;00m(\u001b[39mf\u001b[39m\u001b[39m\"\u001b[39m\u001b[39m'\u001b[39m\u001b[39m{\u001b[39;00m\u001b[39mself\u001b[39m\u001b[39m.\u001b[39m\u001b[39m__class__\u001b[39m\u001b[39m.\u001b[39m\u001b[39m__name__\u001b[39m\u001b[39m}\u001b[39;00m\u001b[39m'\u001b[39m\u001b[39m has no \u001b[39m\u001b[39m\"\u001b[39m\n\u001b[1;32m    157\u001b[0m                      \u001b[39mf\u001b[39m\u001b[39m\"\u001b[39m\u001b[39mattribute \u001b[39m\u001b[39m'\u001b[39m\u001b[39m{\u001b[39;00mkey\u001b[39m}\u001b[39;00m\u001b[39m'\u001b[39m\u001b[39m\"\u001b[39m)\n",
      "\u001b[0;31mAttributeError\u001b[0m: 'HeteroData' has no attribute 'add_self_loops'"
     ]
    }
   ],
   "source": [
    "# add self loops so HGT can attend to the self node represenation in previous step\n",
    "data = data.add_self_loops()"
   ]
  },
  {
   "cell_type": "code",
   "execution_count": 6,
   "metadata": {},
   "outputs": [
    {
     "data": {
      "text/plain": [
       "['courses_and_programs',\n",
       " 'qualifications',\n",
       " 'skills',\n",
       " 'people',\n",
       " 'jobs',\n",
       " 'organizations']"
      ]
     },
     "execution_count": 6,
     "metadata": {},
     "output_type": "execute_result"
    }
   ],
   "source": [
    "data.node_types"
   ]
  },
  {
   "cell_type": "code",
   "execution_count": 14,
   "metadata": {},
   "outputs": [
    {
     "data": {
      "text/plain": [
       "1242"
      ]
     },
     "execution_count": 14,
     "metadata": {},
     "output_type": "execute_result"
    }
   ],
   "source": [
    "data['qualifications'].num_nodes"
   ]
  },
  {
   "cell_type": "code",
   "execution_count": 10,
   "metadata": {},
   "outputs": [
    {
     "data": {
      "text/plain": [
       "(tensor([0, 1, 2, 3, 4, 5]),\n",
       " tensor([ 55796,   1242, 138698, 293444,  55638,  13613]))"
      ]
     },
     "execution_count": 10,
     "metadata": {},
     "output_type": "execute_result"
    }
   ],
   "source": [
    "data.to_homogeneous().node_type\n",
    "#value counts for pytorch tensor \n",
    "data.to_homogeneous().node_type.unique(return_counts=True)"
   ]
  },
  {
   "cell_type": "code",
   "execution_count": 3,
   "metadata": {},
   "outputs": [],
   "source": [
    "# import transforms\n",
    "from torch_geometric.transforms import AddSelfLoops\n",
    "\n",
    "datat = AddSelfLoops()(data)"
   ]
  },
  {
   "cell_type": "code",
   "execution_count": 3,
   "metadata": {},
   "outputs": [
    {
     "data": {
      "text/plain": [
       "{}"
      ]
     },
     "execution_count": 3,
     "metadata": {},
     "output_type": "execute_result"
    }
   ],
   "source": [
    "data['edge_index']"
   ]
  },
  {
   "cell_type": "code",
   "execution_count": 1,
   "metadata": {},
   "outputs": [
    {
     "ename": "NameError",
     "evalue": "name 'data' is not defined",
     "output_type": "error",
     "traceback": [
      "\u001b[0;31m---------------------------------------------------------------------------\u001b[0m",
      "\u001b[0;31mNameError\u001b[0m                                 Traceback (most recent call last)",
      "\u001b[1;32m/home/amos/programming/create_graphds/learnings_sampler_v1.ipynb Cell 10\u001b[0m line \u001b[0;36m1\n\u001b[0;32m----> <a href='vscode-notebook-cell://wsl%2Bubuntu/home/amos/programming/create_graphds/learnings_sampler_v1.ipynb#X13sdnNjb2RlLXJlbW90ZQ%3D%3D?line=0'>1</a>\u001b[0m data\n",
      "\u001b[0;31mNameError\u001b[0m: name 'data' is not defined"
     ]
    }
   ],
   "source": [
    "data"
   ]
  },
  {
   "cell_type": "code",
   "execution_count": 4,
   "metadata": {},
   "outputs": [
    {
     "name": "stdout",
     "output_type": "stream",
     "text": [
      "('skills', 'qualification_skill', 'qualifications')\n",
      "torch.Size([2, 1596]) torch.Size([2, 1596])\n",
      "('skills', 'course_and_program_skill', 'courses_and_programs')\n",
      "torch.Size([2, 258099]) torch.Size([2, 258099])\n",
      "('courses_and_programs', 'course_qualification', 'qualifications')\n",
      "torch.Size([2, 2099]) torch.Size([2, 2099])\n",
      "('courses_and_programs', 'course_and_programs_student', 'people')\n",
      "torch.Size([2, 553454]) torch.Size([2, 553454])\n",
      "('jobs', 'job_student', 'people')\n",
      "torch.Size([2, 293444]) torch.Size([2, 293444])\n",
      "('people', 'supervisor_supervisee', 'people')\n",
      "torch.Size([2, 217922]) torch.Size([2, 511366])\n",
      "('people', 'organization_student', 'organizations')\n",
      "torch.Size([2, 292060]) torch.Size([2, 292060])\n",
      "('jobs', 'job_job', 'jobs')\n",
      "torch.Size([2, 18384]) torch.Size([2, 74022])\n",
      "('skills', 'job_skill', 'jobs')\n",
      "torch.Size([2, 16289586]) torch.Size([2, 16289586])\n",
      "('jobs', 'broader_job_job', 'jobs')\n",
      "torch.Size([2, 54586]) torch.Size([2, 110224])\n",
      "('qualifications', 'rev_qualification_skill', 'skills')\n",
      "torch.Size([2, 1596]) torch.Size([2, 1596])\n",
      "('courses_and_programs', 'rev_course_and_program_skill', 'skills')\n",
      "torch.Size([2, 258099]) torch.Size([2, 258099])\n",
      "('qualifications', 'rev_course_qualification', 'courses_and_programs')\n",
      "torch.Size([2, 2099]) torch.Size([2, 2099])\n",
      "('people', 'rev_course_and_programs_student', 'courses_and_programs')\n",
      "torch.Size([2, 553454]) torch.Size([2, 553454])\n",
      "('people', 'rev_job_student', 'jobs')\n",
      "torch.Size([2, 293444]) torch.Size([2, 293444])\n",
      "('people', 'rev_supervisor_supervisee', 'people')\n",
      "torch.Size([2, 217922]) torch.Size([2, 511366])\n",
      "('organizations', 'rev_organization_student', 'people')\n",
      "torch.Size([2, 292060]) torch.Size([2, 292060])\n",
      "('jobs', 'rev_job_job', 'jobs')\n",
      "torch.Size([2, 18384]) torch.Size([2, 74022])\n",
      "('jobs', 'rev_job_skill', 'skills')\n",
      "torch.Size([2, 16289586]) torch.Size([2, 16289586])\n",
      "('jobs', 'rev_broader_job_job', 'jobs')\n",
      "torch.Size([2, 54586]) torch.Size([2, 110224])\n"
     ]
    }
   ],
   "source": [
    "for x,y in zip(data.edge_types, datat.edge_types):\n",
    "    print(x)\n",
    "    print(data[x].edge_index.shape, datat[y].edge_index.shape)"
   ]
  }
 ],
 "metadata": {
  "kernelspec": {
   "display_name": "pyg_torch21",
   "language": "python",
   "name": "python3"
  },
  "language_info": {
   "codemirror_mode": {
    "name": "ipython",
    "version": 3
   },
   "file_extension": ".py",
   "mimetype": "text/x-python",
   "name": "python",
   "nbconvert_exporter": "python",
   "pygments_lexer": "ipython3",
   "version": "3.10.12"
  }
 },
 "nbformat": 4,
 "nbformat_minor": 2
}
