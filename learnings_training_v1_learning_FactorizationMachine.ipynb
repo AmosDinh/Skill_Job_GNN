{
 "cells": [
  {
   "cell_type": "code",
   "execution_count": 1,
   "metadata": {
    "application/vnd.databricks.v1+cell": {
     "cellMetadata": {
      "byteLimit": 2048000,
      "rowLimit": 10000
     },
     "inputWidgets": {},
     "nuid": "e3c4b139-0996-4471-990d-08f1a7bbe79a",
     "showTitle": false,
     "title": ""
    }
   },
   "outputs": [],
   "source": [
    "%load_ext autoreload\n",
    "%autoreload 2"
   ]
  },
  {
   "cell_type": "code",
   "execution_count": 2,
   "metadata": {
    "application/vnd.databricks.v1+cell": {
     "cellMetadata": {
      "byteLimit": 2048000,
      "rowLimit": 10000
     },
     "inputWidgets": {},
     "nuid": "70ff1fe6-6bf8-4150-ac65-9a9f45fe8df1",
     "showTitle": false,
     "title": ""
    }
   },
   "outputs": [],
   "source": [
    "import os\n",
    "\n",
    "if \"DATABRICKS_RUNTIME_VERSION\" in os.environ and not 'installed_libs' in globals():\n",
    "  #CUDA = 'cu121' \n",
    "  installed_libs = True\n",
    "  \n",
    "  \n",
    "  !pip install torch==2.1.0  torchvision==0.16.0 torchtext==0.16.0 torchaudio==2.1.0 --index-url https://download.pytorch.org/whl/cu121\n",
    "  import torch\n",
    "  #os.environ['TORCH'] = torch.__version__\n",
    "  #print(torch.__version__)\n",
    "  #torch_version = '2.0.0+cu118'\n",
    "  \n",
    "  #!pip install pyg_lib torch_scatter torch_sparse torch_cluster -f https://data.pyg.org/whl/torch-2.1.0+${CUDA}.html # torch_spline_conv\n",
    "  !pip install torch_geometric\n",
    "  !pip install pyg_lib torch_scatter torch_sparse torch_cluster torch_spline_conv -f https://data.pyg.org/whl/torch-2.1.0+cu121.html\n",
    "  #!pip install torch_sparse -f https://data.pyg.org/whl/torch-2.1.0+${CUDA}.html\n",
    "  #!pip install torch_scatter -f https://data.pyg.org/whl/torch-2.1.0+${CUDA}.html\n",
    "  #!pip install pyg_lib -f https://data.pyg.org/whl/torch-2.1.0+${CUDA}.html\n",
    "  !pip install sentence-transformers\n",
    "  !pip install torcheval\n",
    "  !pip install matplotlib\n",
    "  !pip install pandas\n",
    "  !pip install tensorboard\n",
    "  \n",
    "if \"DATABRICKS_RUNTIME_VERSION\" in os.environ:\n",
    "  ROOT_FOLDER = '/dbfs/FileStore/GraphNeuralNetworks/'\n",
    "else:\n",
    "  ROOT_FOLDER = ''"
   ]
  },
  {
   "cell_type": "code",
   "execution_count": 40,
   "metadata": {
    "application/vnd.databricks.v1+cell": {
     "cellMetadata": {
      "byteLimit": 2048000,
      "rowLimit": 10000
     },
     "inputWidgets": {},
     "nuid": "efe06c00-84ff-49e4-89a9-cad18f63b110",
     "showTitle": false,
     "title": ""
    }
   },
   "outputs": [],
   "source": [
    "# sampler\n",
    "\n",
    "def nf_sampler(batch_size, neg_sample_ratio, edge_label_index, num_learnings):\n",
    "    # triplet mode only\n",
    "    # sample some random edges\n",
    "    num_samples = batch_size\n",
    "    #sampled_indices = torch.randint(0, edge_label_index.shape[1], (num_samples,), replacement=False)\n",
    "    sampled_indices = torch.randperm(edge_label_index.shape[1])[:num_samples]\n",
    "    sampled_edges = edge_label_index[:, sampled_indices]\n",
    "    # remove sampled edges from edge_label_index with mask\n",
    "    mask = torch.ones(edge_label_index.shape[1], dtype=torch.bool)\n",
    "    mask[sampled_indices] = False\n",
    "    edge_label_index = edge_label_index[:, mask]\n",
    "    \n",
    "    assert neg_sample_ratio >= 1\n",
    "    neg_samples = sampled_indices.shape[0]*neg_sample_ratio\n",
    "    \n",
    "    s = sampled_edges[0,:].unsqueeze(0)\n",
    "    src_edges = s\n",
    "    for i in range(neg_sample_ratio-1):\n",
    "        src_edges= torch.cat((src_edges,s),dim=1)\n",
    "\n",
    "    sampled_negatives = torch.randint(0, num_learnings, (neg_samples,)).squeeze().unsqueeze(0)\n",
    "   \n",
    "   \n",
    "    negative_edge_label_index = torch.cat((src_edges, sampled_negatives),dim=0)\n",
    "    edge_label_indices = torch.cat((sampled_edges, negative_edge_label_index),dim=1)\n",
    "    new_edge_label_index = edge_label_index\n",
    "    batch_edge_label_index = edge_label_indices\n",
    "    return new_edge_label_index, batch_edge_label_index, torch.cat((torch.ones(batch_size), torch.zeros(neg_samples)))\n",
    "\n",
    "def nf_loader(edge_label_index, batch_size, num_learnings, neg_sample_ratio):\n",
    "    while edge_label_index.shape[1] > 0:\n",
    "        new_edge_label_index, batch_edge_label_index, batch_labels = nf_sampler(batch_size, neg_sample_ratio, edge_label_index, num_learnings)\n",
    "        edge_label_index = new_edge_label_index\n",
    "        yield batch_edge_label_index, batch_labels\n",
    "    \n",
    "\n",
    "def get_total_minibatch_count_fm(batch_size, edge_label_index):\n",
    "    return int((edge_label_index.shape[1]+batch_size)//batch_size)\n",
    "\n",
    "from torch_geometric.data import HeteroData\n",
    "#data = HeteroData(torch.load('factorization_machines_dataset.pt'))\n",
    "train_data = HeteroData(torch.load(ROOT_FOLDER+'FactorizationMachines_Dataset_train.pt'))"
   ]
  },
  {
   "cell_type": "code",
   "execution_count": 9,
   "metadata": {
    "application/vnd.databricks.v1+cell": {
     "cellMetadata": {
      "byteLimit": 2048000,
      "rowLimit": 10000
     },
     "inputWidgets": {},
     "nuid": "0d1eaa98-6d39-486c-a20c-67b7bec2fdda",
     "showTitle": false,
     "title": ""
    }
   },
   "outputs": [
    {
     "ename": "NameError",
     "evalue": "name 'data' is not defined",
     "output_type": "error",
     "traceback": [
      "\u001b[0;31m---------------------------------------------------------------------------\u001b[0m",
      "\u001b[0;31mNameError\u001b[0m                                 Traceback (most recent call last)",
      "\u001b[1;32m/home/amos/programming/create_graphds/learnings_training_v1_learning_FactorizationMachine.ipynb Cell 5\u001b[0m line \u001b[0;36m8\n\u001b[1;32m     <a href='vscode-notebook-cell://wsl%2Bubuntu/home/amos/programming/create_graphds/learnings_training_v1_learning_FactorizationMachine.ipynb#W3sdnNjb2RlLXJlbW90ZQ%3D%3D?line=82'>83</a>\u001b[0m \u001b[39mpass\u001b[39;00m\n\u001b[1;32m     <a href='vscode-notebook-cell://wsl%2Bubuntu/home/amos/programming/create_graphds/learnings_training_v1_learning_FactorizationMachine.ipynb#W3sdnNjb2RlLXJlbW90ZQ%3D%3D?line=83'>84</a>\u001b[0m \u001b[39m#del data_forlookup\u001b[39;00m\n\u001b[1;32m     <a href='vscode-notebook-cell://wsl%2Bubuntu/home/amos/programming/create_graphds/learnings_training_v1_learning_FactorizationMachine.ipynb#W3sdnNjb2RlLXJlbW90ZQ%3D%3D?line=85'>86</a>\u001b[0m fm \u001b[39m=\u001b[39m FactorizationMachineModel(\n\u001b[0;32m---> <a href='vscode-notebook-cell://wsl%2Bubuntu/home/amos/programming/create_graphds/learnings_training_v1_learning_FactorizationMachine.ipynb#W3sdnNjb2RlLXJlbW90ZQ%3D%3D?line=86'>87</a>\u001b[0m     field_dims\u001b[39m=\u001b[39mdata[\u001b[39m'\u001b[39m\u001b[39mpeople\u001b[39m\u001b[39m'\u001b[39m]\u001b[39m.\u001b[39mx\u001b[39m.\u001b[39mshape[\u001b[39m1\u001b[39m]\u001b[39m-\u001b[39m\u001b[39m2\u001b[39m\u001b[39m+\u001b[39mnum_supervisors\u001b[39m+\u001b[39mnum_organizations\u001b[39m+\u001b[39mdata[\u001b[39m'\u001b[39m\u001b[39mcourses_and_programs\u001b[39m\u001b[39m'\u001b[39m]\u001b[39m.\u001b[39mx\u001b[39m.\u001b[39mshape[\u001b[39m1\u001b[39m],\n\u001b[1;32m     <a href='vscode-notebook-cell://wsl%2Bubuntu/home/amos/programming/create_graphds/learnings_training_v1_learning_FactorizationMachine.ipynb#W3sdnNjb2RlLXJlbW90ZQ%3D%3D?line=87'>88</a>\u001b[0m                                embed_dim\u001b[39m=\u001b[39mhidden_channels)\n\u001b[1;32m     <a href='vscode-notebook-cell://wsl%2Bubuntu/home/amos/programming/create_graphds/learnings_training_v1_learning_FactorizationMachine.ipynb#W3sdnNjb2RlLXJlbW90ZQ%3D%3D?line=89'>90</a>\u001b[0m model \u001b[39m=\u001b[39m Model(fm, head\u001b[39m=\u001b[39mhead, node_types\u001b[39m=\u001b[39mmetadata[\u001b[39m0\u001b[39m], edge_types\u001b[39m=\u001b[39mmetadata[\u001b[39m1\u001b[39m], ggn_output_dim\u001b[39m=\u001b[39mout_channels, pnorm\u001b[39m=\u001b[39mpnorm, num_supervisors\u001b[39m=\u001b[39mnum_supervisors, num_organizations\u001b[39m=\u001b[39mnum_organizations)\n\u001b[1;32m     <a href='vscode-notebook-cell://wsl%2Bubuntu/home/amos/programming/create_graphds/learnings_training_v1_learning_FactorizationMachine.ipynb#W3sdnNjb2RlLXJlbW90ZQ%3D%3D?line=90'>91</a>\u001b[0m \u001b[39m#torch_geometric.compile(model, dynamic=True)\u001b[39;00m\n",
      "\u001b[0;31mNameError\u001b[0m: name 'data' is not defined"
     ]
    }
   ],
   "source": [
    "import torch\n",
    "import torch.nn.functional as F\n",
    "from models.TransE import TransE\n",
    "from models.DistMult import DistMult\n",
    "from models.FactorizationMachineModel import FactorizationMachineModel\n",
    "import torch_geometric\n",
    "device = torch.device('cuda' if torch.cuda.is_available() else 'cpu')\n",
    "\n",
    "class Model(torch.nn.Module):\n",
    "    def __init__(self, fm : torch.nn.Module, head, node_types, edge_types, ggn_output_dim, pnorm=1, num_supervisors=0, num_organizations=0):\n",
    "        super().__init__()\n",
    "        # edge_type onehot lookup table with keys\n",
    "        # node_type onehot lookup table with keys\n",
    "        self.node_type_embedding = torch.nn.Embedding(len(node_types), ggn_output_dim) # hidden channels should be the output dim of gnn\n",
    "        self.num_supervisors = num_supervisors\n",
    "        self.num_organizations = num_organizations\n",
    "        self.edge_types = edge_types\n",
    "        for edge_type in edge_types:\n",
    "            if edge_type[1].startswith('rev_'):\n",
    "                self.edge_types.remove(edge_type)\n",
    "        \n",
    "        # create edge to int mapping\n",
    "        self.edgeindex_lookup = {edge_type:torch.tensor(i)  for i, edge_type in enumerate(edge_types)}\n",
    "            \n",
    "        if head=='TransE': \n",
    "            self.head = TransE(len(node_types), len(edge_types) , ggn_output_dim, p_norm= pnorm)  # KGE head with loss function\n",
    "        elif head=='DistMult':\n",
    "            self.head = DistMult(len(node_types), len(edge_types) , ggn_output_dim, p_norm= pnorm)  # KGE head with loss function\n",
    "        else:\n",
    "            raise NotImplementedError\n",
    "        \n",
    "        self.fm = fm\n",
    "        \n",
    "    \n",
    "\n",
    "    def forward(self, hetero_data, edge_label_index, edge_label):\n",
    "        \n",
    "    \n",
    "        people = hetero_data['people'].x[edge_label_index[0,:]]\n",
    "        # last two columns in people are the indices of onehot, so change them to full onehot supervisor and organization\n",
    "        supervisors = torch.nn.functional.one_hot(people[:,-2].to(torch.int64), num_classes=self.num_supervisors).to(torch.float32)\n",
    "        organizations = torch.nn.functional.one_hot(people[:,-1].to(torch.int64), num_classes=self.num_organizations).to(torch.float32)\n",
    "        people = torch.cat((people[:,:-2], supervisors, organizations), dim=1)\n",
    "        \n",
    "                        \n",
    "        learnings = hetero_data['courses_and_programs'].x[edge_label_index[1,:]]\n",
    "\n",
    "        scores = self.fm(torch.cat((people,learnings),dim=1))\n",
    "        pos_scores = scores[edge_label==1]\n",
    "        neg_scores = scores[edge_label==0]\n",
    "            \n",
    "\n",
    "        return F.margin_ranking_loss(\n",
    "            pos_scores,\n",
    "            neg_scores,\n",
    "            target=torch.ones_like(pos_scores), # 1 for similarity, -1 for dissimilarity\n",
    "            margin=0.2\n",
    "        )\n",
    "        \n",
    "    \n",
    "out_channels = 1\n",
    "hidden_channels = 16\n",
    "num_heads = 0\n",
    "num_layers = 0\n",
    "pnorm = 2\n",
    "head = 'TransE'\n",
    "#gnn = HGT(hidden_channels=out_channels, out_channels=out_channels, num_heads=num_heads, num_layers=num_layers, node_types=train_data.node_types, data_metadata=metadata)\n",
    "filename = 'HeteroData_Learnings_normalized_triangles_withadditionaldata_v1.pt'\n",
    "data_forlookup = HeteroData.from_dict(torch.load(ROOT_FOLDER+filename))\n",
    "num_supervisors = data_forlookup['people'].num_nodes\n",
    "num_organizations = data_forlookup['organizations'].num_nodes\n",
    "metadata = data_forlookup.metadata()\n",
    "# add selfloops\n",
    "for node_type in data_forlookup.node_types:\n",
    "    metadata[1].append((node_type, 'self_loop', node_type))  \n",
    "    \n",
    "    \n",
    "\n",
    "del data_forlookup\n",
    "\n",
    "fm = FactorizationMachineModel(\n",
    "    field_dims=train_data['people'].x.shape[1]-2+num_supervisors+num_organizations+train_data['courses_and_programs'].x.shape[1],\n",
    "                               embed_dim=hidden_channels)\n",
    "\n",
    "model = Model(fm, head=head, node_types=metadata[0], edge_types=metadata[1], ggn_output_dim=out_channels, pnorm=pnorm, num_supervisors=num_supervisors, num_organizations=num_organizations)\n",
    "#torch_geometric.compile(model, dynamic=True)\n",
    "model.to(device)\n",
    "\n"
   ]
  },
  {
   "cell_type": "code",
   "execution_count": 7,
   "metadata": {
    "application/vnd.databricks.v1+cell": {
     "cellMetadata": {
      "byteLimit": 2048000,
      "rowLimit": 10000
     },
     "inputWidgets": {},
     "nuid": "4ebad4a8-bb51-45f9-8f93-8036fd9e89ae",
     "showTitle": false,
     "title": ""
    }
   },
   "outputs": [
    {
     "name": "stdout",
     "output_type": "stream",
     "text": [
      "num_node_types 6\n",
      "num_neighbors [106, 853]\n",
      "avg_num_neighbors [3.3125, 26.65625, 0]\n",
      "writer runs/learningall_hgt_20231102_180622_pnrom2_llr0.0002_bs32_neighbors_106_853_head_TransE_hiddenchannels_128_outchannels_128_numheads_8_numlayers_2\n"
     ]
    },
    {
     "name": "stderr",
     "output_type": "stream",
     "text": [
      "  0%|          | 0/44987 [00:00<?, ?it/s]"
     ]
    },
    {
     "name": "stdout",
     "output_type": "stream",
     "text": [
      "total batches: 44987\n",
      "total batches: 44987\n"
     ]
    },
    {
     "name": "stderr",
     "output_type": "stream",
     "text": [
      "  0%|          | 1/44987 [00:14<181:24:42, 14.52s/it]"
     ]
    },
    {
     "name": "stdout",
     "output_type": "stream",
     "text": [
      "saving model to models/learningall_hgt_20231102_180622_pnrom2_llr0.0002_bs32_neighbors_106_853_head_TransE_hiddenchannels_128_outchannels_128_numheads_8_numlayers_2\n"
     ]
    },
    {
     "name": "stderr",
     "output_type": "stream",
     "text": [
      "  0%|          | 2/44987 [00:19<113:00:14,  9.04s/it]"
     ]
    },
    {
     "name": "stdout",
     "output_type": "stream",
     "text": [
      "1 loss: 0.9956\r"
     ]
    },
    {
     "name": "stderr",
     "output_type": "stream",
     "text": [
      "  0%|          | 3/44987 [00:24<86:49:59,  6.95s/it] "
     ]
    },
    {
     "name": "stdout",
     "output_type": "stream",
     "text": [
      "2 loss: 1.0027\r"
     ]
    },
    {
     "name": "stderr",
     "output_type": "stream",
     "text": [
      "  0%|          | 4/44987 [00:28<73:05:14,  5.85s/it]"
     ]
    },
    {
     "name": "stdout",
     "output_type": "stream",
     "text": [
      "3 loss: 0.9906\r"
     ]
    },
    {
     "name": "stderr",
     "output_type": "stream",
     "text": [
      "  0%|          | 5/44987 [00:30<56:04:56,  4.49s/it]"
     ]
    },
    {
     "name": "stdout",
     "output_type": "stream",
     "text": [
      "4 loss: 0.9944\r"
     ]
    },
    {
     "name": "stderr",
     "output_type": "stream",
     "text": [
      "  0%|          | 6/44987 [00:32<46:36:35,  3.73s/it]"
     ]
    },
    {
     "name": "stdout",
     "output_type": "stream",
     "text": [
      "5 loss: 0.9927\r"
     ]
    },
    {
     "name": "stderr",
     "output_type": "stream",
     "text": [
      "  0%|          | 7/44987 [00:36<47:39:39,  3.81s/it]"
     ]
    },
    {
     "name": "stdout",
     "output_type": "stream",
     "text": [
      "6 loss: 0.9755\r"
     ]
    },
    {
     "name": "stderr",
     "output_type": "stream",
     "text": [
      "  0%|          | 8/44987 [00:40<47:35:02,  3.81s/it]"
     ]
    },
    {
     "name": "stdout",
     "output_type": "stream",
     "text": [
      "7 loss: 0.9896\r"
     ]
    },
    {
     "name": "stderr",
     "output_type": "stream",
     "text": [
      "  0%|          | 9/44987 [00:44<48:22:44,  3.87s/it]"
     ]
    },
    {
     "name": "stdout",
     "output_type": "stream",
     "text": [
      "8 loss: 0.9637\r"
     ]
    },
    {
     "name": "stderr",
     "output_type": "stream",
     "text": [
      "  0%|          | 10/44987 [00:48<48:54:01,  3.91s/it]"
     ]
    },
    {
     "name": "stdout",
     "output_type": "stream",
     "text": [
      "9 loss: 1.0017\r"
     ]
    },
    {
     "name": "stderr",
     "output_type": "stream",
     "text": [
      "  0%|          | 11/44987 [00:51<46:00:22,  3.68s/it]"
     ]
    },
    {
     "name": "stdout",
     "output_type": "stream",
     "text": [
      "10 loss: 0.9963\r"
     ]
    },
    {
     "name": "stderr",
     "output_type": "stream",
     "text": [
      "  0%|          | 12/44987 [00:55<47:27:57,  3.80s/it]"
     ]
    },
    {
     "name": "stdout",
     "output_type": "stream",
     "text": [
      "11 loss: 0.9958\r"
     ]
    },
    {
     "name": "stderr",
     "output_type": "stream",
     "text": [
      "  0%|          | 13/44987 [00:59<48:03:18,  3.85s/it]"
     ]
    },
    {
     "name": "stdout",
     "output_type": "stream",
     "text": [
      "12 loss: 0.9485\r"
     ]
    },
    {
     "name": "stderr",
     "output_type": "stream",
     "text": [
      "  0%|          | 14/44987 [01:02<45:04:17,  3.61s/it]"
     ]
    },
    {
     "name": "stdout",
     "output_type": "stream",
     "text": [
      "13 loss: 0.9923\r"
     ]
    },
    {
     "name": "stderr",
     "output_type": "stream",
     "text": [
      "  0%|          | 15/44987 [01:05<41:35:28,  3.33s/it]"
     ]
    },
    {
     "name": "stdout",
     "output_type": "stream",
     "text": [
      "14 loss: 0.9848\r"
     ]
    },
    {
     "name": "stderr",
     "output_type": "stream",
     "text": [
      "  0%|          | 16/44987 [01:09<43:06:58,  3.45s/it]"
     ]
    },
    {
     "name": "stdout",
     "output_type": "stream",
     "text": [
      "15 loss: 0.9853\r"
     ]
    },
    {
     "name": "stderr",
     "output_type": "stream",
     "text": [
      "  0%|          | 16/44987 [01:09<54:22:23,  4.35s/it]\n"
     ]
    },
    {
     "ename": "KeyboardInterrupt",
     "evalue": "",
     "output_type": "error",
     "traceback": [
      "\u001b[0;31m---------------------------------------------------------------------------\u001b[0m",
      "\u001b[0;31mKeyboardInterrupt\u001b[0m                         Traceback (most recent call last)",
      "\u001b[1;32m/home/amos/programming/create_graphds/learnings_training_v1_learning_unsupervised.ipynb Cell 5\u001b[0m line \u001b[0;36m3\n\u001b[1;32m     <a href='vscode-notebook-cell://wsl%2Bubuntu/home/amos/programming/create_graphds/learnings_training_v1_learning_unsupervised.ipynb#W4sdnNjb2RlLXJlbW90ZQ%3D%3D?line=36'>37</a>\u001b[0m total_minibatches \u001b[39m=\u001b[39m get_minibatch_count(train_data, batch_size)\n\u001b[1;32m     <a href='vscode-notebook-cell://wsl%2Bubuntu/home/amos/programming/create_graphds/learnings_training_v1_learning_unsupervised.ipynb#W4sdnNjb2RlLXJlbW90ZQ%3D%3D?line=37'>38</a>\u001b[0m \u001b[39mfor\u001b[39;00m epoch \u001b[39min\u001b[39;00m \u001b[39mrange\u001b[39m(start_epoch, start_epoch\u001b[39m+\u001b[39m\u001b[39m1000\u001b[39m):\n\u001b[0;32m---> <a href='vscode-notebook-cell://wsl%2Bubuntu/home/amos/programming/create_graphds/learnings_training_v1_learning_unsupervised.ipynb#W4sdnNjb2RlLXJlbW90ZQ%3D%3D?line=38'>39</a>\u001b[0m     \u001b[39mfor\u001b[39;00m i, (same_nodetype, target_edge_type, minibatch) \u001b[39min\u001b[39;00m tqdm(\u001b[39menumerate\u001b[39m(train_sampler), total\u001b[39m=\u001b[39mtotal_minibatches):\n\u001b[1;32m     <a href='vscode-notebook-cell://wsl%2Bubuntu/home/amos/programming/create_graphds/learnings_training_v1_learning_unsupervised.ipynb#W4sdnNjb2RlLXJlbW90ZQ%3D%3D?line=40'>41</a>\u001b[0m         optimizer\u001b[39m.\u001b[39mzero_grad() \n\u001b[1;32m     <a href='vscode-notebook-cell://wsl%2Bubuntu/home/amos/programming/create_graphds/learnings_training_v1_learning_unsupervised.ipynb#W4sdnNjb2RlLXJlbW90ZQ%3D%3D?line=41'>42</a>\u001b[0m         \u001b[39m# batching is different depending on if node types in edge are same or different\u001b[39;00m\n",
      "File \u001b[0;32m~/mambaforge/envs/pyg_torch21/lib/python3.10/site-packages/tqdm/std.py:1182\u001b[0m, in \u001b[0;36mtqdm.__iter__\u001b[0;34m(self)\u001b[0m\n\u001b[1;32m   1179\u001b[0m time \u001b[39m=\u001b[39m \u001b[39mself\u001b[39m\u001b[39m.\u001b[39m_time\n\u001b[1;32m   1181\u001b[0m \u001b[39mtry\u001b[39;00m:\n\u001b[0;32m-> 1182\u001b[0m     \u001b[39mfor\u001b[39;00m obj \u001b[39min\u001b[39;00m iterable:\n\u001b[1;32m   1183\u001b[0m         \u001b[39myield\u001b[39;00m obj\n\u001b[1;32m   1184\u001b[0m         \u001b[39m# Update and possibly print the progressbar.\u001b[39;00m\n\u001b[1;32m   1185\u001b[0m         \u001b[39m# Note: does not call self.update(1) for speed optimisation.\u001b[39;00m\n",
      "File \u001b[0;32m~/programming/create_graphds/learnings_sampler_v1.py:448\u001b[0m, in \u001b[0;36mequal_edgeweight_hgt_sampler\u001b[0;34m(data, batch_size, is_training, sampling_mode, neg_sampling_ratio, num_neighbors, num_workers, prefetch_factor, pin_memory)\u001b[0m\n\u001b[1;32m    446\u001b[0m     same_nodetype \u001b[39m=\u001b[39m \u001b[39mFalse\u001b[39;00m\n\u001b[1;32m    447\u001b[0m \u001b[39mtry\u001b[39;00m:\n\u001b[0;32m--> 448\u001b[0m     minibatch \u001b[39m=\u001b[39m \u001b[39mnext\u001b[39;49m(loaders[target_edge_type])\n\u001b[1;32m    449\u001b[0m \u001b[39mexcept\u001b[39;00m \u001b[39mStopIteration\u001b[39;00m: \u001b[39m# \"reinit\" iterator\u001b[39;00m\n\u001b[1;32m    450\u001b[0m     loaders[target_edge_type] \u001b[39m=\u001b[39m \u001b[39miter\u001b[39m(loaders[target_edge_type])\n",
      "File \u001b[0;32m~/programming/create_graphds/learnings_sampler_v1.py:338\u001b[0m, in \u001b[0;36mget_hgt_linkloader.<locals>.get_hgt_2types_with_selfloops\u001b[0;34m(loader)\u001b[0m\n\u001b[1;32m    336\u001b[0m \u001b[39m# batch the start and end supervision nodes separately\u001b[39;00m\n\u001b[1;32m    337\u001b[0m hgt_batch1 \u001b[39m=\u001b[39m get_hgt(data, target_edge[\u001b[39m0\u001b[39m], original_edge_label_nodes_class1)\n\u001b[0;32m--> 338\u001b[0m hgt_batch2 \u001b[39m=\u001b[39m get_hgt(data, target_edge[\u001b[39m2\u001b[39;49m], original_edge_label_nodes_class2)\n\u001b[1;32m    341\u001b[0m \u001b[39m# ** We dont need to remove any edges ** since the supervision edges wont be sampled by hgt\u001b[39;00m\n\u001b[1;32m    342\u001b[0m \u001b[39mif\u001b[39;00m sampling_mode\u001b[39m==\u001b[39m\u001b[39m'\u001b[39m\u001b[39mtriplet\u001b[39m\u001b[39m'\u001b[39m:\n",
      "File \u001b[0;32m~/programming/create_graphds/learnings_sampler_v1.py:250\u001b[0m, in \u001b[0;36mget_hgt_linkloader.<locals>.get_hgt\u001b[0;34m(data, input_nodetype, input_mask)\u001b[0m\n\u001b[1;32m    249\u001b[0m \u001b[39mdef\u001b[39;00m \u001b[39mget_hgt\u001b[39m(data, input_nodetype, input_mask):\n\u001b[0;32m--> 250\u001b[0m     \u001b[39mreturn\u001b[39;00m \u001b[39mnext\u001b[39;49m(\u001b[39miter\u001b[39;49m(HGTLoader(\n\u001b[1;32m    251\u001b[0m             data,\n\u001b[1;32m    252\u001b[0m             \u001b[39m# Sample 512 nodes per type and per iteration for 4 iterations\u001b[39;49;00m\n\u001b[1;32m    253\u001b[0m             num_samples\u001b[39m=\u001b[39;49mnum_neighbors_hgtloader,\n\u001b[1;32m    254\u001b[0m             batch_size\u001b[39m=\u001b[39;49minput_mask\u001b[39m.\u001b[39;49mshape[\u001b[39m0\u001b[39;49m],\n\u001b[1;32m    255\u001b[0m             input_nodes\u001b[39m=\u001b[39;49m(input_nodetype, input_mask),\n\u001b[1;32m    256\u001b[0m             num_workers\u001b[39m=\u001b[39;49mnum_workers,\n\u001b[1;32m    257\u001b[0m             pin_memory\u001b[39m=\u001b[39;49mpin_memory,\n\u001b[1;32m    258\u001b[0m             prefetch_factor\u001b[39m=\u001b[39;49mprefetch_factor,\n\u001b[1;32m    259\u001b[0m         )))\n",
      "File \u001b[0;32m~/mambaforge/envs/pyg_torch21/lib/python3.10/site-packages/torch/utils/data/dataloader.py:630\u001b[0m, in \u001b[0;36m_BaseDataLoaderIter.__next__\u001b[0;34m(self)\u001b[0m\n\u001b[1;32m    627\u001b[0m \u001b[39mif\u001b[39;00m \u001b[39mself\u001b[39m\u001b[39m.\u001b[39m_sampler_iter \u001b[39mis\u001b[39;00m \u001b[39mNone\u001b[39;00m:\n\u001b[1;32m    628\u001b[0m     \u001b[39m# TODO(https://github.com/pytorch/pytorch/issues/76750)\u001b[39;00m\n\u001b[1;32m    629\u001b[0m     \u001b[39mself\u001b[39m\u001b[39m.\u001b[39m_reset()  \u001b[39m# type: ignore[call-arg]\u001b[39;00m\n\u001b[0;32m--> 630\u001b[0m data \u001b[39m=\u001b[39m \u001b[39mself\u001b[39;49m\u001b[39m.\u001b[39;49m_next_data()\n\u001b[1;32m    631\u001b[0m \u001b[39mself\u001b[39m\u001b[39m.\u001b[39m_num_yielded \u001b[39m+\u001b[39m\u001b[39m=\u001b[39m \u001b[39m1\u001b[39m\n\u001b[1;32m    632\u001b[0m \u001b[39mif\u001b[39;00m \u001b[39mself\u001b[39m\u001b[39m.\u001b[39m_dataset_kind \u001b[39m==\u001b[39m _DatasetKind\u001b[39m.\u001b[39mIterable \u001b[39mand\u001b[39;00m \\\n\u001b[1;32m    633\u001b[0m         \u001b[39mself\u001b[39m\u001b[39m.\u001b[39m_IterableDataset_len_called \u001b[39mis\u001b[39;00m \u001b[39mnot\u001b[39;00m \u001b[39mNone\u001b[39;00m \u001b[39mand\u001b[39;00m \\\n\u001b[1;32m    634\u001b[0m         \u001b[39mself\u001b[39m\u001b[39m.\u001b[39m_num_yielded \u001b[39m>\u001b[39m \u001b[39mself\u001b[39m\u001b[39m.\u001b[39m_IterableDataset_len_called:\n",
      "File \u001b[0;32m~/mambaforge/envs/pyg_torch21/lib/python3.10/site-packages/torch/utils/data/dataloader.py:674\u001b[0m, in \u001b[0;36m_SingleProcessDataLoaderIter._next_data\u001b[0;34m(self)\u001b[0m\n\u001b[1;32m    672\u001b[0m \u001b[39mdef\u001b[39;00m \u001b[39m_next_data\u001b[39m(\u001b[39mself\u001b[39m):\n\u001b[1;32m    673\u001b[0m     index \u001b[39m=\u001b[39m \u001b[39mself\u001b[39m\u001b[39m.\u001b[39m_next_index()  \u001b[39m# may raise StopIteration\u001b[39;00m\n\u001b[0;32m--> 674\u001b[0m     data \u001b[39m=\u001b[39m \u001b[39mself\u001b[39;49m\u001b[39m.\u001b[39;49m_dataset_fetcher\u001b[39m.\u001b[39;49mfetch(index)  \u001b[39m# may raise StopIteration\u001b[39;00m\n\u001b[1;32m    675\u001b[0m     \u001b[39mif\u001b[39;00m \u001b[39mself\u001b[39m\u001b[39m.\u001b[39m_pin_memory:\n\u001b[1;32m    676\u001b[0m         data \u001b[39m=\u001b[39m _utils\u001b[39m.\u001b[39mpin_memory\u001b[39m.\u001b[39mpin_memory(data, \u001b[39mself\u001b[39m\u001b[39m.\u001b[39m_pin_memory_device)\n",
      "File \u001b[0;32m~/mambaforge/envs/pyg_torch21/lib/python3.10/site-packages/torch/utils/data/_utils/fetch.py:54\u001b[0m, in \u001b[0;36m_MapDatasetFetcher.fetch\u001b[0;34m(self, possibly_batched_index)\u001b[0m\n\u001b[1;32m     52\u001b[0m \u001b[39melse\u001b[39;00m:\n\u001b[1;32m     53\u001b[0m     data \u001b[39m=\u001b[39m \u001b[39mself\u001b[39m\u001b[39m.\u001b[39mdataset[possibly_batched_index]\n\u001b[0;32m---> 54\u001b[0m \u001b[39mreturn\u001b[39;00m \u001b[39mself\u001b[39;49m\u001b[39m.\u001b[39;49mcollate_fn(data)\n",
      "File \u001b[0;32m~/mambaforge/envs/pyg_torch21/lib/python3.10/site-packages/torch_geometric/loader/node_loader.py:134\u001b[0m, in \u001b[0;36mNodeLoader.collate_fn\u001b[0;34m(self, index)\u001b[0m\n\u001b[1;32m    131\u001b[0m \u001b[39m\u001b[39m\u001b[39mr\u001b[39m\u001b[39m\"\"\"Samples a subgraph from a batch of input nodes.\"\"\"\u001b[39;00m\n\u001b[1;32m    132\u001b[0m input_data: NodeSamplerInput \u001b[39m=\u001b[39m \u001b[39mself\u001b[39m\u001b[39m.\u001b[39minput_data[index]\n\u001b[0;32m--> 134\u001b[0m out \u001b[39m=\u001b[39m \u001b[39mself\u001b[39;49m\u001b[39m.\u001b[39;49mnode_sampler\u001b[39m.\u001b[39;49msample_from_nodes(input_data)\n\u001b[1;32m    136\u001b[0m \u001b[39mif\u001b[39;00m \u001b[39mself\u001b[39m\u001b[39m.\u001b[39mfilter_per_worker:  \u001b[39m# Execute `filter_fn` in the worker process\u001b[39;00m\n\u001b[1;32m    137\u001b[0m     out \u001b[39m=\u001b[39m \u001b[39mself\u001b[39m\u001b[39m.\u001b[39mfilter_fn(out)\n",
      "File \u001b[0;32m~/mambaforge/envs/pyg_torch21/lib/python3.10/site-packages/torch_geometric/sampler/hgt_sampler.py:62\u001b[0m, in \u001b[0;36mHGTSampler.sample_from_nodes\u001b[0;34m(self, inputs, **kwargs)\u001b[0m\n\u001b[1;32m     56\u001b[0m \u001b[39mdef\u001b[39;00m \u001b[39msample_from_nodes\u001b[39m(\n\u001b[1;32m     57\u001b[0m     \u001b[39mself\u001b[39m,\n\u001b[1;32m     58\u001b[0m     inputs: NodeSamplerInput,\n\u001b[1;32m     59\u001b[0m     \u001b[39m*\u001b[39m\u001b[39m*\u001b[39mkwargs,\n\u001b[1;32m     60\u001b[0m ) \u001b[39m-\u001b[39m\u001b[39m>\u001b[39m HeteroSamplerOutput:\n\u001b[0;32m---> 62\u001b[0m     node, row, col, edge \u001b[39m=\u001b[39m torch\u001b[39m.\u001b[39;49mops\u001b[39m.\u001b[39;49mtorch_sparse\u001b[39m.\u001b[39;49mhgt_sample(\n\u001b[1;32m     63\u001b[0m         \u001b[39mself\u001b[39;49m\u001b[39m.\u001b[39;49mcolptr_dict,\n\u001b[1;32m     64\u001b[0m         \u001b[39mself\u001b[39;49m\u001b[39m.\u001b[39;49mrow_dict,\n\u001b[1;32m     65\u001b[0m         {inputs\u001b[39m.\u001b[39;49minput_type: inputs\u001b[39m.\u001b[39;49mnode},\n\u001b[1;32m     66\u001b[0m         \u001b[39mself\u001b[39;49m\u001b[39m.\u001b[39;49mnum_samples,\n\u001b[1;32m     67\u001b[0m         \u001b[39mself\u001b[39;49m\u001b[39m.\u001b[39;49mnum_hops,\n\u001b[1;32m     68\u001b[0m     )\n\u001b[1;32m     70\u001b[0m     \u001b[39mreturn\u001b[39;00m HeteroSamplerOutput(\n\u001b[1;32m     71\u001b[0m         node\u001b[39m=\u001b[39mnode,\n\u001b[1;32m     72\u001b[0m         row\u001b[39m=\u001b[39mremap_keys(row, \u001b[39mself\u001b[39m\u001b[39m.\u001b[39mto_edge_type),\n\u001b[0;32m   (...)\u001b[0m\n\u001b[1;32m     76\u001b[0m         metadata\u001b[39m=\u001b[39m(inputs\u001b[39m.\u001b[39minput_id, inputs\u001b[39m.\u001b[39mtime),\n\u001b[1;32m     77\u001b[0m     )\n",
      "File \u001b[0;32m~/mambaforge/envs/pyg_torch21/lib/python3.10/site-packages/torch/_ops.py:692\u001b[0m, in \u001b[0;36mOpOverloadPacket.__call__\u001b[0;34m(self, *args, **kwargs)\u001b[0m\n\u001b[1;32m    687\u001b[0m \u001b[39mdef\u001b[39;00m \u001b[39m__call__\u001b[39m(\u001b[39mself\u001b[39m, \u001b[39m*\u001b[39margs, \u001b[39m*\u001b[39m\u001b[39m*\u001b[39mkwargs):\n\u001b[1;32m    688\u001b[0m     \u001b[39m# overloading __call__ to ensure torch.ops.foo.bar()\u001b[39;00m\n\u001b[1;32m    689\u001b[0m     \u001b[39m# is still callable from JIT\u001b[39;00m\n\u001b[1;32m    690\u001b[0m     \u001b[39m# We save the function ptr as the `op` attribute on\u001b[39;00m\n\u001b[1;32m    691\u001b[0m     \u001b[39m# OpOverloadPacket to access it here.\u001b[39;00m\n\u001b[0;32m--> 692\u001b[0m     \u001b[39mreturn\u001b[39;00m \u001b[39mself\u001b[39;49m\u001b[39m.\u001b[39;49m_op(\u001b[39m*\u001b[39;49margs, \u001b[39m*\u001b[39;49m\u001b[39m*\u001b[39;49mkwargs \u001b[39mor\u001b[39;49;00m {})\n",
      "\u001b[0;31mKeyboardInterrupt\u001b[0m: "
     ]
    },
    {
     "ename": "",
     "evalue": "",
     "output_type": "error",
     "traceback": [
      "\u001b[1;31mThe Kernel crashed while executing code in the the current cell or a previous cell. Please review the code in the cell(s) to identify a possible cause of the failure. Click <a href='https://aka.ms/vscodeJupyterKernelCrash'>here</a> for more info. View Jupyter <a href='command:jupyter.viewOutput'>log</a> for further details."
     ]
    }
   ],
   "source": [
    "from tqdm.auto import tqdm\n",
    "from datetime import datetime\n",
    "batch_size = 32\n",
    "\n",
    "learning_rate = 2e-4\n",
    "# torch get optimizer by string name\n",
    "optimizer = 'Adam'\n",
    "optimizer = torch.optim.Adam(model.parameters(), lr=learning_rate) #2e-15\n",
    "\n",
    "\n",
    "# create a tensorboard writer\n",
    "from torch.utils.tensorboard import SummaryWriter\n",
    "neighbors = '_'.join([str(n) for n in []])\n",
    "\n",
    "\n",
    "timestamp = datetime.now().strftime(\"%Y%m%d_%H%M%S\")\n",
    "\n",
    "writer = SummaryWriter(ROOT_FOLDER+f'runs/learningpeople_factorizationmachines_{timestamp}_pnorm{pnorm}_lr{learning_rate}_bs{batch_size}_neighbors_{neighbors}_head_{head}_hiddenchannels_{hidden_channels}_outchannels_{out_channels}_numheads_{num_heads}_numlayers_{num_layers}')\n",
    "print('writer',ROOT_FOLDER+f'runs/learningpeople_factorizationmachines_{timestamp}_pnorm{pnorm}_llr{learning_rate}_bs{batch_size}_neighbors_{neighbors}_head_{head}_hiddenchannels_{hidden_channels}_outchannels_{out_channels}_numheads_{num_heads}_numlayers_{num_layers}')\n",
    "\n",
    "\n",
    "\n",
    "\n",
    "\n",
    "num_learnings = train_data['courses_and_programs'].num_nodes\n",
    "neg_sample_ratio = 1\n",
    "train_loader = nf_loader(train_data['people','completed','courses_and_programs'].edge_label_index, batch_size, num_learnings, neg_sample_ratio)\n",
    "val_loader = nf_loader(val_data['people','completed','courses_and_programs'].edge_label_index, batch_size, num_learnings, neg_sample_ratio)\n",
    "total_minibatches = get_total_minibatch_count_fm(batch_size, train_data['people','completed','courses_and_programs'].edge_label_index)\n",
    "\n",
    "\n",
    "model.train()\n",
    "start_epoch = 1\n",
    "for epoch in range(start_epoch, start_epoch+1000):\n",
    "    for i, (batch_edge_label_index, labels) in tqdm(enumerate(train_loader), total=total_minibatches):\n",
    "        \n",
    "        optimizer.zero_grad() \n",
    "        # batching is different depending on if node types in edge are same or different\n",
    "        \n",
    "        loss = model(train_data.to(device), batch_edge_label_index.to(device), labels.to(device))\n",
    "        \n",
    "        loss.backward()\n",
    "        optimizer.step()\n",
    "        \n",
    "        total_samples_seen = i * batch_size\n",
    "        writer.add_scalar('Loss/train', loss.item(), total_samples_seen)\n",
    "        \n",
    "        if i == total_minibatches-1:\n",
    "            print(f'{i} loss: {loss.item():.4f}')\n",
    "            writer.add_scalar('Epoch Loss/train', loss.item(), total_samples_seen)\n",
    "        \n",
    "        # print loss and minibatch in the same line\n",
    "        print(f'{i} loss: {loss.item():.4f}', end='\\r')\n",
    "        \n",
    "        if i % 300 == 0 or i == total_minibatches-1:\n",
    "            model.eval()\n",
    "            with torch.no_grad():\n",
    "                val_loss = 0\n",
    "                for _ in range(3):\n",
    "                    try:\n",
    "                        batch_edge_label_index, labels = next(val_loader)\n",
    "                    except StopIteration:\n",
    "                        val_loader = iter(val_loader)\n",
    "                        batch_edge_label_index, labels = next(val_loader)\n",
    "                    val_loss = model(val_data.to(device), batch_edge_label_index.to(device), labels.to(device))\n",
    "                    \n",
    "                    \n",
    "            val_loss /= 3\n",
    "            if i == 0:\n",
    "                writer.add_scalar('Epoch Loss/val', val_loss, total_samples_seen)\n",
    "                writer.add_scalar('Loss/val', val_loss, total_samples_seen)\n",
    "            elif i == total_minibatches-1:\n",
    "                writer.add_scalar('Epoch Loss/val', val_loss, total_samples_seen)\n",
    "            else:\n",
    "                writer.add_scalar('Loss/val', val_loss, total_samples_seen)\n",
    "            \n",
    "\n",
    "            print(f'val_loss: {val_loss:.4f}', end='\\r')\n",
    "            model.train()\n",
    "\n",
    "        writer.flush()\n",
    "        \n",
    "        if i % 1000 == 0 or i == total_minibatches-1:\n",
    "            folder = 'models'\n",
    "            if not os.path.exists(folder):\n",
    "                os.makedirs(folder)\n",
    "            \n",
    "            run_folder = ROOT_FOLDER+f'{folder}/learningpeople_factorizationmachines_{timestamp}_pnorm{pnorm}_llr{learning_rate}_bs{batch_size}_neighbors_{neighbors}_head_{head}_hiddenchannels_{hidden_channels}_outchannels_{out_channels}_numheads_{num_heads}_numlayers_{num_layers}'\n",
    "            if not os.path.exists(run_folder):\n",
    "                os.makedirs(run_folder)\n",
    "                \n",
    "            print('saving model to', run_folder)\n",
    "            # save model and optimizer\n",
    "            is_epoch = f'Ep{epoch}_' if i == total_minibatches-1 else ''\n",
    "            torch.save({\n",
    "                'model_state_dict': model.state_dict(),\n",
    "                'optimizer_state_dict': optimizer.state_dict(),\n",
    "                }, run_folder+f'/{is_epoch}model_samplesseen{total_samples_seen}.pt')\n",
    "            \n",
    "writer.close()"
   ]
  }
 ],
 "metadata": {
  "application/vnd.databricks.v1+notebook": {
   "dashboards": [],
   "language": "python",
   "notebookMetadata": {
    "pythonIndentUnit": 4
   },
   "notebookName": "learnings_training_v1_learningpeople_hgt",
   "widgets": {}
  },
  "kernelspec": {
   "display_name": "pyg_torch21",
   "language": "python",
   "name": "python3"
  },
  "language_info": {
   "codemirror_mode": {
    "name": "ipython",
    "version": 3
   },
   "file_extension": ".py",
   "mimetype": "text/x-python",
   "name": "python",
   "nbconvert_exporter": "python",
   "pygments_lexer": "ipython3",
   "version": "3.10.12"
  }
 },
 "nbformat": 4,
 "nbformat_minor": 0
}
