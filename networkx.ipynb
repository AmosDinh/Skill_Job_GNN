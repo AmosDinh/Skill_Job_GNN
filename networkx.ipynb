{
 "cells": [
  {
   "cell_type": "code",
   "execution_count": 1,
   "metadata": {},
   "outputs": [
    {
     "name": "stderr",
     "output_type": "stream",
     "text": [
      "/home/amos/mambaforge/envs/pyg_torch21/lib/python3.10/site-packages/tqdm/auto.py:21: TqdmWarning: IProgress not found. Please update jupyter and ipywidgets. See https://ipywidgets.readthedocs.io/en/stable/user_install.html\n",
      "  from .autonotebook import tqdm as notebook_tqdm\n"
     ]
    }
   ],
   "source": [
    "from torch_geometric.data import HeteroData \n",
    "import torch \n",
    "import networkx as nx\n",
    "\n",
    "data = HeteroData.from_dict(torch.load('HeteroData_Learnings_normalized_triangles_withadditionaldata_v1.pt'))"
   ]
  },
  {
   "cell_type": "code",
   "execution_count": null,
   "metadata": {},
   "outputs": [],
   "source": []
  },
  {
   "cell_type": "code",
   "execution_count": 2,
   "metadata": {},
   "outputs": [
    {
     "name": "stdout",
     "output_type": "stream",
     "text": [
      "for skill job edges keep top k edges per job, k is  50\n",
      "keep tensor(1208056) of total 16289586\n"
     ]
    }
   ],
   "source": [
    "def top_k_mask(scores, indices, top_k ):\n",
    "    # Make sure we are using the GPU\n",
    "    scores = scores.cuda()\n",
    "    indices = indices.cuda()\n",
    "    \n",
    "    # Create an empty mask with the same shape as scores\n",
    "    mask = torch.zeros_like(scores, dtype=torch.bool)\n",
    "    # Get the unique indices and their counts\n",
    "    unique_indices, counts = torch.unique(indices, return_counts=True)\n",
    "\n",
    "    # Indices where count > top_k\n",
    "    large_indices = unique_indices[counts > top_k]\n",
    "\n",
    "    # Set mask for indices where count <= top_k\n",
    "    mask[~torch.isin(indices,large_indices)] = True\n",
    "    # For indices where count > 50, we only keep top 50 scores\n",
    "    for idx in tqdm(large_indices):\n",
    "        idx_mask = (indices == idx)\n",
    "        values, idxs = scores[idx_mask].topk(top_k)\n",
    "        a = mask[idx_mask]\n",
    "        a[idxs] = True\n",
    "        mask[idx_mask] = a\n",
    "        \n",
    "    return mask.cpu()\n",
    "\n",
    "top_k =50\n",
    "import os\n",
    "if True:\n",
    "    print('for skill job edges keep top k edges per job, k is ',top_k)\n",
    "    e = ('skills', 'job_skill', 'jobs')\n",
    "    rev_e = (e[2],'rev_'+e[1],e[0])\n",
    "    cache_dir = 'cache'\n",
    "    if not os.path.exists(cache_dir):\n",
    "        os.makedirs(cache_dir)\n",
    "    \n",
    "    mask_path = os.path.join(cache_dir, f'mask{top_k}.pt') \n",
    "    \n",
    "    if os.path.isfile(mask_path):\n",
    "        mask = torch.load(mask_path)\n",
    "    else:\n",
    "        mask = top_k_mask(data[e].edge_attr.squeeze(1), data[e].edge_index[1,:], top_k)\n",
    "        torch.save(mask, mask_path) \n",
    "    \n",
    "    data[e].edge_attr = data[e].edge_attr[mask]\n",
    "    data[rev_e].edge_attr = data[rev_e].edge_attr[mask]\n",
    "    data[e].edge_index = data[e].edge_index[:,mask]\n",
    "    data[rev_e].edge_index = data[rev_e].edge_index[:,mask]\n",
    "    print('keep',torch.sum(mask), 'of total',mask.shape[0])"
   ]
  },
  {
   "cell_type": "code",
   "execution_count": 3,
   "metadata": {},
   "outputs": [],
   "source": [
    "def preprocess(data):\n",
    "       \n",
    "        for edge_type in data.edge_types:\n",
    "            del data[edge_type].edge_attr \n",
    "\n",
    "        # delete all keys for every node type except 'x' (e.g. description and title)\n",
    "        for node_type in data.node_types:\n",
    "            keys = list(data[node_type].keys())\n",
    "            for key in keys:\n",
    "                if key != 'x':\n",
    "                    del data[node_type][key]\n",
    "        return data\n",
    "    \n",
    "data = preprocess(data)"
   ]
  },
  {
   "cell_type": "code",
   "execution_count": 4,
   "metadata": {},
   "outputs": [
    {
     "data": {
      "text/plain": [
       "26"
      ]
     },
     "execution_count": 4,
     "metadata": {},
     "output_type": "execute_result"
    }
   ],
   "source": [
    "# gc collect\n",
    "import gc\n",
    "gc.collect()\n"
   ]
  },
  {
   "cell_type": "code",
   "execution_count": 5,
   "metadata": {},
   "outputs": [
    {
     "ename": "",
     "evalue": "",
     "output_type": "error",
     "traceback": [
      "\u001b[1;31mThe Kernel crashed while executing code in the the current cell or a previous cell. Please review the code in the cell(s) to identify a possible cause of the failure. Click <a href='https://aka.ms/vscodeJupyterKernelCrash'>here</a> for more info. View Jupyter <a href='command:jupyter.viewOutput'>log</a> for further details."
     ]
    }
   ],
   "source": [
    "homogeneous_data = data.to_homogeneous()"
   ]
  },
  {
   "cell_type": "code",
   "execution_count": null,
   "metadata": {},
   "outputs": [],
   "source": []
  },
  {
   "cell_type": "code",
   "execution_count": null,
   "metadata": {},
   "outputs": [
    {
     "ename": "AttributeError",
     "evalue": "'HeteroData' has no attribute 'to_networkx'",
     "output_type": "error",
     "traceback": [
      "\u001b[0;31m---------------------------------------------------------------------------\u001b[0m",
      "\u001b[0;31mAttributeError\u001b[0m                            Traceback (most recent call last)",
      "\u001b[1;32m/home/amos/programming/create_graphds/networkx.ipynb Cell 3\u001b[0m line \u001b[0;36m1\n\u001b[0;32m----> <a href='vscode-notebook-cell://wsl%2Bubuntu/home/amos/programming/create_graphds/networkx.ipynb#W1sdnNjb2RlLXJlbW90ZQ%3D%3D?line=0'>1</a>\u001b[0m nx_graph \u001b[39m=\u001b[39m data\u001b[39m.\u001b[39;49mto_networkx()\n",
      "File \u001b[0;32m~/mambaforge/envs/pyg_torch21/lib/python3.10/site-packages/torch_geometric/data/hetero_data.py:156\u001b[0m, in \u001b[0;36mHeteroData.__getattr__\u001b[0;34m(self, key)\u001b[0m\n\u001b[1;32m    154\u001b[0m \u001b[39melif\u001b[39;00m \u001b[39mbool\u001b[39m(re\u001b[39m.\u001b[39msearch(\u001b[39m'\u001b[39m\u001b[39m_dict$\u001b[39m\u001b[39m'\u001b[39m, key)):\n\u001b[1;32m    155\u001b[0m     \u001b[39mreturn\u001b[39;00m \u001b[39mself\u001b[39m\u001b[39m.\u001b[39mcollect(key[:\u001b[39m-\u001b[39m\u001b[39m5\u001b[39m])\n\u001b[0;32m--> 156\u001b[0m \u001b[39mraise\u001b[39;00m \u001b[39mAttributeError\u001b[39;00m(\u001b[39mf\u001b[39m\u001b[39m\"\u001b[39m\u001b[39m'\u001b[39m\u001b[39m{\u001b[39;00m\u001b[39mself\u001b[39m\u001b[39m.\u001b[39m\u001b[39m__class__\u001b[39m\u001b[39m.\u001b[39m\u001b[39m__name__\u001b[39m\u001b[39m}\u001b[39;00m\u001b[39m'\u001b[39m\u001b[39m has no \u001b[39m\u001b[39m\"\u001b[39m\n\u001b[1;32m    157\u001b[0m                      \u001b[39mf\u001b[39m\u001b[39m\"\u001b[39m\u001b[39mattribute \u001b[39m\u001b[39m'\u001b[39m\u001b[39m{\u001b[39;00mkey\u001b[39m}\u001b[39;00m\u001b[39m'\u001b[39m\u001b[39m\"\u001b[39m)\n",
      "\u001b[0;31mAttributeError\u001b[0m: 'HeteroData' has no attribute 'to_networkx'"
     ]
    }
   ],
   "source": [
    "nx_graph = data.to_networkx()"
   ]
  }
 ],
 "metadata": {
  "kernelspec": {
   "display_name": "pyg_torch21",
   "language": "python",
   "name": "python3"
  },
  "language_info": {
   "codemirror_mode": {
    "name": "ipython",
    "version": 3
   },
   "file_extension": ".py",
   "mimetype": "text/x-python",
   "name": "python",
   "nbconvert_exporter": "python",
   "pygments_lexer": "ipython3",
   "version": "3.10.12"
  }
 },
 "nbformat": 4,
 "nbformat_minor": 2
}
